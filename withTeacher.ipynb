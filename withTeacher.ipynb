{
 "cells": [
  {
   "cell_type": "markdown",
   "metadata": {
    "toc": true
   },
   "source": [
    "<h1>Содержание<span class=\"tocSkip\"></span></h1>\n",
    "<div class=\"toc\"><ul class=\"toc-item\"><li><span><a href=\"#Краткая-информаци-о-данных-и-цели-проекта:\" data-toc-modified-id=\"Краткая-информаци-о-данных-и-цели-проекта:-1\"><span class=\"toc-item-num\">1&nbsp;&nbsp;</span>Краткая информаци о данных и цели проекта:</a></span></li><li><span><a href=\"#Просмотр--и-подготовка-данных\" data-toc-modified-id=\"Просмотр--и-подготовка-данных-2\"><span class=\"toc-item-num\">2&nbsp;&nbsp;</span>Просмотр  и подготовка данных</a></span><ul class=\"toc-item\"><li><span><a href=\"#Импорт\" data-toc-modified-id=\"Импорт-2.1\"><span class=\"toc-item-num\">2.1&nbsp;&nbsp;</span>Импорт</a></span></li><li><span><a href=\"#Предпросмотр\" data-toc-modified-id=\"Предпросмотр-2.2\"><span class=\"toc-item-num\">2.2&nbsp;&nbsp;</span><strong>Предпросмотр</strong></a></span></li><li><span><a href=\"#Заполнение-пропусков\" data-toc-modified-id=\"Заполнение-пропусков-2.3\"><span class=\"toc-item-num\">2.3&nbsp;&nbsp;</span>Заполнение пропусков</a></span></li><li><span><a href=\"#Проверка-признаков\" data-toc-modified-id=\"Проверка-признаков-2.4\"><span class=\"toc-item-num\">2.4&nbsp;&nbsp;</span>Проверка признаков</a></span><ul class=\"toc-item\"><li><span><a href=\"#RowNumber\" data-toc-modified-id=\"RowNumber-2.4.1\"><span class=\"toc-item-num\">2.4.1&nbsp;&nbsp;</span>RowNumber</a></span></li><li><span><a href=\"#CustomerId\" data-toc-modified-id=\"CustomerId-2.4.2\"><span class=\"toc-item-num\">2.4.2&nbsp;&nbsp;</span>CustomerId</a></span></li><li><span><a href=\"#Surname\" data-toc-modified-id=\"Surname-2.4.3\"><span class=\"toc-item-num\">2.4.3&nbsp;&nbsp;</span>Surname</a></span></li><li><span><a href=\"#CreditScore\" data-toc-modified-id=\"CreditScore-2.4.4\"><span class=\"toc-item-num\">2.4.4&nbsp;&nbsp;</span><strong>CreditScore</strong></a></span></li><li><span><a href=\"#Geography\" data-toc-modified-id=\"Geography-2.4.5\"><span class=\"toc-item-num\">2.4.5&nbsp;&nbsp;</span>Geography</a></span></li><li><span><a href=\"#Gender\" data-toc-modified-id=\"Gender-2.4.6\"><span class=\"toc-item-num\">2.4.6&nbsp;&nbsp;</span>Gender</a></span></li><li><span><a href=\"#Age\" data-toc-modified-id=\"Age-2.4.7\"><span class=\"toc-item-num\">2.4.7&nbsp;&nbsp;</span><strong>Age</strong></a></span></li><li><span><a href=\"#Tenure\" data-toc-modified-id=\"Tenure-2.4.8\"><span class=\"toc-item-num\">2.4.8&nbsp;&nbsp;</span>Tenure</a></span></li><li><span><a href=\"#Balance\" data-toc-modified-id=\"Balance-2.4.9\"><span class=\"toc-item-num\">2.4.9&nbsp;&nbsp;</span>Balance</a></span></li><li><span><a href=\"#NumOfProducts\" data-toc-modified-id=\"NumOfProducts-2.4.10\"><span class=\"toc-item-num\">2.4.10&nbsp;&nbsp;</span>NumOfProducts</a></span></li><li><span><a href=\"#HasCrCard\" data-toc-modified-id=\"HasCrCard-2.4.11\"><span class=\"toc-item-num\">2.4.11&nbsp;&nbsp;</span>HasCrCard</a></span></li><li><span><a href=\"#IsActiveMember\" data-toc-modified-id=\"IsActiveMember-2.4.12\"><span class=\"toc-item-num\">2.4.12&nbsp;&nbsp;</span>IsActiveMember</a></span></li><li><span><a href=\"#EstimatedSalary\" data-toc-modified-id=\"EstimatedSalary-2.4.13\"><span class=\"toc-item-num\">2.4.13&nbsp;&nbsp;</span>EstimatedSalary</a></span></li><li><span><a href=\"#Exited-|-Целевой-признак\" data-toc-modified-id=\"Exited-|-Целевой-признак-2.4.14\"><span class=\"toc-item-num\">2.4.14&nbsp;&nbsp;</span><strong>Exited | Целевой признак</strong></a></span></li></ul></li></ul></li><li><span><a href=\"#Исследование-задачи\" data-toc-modified-id=\"Исследование-задачи-3\"><span class=\"toc-item-num\">3&nbsp;&nbsp;</span>Исследование задачи</a></span><ul class=\"toc-item\"><li><span><a href=\"#Подготовка-выборки\" data-toc-modified-id=\"Подготовка-выборки-3.1\"><span class=\"toc-item-num\">3.1&nbsp;&nbsp;</span><strong>Подготовка выборки</strong></a></span></li><li><span><a href=\"#Изменённое-кодирование-признаков\" data-toc-modified-id=\"Изменённое-кодирование-признаков-3.2\"><span class=\"toc-item-num\">3.2&nbsp;&nbsp;</span><strong>Изменённое кодирование признаков</strong></a></span></li><li><span><a href=\"#Обучение-моделей-без-внимания-к-дисбалансу-классов\" data-toc-modified-id=\"Обучение-моделей-без-внимания-к-дисбалансу-классов-3.3\"><span class=\"toc-item-num\">3.3&nbsp;&nbsp;</span>Обучение моделей без внимания к дисбалансу классов</a></span><ul class=\"toc-item\"><li><span><a href=\"#DecisionTreeClassifier\" data-toc-modified-id=\"DecisionTreeClassifier-3.3.1\"><span class=\"toc-item-num\">3.3.1&nbsp;&nbsp;</span>DecisionTreeClassifier</a></span></li><li><span><a href=\"#RandomForestClassifier\" data-toc-modified-id=\"RandomForestClassifier-3.3.2\"><span class=\"toc-item-num\">3.3.2&nbsp;&nbsp;</span><strong>RandomForestClassifier</strong></a></span></li><li><span><a href=\"#LogisticRegression\" data-toc-modified-id=\"LogisticRegression-3.3.3\"><span class=\"toc-item-num\">3.3.3&nbsp;&nbsp;</span>LogisticRegression</a></span></li><li><span><a href=\"#CONST\" data-toc-modified-id=\"CONST-3.3.4\"><span class=\"toc-item-num\">3.3.4&nbsp;&nbsp;</span>CONST</a></span></li></ul></li><li><span><a href=\"#Вывод-по-первому-исследованию-задачи:\" data-toc-modified-id=\"Вывод-по-первому-исследованию-задачи:-3.4\"><span class=\"toc-item-num\">3.4&nbsp;&nbsp;</span><strong>Вывод по первому исследованию задачи:</strong></a></span></li></ul>"
   ]
  },
  {
   "cell_type": "markdown",
   "metadata": {},
   "source": [
    "# Отток клиентов"
   ]
  },
  {
   "cell_type": "markdown",
   "metadata": {},
   "source": [
    "Из «Бета-Банка» стали уходить клиенты. Каждый месяц. Немного, но заметно. Банковские маркетологи посчитали: сохранять текущих клиентов дешевле, чем привлекать новых.\n",
    "\n",
    "Нужно спрогнозировать, уйдёт клиент из банка в ближайшее время или нет. Вам предоставлены исторические данные о поведении клиентов и расторжении договоров с банком. \n",
    "\n",
    "Постройте модель с предельно большим значением *F1*-меры. Чтобы сдать проект успешно, нужно довести метрику до 0.59. Проверьте *F1*-меру на тестовой выборке самостоятельно.\n",
    "\n",
    "Дополнительно измеряйте *AUC-ROC*, сравнивайте её значение с *F1*-мерой.\n",
    "\n",
    "Источник данных: [https://www.kaggle.com/barelydedicated/bank-customer-churn-modeling](https://www.kaggle.com/barelydedicated/bank-customer-churn-modeling)"
   ]
  },
  {
   "cell_type": "markdown",
   "metadata": {},
   "source": [
    "## Краткая информаци о данных и цели проекта:"
   ]
  },
  {
   "cell_type": "markdown",
   "metadata": {},
   "source": [
    "Общие признаки:\n",
    "* **RowNumber** — индекс строки в данных\n",
    "* **CustomerId** — уникальный идентификатор клиента\n",
    "* **Surname** — фамилия\n",
    "* **CreditScore** — кредитный рейтинг\n",
    "* **Geography** — страна проживания\n",
    "* **Gender** — пол\n",
    "* **Age** — возраст\n",
    "* **Tenure** — сколько лет человек является клиентом банка\n",
    "* **Balance** — баланс на счёте\n",
    "* **NumOfProducts** — количество продуктов банка, используемых клиентом\n",
    "* **HasCrCard** — наличие кредитной карты\n",
    "* **IsActiveMember** — активность клиента\n",
    "* **EstimatedSalary** — предполагаемая зарплата"
   ]
  },
  {
   "cell_type": "markdown",
   "metadata": {},
   "source": [
    "Целевой признак:\n",
    "* **Exited** — факт ухода клиента"
   ]
  },
  {
   "cell_type": "markdown",
   "metadata": {},
   "source": [
    "Задача:\n",
    "* **Отобрать модель с наибольшим показателем(f1 > 59.0) эффективности прогнозирования ухода клиента из банка**"
   ]
  },
  {
   "cell_type": "markdown",
   "metadata": {},
   "source": [
    "## Просмотр  и подготовка данных"
   ]
  },
  {
   "cell_type": "markdown",
   "metadata": {},
   "source": [
    "### Импорт"
   ]
  },
  {
   "cell_type": "code",
   "execution_count": 286,
   "metadata": {},
   "outputs": [],
   "source": [
    "import pandas as pd \n",
    "import seaborn as sns\n",
    "import numpy as np\n",
    "import matplotlib.pyplot as plt\n",
    "\n",
    "from sklearn.tree import DecisionTreeClassifier\n",
    "from sklearn.model_selection import train_test_split\n",
    "from sklearn.linear_model import LogisticRegression\n",
    "from sklearn.ensemble import RandomForestClassifier\n",
    "\n",
    "from sklearn.utils import shuffle\n",
    "from sklearn.metrics import precision_score, recall_score\n",
    "from sklearn.metrics import f1_score, accuracy_score\n",
    "\n",
    "from sklearn.metrics import roc_auc_score\n",
    "from sklearn.metrics import roc_curve "
   ]
  },
  {
   "cell_type": "markdown",
   "metadata": {},
   "source": [
    "### **Предпросмотр**"
   ]
  },
  {
   "cell_type": "code",
   "execution_count": 287,
   "metadata": {},
   "outputs": [],
   "source": [
    "#data = pd.read_csv('/datasets/Churn.csv')"
   ]
  },
  {
   "cell_type": "code",
   "execution_count": 1,
   "metadata": {},
   "outputs": [
    {
     "ename": "NameError",
     "evalue": "name 'pd' is not defined",
     "output_type": "error",
     "traceback": [
      "\u001b[1;31m---------------------------------------------------------------------------\u001b[0m",
      "\u001b[1;31mNameError\u001b[0m                                 Traceback (most recent call last)",
      "Input \u001b[1;32mIn [1]\u001b[0m, in \u001b[0;36m<cell line: 1>\u001b[1;34m()\u001b[0m\n\u001b[1;32m----> 1\u001b[0m data \u001b[38;5;241m=\u001b[39m \u001b[43mpd\u001b[49m\u001b[38;5;241m.\u001b[39mread_csv(\u001b[38;5;124m'\u001b[39m\u001b[38;5;124mE:/clog/Churn.csv\u001b[39m\u001b[38;5;124m'\u001b[39m)\n",
      "\u001b[1;31mNameError\u001b[0m: name 'pd' is not defined"
     ]
    }
   ],
   "source": [
    "data = pd.read_csv('E:/clog/Churn.csv')"
   ]
  },
  {
   "cell_type": "code",
   "execution_count": 289,
   "metadata": {
    "scrolled": false
   },
   "outputs": [
    {
     "data": {
      "text/html": [
       "<div>\n",
       "<style scoped>\n",
       "    .dataframe tbody tr th:only-of-type {\n",
       "        vertical-align: middle;\n",
       "    }\n",
       "\n",
       "    .dataframe tbody tr th {\n",
       "        vertical-align: top;\n",
       "    }\n",
       "\n",
       "    .dataframe thead th {\n",
       "        text-align: right;\n",
       "    }\n",
       "</style>\n",
       "<table border=\"1\" class=\"dataframe\">\n",
       "  <thead>\n",
       "    <tr style=\"text-align: right;\">\n",
       "      <th></th>\n",
       "      <th>RowNumber</th>\n",
       "      <th>CustomerId</th>\n",
       "      <th>Surname</th>\n",
       "      <th>CreditScore</th>\n",
       "      <th>Geography</th>\n",
       "      <th>Gender</th>\n",
       "      <th>Age</th>\n",
       "      <th>Tenure</th>\n",
       "      <th>Balance</th>\n",
       "      <th>NumOfProducts</th>\n",
       "      <th>HasCrCard</th>\n",
       "      <th>IsActiveMember</th>\n",
       "      <th>EstimatedSalary</th>\n",
       "      <th>Exited</th>\n",
       "    </tr>\n",
       "  </thead>\n",
       "  <tbody>\n",
       "    <tr>\n",
       "      <th>0</th>\n",
       "      <td>1</td>\n",
       "      <td>15634602</td>\n",
       "      <td>Hargrave</td>\n",
       "      <td>619</td>\n",
       "      <td>France</td>\n",
       "      <td>Female</td>\n",
       "      <td>42</td>\n",
       "      <td>2.0</td>\n",
       "      <td>0.00</td>\n",
       "      <td>1</td>\n",
       "      <td>1</td>\n",
       "      <td>1</td>\n",
       "      <td>101348.88</td>\n",
       "      <td>1</td>\n",
       "    </tr>\n",
       "    <tr>\n",
       "      <th>1</th>\n",
       "      <td>2</td>\n",
       "      <td>15647311</td>\n",
       "      <td>Hill</td>\n",
       "      <td>608</td>\n",
       "      <td>Spain</td>\n",
       "      <td>Female</td>\n",
       "      <td>41</td>\n",
       "      <td>1.0</td>\n",
       "      <td>83807.86</td>\n",
       "      <td>1</td>\n",
       "      <td>0</td>\n",
       "      <td>1</td>\n",
       "      <td>112542.58</td>\n",
       "      <td>0</td>\n",
       "    </tr>\n",
       "    <tr>\n",
       "      <th>2</th>\n",
       "      <td>3</td>\n",
       "      <td>15619304</td>\n",
       "      <td>Onio</td>\n",
       "      <td>502</td>\n",
       "      <td>France</td>\n",
       "      <td>Female</td>\n",
       "      <td>42</td>\n",
       "      <td>8.0</td>\n",
       "      <td>159660.80</td>\n",
       "      <td>3</td>\n",
       "      <td>1</td>\n",
       "      <td>0</td>\n",
       "      <td>113931.57</td>\n",
       "      <td>1</td>\n",
       "    </tr>\n",
       "    <tr>\n",
       "      <th>3</th>\n",
       "      <td>4</td>\n",
       "      <td>15701354</td>\n",
       "      <td>Boni</td>\n",
       "      <td>699</td>\n",
       "      <td>France</td>\n",
       "      <td>Female</td>\n",
       "      <td>39</td>\n",
       "      <td>1.0</td>\n",
       "      <td>0.00</td>\n",
       "      <td>2</td>\n",
       "      <td>0</td>\n",
       "      <td>0</td>\n",
       "      <td>93826.63</td>\n",
       "      <td>0</td>\n",
       "    </tr>\n",
       "    <tr>\n",
       "      <th>4</th>\n",
       "      <td>5</td>\n",
       "      <td>15737888</td>\n",
       "      <td>Mitchell</td>\n",
       "      <td>850</td>\n",
       "      <td>Spain</td>\n",
       "      <td>Female</td>\n",
       "      <td>43</td>\n",
       "      <td>2.0</td>\n",
       "      <td>125510.82</td>\n",
       "      <td>1</td>\n",
       "      <td>1</td>\n",
       "      <td>1</td>\n",
       "      <td>79084.10</td>\n",
       "      <td>0</td>\n",
       "    </tr>\n",
       "  </tbody>\n",
       "</table>\n",
       "</div>"
      ],
      "text/plain": [
       "   RowNumber  CustomerId   Surname  CreditScore Geography  Gender  Age  \\\n",
       "0          1    15634602  Hargrave          619    France  Female   42   \n",
       "1          2    15647311      Hill          608     Spain  Female   41   \n",
       "2          3    15619304      Onio          502    France  Female   42   \n",
       "3          4    15701354      Boni          699    France  Female   39   \n",
       "4          5    15737888  Mitchell          850     Spain  Female   43   \n",
       "\n",
       "   Tenure    Balance  NumOfProducts  HasCrCard  IsActiveMember  \\\n",
       "0     2.0       0.00              1          1               1   \n",
       "1     1.0   83807.86              1          0               1   \n",
       "2     8.0  159660.80              3          1               0   \n",
       "3     1.0       0.00              2          0               0   \n",
       "4     2.0  125510.82              1          1               1   \n",
       "\n",
       "   EstimatedSalary  Exited  \n",
       "0        101348.88       1  \n",
       "1        112542.58       0  \n",
       "2        113931.57       1  \n",
       "3         93826.63       0  \n",
       "4         79084.10       0  "
      ]
     },
     "metadata": {},
     "output_type": "display_data"
    },
    {
     "name": "stdout",
     "output_type": "stream",
     "text": [
      "<class 'pandas.core.frame.DataFrame'>\n",
      "RangeIndex: 10000 entries, 0 to 9999\n",
      "Data columns (total 14 columns):\n",
      " #   Column           Non-Null Count  Dtype  \n",
      "---  ------           --------------  -----  \n",
      " 0   RowNumber        10000 non-null  int64  \n",
      " 1   CustomerId       10000 non-null  int64  \n",
      " 2   Surname          10000 non-null  object \n",
      " 3   CreditScore      10000 non-null  int64  \n",
      " 4   Geography        10000 non-null  object \n",
      " 5   Gender           10000 non-null  object \n",
      " 6   Age              10000 non-null  int64  \n",
      " 7   Tenure           9091 non-null   float64\n",
      " 8   Balance          10000 non-null  float64\n",
      " 9   NumOfProducts    10000 non-null  int64  \n",
      " 10  HasCrCard        10000 non-null  int64  \n",
      " 11  IsActiveMember   10000 non-null  int64  \n",
      " 12  EstimatedSalary  10000 non-null  float64\n",
      " 13  Exited           10000 non-null  int64  \n",
      "dtypes: float64(3), int64(8), object(3)\n",
      "memory usage: 1.1+ MB\n"
     ]
    },
    {
     "data": {
      "text/plain": [
       "None"
      ]
     },
     "metadata": {},
     "output_type": "display_data"
    }
   ],
   "source": [
    "display(data.head())\n",
    "display(data.info())"
   ]
  },
  {
   "cell_type": "code",
   "execution_count": 290,
   "metadata": {},
   "outputs": [
    {
     "data": {
      "text/plain": [
       "0"
      ]
     },
     "execution_count": 290,
     "metadata": {},
     "output_type": "execute_result"
    }
   ],
   "source": [
    "data.duplicated().sum()"
   ]
  },
  {
   "cell_type": "code",
   "execution_count": 291,
   "metadata": {},
   "outputs": [
    {
     "data": {
      "text/html": [
       "<div>\n",
       "<style scoped>\n",
       "    .dataframe tbody tr th:only-of-type {\n",
       "        vertical-align: middle;\n",
       "    }\n",
       "\n",
       "    .dataframe tbody tr th {\n",
       "        vertical-align: top;\n",
       "    }\n",
       "\n",
       "    .dataframe thead th {\n",
       "        text-align: right;\n",
       "    }\n",
       "</style>\n",
       "<table border=\"1\" class=\"dataframe\">\n",
       "  <thead>\n",
       "    <tr style=\"text-align: right;\">\n",
       "      <th></th>\n",
       "      <th>RowNumber</th>\n",
       "      <th>CustomerId</th>\n",
       "      <th>CreditScore</th>\n",
       "      <th>Age</th>\n",
       "      <th>Tenure</th>\n",
       "      <th>Balance</th>\n",
       "      <th>NumOfProducts</th>\n",
       "      <th>HasCrCard</th>\n",
       "      <th>IsActiveMember</th>\n",
       "      <th>EstimatedSalary</th>\n",
       "      <th>Exited</th>\n",
       "    </tr>\n",
       "  </thead>\n",
       "  <tbody>\n",
       "    <tr>\n",
       "      <th>count</th>\n",
       "      <td>10000.00000</td>\n",
       "      <td>1.000000e+04</td>\n",
       "      <td>10000.000000</td>\n",
       "      <td>10000.000000</td>\n",
       "      <td>9091.000000</td>\n",
       "      <td>10000.000000</td>\n",
       "      <td>10000.000000</td>\n",
       "      <td>10000.00000</td>\n",
       "      <td>10000.000000</td>\n",
       "      <td>10000.000000</td>\n",
       "      <td>10000.000000</td>\n",
       "    </tr>\n",
       "    <tr>\n",
       "      <th>mean</th>\n",
       "      <td>5000.50000</td>\n",
       "      <td>1.569094e+07</td>\n",
       "      <td>650.528800</td>\n",
       "      <td>38.921800</td>\n",
       "      <td>4.997690</td>\n",
       "      <td>76485.889288</td>\n",
       "      <td>1.530200</td>\n",
       "      <td>0.70550</td>\n",
       "      <td>0.515100</td>\n",
       "      <td>100090.239881</td>\n",
       "      <td>0.203700</td>\n",
       "    </tr>\n",
       "    <tr>\n",
       "      <th>std</th>\n",
       "      <td>2886.89568</td>\n",
       "      <td>7.193619e+04</td>\n",
       "      <td>96.653299</td>\n",
       "      <td>10.487806</td>\n",
       "      <td>2.894723</td>\n",
       "      <td>62397.405202</td>\n",
       "      <td>0.581654</td>\n",
       "      <td>0.45584</td>\n",
       "      <td>0.499797</td>\n",
       "      <td>57510.492818</td>\n",
       "      <td>0.402769</td>\n",
       "    </tr>\n",
       "    <tr>\n",
       "      <th>min</th>\n",
       "      <td>1.00000</td>\n",
       "      <td>1.556570e+07</td>\n",
       "      <td>350.000000</td>\n",
       "      <td>18.000000</td>\n",
       "      <td>0.000000</td>\n",
       "      <td>0.000000</td>\n",
       "      <td>1.000000</td>\n",
       "      <td>0.00000</td>\n",
       "      <td>0.000000</td>\n",
       "      <td>11.580000</td>\n",
       "      <td>0.000000</td>\n",
       "    </tr>\n",
       "    <tr>\n",
       "      <th>25%</th>\n",
       "      <td>2500.75000</td>\n",
       "      <td>1.562853e+07</td>\n",
       "      <td>584.000000</td>\n",
       "      <td>32.000000</td>\n",
       "      <td>2.000000</td>\n",
       "      <td>0.000000</td>\n",
       "      <td>1.000000</td>\n",
       "      <td>0.00000</td>\n",
       "      <td>0.000000</td>\n",
       "      <td>51002.110000</td>\n",
       "      <td>0.000000</td>\n",
       "    </tr>\n",
       "    <tr>\n",
       "      <th>50%</th>\n",
       "      <td>5000.50000</td>\n",
       "      <td>1.569074e+07</td>\n",
       "      <td>652.000000</td>\n",
       "      <td>37.000000</td>\n",
       "      <td>5.000000</td>\n",
       "      <td>97198.540000</td>\n",
       "      <td>1.000000</td>\n",
       "      <td>1.00000</td>\n",
       "      <td>1.000000</td>\n",
       "      <td>100193.915000</td>\n",
       "      <td>0.000000</td>\n",
       "    </tr>\n",
       "    <tr>\n",
       "      <th>75%</th>\n",
       "      <td>7500.25000</td>\n",
       "      <td>1.575323e+07</td>\n",
       "      <td>718.000000</td>\n",
       "      <td>44.000000</td>\n",
       "      <td>7.000000</td>\n",
       "      <td>127644.240000</td>\n",
       "      <td>2.000000</td>\n",
       "      <td>1.00000</td>\n",
       "      <td>1.000000</td>\n",
       "      <td>149388.247500</td>\n",
       "      <td>0.000000</td>\n",
       "    </tr>\n",
       "    <tr>\n",
       "      <th>max</th>\n",
       "      <td>10000.00000</td>\n",
       "      <td>1.581569e+07</td>\n",
       "      <td>850.000000</td>\n",
       "      <td>92.000000</td>\n",
       "      <td>10.000000</td>\n",
       "      <td>250898.090000</td>\n",
       "      <td>4.000000</td>\n",
       "      <td>1.00000</td>\n",
       "      <td>1.000000</td>\n",
       "      <td>199992.480000</td>\n",
       "      <td>1.000000</td>\n",
       "    </tr>\n",
       "  </tbody>\n",
       "</table>\n",
       "</div>"
      ],
      "text/plain": [
       "         RowNumber    CustomerId   CreditScore           Age       Tenure  \\\n",
       "count  10000.00000  1.000000e+04  10000.000000  10000.000000  9091.000000   \n",
       "mean    5000.50000  1.569094e+07    650.528800     38.921800     4.997690   \n",
       "std     2886.89568  7.193619e+04     96.653299     10.487806     2.894723   \n",
       "min        1.00000  1.556570e+07    350.000000     18.000000     0.000000   \n",
       "25%     2500.75000  1.562853e+07    584.000000     32.000000     2.000000   \n",
       "50%     5000.50000  1.569074e+07    652.000000     37.000000     5.000000   \n",
       "75%     7500.25000  1.575323e+07    718.000000     44.000000     7.000000   \n",
       "max    10000.00000  1.581569e+07    850.000000     92.000000    10.000000   \n",
       "\n",
       "             Balance  NumOfProducts    HasCrCard  IsActiveMember  \\\n",
       "count   10000.000000   10000.000000  10000.00000    10000.000000   \n",
       "mean    76485.889288       1.530200      0.70550        0.515100   \n",
       "std     62397.405202       0.581654      0.45584        0.499797   \n",
       "min         0.000000       1.000000      0.00000        0.000000   \n",
       "25%         0.000000       1.000000      0.00000        0.000000   \n",
       "50%     97198.540000       1.000000      1.00000        1.000000   \n",
       "75%    127644.240000       2.000000      1.00000        1.000000   \n",
       "max    250898.090000       4.000000      1.00000        1.000000   \n",
       "\n",
       "       EstimatedSalary        Exited  \n",
       "count     10000.000000  10000.000000  \n",
       "mean     100090.239881      0.203700  \n",
       "std       57510.492818      0.402769  \n",
       "min          11.580000      0.000000  \n",
       "25%       51002.110000      0.000000  \n",
       "50%      100193.915000      0.000000  \n",
       "75%      149388.247500      0.000000  \n",
       "max      199992.480000      1.000000  "
      ]
     },
     "execution_count": 291,
     "metadata": {},
     "output_type": "execute_result"
    }
   ],
   "source": [
    "data.describe()"
   ]
  },
  {
   "cell_type": "markdown",
   "metadata": {},
   "source": [
    "**Вывод:** Данные требуют небольшой предподготовки и более детального просмотра параметров перед работой с моделью."
   ]
  },
  {
   "cell_type": "markdown",
   "metadata": {},
   "source": [
    "### Заполнение пропусков"
   ]
  },
  {
   "cell_type": "markdown",
   "metadata": {},
   "source": [
    "Информация о времени пользования услуг банка клиентом неполна и содержит пропуски в значимом объёме. Перед принятием решения о заполнении - изучим имеющиеся данные:"
   ]
  },
  {
   "cell_type": "code",
   "execution_count": 292,
   "metadata": {},
   "outputs": [
    {
     "name": "stdout",
     "output_type": "stream",
     "text": [
      "Axes(0.125,0.11;0.775x0.77)\n",
      "count    9091.000000\n",
      "mean        4.997690\n",
      "std         2.894723\n",
      "min         0.000000\n",
      "25%         2.000000\n",
      "50%         5.000000\n",
      "75%         7.000000\n",
      "max        10.000000\n",
      "Name: Tenure, dtype: float64\n",
      "Axes(0.125,0.11;0.775x0.77)\n"
     ]
    },
    {
     "data": {
      "image/png": "[encoded data removed]",
      "text/plain": [
       "<Figure size 640x480 with 1 Axes>"
      ]
     },
     "metadata": {},
     "output_type": "display_data"
    },
    {
     "data": {
      "image/png": "[encoded data removed]",
      "text/plain": [
       "<Figure size 640x480 with 1 Axes>"
      ]
     },
     "metadata": {},
     "output_type": "display_data"
    }
   ],
   "source": [
    "print(sns.boxplot(x = 'Tenure', data = data, color = 'silver'))\n",
    "print(data['Tenure'].describe())\n",
    "print(data.plot(kind = 'hist', y = 'Tenure', title = 'Срок пользования банковскими услугами', color = 'silver', bins = 11))"
   ]
  },
  {
   "cell_type": "markdown",
   "metadata": {},
   "source": [
    "**Посмотрим, кореляцию времени использования услуг банка и оттока клиентов**"
   ]
  },
  {
   "cell_type": "code",
   "execution_count": 293,
   "metadata": {},
   "outputs": [
    {
     "data": {
      "text/html": [
       "<div>\n",
       "<style scoped>\n",
       "    .dataframe tbody tr th:only-of-type {\n",
       "        vertical-align: middle;\n",
       "    }\n",
       "\n",
       "    .dataframe tbody tr th {\n",
       "        vertical-align: top;\n",
       "    }\n",
       "\n",
       "    .dataframe thead tr th {\n",
       "        text-align: left;\n",
       "    }\n",
       "</style>\n",
       "<table border=\"1\" class=\"dataframe\">\n",
       "  <thead>\n",
       "    <tr>\n",
       "      <th></th>\n",
       "      <th colspan=\"2\" halign=\"left\">mean</th>\n",
       "      <th colspan=\"2\" halign=\"left\">median</th>\n",
       "    </tr>\n",
       "    <tr>\n",
       "      <th>Exited</th>\n",
       "      <th>0</th>\n",
       "      <th>1</th>\n",
       "      <th>0</th>\n",
       "      <th>1</th>\n",
       "    </tr>\n",
       "  </thead>\n",
       "  <tbody>\n",
       "    <tr>\n",
       "      <th>Tenure</th>\n",
       "      <td>5.022247</td>\n",
       "      <td>4.901834</td>\n",
       "      <td>5.0</td>\n",
       "      <td>5.0</td>\n",
       "    </tr>\n",
       "  </tbody>\n",
       "</table>\n",
       "</div>"
      ],
      "text/plain": [
       "            mean           median     \n",
       "Exited         0         1      0    1\n",
       "Tenure  5.022247  4.901834    5.0  5.0"
      ]
     },
     "metadata": {},
     "output_type": "display_data"
    }
   ],
   "source": [
    "display(data.pivot_table( values = 'Tenure', columns = 'Exited', aggfunc = ['mean','median']))"
   ]
  },
  {
   "cell_type": "code",
   "execution_count": 294,
   "metadata": {},
   "outputs": [
    {
     "data": {
      "text/html": [
       "<div>\n",
       "<style scoped>\n",
       "    .dataframe tbody tr th:only-of-type {\n",
       "        vertical-align: middle;\n",
       "    }\n",
       "\n",
       "    .dataframe tbody tr th {\n",
       "        vertical-align: top;\n",
       "    }\n",
       "\n",
       "    .dataframe thead th {\n",
       "        text-align: right;\n",
       "    }\n",
       "</style>\n",
       "<table border=\"1\" class=\"dataframe\">\n",
       "  <thead>\n",
       "    <tr style=\"text-align: right;\">\n",
       "      <th></th>\n",
       "      <th>Exited</th>\n",
       "      <th>Tenure</th>\n",
       "    </tr>\n",
       "  </thead>\n",
       "  <tbody>\n",
       "    <tr>\n",
       "      <th>Exited</th>\n",
       "      <td>1.000000</td>\n",
       "      <td>-0.016761</td>\n",
       "    </tr>\n",
       "    <tr>\n",
       "      <th>Tenure</th>\n",
       "      <td>-0.016761</td>\n",
       "      <td>1.000000</td>\n",
       "    </tr>\n",
       "  </tbody>\n",
       "</table>\n",
       "</div>"
      ],
      "text/plain": [
       "          Exited    Tenure\n",
       "Exited  1.000000 -0.016761\n",
       "Tenure -0.016761  1.000000"
      ]
     },
     "metadata": {},
     "output_type": "display_data"
    }
   ],
   "source": [
    "display(data.pivot_table(index = 'CustomerId', values = ['Tenure', 'Exited']).corr())"
   ]
  },
  {
   "cell_type": "markdown",
   "metadata": {},
   "source": [
    "**Полученная информация способствует спокойному заполнению пропусков вне зависимости от причастности клиента к расторжению договора с банком**"
   ]
  },
  {
   "cell_type": "markdown",
   "metadata": {},
   "source": [
    "для минимизирования влияния заполнения пропуска на статистику - используем метод ffill"
   ]
  },
  {
   "cell_type": "code",
   "execution_count": 295,
   "metadata": {},
   "outputs": [],
   "source": [
    "data['Tenure'].fillna(method = 'ffill', inplace = True)"
   ]
  },
  {
   "cell_type": "markdown",
   "metadata": {},
   "source": [
    "Сравним старую и новые диаграммы:"
   ]
  },
  {
   "cell_type": "code",
   "execution_count": 296,
   "metadata": {},
   "outputs": [
    {
     "name": "stdout",
     "output_type": "stream",
     "text": [
      "Axes(0.125,0.11;0.775x0.77)\n",
      "count    10000.000000\n",
      "mean         4.992700\n",
      "std          2.891588\n",
      "min          0.000000\n",
      "25%          2.000000\n",
      "50%          5.000000\n",
      "75%          7.000000\n",
      "max         10.000000\n",
      "Name: Tenure, dtype: float64\n",
      "Axes(0.125,0.11;0.775x0.77)\n"
     ]
    },
    {
     "data": {
      "image/png": "[encoded data removed]",
      "text/plain": [
       "<Figure size 640x480 with 1 Axes>"
      ]
     },
     "metadata": {},
     "output_type": "display_data"
    },
    {
     "data": {
      "image/png": "[encoded data removed]",
      "text/plain": [
       "<Figure size 640x480 with 1 Axes>"
      ]
     },
     "metadata": {},
     "output_type": "display_data"
    }
   ],
   "source": [
    "print(sns.boxplot(x = 'Tenure', data = data, color = 'gold'))\n",
    "print(data['Tenure'].describe())\n",
    "print(data.plot(kind = 'hist', y = 'Tenure', title = 'Срок пользования банковскими услугами', color = 'gold', alpha = 0.6, bins = 11))"
   ]
  },
  {
   "cell_type": "code",
   "execution_count": 297,
   "metadata": {},
   "outputs": [
    {
     "name": "stdout",
     "output_type": "stream",
     "text": [
      "<class 'pandas.core.frame.DataFrame'>\n",
      "RangeIndex: 10000 entries, 0 to 9999\n",
      "Data columns (total 14 columns):\n",
      " #   Column           Non-Null Count  Dtype  \n",
      "---  ------           --------------  -----  \n",
      " 0   RowNumber        10000 non-null  int64  \n",
      " 1   CustomerId       10000 non-null  int64  \n",
      " 2   Surname          10000 non-null  object \n",
      " 3   CreditScore      10000 non-null  int64  \n",
      " 4   Geography        10000 non-null  object \n",
      " 5   Gender           10000 non-null  object \n",
      " 6   Age              10000 non-null  int64  \n",
      " 7   Tenure           10000 non-null  float64\n",
      " 8   Balance          10000 non-null  float64\n",
      " 9   NumOfProducts    10000 non-null  int64  \n",
      " 10  HasCrCard        10000 non-null  int64  \n",
      " 11  IsActiveMember   10000 non-null  int64  \n",
      " 12  EstimatedSalary  10000 non-null  float64\n",
      " 13  Exited           10000 non-null  int64  \n",
      "dtypes: float64(3), int64(8), object(3)\n",
      "memory usage: 1.1+ MB\n"
     ]
    }
   ],
   "source": [
    "data.info()"
   ]
  },
  {
   "cell_type": "markdown",
   "metadata": {},
   "source": [
    "**После заполнения пропусков продолжим исследование каждого столбца в отдельности**"
   ]
  },
  {
   "cell_type": "markdown",
   "metadata": {},
   "source": [
    "### Проверка признаков"
   ]
  },
  {
   "cell_type": "markdown",
   "metadata": {},
   "source": [
    "####   RowNumber"
   ]
  },
  {
   "cell_type": "markdown",
   "metadata": {},
   "source": [
    "RowNumber - дополнительный индекс строки в данных. Необходимость данного столбца стремится к нулю, что приводит к решению о его удалении после дополнительной проверки на дубликаты. "
   ]
  },
  {
   "cell_type": "code",
   "execution_count": 298,
   "metadata": {},
   "outputs": [
    {
     "data": {
      "text/plain": [
       "0"
      ]
     },
     "execution_count": 298,
     "metadata": {},
     "output_type": "execute_result"
    }
   ],
   "source": [
    "data['RowNumber'].duplicated().sum()"
   ]
  },
  {
   "cell_type": "code",
   "execution_count": 299,
   "metadata": {},
   "outputs": [
    {
     "data": {
      "text/plain": [
       "10000"
      ]
     },
     "execution_count": 299,
     "metadata": {},
     "output_type": "execute_result"
    }
   ],
   "source": [
    "data['RowNumber'].value_counts().sum()"
   ]
  },
  {
   "cell_type": "markdown",
   "metadata": {},
   "source": [
    "Столбец RowNumber является лишь дубликатом индексов."
   ]
  },
  {
   "cell_type": "markdown",
   "metadata": {},
   "source": [
    "**Вывод:** - удаляем столбец"
   ]
  },
  {
   "cell_type": "code",
   "execution_count": 300,
   "metadata": {},
   "outputs": [],
   "source": [
    "data = data.drop(columns = ['RowNumber'], axis = 1)"
   ]
  },
  {
   "cell_type": "code",
   "execution_count": 301,
   "metadata": {},
   "outputs": [
    {
     "name": "stdout",
     "output_type": "stream",
     "text": [
      "<class 'pandas.core.frame.DataFrame'>\n",
      "RangeIndex: 10000 entries, 0 to 9999\n",
      "Data columns (total 13 columns):\n",
      " #   Column           Non-Null Count  Dtype  \n",
      "---  ------           --------------  -----  \n",
      " 0   CustomerId       10000 non-null  int64  \n",
      " 1   Surname          10000 non-null  object \n",
      " 2   CreditScore      10000 non-null  int64  \n",
      " 3   Geography        10000 non-null  object \n",
      " 4   Gender           10000 non-null  object \n",
      " 5   Age              10000 non-null  int64  \n",
      " 6   Tenure           10000 non-null  float64\n",
      " 7   Balance          10000 non-null  float64\n",
      " 8   NumOfProducts    10000 non-null  int64  \n",
      " 9   HasCrCard        10000 non-null  int64  \n",
      " 10  IsActiveMember   10000 non-null  int64  \n",
      " 11  EstimatedSalary  10000 non-null  float64\n",
      " 12  Exited           10000 non-null  int64  \n",
      "dtypes: float64(3), int64(7), object(3)\n",
      "memory usage: 1015.8+ KB\n",
      "None\n"
     ]
    }
   ],
   "source": [
    "print(data.info())"
   ]
  },
  {
   "cell_type": "markdown",
   "metadata": {},
   "source": [
    "#### CustomerId"
   ]
  },
  {
   "cell_type": "markdown",
   "metadata": {},
   "source": [
    "CustomerId - уникальный идентификатор клиента.\n",
    "\n",
    "    \n",
    "В этом столбце нас так же интересует наличие одинаковых идентификаторов."
   ]
  },
  {
   "cell_type": "code",
   "execution_count": 302,
   "metadata": {},
   "outputs": [
    {
     "data": {
      "text/plain": [
       "10000"
      ]
     },
     "execution_count": 302,
     "metadata": {},
     "output_type": "execute_result"
    }
   ],
   "source": [
    "data['CustomerId'].value_counts().sum()"
   ]
  },
  {
   "cell_type": "code",
   "execution_count": 303,
   "metadata": {},
   "outputs": [
    {
     "data": {
      "text/plain": [
       "0"
      ]
     },
     "execution_count": 303,
     "metadata": {},
     "output_type": "execute_result"
    }
   ],
   "source": [
    "data['CustomerId'].duplicated().sum()"
   ]
  },
  {
   "cell_type": "markdown",
   "metadata": {},
   "source": [
    "Идентификатор клиента - его уникальный номер, который ни на что не влияет и аналогичен индексу. Для дальнейшей работы наличие таких данных будет неоправдано. "
   ]
  },
  {
   "cell_type": "markdown",
   "metadata": {},
   "source": [
    "**Вывод:** - удаляем столбец"
   ]
  },
  {
   "cell_type": "code",
   "execution_count": 304,
   "metadata": {},
   "outputs": [
    {
     "name": "stdout",
     "output_type": "stream",
     "text": [
      "<class 'pandas.core.frame.DataFrame'>\n",
      "RangeIndex: 10000 entries, 0 to 9999\n",
      "Data columns (total 12 columns):\n",
      " #   Column           Non-Null Count  Dtype  \n",
      "---  ------           --------------  -----  \n",
      " 0   Surname          10000 non-null  object \n",
      " 1   CreditScore      10000 non-null  int64  \n",
      " 2   Geography        10000 non-null  object \n",
      " 3   Gender           10000 non-null  object \n",
      " 4   Age              10000 non-null  int64  \n",
      " 5   Tenure           10000 non-null  float64\n",
      " 6   Balance          10000 non-null  float64\n",
      " 7   NumOfProducts    10000 non-null  int64  \n",
      " 8   HasCrCard        10000 non-null  int64  \n",
      " 9   IsActiveMember   10000 non-null  int64  \n",
      " 10  EstimatedSalary  10000 non-null  float64\n",
      " 11  Exited           10000 non-null  int64  \n",
      "dtypes: float64(3), int64(6), object(3)\n",
      "memory usage: 937.6+ KB\n",
      "None\n"
     ]
    }
   ],
   "source": [
    "data = data.drop(columns = ['CustomerId'], axis = 1)\n",
    "print(data.info())"
   ]
  },
  {
   "cell_type": "markdown",
   "metadata": {},
   "source": [
    "#### Surname "
   ]
  },
  {
   "cell_type": "markdown",
   "metadata": {},
   "source": [
    "Surname — фамилия клиента. Просмотр:"
   ]
  },
  {
   "cell_type": "code",
   "execution_count": 305,
   "metadata": {},
   "outputs": [
    {
     "data": {
      "text/plain": [
       "0    Hargrave\n",
       "1        Hill\n",
       "2        Onio\n",
       "3        Boni\n",
       "4    Mitchell\n",
       "5         Chu\n",
       "6    Bartlett\n",
       "7      Obinna\n",
       "8          He\n",
       "9          H?\n",
       "Name: Surname, dtype: object"
      ]
     },
     "metadata": {},
     "output_type": "display_data"
    }
   ],
   "source": [
    "display(data['Surname'].head(10))"
   ]
  },
  {
   "cell_type": "code",
   "execution_count": 306,
   "metadata": {},
   "outputs": [
    {
     "data": {
      "text/plain": [
       "Surname\n",
       "Smith       32\n",
       "Scott       29\n",
       "Martin      29\n",
       "Walker      28\n",
       "Brown       26\n",
       "            ..\n",
       "Izmailov     1\n",
       "Bold         1\n",
       "Bonham       1\n",
       "Poninski     1\n",
       "Burbidge     1\n",
       "Name: count, Length: 2932, dtype: int64"
      ]
     },
     "execution_count": 306,
     "metadata": {},
     "output_type": "execute_result"
    }
   ],
   "source": [
    "data['Surname'].value_counts()"
   ]
  },
  {
   "cell_type": "markdown",
   "metadata": {},
   "source": [
    "Антропонимика - достойна отдельных исследований, а в данном случае - информативность столбца околонулевая. \n",
    "По Surname нельзя определить является ли клиент родственником другому клиенту, и то, сгенерированы ли эти имена случайно\n",
    "для защиты личных прав клиента."
   ]
  },
  {
   "cell_type": "markdown",
   "metadata": {},
   "source": [
    "**Вывод** - удаление столбца."
   ]
  },
  {
   "cell_type": "code",
   "execution_count": 307,
   "metadata": {},
   "outputs": [
    {
     "name": "stdout",
     "output_type": "stream",
     "text": [
      "<class 'pandas.core.frame.DataFrame'>\n",
      "RangeIndex: 10000 entries, 0 to 9999\n",
      "Data columns (total 11 columns):\n",
      " #   Column           Non-Null Count  Dtype  \n",
      "---  ------           --------------  -----  \n",
      " 0   CreditScore      10000 non-null  int64  \n",
      " 1   Geography        10000 non-null  object \n",
      " 2   Gender           10000 non-null  object \n",
      " 3   Age              10000 non-null  int64  \n",
      " 4   Tenure           10000 non-null  float64\n",
      " 5   Balance          10000 non-null  float64\n",
      " 6   NumOfProducts    10000 non-null  int64  \n",
      " 7   HasCrCard        10000 non-null  int64  \n",
      " 8   IsActiveMember   10000 non-null  int64  \n",
      " 9   EstimatedSalary  10000 non-null  float64\n",
      " 10  Exited           10000 non-null  int64  \n",
      "dtypes: float64(3), int64(6), object(2)\n",
      "memory usage: 859.5+ KB\n",
      "None\n"
     ]
    }
   ],
   "source": [
    "data = data.drop(columns = ['Surname'], axis = 1)\n",
    "print(data.info())"
   ]
  },
  {
   "cell_type": "markdown",
   "metadata": {},
   "source": [
    "#### **CreditScore**"
   ]
  },
  {
   "cell_type": "markdown",
   "metadata": {},
   "source": [
    "CreditScore — кредитный рейтинг клиента. Изучим столбец:"
   ]
  },
  {
   "cell_type": "code",
   "execution_count": 308,
   "metadata": {},
   "outputs": [
    {
     "data": {
      "text/plain": [
       "count    10000.000000\n",
       "mean       650.528800\n",
       "std         96.653299\n",
       "min        350.000000\n",
       "25%        584.000000\n",
       "50%        652.000000\n",
       "75%        718.000000\n",
       "max        850.000000\n",
       "Name: CreditScore, dtype: float64"
      ]
     },
     "execution_count": 308,
     "metadata": {},
     "output_type": "execute_result"
    }
   ],
   "source": [
    "data['CreditScore'].describe()"
   ]
  },
  {
   "cell_type": "code",
   "execution_count": 309,
   "metadata": {},
   "outputs": [
    {
     "data": {
      "text/plain": [
       "<Axes: xlabel='CreditScore'>"
      ]
     },
     "execution_count": 309,
     "metadata": {},
     "output_type": "execute_result"
    },
    {
     "data": {
      "image/png": "[encoded data removed]",
      "text/plain": [
       "<Figure size 640x480 with 1 Axes>"
      ]
     },
     "metadata": {},
     "output_type": "display_data"
    }
   ],
   "source": [
    "sns.boxplot(x = 'CreditScore', data = data, color = 'silver')"
   ]
  },
  {
   "cell_type": "code",
   "execution_count": 310,
   "metadata": {},
   "outputs": [
    {
     "data": {
      "text/plain": [
       "<Axes: title={'center': 'Кредитный рейтинг'}, ylabel='Frequency'>"
      ]
     },
     "execution_count": 310,
     "metadata": {},
     "output_type": "execute_result"
    },
    {
     "data": {
      "image/png": "[encoded data removed]",
      "text/plain": [
       "<Figure size 640x480 with 1 Axes>"
      ]
     },
     "metadata": {},
     "output_type": "display_data"
    }
   ],
   "source": [
    "data.plot(kind = 'hist', y = 'CreditScore', title = 'Кредитный рейтинг', bins =125, color = 'silver')"
   ]
  },
  {
   "cell_type": "markdown",
   "metadata": {},
   "source": [
    "Не удивительно, что количество людей с хорошим кредитным рейтингом выше, чем остальные. Диаграмма не выглядит аномально."
   ]
  },
  {
   "cell_type": "markdown",
   "metadata": {},
   "source": [
    "**Вывод** - столбец остается без изменений "
   ]
  },
  {
   "cell_type": "markdown",
   "metadata": {},
   "source": [
    "#### Geography "
   ]
  },
  {
   "cell_type": "markdown",
   "metadata": {},
   "source": [
    "Geography — страна проживания клиента."
   ]
  },
  {
   "cell_type": "code",
   "execution_count": 311,
   "metadata": {
    "scrolled": true
   },
   "outputs": [
    {
     "data": {
      "text/plain": [
       "Geography\n",
       "France     5014\n",
       "Germany    2509\n",
       "Spain      2477\n",
       "Name: count, dtype: int64"
      ]
     },
     "execution_count": 311,
     "metadata": {},
     "output_type": "execute_result"
    }
   ],
   "source": [
    "data['Geography'].value_counts()"
   ]
  },
  {
   "cell_type": "code",
   "execution_count": 312,
   "metadata": {},
   "outputs": [
    {
     "data": {
      "text/plain": [
       "<Axes: >"
      ]
     },
     "execution_count": 312,
     "metadata": {},
     "output_type": "execute_result"
    },
    {
     "data": {
      "image/png": "[encoded data removed]",
      "text/plain": [
       "<Figure size 640x480 with 1 Axes>"
      ]
     },
     "metadata": {},
     "output_type": "display_data"
    }
   ],
   "source": [
    "data['Geography'].hist(color = 'silver', bins = 5)"
   ]
  },
  {
   "cell_type": "code",
   "execution_count": 313,
   "metadata": {},
   "outputs": [
    {
     "data": {
      "text/html": [
       "<div>\n",
       "<style scoped>\n",
       "    .dataframe tbody tr th:only-of-type {\n",
       "        vertical-align: middle;\n",
       "    }\n",
       "\n",
       "    .dataframe tbody tr th {\n",
       "        vertical-align: top;\n",
       "    }\n",
       "\n",
       "    .dataframe thead tr th {\n",
       "        text-align: left;\n",
       "    }\n",
       "\n",
       "    .dataframe thead tr:last-of-type th {\n",
       "        text-align: right;\n",
       "    }\n",
       "</style>\n",
       "<table border=\"1\" class=\"dataframe\">\n",
       "  <thead>\n",
       "    <tr>\n",
       "      <th></th>\n",
       "      <th>mean</th>\n",
       "    </tr>\n",
       "    <tr>\n",
       "      <th></th>\n",
       "      <th>Exited</th>\n",
       "    </tr>\n",
       "    <tr>\n",
       "      <th>Geography</th>\n",
       "      <th></th>\n",
       "    </tr>\n",
       "  </thead>\n",
       "  <tbody>\n",
       "    <tr>\n",
       "      <th>France</th>\n",
       "      <td>0.161548</td>\n",
       "    </tr>\n",
       "    <tr>\n",
       "      <th>Germany</th>\n",
       "      <td>0.324432</td>\n",
       "    </tr>\n",
       "    <tr>\n",
       "      <th>Spain</th>\n",
       "      <td>0.166734</td>\n",
       "    </tr>\n",
       "  </tbody>\n",
       "</table>\n",
       "</div>"
      ],
      "text/plain": [
       "               mean\n",
       "             Exited\n",
       "Geography          \n",
       "France     0.161548\n",
       "Germany    0.324432\n",
       "Spain      0.166734"
      ]
     },
     "metadata": {},
     "output_type": "display_data"
    }
   ],
   "source": [
    "display(data.pivot_table( values = 'Exited', index = 'Geography', aggfunc = ['mean']))"
   ]
  },
  {
   "cell_type": "markdown",
   "metadata": {},
   "source": [
    "**Вывод:** \n",
    "* Большая часть клиентов банка находятся во Франции, в то же время самый большой отток прогнозируется в Германии -  в два раза больше, чем в двух других странах. \n",
    "* Данные по геолокации не содержат структурных ошибок. \n",
    "* Столбец остаётся без изменений."
   ]
  },
  {
   "cell_type": "markdown",
   "metadata": {},
   "source": [
    "#### Gender"
   ]
  },
  {
   "cell_type": "markdown",
   "metadata": {},
   "source": [
    "Gender — пол клиента. "
   ]
  },
  {
   "cell_type": "code",
   "execution_count": 314,
   "metadata": {},
   "outputs": [
    {
     "data": {
      "text/plain": [
       "array(['Female', 'Male'], dtype=object)"
      ]
     },
     "execution_count": 314,
     "metadata": {},
     "output_type": "execute_result"
    }
   ],
   "source": [
    "data['Gender'].unique()"
   ]
  },
  {
   "cell_type": "code",
   "execution_count": 315,
   "metadata": {},
   "outputs": [
    {
     "name": "stdout",
     "output_type": "stream",
     "text": [
      "Gender\n",
      "Male      5457\n",
      "Female    4543\n",
      "Name: count, dtype: int64\n"
     ]
    },
    {
     "data": {
      "image/png": "[encoded data removed]",
      "text/plain": [
       "<Figure size 640x480 with 1 Axes>"
      ]
     },
     "metadata": {},
     "output_type": "display_data"
    }
   ],
   "source": [
    "data['Gender'].hist(color = 'silver', bins = 3)\n",
    "print(data['Gender'].value_counts())"
   ]
  },
  {
   "cell_type": "code",
   "execution_count": 316,
   "metadata": {},
   "outputs": [
    {
     "data": {
      "text/html": [
       "<div>\n",
       "<style scoped>\n",
       "    .dataframe tbody tr th:only-of-type {\n",
       "        vertical-align: middle;\n",
       "    }\n",
       "\n",
       "    .dataframe tbody tr th {\n",
       "        vertical-align: top;\n",
       "    }\n",
       "\n",
       "    .dataframe thead tr th {\n",
       "        text-align: left;\n",
       "    }\n",
       "\n",
       "    .dataframe thead tr:last-of-type th {\n",
       "        text-align: right;\n",
       "    }\n",
       "</style>\n",
       "<table border=\"1\" class=\"dataframe\">\n",
       "  <thead>\n",
       "    <tr>\n",
       "      <th></th>\n",
       "      <th>mean</th>\n",
       "    </tr>\n",
       "    <tr>\n",
       "      <th></th>\n",
       "      <th>Exited</th>\n",
       "    </tr>\n",
       "    <tr>\n",
       "      <th>Gender</th>\n",
       "      <th></th>\n",
       "    </tr>\n",
       "  </thead>\n",
       "  <tbody>\n",
       "    <tr>\n",
       "      <th>Female</th>\n",
       "      <td>0.250715</td>\n",
       "    </tr>\n",
       "    <tr>\n",
       "      <th>Male</th>\n",
       "      <td>0.164559</td>\n",
       "    </tr>\n",
       "  </tbody>\n",
       "</table>\n",
       "</div>"
      ],
      "text/plain": [
       "            mean\n",
       "          Exited\n",
       "Gender          \n",
       "Female  0.250715\n",
       "Male    0.164559"
      ]
     },
     "metadata": {},
     "output_type": "display_data"
    }
   ],
   "source": [
    "display(data.pivot_table( values = 'Exited', index = 'Gender', aggfunc = ['mean']))"
   ]
  },
  {
   "cell_type": "markdown",
   "metadata": {},
   "source": [
    "**Вывод** \n",
    "* Отток клиентов женского пола весомо больше мужского.\n",
    "* Т.к. явных ошибок не обнаружени - оставим данные 'Gender' без изменений."
   ]
  },
  {
   "cell_type": "markdown",
   "metadata": {},
   "source": [
    "#### **Age**"
   ]
  },
  {
   "cell_type": "markdown",
   "metadata": {},
   "source": [
    "Age — возраст клиента"
   ]
  },
  {
   "cell_type": "code",
   "execution_count": 317,
   "metadata": {},
   "outputs": [
    {
     "name": "stdout",
     "output_type": "stream",
     "text": [
      "count    10000.000000\n",
      "mean        38.921800\n",
      "std         10.487806\n",
      "min         18.000000\n",
      "25%         32.000000\n",
      "50%         37.000000\n",
      "75%         44.000000\n",
      "max         92.000000\n",
      "Name: Age, dtype: float64\n"
     ]
    },
    {
     "data": {
      "image/png": "[encoded data removed]",
      "text/plain": [
       "<Figure size 1200x800 with 1 Axes>"
      ]
     },
     "metadata": {},
     "output_type": "display_data"
    }
   ],
   "source": [
    "data['Age'].hist(bins = 74, color = 'silver', figsize = (12,8))\n",
    "print(data['Age'].describe())"
   ]
  },
  {
   "cell_type": "code",
   "execution_count": 318,
   "metadata": {},
   "outputs": [
    {
     "data": {
      "text/plain": [
       "<Axes: ylabel='Age'>"
      ]
     },
     "execution_count": 318,
     "metadata": {},
     "output_type": "execute_result"
    },
    {
     "data": {
      "image/png": "[encoded data removed]",
      "text/plain": [
       "<Figure size 640x480 with 1 Axes>"
      ]
     },
     "metadata": {},
     "output_type": "display_data"
    }
   ],
   "source": [
    "sns.boxplot(y = 'Age', data = data, color = 'silver')"
   ]
  },
  {
   "cell_type": "code",
   "execution_count": 319,
   "metadata": {},
   "outputs": [
    {
     "data": {
      "text/plain": [
       "dtype('int64')"
      ]
     },
     "execution_count": 319,
     "metadata": {},
     "output_type": "execute_result"
    }
   ],
   "source": [
    "data['Age'].dtypes"
   ]
  },
  {
   "cell_type": "markdown",
   "metadata": {},
   "source": [
    "**Вывод** - аномальноых значений возраста нету, что оставляет столбец без изменений."
   ]
  },
  {
   "cell_type": "markdown",
   "metadata": {},
   "source": [
    "#### Tenure"
   ]
  },
  {
   "cell_type": "markdown",
   "metadata": {},
   "source": [
    "Tenure — сколько лет человек является клиентом банка. "
   ]
  },
  {
   "cell_type": "code",
   "execution_count": 320,
   "metadata": {},
   "outputs": [
    {
     "data": {
      "text/plain": [
       "count    10000.000000\n",
       "mean         4.992700\n",
       "std          2.891588\n",
       "min          0.000000\n",
       "25%          2.000000\n",
       "50%          5.000000\n",
       "75%          7.000000\n",
       "max         10.000000\n",
       "Name: Tenure, dtype: float64"
      ]
     },
     "execution_count": 320,
     "metadata": {},
     "output_type": "execute_result"
    },
    {
     "data": {
      "image/png": "[encoded data removed]",
      "text/plain": [
       "<Figure size 640x480 with 1 Axes>"
      ]
     },
     "metadata": {},
     "output_type": "display_data"
    }
   ],
   "source": [
    "data['Tenure'].hist(bins = 11, color = 'silver')\n",
    "data['Tenure'].describe()"
   ]
  },
  {
   "cell_type": "code",
   "execution_count": 321,
   "metadata": {},
   "outputs": [
    {
     "data": {
      "text/plain": [
       "Tenure\n",
       "2.0     1063\n",
       "1.0     1039\n",
       "8.0     1032\n",
       "3.0     1029\n",
       "7.0     1028\n",
       "5.0     1028\n",
       "6.0      963\n",
       "4.0      955\n",
       "9.0      955\n",
       "10.0     489\n",
       "0.0      419\n",
       "Name: count, dtype: int64"
      ]
     },
     "execution_count": 321,
     "metadata": {},
     "output_type": "execute_result"
    }
   ],
   "source": [
    "data['Tenure'].value_counts()"
   ]
  },
  {
   "cell_type": "code",
   "execution_count": 322,
   "metadata": {},
   "outputs": [
    {
     "data": {
      "text/plain": [
       "dtype('float64')"
      ]
     },
     "execution_count": 322,
     "metadata": {},
     "output_type": "execute_result"
    }
   ],
   "source": [
    "data['Tenure'].dtype"
   ]
  },
  {
   "cell_type": "markdown",
   "metadata": {},
   "source": [
    "**Приведём данные к целочисленному виду, ввиду отсутствия дробных интервалов.**"
   ]
  },
  {
   "cell_type": "code",
   "execution_count": 323,
   "metadata": {},
   "outputs": [
    {
     "data": {
      "text/plain": [
       "dtype('int32')"
      ]
     },
     "execution_count": 323,
     "metadata": {},
     "output_type": "execute_result"
    }
   ],
   "source": [
    "data['Tenure'] = data['Tenure'].astype(int)\n",
    "data['Tenure'].dtype"
   ]
  },
  {
   "cell_type": "markdown",
   "metadata": {},
   "source": [
    "**Вывод** - Единственное, оправданное изменение - изменения типа данных."
   ]
  },
  {
   "cell_type": "markdown",
   "metadata": {},
   "source": [
    "#### Balance "
   ]
  },
  {
   "cell_type": "markdown",
   "metadata": {},
   "source": [
    "Balance — баланс на счёте клиента."
   ]
  },
  {
   "cell_type": "code",
   "execution_count": 324,
   "metadata": {},
   "outputs": [
    {
     "name": "stdout",
     "output_type": "stream",
     "text": [
      "count     10000.000000\n",
      "mean      76485.889288\n",
      "std       62397.405202\n",
      "min           0.000000\n",
      "25%           0.000000\n",
      "50%       97198.540000\n",
      "75%      127644.240000\n",
      "max      250898.090000\n",
      "Name: Balance, dtype: float64\n"
     ]
    },
    {
     "data": {
      "text/plain": [
       "<Axes: >"
      ]
     },
     "execution_count": 324,
     "metadata": {},
     "output_type": "execute_result"
    },
    {
     "data": {
      "image/png": "[encoded data removed]",
      "text/plain": [
       "<Figure size 640x480 with 1 Axes>"
      ]
     },
     "metadata": {},
     "output_type": "display_data"
    }
   ],
   "source": [
    "print(data['Balance'].describe())\n",
    "data['Balance'].hist(color = 'silver')"
   ]
  },
  {
   "cell_type": "code",
   "execution_count": 325,
   "metadata": {},
   "outputs": [
    {
     "data": {
      "text/plain": [
       "<Axes: ylabel='Balance'>"
      ]
     },
     "execution_count": 325,
     "metadata": {},
     "output_type": "execute_result"
    },
    {
     "data": {
      "image/png": "[encoded data removed]",
      "text/plain": [
       "<Figure size 640x480 with 1 Axes>"
      ]
     },
     "metadata": {},
     "output_type": "display_data"
    }
   ],
   "source": [
    "sns.boxplot(y = 'Balance', data = data, color = 'silver')"
   ]
  },
  {
   "cell_type": "markdown",
   "metadata": {},
   "source": [
    "**Вывод** \n",
    "* Значительная часть клиентов банка имеет нулевой баланс.( Что в дальнейшем можно объяснить отсутствием у клиента банковской карты и, предположительно этого, счета)\n",
    "* Эти данные не имеют видимых аномалий и остаются без изменений."
   ]
  },
  {
   "cell_type": "markdown",
   "metadata": {},
   "source": [
    "#### NumOfProducts "
   ]
  },
  {
   "cell_type": "markdown",
   "metadata": {},
   "source": [
    "NumOfProducts — количество продуктов банка, используемых клиентом"
   ]
  },
  {
   "cell_type": "code",
   "execution_count": 326,
   "metadata": {},
   "outputs": [
    {
     "data": {
      "text/plain": [
       "NumOfProducts\n",
       "1    5084\n",
       "2    4590\n",
       "3     266\n",
       "4      60\n",
       "Name: count, dtype: int64"
      ]
     },
     "execution_count": 326,
     "metadata": {},
     "output_type": "execute_result"
    }
   ],
   "source": [
    "data['NumOfProducts'].value_counts()"
   ]
  },
  {
   "cell_type": "code",
   "execution_count": 327,
   "metadata": {},
   "outputs": [
    {
     "name": "stdout",
     "output_type": "stream",
     "text": [
      "count    10000.000000\n",
      "mean         1.530200\n",
      "std          0.581654\n",
      "min          1.000000\n",
      "25%          1.000000\n",
      "50%          1.000000\n",
      "75%          2.000000\n",
      "max          4.000000\n",
      "Name: NumOfProducts, dtype: float64\n"
     ]
    },
    {
     "data": {
      "text/plain": [
       "<Axes: >"
      ]
     },
     "execution_count": 327,
     "metadata": {},
     "output_type": "execute_result"
    },
    {
     "data": {
      "image/png": "[encoded data removed]",
      "text/plain": [
       "<Figure size 640x480 with 1 Axes>"
      ]
     },
     "metadata": {},
     "output_type": "display_data"
    }
   ],
   "source": [
    "print(data['NumOfProducts'].describe())\n",
    "data['NumOfProducts'].hist(color = 'silver', bins = 4)"
   ]
  },
  {
   "cell_type": "code",
   "execution_count": 328,
   "metadata": {},
   "outputs": [
    {
     "data": {
      "text/plain": [
       "<Axes: ylabel='NumOfProducts'>"
      ]
     },
     "execution_count": 328,
     "metadata": {},
     "output_type": "execute_result"
    },
    {
     "data": {
      "image/png": "[encoded data removed]",
      "text/plain": [
       "<Figure size 640x480 with 1 Axes>"
      ]
     },
     "metadata": {},
     "output_type": "display_data"
    }
   ],
   "source": [
    "sns.boxplot(y = 'NumOfProducts', data = data, color = 'silver')"
   ]
  },
  {
   "cell_type": "code",
   "execution_count": 329,
   "metadata": {},
   "outputs": [
    {
     "data": {
      "text/plain": [
       "dtype('int64')"
      ]
     },
     "execution_count": 329,
     "metadata": {},
     "output_type": "execute_result"
    }
   ],
   "source": [
    "data['NumOfProducts'].dtype\n"
   ]
  },
  {
   "cell_type": "markdown",
   "metadata": {},
   "source": [
    "**Вывод:** - Количество используемых продуктов банка клиентами не содержит видимых аномалий и остаётся без изменений."
   ]
  },
  {
   "cell_type": "markdown",
   "metadata": {},
   "source": [
    "#### HasCrCard "
   ]
  },
  {
   "cell_type": "markdown",
   "metadata": {},
   "source": [
    "HasCrCard — наличие кредитной карты банка у клиента"
   ]
  },
  {
   "cell_type": "code",
   "execution_count": 330,
   "metadata": {},
   "outputs": [
    {
     "data": {
      "text/plain": [
       "HasCrCard\n",
       "1    7055\n",
       "0    2945\n",
       "Name: count, dtype: int64"
      ]
     },
     "execution_count": 330,
     "metadata": {},
     "output_type": "execute_result"
    }
   ],
   "source": [
    "data['HasCrCard'].value_counts()"
   ]
  },
  {
   "cell_type": "code",
   "execution_count": 331,
   "metadata": {},
   "outputs": [
    {
     "data": {
      "text/plain": [
       "dtype('int64')"
      ]
     },
     "execution_count": 331,
     "metadata": {},
     "output_type": "execute_result"
    }
   ],
   "source": [
    "data['HasCrCard'].dtype"
   ]
  },
  {
   "cell_type": "markdown",
   "metadata": {},
   "source": [
    "**Вывод** - Отсутствие видимых аномалий. Данные остаются без изменений."
   ]
  },
  {
   "cell_type": "markdown",
   "metadata": {},
   "source": [
    "####  IsActiveMember "
   ]
  },
  {
   "cell_type": "markdown",
   "metadata": {},
   "source": [
    "IsActiveMember — активность клиента"
   ]
  },
  {
   "cell_type": "code",
   "execution_count": 332,
   "metadata": {},
   "outputs": [
    {
     "data": {
      "text/plain": [
       "IsActiveMember\n",
       "1    5151\n",
       "0    4849\n",
       "Name: count, dtype: int64"
      ]
     },
     "execution_count": 332,
     "metadata": {},
     "output_type": "execute_result"
    }
   ],
   "source": [
    "data['IsActiveMember'].value_counts()"
   ]
  },
  {
   "cell_type": "code",
   "execution_count": 333,
   "metadata": {},
   "outputs": [
    {
     "data": {
      "text/plain": [
       "dtype('int64')"
      ]
     },
     "execution_count": 333,
     "metadata": {},
     "output_type": "execute_result"
    }
   ],
   "source": [
    "data['IsActiveMember'].dtype"
   ]
  },
  {
   "cell_type": "markdown",
   "metadata": {},
   "source": [
    "**Вывод** - Нет точной информации, чем определено это значение. В нём нету четких аномалий и оно не требует изменения типа данных."
   ]
  },
  {
   "cell_type": "markdown",
   "metadata": {},
   "source": [
    "#### EstimatedSalary "
   ]
  },
  {
   "cell_type": "markdown",
   "metadata": {},
   "source": [
    "EstimatedSalary — предполагаемая зарплата клиента\n"
   ]
  },
  {
   "cell_type": "code",
   "execution_count": 334,
   "metadata": {},
   "outputs": [
    {
     "data": {
      "text/plain": [
       "count     10000.000000\n",
       "mean     100090.239881\n",
       "std       57510.492818\n",
       "min          11.580000\n",
       "25%       51002.110000\n",
       "50%      100193.915000\n",
       "75%      149388.247500\n",
       "max      199992.480000\n",
       "Name: EstimatedSalary, dtype: float64"
      ]
     },
     "execution_count": 334,
     "metadata": {},
     "output_type": "execute_result"
    }
   ],
   "source": [
    "data['EstimatedSalary'].describe()"
   ]
  },
  {
   "cell_type": "code",
   "execution_count": 335,
   "metadata": {},
   "outputs": [
    {
     "data": {
      "text/plain": [
       "<Axes: >"
      ]
     },
     "execution_count": 335,
     "metadata": {},
     "output_type": "execute_result"
    },
    {
     "data": {
      "image/png": "[encoded data removed]",
      "text/plain": [
       "<Figure size 640x480 with 1 Axes>"
      ]
     },
     "metadata": {},
     "output_type": "display_data"
    }
   ],
   "source": [
    "data['EstimatedSalary'].hist(color = 'silver')"
   ]
  },
  {
   "cell_type": "code",
   "execution_count": 336,
   "metadata": {},
   "outputs": [
    {
     "data": {
      "text/plain": [
       "<Axes: ylabel='EstimatedSalary'>"
      ]
     },
     "execution_count": 336,
     "metadata": {},
     "output_type": "execute_result"
    },
    {
     "data": {
      "image/png": "[encoded data removed]",
      "text/plain": [
       "<Figure size 640x480 with 1 Axes>"
      ]
     },
     "metadata": {},
     "output_type": "display_data"
    }
   ],
   "source": [
    "sns.boxplot(y = 'EstimatedSalary', data = data, color = 'silver')"
   ]
  },
  {
   "cell_type": "markdown",
   "metadata": {},
   "source": [
    "странно смотрятся значения ожидаемой минимальной зарплаты около 11 единиц( предположительно $)"
   ]
  },
  {
   "cell_type": "markdown",
   "metadata": {},
   "source": [
    "**Вывод** - мы не можем предсказать последовательность выводов которые привели к минимальному ожидаемому доходу, как не можем отрицать возможность такого исхода, притом, что общая совокупность выглядит нормально и не требует изменений."
   ]
  },
  {
   "cell_type": "markdown",
   "metadata": {},
   "source": [
    "#### **Exited | Целевой признак**\n"
   ]
  },
  {
   "cell_type": "markdown",
   "metadata": {},
   "source": [
    "Exited — факт ухода клиента\n"
   ]
  },
  {
   "cell_type": "code",
   "execution_count": 337,
   "metadata": {
    "scrolled": true
   },
   "outputs": [
    {
     "data": {
      "text/plain": [
       "Exited\n",
       "0    7963\n",
       "1    2037\n",
       "Name: count, dtype: int64"
      ]
     },
     "execution_count": 337,
     "metadata": {},
     "output_type": "execute_result"
    }
   ],
   "source": [
    "data['Exited'].value_counts()"
   ]
  },
  {
   "cell_type": "code",
   "execution_count": 338,
   "metadata": {},
   "outputs": [
    {
     "data": {
      "text/plain": [
       "Exited\n",
       "0    0.7963\n",
       "1    0.2037\n",
       "Name: proportion, dtype: float64"
      ]
     },
     "execution_count": 338,
     "metadata": {},
     "output_type": "execute_result"
    }
   ],
   "source": [
    "data['Exited'].value_counts(normalize = True)"
   ]
  },
  {
   "cell_type": "markdown",
   "metadata": {},
   "source": [
    "* **Целевой признак обозначен двумя значениями и харрактеризует дальнейшую работу как задачу бинарной классфикации.**"
   ]
  },
  {
   "cell_type": "markdown",
   "metadata": {},
   "source": [
    "* **Дисбаланс признаков даёт нам представление о константной модели, которая применяясь к несбалансированным данным могла бы выдавать точность близкую к 80%**"
   ]
  },
  {
   "cell_type": "markdown",
   "metadata": {},
   "source": [
    "## Исследование задачи"
   ]
  },
  {
   "cell_type": "markdown",
   "metadata": {},
   "source": [
    "**Задача представляет из себя бинарную классификацию, под которую,в дальнейшим, будет подбираться модель**"
   ]
  },
  {
   "cell_type": "markdown",
   "metadata": {},
   "source": [
    "### **Подготовка выборки**"
   ]
  },
  {
   "cell_type": "markdown",
   "metadata": {},
   "source": [
    "Преобразование признаков:"
   ]
  },
  {
   "cell_type": "markdown",
   "metadata": {},
   "source": [
    "### **Кодирование признаков**"
   ]
  },
  {
   "cell_type": "code",
   "execution_count": 339,
   "metadata": {},
   "outputs": [],
   "source": [
    "data = pd.get_dummies(data, columns = ['Geography', 'Gender'], drop_first = True)"
   ]
  },
  {
   "cell_type": "code",
   "execution_count": 340,
   "metadata": {},
   "outputs": [],
   "source": [
    "features = data.drop('Exited', axis = 1)\n",
    "target = data['Exited']"
   ]
  },
  {
   "cell_type": "markdown",
   "metadata": {},
   "source": [
    "Разбиение выборки на **обучающую / валидационную / тестовую**\n",
    "\n",
    "Выбрано соотношение 6:2:2, ввиду отсутствия скрытой тестовой выборки."
   ]
  },
  {
   "cell_type": "code",
   "execution_count": 341,
   "metadata": {},
   "outputs": [],
   "source": [
    "features_train, features_valid, target_train, target_valid = train_test_split(\n",
    "    features, target, test_size = 0.4, random_state = 12345)\n",
    "features_valid, features_test, target_valid, target_test = train_test_split(\n",
    "    features_valid, target_valid, test_size = 0.5, random_state = 12345)"
   ]
  },
  {
   "cell_type": "code",
   "execution_count": 342,
   "metadata": {},
   "outputs": [
    {
     "name": "stdout",
     "output_type": "stream",
     "text": [
      "Размеры выборок для обучения и тестов: \n",
      "\n",
      "Обучающая(признаки) (6000, 11) Обучающая(целевой признак) (6000,) \n",
      "\n",
      "Валидационная(признаки) (2000, 11) Валидационная(целевой признак) (2000,) \n",
      "\n",
      "Тестовая(признаки) (2000, 11) Тестовая(целевой признак) (2000,) \n",
      "\n"
     ]
    }
   ],
   "source": [
    "print('Размеры выборок для обучения и тестов:', '\\n')\n",
    "print('Обучающая(признаки)', features_train.shape, 'Обучающая(целевой признак)', target_train.shape, '\\n')\n",
    "print('Валидационная(признаки)', features_valid.shape, 'Валидационная(целевой признак)', target_valid.shape, '\\n')\n",
    "print('Тестовая(признаки)', features_test.shape, 'Тестовая(целевой признак)', target_test.shape, '\\n')\n"
   ]
  },
  {
   "cell_type": "markdown",
   "metadata": {},
   "source": [
    "### Обучение моделей без внимания к дисбалансу классов "
   ]
  },
  {
   "cell_type": "markdown",
   "metadata": {},
   "source": [
    "**У каждой модели будем просмотривать f1 метрику, порог значения которой необходимо преодолеть**"
   ]
  },
  {
   "cell_type": "markdown",
   "metadata": {},
   "source": [
    "#### DecisionTreeClassifier"
   ]
  },
  {
   "cell_type": "code",
   "execution_count": 343,
   "metadata": {},
   "outputs": [
    {
     "name": "stdout",
     "output_type": "stream",
     "text": [
      "DecisionTreeClassifier(max_depth=4, random_state=12345) \n",
      " f1 0.5528700906344411\n"
     ]
    }
   ],
   "source": [
    "best_model_dtc = None\n",
    "best_result_dtc = 0\n",
    "\n",
    "\n",
    "for depth in range(1, 6):\n",
    "    model = DecisionTreeClassifier(random_state=12345, max_depth=depth ) \n",
    "    model.fit(features_train, target_train) \n",
    "    predicted = model.predict(features_valid) \n",
    "    result_f1 = f1_score(target_valid, predicted)\n",
    "    if result_f1 > best_result_dtc:\n",
    "        best_model_dtc = model\n",
    "        best_result_dtc = result_f1\n",
    "        \n",
    "print(best_model_dtc,'\\n','f1',best_result_dtc)\n",
    "\n"
   ]
  },
  {
   "cell_type": "code",
   "execution_count": 344,
   "metadata": {},
   "outputs": [
    {
     "name": "stdout",
     "output_type": "stream",
     "text": [
      "accuracy 0.8495\n",
      "f1 0.5766526019690578\n",
      "auc_roc 0.7806105166375311\n",
      "CPU times: total: 31.2 ms\n",
      "Wall time: 29.6 ms\n"
     ]
    }
   ],
   "source": [
    "%%time \n",
    "\n",
    "model = DecisionTreeClassifier(random_state = 12345, max_depth = 9)\n",
    "model.fit(features_train, target_train)\n",
    "predicted = model.predict(features_valid)\n",
    "print('accuracy', accuracy_score(target_valid, predicted))\n",
    "print('f1', f1_score(target_valid, predicted))\n",
    "\n",
    "probabilities = model.predict_proba(features_valid)\n",
    "probabilities_one_valid = probabilities[:,1]\n",
    "print('auc_roc', roc_auc_score(target_valid, probabilities_one_valid))"
   ]
  },
  {
   "cell_type": "markdown",
   "metadata": {},
   "source": [
    "#### **RandomForestClassifier**"
   ]
  },
  {
   "cell_type": "code",
   "execution_count": 345,
   "metadata": {},
   "outputs": [
    {
     "name": "stdout",
     "output_type": "stream",
     "text": [
      "RandomForestClassifier(max_depth=11, n_estimators=21, random_state=12345) \n",
      " f1 0.5813253012048193\n"
     ]
    }
   ],
   "source": [
    "best_model_rfc = None\n",
    "best_result_rfc = 0\n",
    "\n",
    "for est in range(1,50,5):\n",
    "    for depth in range(1,12):\n",
    "        model = RandomForestClassifier(random_state = 12345, n_estimators = est, max_depth = depth)\n",
    "        model.fit(features_train, target_train)\n",
    "        predicted = model.predict(features_valid)\n",
    "        result_f1 = f1_score(target_valid, predicted)\n",
    "        if result_f1 > best_result_rfc:\n",
    "            best_model_rfc = model\n",
    "            best_result_rfc = result_f1\n",
    "        \n",
    "print(best_model_rfc,'\\n','f1', best_result_rfc)"
   ]
  },
  {
   "cell_type": "code",
   "execution_count": 346,
   "metadata": {},
   "outputs": [
    {
     "name": "stdout",
     "output_type": "stream",
     "text": [
      "score 0.8615\n",
      "f1 0.5624012638230648\n",
      "auc_roc 0.8489329720116864\n",
      "CPU times: total: 359 ms\n",
      "Wall time: 350 ms\n"
     ]
    }
   ],
   "source": [
    "%%time\n",
    "\n",
    "model = RandomForestClassifier(random_state = 12345, n_estimators = 46, max_depth = 10)\n",
    "model.fit(features_train, target_train)\n",
    "predicted = model.predict(features_valid)\n",
    "print('score',  model.score(features_valid, target_valid))\n",
    "print('f1', f1_score(target_valid, predicted))\n",
    "\n",
    "probabilities = model.predict_proba(features_valid)\n",
    "probabilities_one_valid = probabilities[:,1]\n",
    "print('auc_roc', roc_auc_score(target_valid, probabilities_one_valid))"
   ]
  },
  {
   "cell_type": "code",
   "execution_count": 347,
   "metadata": {},
   "outputs": [
    {
     "data": {
      "text/plain": [
       "Text(0.5, 1.0, 'ROC-кривая')"
      ]
     },
     "execution_count": 347,
     "metadata": {},
     "output_type": "execute_result"
    },
    {
     "data": {
      "image/png": "[encoded data removed]",
      "text/plain": [
       "<Figure size 640x480 with 1 Axes>"
      ]
     },
     "metadata": {},
     "output_type": "display_data"
    }
   ],
   "source": [
    "fpr, tpr, thresholds = roc_curve(target_valid, probabilities_one_valid) \n",
    "plt.figure()\n",
    "plt.plot(fpr,tpr)\n",
    "plt.plot([0, 1], [0, 1], linestyle='--')\n",
    "plt.xlim([0.0,1.0])\n",
    "plt.ylim([0.0, 1.0])\n",
    "plt.xlabel('False Positive Rate')\n",
    "plt.ylabel('True Positive Rate')\n",
    "plt.title('ROC-кривая')"
   ]
  },
  {
   "cell_type": "markdown",
   "metadata": {},
   "source": [
    "#### LogisticRegression "
   ]
  },
  {
   "cell_type": "code",
   "execution_count": 348,
   "metadata": {},
   "outputs": [
    {
     "ename": "NameError",
     "evalue": "name 'features_validп' is not defined",
     "output_type": "error",
     "traceback": [
      "\u001b[1;31m---------------------------------------------------------------------------\u001b[0m",
      "\u001b[1;31mNameError\u001b[0m                                 Traceback (most recent call last)",
      "File \u001b[1;32m<timed exec>:4\u001b[0m, in \u001b[0;36m<module>\u001b[1;34m\u001b[0m\n",
      "\u001b[1;31mNameError\u001b[0m: name 'features_validп' is not defined"
     ]
    }
   ],
   "source": [
    "%%time\n",
    "\n",
    "model = LogisticRegression(random_state = 12345, solver = 'liblinear')\n",
    "model.fit(features_train, target_train)\n",
    "predicted = model.predict(features_valid)\n",
    "print('score', model.score(features_validп, target_valid))\n",
    "print('f1', f1_score(target_valid, predicted))\n",
    "\n",
    "probabilities = model.predict_proba(features_valid)\n",
    "probabilities_one_valid = probabilities[:,1]\n",
    "print('auc_roc', roc_auc_score(target_valid, probabilities_one_valid))"
   ]
  },
  {
   "cell_type": "markdown",
   "metadata": {},
   "source": [
    "#### CONST"
   ]
  },
  {
   "cell_type": "code",
   "execution_count": 349,
   "metadata": {},
   "outputs": [
    {
     "name": "stdout",
     "output_type": "stream",
     "text": [
      "score 0.791\n",
      "f1 0.0\n"
     ]
    }
   ],
   "source": [
    "target_pred_constant = pd.Series([0]* len(features_valid))\n",
    "print('score', accuracy_score(target_valid, target_pred_constant))\n",
    "print('f1', f1_score(target_valid, target_pred_constant))"
   ]
  },
  {
   "cell_type": "code",
   "execution_count": 350,
   "metadata": {},
   "outputs": [
    {
     "name": "stdout",
     "output_type": "stream",
     "text": [
      "score 0.209\n",
      "f1 0.3457402812241522\n"
     ]
    }
   ],
   "source": [
    "target_pred_constant = pd.Series([1]* len(features_valid))\n",
    "print('score', accuracy_score(target_valid, target_pred_constant))\n",
    "print('f1', f1_score(target_valid, target_pred_constant))"
   ]
  },
  {
   "cell_type": "markdown",
   "metadata": {},
   "source": [
    "### **Вывод по первому исследованию задачи:**"
   ]
  },
  {
   "cell_type": "markdown",
   "metadata": {},
   "source": [
    "* Лучше всех показала себя модель: DecisionTreeClassifier(random_state = 12345, max_depth = 9)\n",
    "* Все модели показали недостаточность значений f1 меры.\n",
    "* Для улучшения отношений точности и полноты, в дальнейших исследованиях, будет обработан дисбаланс классов:"
   ]
  }
 ],
 "metadata": {
  "ExecuteTimeLog": [
   {
    "duration": 639,
    "start_time": "2023-03-23T13:50:14.995Z"
   },
   {
    "duration": 2,
    "start_time": "2023-03-23T13:50:36.646Z"
   },
   {
    "duration": 46,
    "start_time": "2023-03-23T13:50:37.391Z"
   },
   {
    "duration": 82,
    "start_time": "2023-03-23T13:53:07.683Z"
   },
   {
    "duration": 24,
    "start_time": "2023-03-23T13:53:14.377Z"
   },
   {
    "duration": 28,
    "start_time": "2023-03-23T13:53:26.217Z"
   },
   {
    "duration": 21,
    "start_time": "2023-03-23T13:53:31.900Z"
   },
   {
    "duration": 30,
    "start_time": "2023-03-23T14:02:43.607Z"
   },
   {
    "duration": 9,
    "start_time": "2023-03-23T14:03:03.083Z"
   },
   {
    "duration": 12,
    "start_time": "2023-03-23T14:11:36.484Z"
   },
   {
    "duration": 9,
    "start_time": "2023-03-23T14:11:45.842Z"
   },
   {
    "duration": 5,
    "start_time": "2023-03-23T14:12:01.117Z"
   },
   {
    "duration": 5,
    "start_time": "2023-03-23T14:12:44.479Z"
   },
   {
    "duration": 5,
    "start_time": "2023-03-23T14:13:02.764Z"
   },
   {
    "duration": 984,
    "start_time": "2023-03-23T14:17:26.581Z"
   },
   {
    "duration": 47,
    "start_time": "2023-03-23T14:19:17.240Z"
   },
   {
    "duration": 371,
    "start_time": "2023-03-23T14:19:25.801Z"
   },
   {
    "duration": 95,
    "start_time": "2023-03-23T14:22:04.906Z"
   },
   {
    "duration": 112,
    "start_time": "2023-03-23T14:23:10.370Z"
   },
   {
    "duration": 293,
    "start_time": "2023-03-23T14:26:06.118Z"
   },
   {
    "duration": 74,
    "start_time": "2023-03-23T14:27:37.876Z"
   },
   {
    "duration": 42,
    "start_time": "2023-03-23T14:27:52.914Z"
   },
   {
    "duration": 12,
    "start_time": "2023-03-23T14:31:04.887Z"
   },
   {
    "duration": 5,
    "start_time": "2023-03-23T14:31:30.494Z"
   },
   {
    "duration": 12,
    "start_time": "2023-03-23T14:31:37.084Z"
   },
   {
    "duration": 9,
    "start_time": "2023-03-23T14:31:44.660Z"
   },
   {
    "duration": 3,
    "start_time": "2023-03-23T14:33:21.454Z"
   },
   {
    "duration": 7,
    "start_time": "2023-03-23T14:33:27.080Z"
   },
   {
    "duration": 3,
    "start_time": "2023-03-23T14:33:53.938Z"
   },
   {
    "duration": 8,
    "start_time": "2023-03-23T14:33:55.261Z"
   },
   {
    "duration": 5,
    "start_time": "2023-03-23T14:34:22.964Z"
   },
   {
    "duration": 5,
    "start_time": "2023-03-23T14:34:48.134Z"
   },
   {
    "duration": 6,
    "start_time": "2023-03-23T14:35:05.850Z"
   },
   {
    "duration": 309,
    "start_time": "2023-03-23T14:36:27.998Z"
   },
   {
    "duration": 9,
    "start_time": "2023-03-23T14:47:59.480Z"
   },
   {
    "duration": 18,
    "start_time": "2023-03-23T14:48:04.647Z"
   },
   {
    "duration": 27,
    "start_time": "2023-03-23T14:48:10.135Z"
   },
   {
    "duration": 84,
    "start_time": "2023-03-23T14:49:32.585Z"
   },
   {
    "duration": 22,
    "start_time": "2023-03-23T14:49:36.649Z"
   },
   {
    "duration": 83,
    "start_time": "2023-03-23T14:50:15.333Z"
   },
   {
    "duration": 21,
    "start_time": "2023-03-23T14:50:19.486Z"
   },
   {
    "duration": 106,
    "start_time": "2023-03-23T14:50:27.825Z"
   },
   {
    "duration": 27,
    "start_time": "2023-03-23T14:50:47.412Z"
   },
   {
    "duration": 44,
    "start_time": "2023-03-23T14:51:35.500Z"
   },
   {
    "duration": 22,
    "start_time": "2023-03-23T14:51:41.010Z"
   },
   {
    "duration": 32,
    "start_time": "2023-03-23T15:05:52.480Z"
   },
   {
    "duration": 22,
    "start_time": "2023-03-23T15:09:41.815Z"
   },
   {
    "duration": 14,
    "start_time": "2023-03-23T15:10:34.605Z"
   },
   {
    "duration": 166,
    "start_time": "2023-03-23T15:13:23.167Z"
   },
   {
    "duration": 139,
    "start_time": "2023-03-23T15:13:32.254Z"
   },
   {
    "duration": 159,
    "start_time": "2023-03-23T15:13:36.730Z"
   },
   {
    "duration": 183,
    "start_time": "2023-03-23T15:14:03.964Z"
   },
   {
    "duration": 183,
    "start_time": "2023-03-23T15:14:27.064Z"
   },
   {
    "duration": 167,
    "start_time": "2023-03-23T15:14:36.625Z"
   },
   {
    "duration": 16,
    "start_time": "2023-03-23T15:14:41.458Z"
   },
   {
    "duration": 13,
    "start_time": "2023-03-23T15:14:55.461Z"
   },
   {
    "duration": 14,
    "start_time": "2023-03-23T15:15:00.820Z"
   },
   {
    "duration": 20,
    "start_time": "2023-03-23T15:15:13.380Z"
   },
   {
    "duration": 4,
    "start_time": "2023-03-23T15:24:10.374Z"
   },
   {
    "duration": 281,
    "start_time": "2023-03-23T15:24:22.881Z"
   },
   {
    "duration": 272,
    "start_time": "2023-03-23T15:25:19.229Z"
   },
   {
    "duration": 287,
    "start_time": "2023-03-23T15:25:31.317Z"
   },
   {
    "duration": 278,
    "start_time": "2023-03-23T15:25:44.143Z"
   },
   {
    "duration": 276,
    "start_time": "2023-03-23T15:26:03.612Z"
   },
   {
    "duration": 397,
    "start_time": "2023-03-23T15:26:08.261Z"
   },
   {
    "duration": 5,
    "start_time": "2023-03-23T15:28:14.494Z"
   },
   {
    "duration": 9,
    "start_time": "2023-03-23T15:28:58.105Z"
   },
   {
    "duration": 13,
    "start_time": "2023-03-23T15:30:22.821Z"
   },
   {
    "duration": 19,
    "start_time": "2023-03-23T15:35:27.314Z"
   },
   {
    "duration": 11,
    "start_time": "2023-03-23T15:35:54.147Z"
   },
   {
    "duration": 7,
    "start_time": "2023-03-23T15:36:30.116Z"
   },
   {
    "duration": 5,
    "start_time": "2023-03-23T15:36:36.907Z"
   },
   {
    "duration": 4,
    "start_time": "2023-03-23T15:37:14.816Z"
   },
   {
    "duration": 9,
    "start_time": "2023-03-23T15:37:21.454Z"
   },
   {
    "duration": 5,
    "start_time": "2023-03-23T15:37:30.329Z"
   },
   {
    "duration": 6,
    "start_time": "2023-03-23T15:38:43.224Z"
   },
   {
    "duration": 20,
    "start_time": "2023-03-23T15:38:49.785Z"
   },
   {
    "duration": 6,
    "start_time": "2023-03-23T15:39:00.284Z"
   },
   {
    "duration": 5,
    "start_time": "2023-03-23T15:39:35.679Z"
   },
   {
    "duration": 3,
    "start_time": "2023-03-23T15:39:41.076Z"
   },
   {
    "duration": 5,
    "start_time": "2023-03-23T15:39:45.416Z"
   },
   {
    "duration": 6,
    "start_time": "2023-03-23T15:39:50.825Z"
   },
   {
    "duration": 5,
    "start_time": "2023-03-23T15:40:00.680Z"
   },
   {
    "duration": 6,
    "start_time": "2023-03-23T15:40:08.500Z"
   },
   {
    "duration": 8,
    "start_time": "2023-03-23T15:41:21.568Z"
   },
   {
    "duration": 7,
    "start_time": "2023-03-23T15:41:26.503Z"
   },
   {
    "duration": 25,
    "start_time": "2023-03-23T15:43:30.270Z"
   },
   {
    "duration": 7,
    "start_time": "2023-03-23T15:43:41.107Z"
   },
   {
    "duration": 13,
    "start_time": "2023-03-23T15:43:48.857Z"
   },
   {
    "duration": 24,
    "start_time": "2023-03-23T15:43:57.567Z"
   },
   {
    "duration": 43,
    "start_time": "2023-03-23T15:44:02.453Z"
   },
   {
    "duration": 22,
    "start_time": "2023-03-23T15:44:06.965Z"
   },
   {
    "duration": 8,
    "start_time": "2023-03-23T15:44:21.578Z"
   },
   {
    "duration": 5,
    "start_time": "2023-03-23T15:44:28.139Z"
   },
   {
    "duration": 13,
    "start_time": "2023-03-23T15:44:35.953Z"
   },
   {
    "duration": 12,
    "start_time": "2023-03-23T15:44:48.533Z"
   },
   {
    "duration": 2,
    "start_time": "2023-03-23T15:45:37.477Z"
   },
   {
    "duration": 63,
    "start_time": "2023-03-23T15:45:37.481Z"
   },
   {
    "duration": 24,
    "start_time": "2023-03-23T15:45:37.546Z"
   },
   {
    "duration": 10,
    "start_time": "2023-03-23T15:45:37.572Z"
   },
   {
    "duration": 281,
    "start_time": "2023-03-23T15:45:37.583Z"
   },
   {
    "duration": 34,
    "start_time": "2023-03-23T15:45:37.866Z"
   },
   {
    "duration": 20,
    "start_time": "2023-03-23T15:45:37.904Z"
   },
   {
    "duration": 4,
    "start_time": "2023-03-23T15:45:37.926Z"
   },
   {
    "duration": 289,
    "start_time": "2023-03-23T15:45:37.932Z"
   },
   {
    "duration": 12,
    "start_time": "2023-03-23T15:45:38.223Z"
   },
   {
    "duration": 5,
    "start_time": "2023-03-23T15:45:38.237Z"
   },
   {
    "duration": 7,
    "start_time": "2023-03-23T15:45:38.243Z"
   },
   {
    "duration": 4,
    "start_time": "2023-03-23T15:45:38.252Z"
   },
   {
    "duration": 48,
    "start_time": "2023-03-23T15:45:38.257Z"
   },
   {
    "duration": 94,
    "start_time": "2023-03-23T15:47:40.140Z"
   },
   {
    "duration": 1408,
    "start_time": "2023-03-23T15:48:08.404Z"
   },
   {
    "duration": 6,
    "start_time": "2023-03-23T15:48:26.235Z"
   },
   {
    "duration": 6,
    "start_time": "2023-03-23T15:48:31.106Z"
   },
   {
    "duration": 8,
    "start_time": "2023-03-23T15:50:25.416Z"
   },
   {
    "duration": 6,
    "start_time": "2023-03-23T15:50:30.148Z"
   },
   {
    "duration": 18,
    "start_time": "2023-03-23T15:55:28.731Z"
   },
   {
    "duration": 1415,
    "start_time": "2023-03-23T16:20:56.464Z"
   },
   {
    "duration": 5,
    "start_time": "2023-03-23T16:21:05.061Z"
   },
   {
    "duration": 13,
    "start_time": "2023-03-23T16:21:42.507Z"
   },
   {
    "duration": 81,
    "start_time": "2023-03-23T16:28:00.594Z"
   },
   {
    "duration": 19,
    "start_time": "2023-03-23T16:29:32.010Z"
   },
   {
    "duration": 13,
    "start_time": "2023-03-23T16:32:20.608Z"
   },
   {
    "duration": 9,
    "start_time": "2023-03-23T16:32:44.826Z"
   },
   {
    "duration": 15,
    "start_time": "2023-03-23T16:33:45.899Z"
   },
   {
    "duration": 11,
    "start_time": "2023-03-23T16:33:49.784Z"
   },
   {
    "duration": 118,
    "start_time": "2023-03-23T16:33:53.643Z"
   },
   {
    "duration": 99,
    "start_time": "2023-03-23T16:34:26.774Z"
   },
   {
    "duration": 199,
    "start_time": "2023-03-23T16:36:02.654Z"
   },
   {
    "duration": 9,
    "start_time": "2023-03-23T16:46:34.354Z"
   },
   {
    "duration": 8,
    "start_time": "2023-03-23T16:46:46.551Z"
   },
   {
    "duration": 18,
    "start_time": "2023-03-23T16:47:55.546Z"
   },
   {
    "duration": 81,
    "start_time": "2023-03-23T16:48:18.342Z"
   },
   {
    "duration": 19,
    "start_time": "2023-03-23T16:49:21.819Z"
   },
   {
    "duration": 18,
    "start_time": "2023-03-23T16:49:34.717Z"
   },
   {
    "duration": 22,
    "start_time": "2023-03-23T16:49:38.126Z"
   },
   {
    "duration": 16,
    "start_time": "2023-03-23T16:50:02.348Z"
   },
   {
    "duration": 24,
    "start_time": "2023-03-23T16:50:09.762Z"
   },
   {
    "duration": 25,
    "start_time": "2023-03-23T16:50:48.129Z"
   },
   {
    "duration": 27,
    "start_time": "2023-03-23T16:51:14.243Z"
   },
   {
    "duration": 21,
    "start_time": "2023-03-23T16:51:59.370Z"
   },
   {
    "duration": 23,
    "start_time": "2023-03-23T16:52:14.055Z"
   },
   {
    "duration": 31,
    "start_time": "2023-03-23T16:52:32.313Z"
   },
   {
    "duration": 16,
    "start_time": "2023-03-23T16:53:02.134Z"
   },
   {
    "duration": 16,
    "start_time": "2023-03-23T16:53:39.865Z"
   },
   {
    "duration": 1300,
    "start_time": "2023-03-23T16:55:27.848Z"
   },
   {
    "duration": 1439,
    "start_time": "2023-03-23T16:55:43.186Z"
   },
   {
    "duration": 117,
    "start_time": "2023-03-23T16:55:59.856Z"
   },
   {
    "duration": 147,
    "start_time": "2023-03-23T16:56:16.682Z"
   },
   {
    "duration": 5,
    "start_time": "2023-03-23T16:57:22.924Z"
   },
   {
    "duration": 5,
    "start_time": "2023-03-23T17:03:44.621Z"
   },
   {
    "duration": 5,
    "start_time": "2023-03-23T17:05:31.430Z"
   },
   {
    "duration": 22,
    "start_time": "2023-03-23T17:06:05.004Z"
   },
   {
    "duration": 14,
    "start_time": "2023-03-23T17:06:40.534Z"
   },
   {
    "duration": 9,
    "start_time": "2023-03-23T17:07:14.921Z"
   },
   {
    "duration": 22,
    "start_time": "2023-03-23T17:07:35.478Z"
   },
   {
    "duration": 127,
    "start_time": "2023-03-23T17:08:06.322Z"
   },
   {
    "duration": 139,
    "start_time": "2023-03-23T17:08:19.617Z"
   },
   {
    "duration": 196,
    "start_time": "2023-03-23T17:08:27.807Z"
   },
   {
    "duration": 117,
    "start_time": "2023-03-23T17:08:41.010Z"
   },
   {
    "duration": 145,
    "start_time": "2023-03-23T17:08:53.380Z"
   },
   {
    "duration": 117,
    "start_time": "2023-03-23T17:08:57.144Z"
   },
   {
    "duration": 105,
    "start_time": "2023-03-23T17:09:02.060Z"
   },
   {
    "duration": 115,
    "start_time": "2023-03-23T17:23:13.027Z"
   },
   {
    "duration": 169,
    "start_time": "2023-03-23T17:33:30.305Z"
   },
   {
    "duration": 167,
    "start_time": "2023-03-23T17:33:52.907Z"
   },
   {
    "duration": 9,
    "start_time": "2023-03-23T17:36:08.263Z"
   },
   {
    "duration": 8,
    "start_time": "2023-03-23T17:36:30.238Z"
   },
   {
    "duration": 5,
    "start_time": "2023-03-23T17:36:35.182Z"
   },
   {
    "duration": 108,
    "start_time": "2023-03-23T17:38:51.576Z"
   },
   {
    "duration": 149,
    "start_time": "2023-03-23T17:40:54.407Z"
   },
   {
    "duration": 133,
    "start_time": "2023-03-23T17:41:02.435Z"
   },
   {
    "duration": 153,
    "start_time": "2023-03-23T17:41:11.083Z"
   },
   {
    "duration": 122,
    "start_time": "2023-03-23T17:41:15.960Z"
   },
   {
    "duration": 139,
    "start_time": "2023-03-23T17:41:24.415Z"
   },
   {
    "duration": 233,
    "start_time": "2023-03-23T17:42:09.814Z"
   },
   {
    "duration": 6,
    "start_time": "2023-03-23T17:42:29.232Z"
   },
   {
    "duration": 9,
    "start_time": "2023-03-23T17:44:26.529Z"
   },
   {
    "duration": 4,
    "start_time": "2023-03-23T17:44:29.922Z"
   },
   {
    "duration": 4,
    "start_time": "2023-03-23T17:44:50.293Z"
   },
   {
    "duration": 5,
    "start_time": "2023-03-23T17:44:59.542Z"
   },
   {
    "duration": 128,
    "start_time": "2023-03-23T17:46:15.910Z"
   },
   {
    "duration": 242,
    "start_time": "2023-03-23T17:46:34.407Z"
   },
   {
    "duration": 229,
    "start_time": "2023-03-23T17:46:45.834Z"
   },
   {
    "duration": 3,
    "start_time": "2023-03-23T17:46:53.613Z"
   },
   {
    "duration": 41,
    "start_time": "2023-03-23T17:46:53.619Z"
   },
   {
    "duration": 23,
    "start_time": "2023-03-23T17:46:53.661Z"
   },
   {
    "duration": 17,
    "start_time": "2023-03-23T17:46:53.686Z"
   },
   {
    "duration": 263,
    "start_time": "2023-03-23T17:46:53.705Z"
   },
   {
    "duration": 28,
    "start_time": "2023-03-23T17:46:53.970Z"
   },
   {
    "duration": 15,
    "start_time": "2023-03-23T17:46:53.999Z"
   },
   {
    "duration": 3,
    "start_time": "2023-03-23T17:46:54.016Z"
   },
   {
    "duration": 258,
    "start_time": "2023-03-23T17:46:54.020Z"
   },
   {
    "duration": 19,
    "start_time": "2023-03-23T17:46:54.280Z"
   },
   {
    "duration": 4,
    "start_time": "2023-03-23T17:46:54.301Z"
   },
   {
    "duration": 5,
    "start_time": "2023-03-23T17:46:54.307Z"
   },
   {
    "duration": 4,
    "start_time": "2023-03-23T17:46:54.314Z"
   },
   {
    "duration": 13,
    "start_time": "2023-03-23T17:46:54.319Z"
   },
   {
    "duration": 5,
    "start_time": "2023-03-23T17:46:54.334Z"
   },
   {
    "duration": 10,
    "start_time": "2023-03-23T17:46:54.341Z"
   },
   {
    "duration": 61,
    "start_time": "2023-03-23T17:46:54.353Z"
   },
   {
    "duration": 6,
    "start_time": "2023-03-23T17:46:54.416Z"
   },
   {
    "duration": 18,
    "start_time": "2023-03-23T17:46:54.424Z"
   },
   {
    "duration": 21,
    "start_time": "2023-03-23T17:46:54.444Z"
   },
   {
    "duration": 16,
    "start_time": "2023-03-23T17:46:54.467Z"
   },
   {
    "duration": 89,
    "start_time": "2023-03-23T17:46:54.484Z"
   },
   {
    "duration": 174,
    "start_time": "2023-03-23T17:46:54.575Z"
   },
   {
    "duration": 6,
    "start_time": "2023-03-23T17:46:54.750Z"
   },
   {
    "duration": 118,
    "start_time": "2023-03-23T17:46:54.757Z"
   },
   {
    "duration": 23,
    "start_time": "2023-03-23T17:46:54.877Z"
   },
   {
    "duration": 5,
    "start_time": "2023-03-23T17:46:54.902Z"
   },
   {
    "duration": 126,
    "start_time": "2023-03-23T17:46:54.909Z"
   },
   {
    "duration": 16,
    "start_time": "2023-03-23T17:46:55.036Z"
   },
   {
    "duration": 214,
    "start_time": "2023-03-23T17:46:55.054Z"
   },
   {
    "duration": 120,
    "start_time": "2023-03-23T17:46:55.270Z"
   },
   {
    "duration": 5,
    "start_time": "2023-03-23T17:46:55.392Z"
   },
   {
    "duration": 141,
    "start_time": "2023-03-23T17:46:55.399Z"
   },
   {
    "duration": 6,
    "start_time": "2023-03-23T17:46:55.541Z"
   },
   {
    "duration": 22,
    "start_time": "2023-03-23T17:46:55.548Z"
   },
   {
    "duration": 8,
    "start_time": "2023-03-23T17:46:55.571Z"
   },
   {
    "duration": 137,
    "start_time": "2023-03-23T17:49:24.618Z"
   },
   {
    "duration": 92,
    "start_time": "2023-03-23T17:49:58.383Z"
   },
   {
    "duration": 259,
    "start_time": "2023-03-23T17:50:18.731Z"
   },
   {
    "duration": 7,
    "start_time": "2023-03-23T17:53:31.287Z"
   },
   {
    "duration": 134,
    "start_time": "2023-03-23T17:54:10.254Z"
   },
   {
    "duration": 132,
    "start_time": "2023-03-23T17:54:18.532Z"
   },
   {
    "duration": 131,
    "start_time": "2023-03-23T17:54:23.860Z"
   },
   {
    "duration": 102,
    "start_time": "2023-03-23T17:54:58.455Z"
   },
   {
    "duration": 4,
    "start_time": "2023-03-23T17:55:22.401Z"
   },
   {
    "duration": 3,
    "start_time": "2023-03-23T17:57:10.049Z"
   },
   {
    "duration": 11,
    "start_time": "2023-03-23T17:57:33.145Z"
   },
   {
    "duration": 6,
    "start_time": "2023-03-23T17:57:38.586Z"
   },
   {
    "duration": 4,
    "start_time": "2023-03-23T18:01:25.073Z"
   },
   {
    "duration": 6,
    "start_time": "2023-03-23T18:04:46.832Z"
   },
   {
    "duration": 4,
    "start_time": "2023-03-23T18:06:32.951Z"
   },
   {
    "duration": 12,
    "start_time": "2023-03-23T20:38:59.513Z"
   },
   {
    "duration": 8,
    "start_time": "2023-03-23T20:39:12.046Z"
   },
   {
    "duration": 10,
    "start_time": "2023-03-23T20:39:21.700Z"
   },
   {
    "duration": 159,
    "start_time": "2023-03-23T20:39:39.095Z"
   },
   {
    "duration": 107,
    "start_time": "2023-03-23T20:40:24.325Z"
   },
   {
    "duration": 8,
    "start_time": "2023-03-23T21:04:41.788Z"
   },
   {
    "duration": 20,
    "start_time": "2023-03-23T21:20:26.621Z"
   },
   {
    "duration": 15,
    "start_time": "2023-03-23T21:20:38.747Z"
   },
   {
    "duration": 3,
    "start_time": "2023-03-23T21:20:44.314Z"
   },
   {
    "duration": 53,
    "start_time": "2023-03-23T21:20:44.320Z"
   },
   {
    "duration": 28,
    "start_time": "2023-03-23T21:20:44.376Z"
   },
   {
    "duration": 11,
    "start_time": "2023-03-23T21:20:44.405Z"
   },
   {
    "duration": 288,
    "start_time": "2023-03-23T21:20:44.418Z"
   },
   {
    "duration": 32,
    "start_time": "2023-03-23T21:20:44.709Z"
   },
   {
    "duration": 19,
    "start_time": "2023-03-23T21:20:44.742Z"
   },
   {
    "duration": 25,
    "start_time": "2023-03-23T21:20:44.763Z"
   },
   {
    "duration": 251,
    "start_time": "2023-03-23T21:20:44.790Z"
   },
   {
    "duration": 13,
    "start_time": "2023-03-23T21:20:45.043Z"
   },
   {
    "duration": 5,
    "start_time": "2023-03-23T21:20:45.058Z"
   },
   {
    "duration": 34,
    "start_time": "2023-03-23T21:20:45.065Z"
   },
   {
    "duration": 23,
    "start_time": "2023-03-23T21:20:45.102Z"
   },
   {
    "duration": 16,
    "start_time": "2023-03-23T21:20:45.129Z"
   },
   {
    "duration": 7,
    "start_time": "2023-03-23T21:20:45.147Z"
   },
   {
    "duration": 17,
    "start_time": "2023-03-23T21:20:45.156Z"
   },
   {
    "duration": 19,
    "start_time": "2023-03-23T21:20:45.175Z"
   },
   {
    "duration": 14,
    "start_time": "2023-03-23T21:20:45.196Z"
   },
   {
    "duration": 16,
    "start_time": "2023-03-23T21:20:45.212Z"
   },
   {
    "duration": 17,
    "start_time": "2023-03-23T21:20:45.230Z"
   },
   {
    "duration": 8,
    "start_time": "2023-03-23T21:20:45.249Z"
   },
   {
    "duration": 114,
    "start_time": "2023-03-23T21:20:45.258Z"
   },
   {
    "duration": 182,
    "start_time": "2023-03-23T21:20:45.374Z"
   },
   {
    "duration": 7,
    "start_time": "2023-03-23T21:20:45.559Z"
   },
   {
    "duration": 132,
    "start_time": "2023-03-23T21:20:45.568Z"
   },
   {
    "duration": 15,
    "start_time": "2023-03-23T21:20:45.702Z"
   },
   {
    "duration": 4,
    "start_time": "2023-03-23T21:20:45.719Z"
   },
   {
    "duration": 125,
    "start_time": "2023-03-23T21:20:45.725Z"
   },
   {
    "duration": 16,
    "start_time": "2023-03-23T21:20:45.851Z"
   },
   {
    "duration": 203,
    "start_time": "2023-03-23T21:20:45.868Z"
   },
   {
    "duration": 122,
    "start_time": "2023-03-23T21:20:46.074Z"
   },
   {
    "duration": 4,
    "start_time": "2023-03-23T21:20:46.197Z"
   },
   {
    "duration": 148,
    "start_time": "2023-03-23T21:20:46.203Z"
   },
   {
    "duration": 6,
    "start_time": "2023-03-23T21:20:46.353Z"
   },
   {
    "duration": 5,
    "start_time": "2023-03-23T21:20:46.361Z"
   },
   {
    "duration": 24,
    "start_time": "2023-03-23T21:20:46.367Z"
   },
   {
    "duration": 157,
    "start_time": "2023-03-23T21:20:46.393Z"
   },
   {
    "duration": 236,
    "start_time": "2023-03-23T21:20:46.552Z"
   },
   {
    "duration": 6,
    "start_time": "2023-03-23T21:20:46.790Z"
   },
   {
    "duration": 161,
    "start_time": "2023-03-23T21:20:46.798Z"
   },
   {
    "duration": 103,
    "start_time": "2023-03-23T21:20:46.964Z"
   },
   {
    "duration": 4,
    "start_time": "2023-03-23T21:20:47.068Z"
   },
   {
    "duration": 6,
    "start_time": "2023-03-23T21:20:47.089Z"
   },
   {
    "duration": 14,
    "start_time": "2023-03-23T21:20:47.096Z"
   },
   {
    "duration": 9,
    "start_time": "2023-03-23T21:20:47.113Z"
   },
   {
    "duration": 5,
    "start_time": "2023-03-23T21:20:47.125Z"
   },
   {
    "duration": 10,
    "start_time": "2023-03-23T21:20:47.131Z"
   },
   {
    "duration": 168,
    "start_time": "2023-03-23T21:20:47.143Z"
   },
   {
    "duration": 122,
    "start_time": "2023-03-23T21:20:47.313Z"
   },
   {
    "duration": 6,
    "start_time": "2023-03-23T21:20:47.437Z"
   },
   {
    "duration": 293,
    "start_time": "2023-03-23T21:57:43.335Z"
   },
   {
    "duration": 5,
    "start_time": "2023-03-23T22:01:42.573Z"
   },
   {
    "duration": 8,
    "start_time": "2023-03-23T22:07:32.104Z"
   },
   {
    "duration": 31,
    "start_time": "2023-03-23T22:09:18.657Z"
   },
   {
    "duration": 10,
    "start_time": "2023-03-23T22:09:40.823Z"
   },
   {
    "duration": 74,
    "start_time": "2023-03-23T22:09:49.315Z"
   },
   {
    "duration": 4,
    "start_time": "2023-03-23T22:09:51.857Z"
   },
   {
    "duration": 4,
    "start_time": "2023-03-23T22:11:54.607Z"
   },
   {
    "duration": 5,
    "start_time": "2023-03-23T22:12:20.365Z"
   },
   {
    "duration": 4,
    "start_time": "2023-03-23T22:12:30.704Z"
   },
   {
    "duration": 6,
    "start_time": "2023-03-23T22:13:00.242Z"
   },
   {
    "duration": 4,
    "start_time": "2023-03-23T23:38:00.842Z"
   },
   {
    "duration": 73,
    "start_time": "2023-03-23T23:41:24.407Z"
   },
   {
    "duration": 21,
    "start_time": "2023-03-23T23:41:28.652Z"
   },
   {
    "duration": 18,
    "start_time": "2023-03-23T23:42:06.167Z"
   },
   {
    "duration": 6,
    "start_time": "2023-03-23T23:54:19.689Z"
   },
   {
    "duration": 6,
    "start_time": "2023-03-23T23:54:27.059Z"
   },
   {
    "duration": 6,
    "start_time": "2023-03-23T23:56:28.148Z"
   },
   {
    "duration": 22,
    "start_time": "2023-03-23T23:58:59.919Z"
   },
   {
    "duration": 10,
    "start_time": "2023-03-23T23:59:31.134Z"
   },
   {
    "duration": 9,
    "start_time": "2023-03-23T23:59:47.108Z"
   },
   {
    "duration": 6,
    "start_time": "2023-03-24T00:04:42.574Z"
   },
   {
    "duration": 7,
    "start_time": "2023-03-24T00:04:43.831Z"
   },
   {
    "duration": 5,
    "start_time": "2023-03-24T00:04:44.649Z"
   },
   {
    "duration": 180,
    "start_time": "2023-03-24T00:04:46.527Z"
   },
   {
    "duration": 171,
    "start_time": "2023-03-24T00:05:13.898Z"
   },
   {
    "duration": 185,
    "start_time": "2023-03-24T00:06:46.047Z"
   },
   {
    "duration": 200,
    "start_time": "2023-03-24T00:10:01.379Z"
   },
   {
    "duration": 1121,
    "start_time": "2023-03-24T01:57:45.697Z"
   },
   {
    "duration": 1134,
    "start_time": "2023-03-24T01:58:23.161Z"
   },
   {
    "duration": 206,
    "start_time": "2023-03-24T01:59:00.308Z"
   },
   {
    "duration": 1110,
    "start_time": "2023-03-24T01:59:18.114Z"
   },
   {
    "duration": 192,
    "start_time": "2023-03-24T02:02:42.893Z"
   },
   {
    "duration": 23,
    "start_time": "2023-03-24T02:02:57.679Z"
   },
   {
    "duration": 23,
    "start_time": "2023-03-24T02:03:06.214Z"
   },
   {
    "duration": 125,
    "start_time": "2023-03-24T02:10:11.779Z"
   },
   {
    "duration": 4,
    "start_time": "2023-03-24T02:10:29.098Z"
   },
   {
    "duration": 185,
    "start_time": "2023-03-24T02:10:37.888Z"
   },
   {
    "duration": 199,
    "start_time": "2023-03-24T02:10:39.730Z"
   },
   {
    "duration": 67,
    "start_time": "2023-03-24T02:11:06.222Z"
   },
   {
    "duration": 25,
    "start_time": "2023-03-24T02:11:15.778Z"
   },
   {
    "duration": 48,
    "start_time": "2023-03-24T02:11:23.848Z"
   },
   {
    "duration": 180,
    "start_time": "2023-03-24T02:12:59.388Z"
   },
   {
    "duration": 6,
    "start_time": "2023-03-24T02:41:43.927Z"
   },
   {
    "duration": 6,
    "start_time": "2023-03-24T02:57:27.226Z"
   },
   {
    "duration": 14,
    "start_time": "2023-03-24T02:59:07.971Z"
   },
   {
    "duration": 10,
    "start_time": "2023-03-24T02:59:21.049Z"
   },
   {
    "duration": 13,
    "start_time": "2023-03-24T03:00:10.063Z"
   },
   {
    "duration": 11,
    "start_time": "2023-03-24T03:00:16.759Z"
   },
   {
    "duration": 12,
    "start_time": "2023-03-24T03:00:29.726Z"
   },
   {
    "duration": 46,
    "start_time": "2023-03-24T03:01:17.829Z"
   },
   {
    "duration": 224,
    "start_time": "2023-03-24T03:04:02.221Z"
   },
   {
    "duration": 26,
    "start_time": "2023-03-24T03:04:09.937Z"
   },
   {
    "duration": 30,
    "start_time": "2023-03-24T03:04:16.961Z"
   },
   {
    "duration": 33,
    "start_time": "2023-03-24T03:04:21.349Z"
   },
   {
    "duration": 21,
    "start_time": "2023-03-24T03:04:24.948Z"
   },
   {
    "duration": 32,
    "start_time": "2023-03-24T03:04:28.623Z"
   },
   {
    "duration": 26,
    "start_time": "2023-03-24T03:04:32.902Z"
   },
   {
    "duration": 1403,
    "start_time": "2023-03-24T03:05:46.800Z"
   },
   {
    "duration": 87,
    "start_time": "2023-03-24T03:06:36.373Z"
   },
   {
    "duration": 81,
    "start_time": "2023-03-24T03:17:58.651Z"
   },
   {
    "duration": 13,
    "start_time": "2023-03-24T03:18:16.936Z"
   },
   {
    "duration": 9,
    "start_time": "2023-03-24T03:18:22.439Z"
   },
   {
    "duration": 3,
    "start_time": "2023-03-24T03:18:47.944Z"
   },
   {
    "duration": 10,
    "start_time": "2023-03-24T03:19:06.789Z"
   },
   {
    "duration": 3,
    "start_time": "2023-03-24T03:19:08.066Z"
   },
   {
    "duration": 13,
    "start_time": "2023-03-24T03:19:34.474Z"
   },
   {
    "duration": 46,
    "start_time": "2023-03-24T03:19:36.955Z"
   },
   {
    "duration": 220,
    "start_time": "2023-03-24T03:19:38.415Z"
   },
   {
    "duration": 24,
    "start_time": "2023-03-24T03:19:40.058Z"
   },
   {
    "duration": 231,
    "start_time": "2023-03-24T03:19:42.960Z"
   },
   {
    "duration": 28,
    "start_time": "2023-03-24T03:19:44.126Z"
   },
   {
    "duration": 33,
    "start_time": "2023-03-24T03:19:45.982Z"
   },
   {
    "duration": 28,
    "start_time": "2023-03-24T03:19:46.683Z"
   },
   {
    "duration": 1378,
    "start_time": "2023-03-24T03:19:52.869Z"
   },
   {
    "duration": 74,
    "start_time": "2023-03-24T03:19:55.858Z"
   },
   {
    "duration": 162,
    "start_time": "2023-03-24T03:20:03.026Z"
   },
   {
    "duration": 30,
    "start_time": "2023-03-24T03:23:07.064Z"
   },
   {
    "duration": 70,
    "start_time": "2023-03-24T03:23:40.519Z"
   },
   {
    "duration": 104,
    "start_time": "2023-03-24T03:23:49.490Z"
   },
   {
    "duration": 85,
    "start_time": "2023-03-24T03:25:35.390Z"
   },
   {
    "duration": 707,
    "start_time": "2023-03-24T03:25:36.672Z"
   },
   {
    "duration": 99,
    "start_time": "2023-03-24T03:25:42.489Z"
   },
   {
    "duration": 18,
    "start_time": "2023-03-24T03:25:43.619Z"
   },
   {
    "duration": 727,
    "start_time": "2023-03-24T03:25:47.809Z"
   },
   {
    "duration": 87,
    "start_time": "2023-03-24T03:25:50.000Z"
   },
   {
    "duration": 95,
    "start_time": "2023-03-24T03:25:56.935Z"
   },
   {
    "duration": 4,
    "start_time": "2023-03-24T03:28:04.229Z"
   },
   {
    "duration": 4,
    "start_time": "2023-03-24T03:34:50.107Z"
   },
   {
    "duration": 50,
    "start_time": "2023-03-24T03:34:50.114Z"
   },
   {
    "duration": 24,
    "start_time": "2023-03-24T03:34:50.166Z"
   },
   {
    "duration": 9,
    "start_time": "2023-03-24T03:34:50.192Z"
   },
   {
    "duration": 252,
    "start_time": "2023-03-24T03:34:50.203Z"
   },
   {
    "duration": 32,
    "start_time": "2023-03-24T03:34:50.457Z"
   },
   {
    "duration": 16,
    "start_time": "2023-03-24T03:34:50.491Z"
   },
   {
    "duration": 3,
    "start_time": "2023-03-24T03:34:50.509Z"
   },
   {
    "duration": 251,
    "start_time": "2023-03-24T03:34:50.514Z"
   },
   {
    "duration": 12,
    "start_time": "2023-03-24T03:34:50.767Z"
   },
   {
    "duration": 4,
    "start_time": "2023-03-24T03:34:50.789Z"
   },
   {
    "duration": 14,
    "start_time": "2023-03-24T03:34:50.795Z"
   },
   {
    "duration": 8,
    "start_time": "2023-03-24T03:34:50.810Z"
   },
   {
    "duration": 12,
    "start_time": "2023-03-24T03:34:50.821Z"
   },
   {
    "duration": 10,
    "start_time": "2023-03-24T03:34:50.834Z"
   },
   {
    "duration": 20,
    "start_time": "2023-03-24T03:34:50.846Z"
   },
   {
    "duration": 14,
    "start_time": "2023-03-24T03:34:50.867Z"
   },
   {
    "duration": 5,
    "start_time": "2023-03-24T03:34:50.893Z"
   },
   {
    "duration": 18,
    "start_time": "2023-03-24T03:34:50.900Z"
   },
   {
    "duration": 18,
    "start_time": "2023-03-24T03:34:50.920Z"
   },
   {
    "duration": 7,
    "start_time": "2023-03-24T03:34:50.940Z"
   },
   {
    "duration": 106,
    "start_time": "2023-03-24T03:34:50.949Z"
   },
   {
    "duration": 165,
    "start_time": "2023-03-24T03:34:51.056Z"
   },
   {
    "duration": 9,
    "start_time": "2023-03-24T03:34:51.223Z"
   },
   {
    "duration": 112,
    "start_time": "2023-03-24T03:34:51.233Z"
   },
   {
    "duration": 14,
    "start_time": "2023-03-24T03:34:51.346Z"
   },
   {
    "duration": 6,
    "start_time": "2023-03-24T03:34:51.361Z"
   },
   {
    "duration": 101,
    "start_time": "2023-03-24T03:34:51.368Z"
   },
   {
    "duration": 26,
    "start_time": "2023-03-24T03:34:51.470Z"
   },
   {
    "duration": 173,
    "start_time": "2023-03-24T03:34:51.497Z"
   },
   {
    "duration": 244,
    "start_time": "2023-03-24T03:34:51.671Z"
   },
   {
    "duration": 4,
    "start_time": "2023-03-24T03:34:51.917Z"
   },
   {
    "duration": 136,
    "start_time": "2023-03-24T03:34:51.923Z"
   },
   {
    "duration": 6,
    "start_time": "2023-03-24T03:34:52.061Z"
   },
   {
    "duration": 6,
    "start_time": "2023-03-24T03:34:52.068Z"
   },
   {
    "duration": 22,
    "start_time": "2023-03-24T03:34:52.076Z"
   },
   {
    "duration": 151,
    "start_time": "2023-03-24T03:34:52.100Z"
   },
   {
    "duration": 93,
    "start_time": "2023-03-24T03:34:52.252Z"
   },
   {
    "duration": 6,
    "start_time": "2023-03-24T03:34:52.346Z"
   },
   {
    "duration": 138,
    "start_time": "2023-03-24T03:34:52.353Z"
   },
   {
    "duration": 102,
    "start_time": "2023-03-24T03:34:52.495Z"
   },
   {
    "duration": 4,
    "start_time": "2023-03-24T03:34:52.599Z"
   },
   {
    "duration": 8,
    "start_time": "2023-03-24T03:34:52.605Z"
   },
   {
    "duration": 8,
    "start_time": "2023-03-24T03:34:52.615Z"
   },
   {
    "duration": 8,
    "start_time": "2023-03-24T03:34:52.625Z"
   },
   {
    "duration": 7,
    "start_time": "2023-03-24T03:34:52.635Z"
   },
   {
    "duration": 15,
    "start_time": "2023-03-24T03:34:52.643Z"
   },
   {
    "duration": 171,
    "start_time": "2023-03-24T03:34:52.659Z"
   },
   {
    "duration": 116,
    "start_time": "2023-03-24T03:34:52.831Z"
   },
   {
    "duration": 5,
    "start_time": "2023-03-24T03:34:52.948Z"
   },
   {
    "duration": 16,
    "start_time": "2023-03-24T03:34:52.954Z"
   },
   {
    "duration": 5,
    "start_time": "2023-03-24T03:34:52.971Z"
   },
   {
    "duration": 18,
    "start_time": "2023-03-24T03:34:52.977Z"
   },
   {
    "duration": 13,
    "start_time": "2023-03-24T03:34:52.996Z"
   },
   {
    "duration": 189,
    "start_time": "2023-03-24T03:34:53.010Z"
   },
   {
    "duration": 23,
    "start_time": "2023-03-24T03:34:53.201Z"
   },
   {
    "duration": 1146,
    "start_time": "2023-03-24T03:34:53.226Z"
   },
   {
    "duration": 207,
    "start_time": "2023-03-24T03:34:54.374Z"
   },
   {
    "duration": 204,
    "start_time": "2023-03-24T03:34:54.588Z"
   },
   {
    "duration": 97,
    "start_time": "2023-03-24T03:34:54.795Z"
   },
   {
    "duration": 5,
    "start_time": "2023-03-24T03:34:54.894Z"
   },
   {
    "duration": 12,
    "start_time": "2023-03-24T03:34:54.901Z"
   },
   {
    "duration": 187,
    "start_time": "2023-03-24T03:34:54.914Z"
   },
   {
    "duration": 346,
    "start_time": "2023-03-24T03:34:55.103Z"
   },
   {
    "duration": 38,
    "start_time": "2023-03-24T03:34:55.451Z"
   },
   {
    "duration": 1415,
    "start_time": "2023-03-24T03:34:55.490Z"
   },
   {
    "duration": 169,
    "start_time": "2023-03-24T03:34:56.907Z"
   },
   {
    "duration": 18,
    "start_time": "2023-03-24T03:34:57.077Z"
   },
   {
    "duration": 190,
    "start_time": "2023-03-24T03:34:57.097Z"
   },
   {
    "duration": 200,
    "start_time": "2023-03-24T03:34:57.291Z"
   },
   {
    "duration": 18,
    "start_time": "2023-03-24T03:34:57.493Z"
   },
   {
    "duration": 733,
    "start_time": "2023-03-24T03:34:57.513Z"
   },
   {
    "duration": 103,
    "start_time": "2023-03-24T03:34:58.247Z"
   },
   {
    "duration": 741,
    "start_time": "2023-03-24T03:35:16.353Z"
   },
   {
    "duration": 101,
    "start_time": "2023-03-24T03:35:18.015Z"
   },
   {
    "duration": 123,
    "start_time": "2023-03-24T03:35:25.452Z"
   },
   {
    "duration": 707,
    "start_time": "2023-03-24T03:35:49.161Z"
   },
   {
    "duration": 143,
    "start_time": "2023-03-24T03:35:51.130Z"
   },
   {
    "duration": 124,
    "start_time": "2023-03-24T03:35:55.564Z"
   },
   {
    "duration": 203,
    "start_time": "2023-03-24T03:47:20.387Z"
   },
   {
    "duration": 87,
    "start_time": "2023-03-24T03:47:48.504Z"
   },
   {
    "duration": 398,
    "start_time": "2023-03-24T03:47:58.222Z"
   },
   {
    "duration": 321,
    "start_time": "2023-03-24T03:48:25.973Z"
   },
   {
    "duration": 86,
    "start_time": "2023-03-24T03:49:37.922Z"
   },
   {
    "duration": 86,
    "start_time": "2023-03-24T03:49:48.699Z"
   },
   {
    "duration": 73,
    "start_time": "2023-03-24T03:49:55.782Z"
   },
   {
    "duration": 277,
    "start_time": "2023-03-24T03:50:07.622Z"
   },
   {
    "duration": 76,
    "start_time": "2023-03-24T03:50:22.974Z"
   },
   {
    "duration": 81,
    "start_time": "2023-03-24T03:50:45.418Z"
   },
   {
    "duration": 98,
    "start_time": "2023-03-24T03:51:45.288Z"
   },
   {
    "duration": 344,
    "start_time": "2023-03-24T03:51:58.148Z"
   },
   {
    "duration": 97,
    "start_time": "2023-03-24T03:52:06.848Z"
   },
   {
    "duration": 301,
    "start_time": "2023-03-24T03:52:15.189Z"
   },
   {
    "duration": 303,
    "start_time": "2023-03-24T03:52:29.087Z"
   },
   {
    "duration": 311,
    "start_time": "2023-03-24T03:52:57.884Z"
   },
   {
    "duration": 204,
    "start_time": "2023-03-24T03:53:12.823Z"
   },
   {
    "duration": 361,
    "start_time": "2023-03-24T03:53:23.928Z"
   },
   {
    "duration": 351,
    "start_time": "2023-03-24T03:54:05.439Z"
   },
   {
    "duration": 51,
    "start_time": "2023-03-24T03:57:18.657Z"
   },
   {
    "duration": 29,
    "start_time": "2023-03-24T04:04:27.196Z"
   },
   {
    "duration": 191,
    "start_time": "2023-03-24T04:04:50.820Z"
   },
   {
    "duration": 156,
    "start_time": "2023-03-24T04:05:30.585Z"
   },
   {
    "duration": 74,
    "start_time": "2023-03-24T04:05:53.582Z"
   },
   {
    "duration": 28,
    "start_time": "2023-03-24T04:06:05.762Z"
   },
   {
    "duration": 24,
    "start_time": "2023-03-24T04:06:12.893Z"
   },
   {
    "duration": 140,
    "start_time": "2023-03-24T04:06:21.640Z"
   },
   {
    "duration": 3,
    "start_time": "2023-03-24T04:08:04.829Z"
   },
   {
    "duration": 40,
    "start_time": "2023-03-24T04:08:04.834Z"
   },
   {
    "duration": 21,
    "start_time": "2023-03-24T04:08:04.875Z"
   },
   {
    "duration": 10,
    "start_time": "2023-03-24T04:08:04.897Z"
   },
   {
    "duration": 288,
    "start_time": "2023-03-24T04:08:04.909Z"
   },
   {
    "duration": 27,
    "start_time": "2023-03-24T04:08:05.199Z"
   },
   {
    "duration": 18,
    "start_time": "2023-03-24T04:08:05.228Z"
   },
   {
    "duration": 3,
    "start_time": "2023-03-24T04:08:05.248Z"
   },
   {
    "duration": 252,
    "start_time": "2023-03-24T04:08:05.252Z"
   },
   {
    "duration": 12,
    "start_time": "2023-03-24T04:08:05.506Z"
   },
   {
    "duration": 29,
    "start_time": "2023-03-24T04:08:05.520Z"
   },
   {
    "duration": 16,
    "start_time": "2023-03-24T04:08:05.551Z"
   },
   {
    "duration": 12,
    "start_time": "2023-03-24T04:08:05.568Z"
   },
   {
    "duration": 23,
    "start_time": "2023-03-24T04:08:05.583Z"
   },
   {
    "duration": 7,
    "start_time": "2023-03-24T04:08:05.608Z"
   },
   {
    "duration": 16,
    "start_time": "2023-03-24T04:08:05.616Z"
   },
   {
    "duration": 25,
    "start_time": "2023-03-24T04:08:05.634Z"
   },
   {
    "duration": 5,
    "start_time": "2023-03-24T04:08:05.660Z"
   },
   {
    "duration": 10,
    "start_time": "2023-03-24T04:08:05.667Z"
   },
   {
    "duration": 15,
    "start_time": "2023-03-24T04:08:05.679Z"
   },
   {
    "duration": 7,
    "start_time": "2023-03-24T04:08:05.696Z"
   },
   {
    "duration": 103,
    "start_time": "2023-03-24T04:08:05.705Z"
   },
   {
    "duration": 154,
    "start_time": "2023-03-24T04:08:05.810Z"
   },
   {
    "duration": 6,
    "start_time": "2023-03-24T04:08:05.965Z"
   },
   {
    "duration": 100,
    "start_time": "2023-03-24T04:08:05.972Z"
   },
   {
    "duration": 27,
    "start_time": "2023-03-24T04:08:06.074Z"
   },
   {
    "duration": 6,
    "start_time": "2023-03-24T04:08:06.103Z"
   },
   {
    "duration": 102,
    "start_time": "2023-03-24T04:08:06.110Z"
   },
   {
    "duration": 15,
    "start_time": "2023-03-24T04:08:06.214Z"
   },
   {
    "duration": 172,
    "start_time": "2023-03-24T04:08:06.230Z"
   },
   {
    "duration": 100,
    "start_time": "2023-03-24T04:08:06.403Z"
   },
   {
    "duration": 4,
    "start_time": "2023-03-24T04:08:06.504Z"
   },
   {
    "duration": 131,
    "start_time": "2023-03-24T04:08:06.510Z"
   },
   {
    "duration": 5,
    "start_time": "2023-03-24T04:08:06.643Z"
   },
   {
    "duration": 6,
    "start_time": "2023-03-24T04:08:06.649Z"
   },
   {
    "duration": 6,
    "start_time": "2023-03-24T04:08:06.656Z"
   },
   {
    "duration": 149,
    "start_time": "2023-03-24T04:08:06.663Z"
   },
   {
    "duration": 97,
    "start_time": "2023-03-24T04:08:06.814Z"
   },
   {
    "duration": 5,
    "start_time": "2023-03-24T04:08:06.913Z"
   },
   {
    "duration": 136,
    "start_time": "2023-03-24T04:08:06.919Z"
   },
   {
    "duration": 92,
    "start_time": "2023-03-24T04:08:07.059Z"
   },
   {
    "duration": 3,
    "start_time": "2023-03-24T04:08:07.153Z"
   },
   {
    "duration": 8,
    "start_time": "2023-03-24T04:08:07.157Z"
   },
   {
    "duration": 11,
    "start_time": "2023-03-24T04:08:07.166Z"
   },
   {
    "duration": 5,
    "start_time": "2023-03-24T04:08:07.188Z"
   },
   {
    "duration": 14,
    "start_time": "2023-03-24T04:08:07.195Z"
   },
   {
    "duration": 9,
    "start_time": "2023-03-24T04:08:07.211Z"
   },
   {
    "duration": 135,
    "start_time": "2023-03-24T04:08:07.222Z"
   },
   {
    "duration": 261,
    "start_time": "2023-03-24T04:08:07.359Z"
   },
   {
    "duration": 5,
    "start_time": "2023-03-24T04:08:07.622Z"
   },
   {
    "duration": 12,
    "start_time": "2023-03-24T04:08:07.628Z"
   },
   {
    "duration": 22,
    "start_time": "2023-03-24T04:08:07.642Z"
   },
   {
    "duration": 6,
    "start_time": "2023-03-24T04:08:07.666Z"
   },
   {
    "duration": 16,
    "start_time": "2023-03-24T04:08:07.673Z"
   },
   {
    "duration": 183,
    "start_time": "2023-03-24T04:08:07.691Z"
   },
   {
    "duration": 26,
    "start_time": "2023-03-24T04:08:07.876Z"
   },
   {
    "duration": 1070,
    "start_time": "2023-03-24T04:08:07.904Z"
   },
   {
    "duration": 188,
    "start_time": "2023-03-24T04:08:08.976Z"
   },
   {
    "duration": 40,
    "start_time": "2023-03-24T04:08:09.166Z"
   },
   {
    "duration": 83,
    "start_time": "2023-03-24T04:08:09.208Z"
   },
   {
    "duration": 97,
    "start_time": "2023-03-24T04:08:09.293Z"
   },
   {
    "duration": 14,
    "start_time": "2023-03-24T04:08:09.392Z"
   },
   {
    "duration": 86,
    "start_time": "2023-03-24T04:08:09.408Z"
   },
   {
    "duration": 305,
    "start_time": "2023-03-24T04:08:09.497Z"
   },
   {
    "duration": 244,
    "start_time": "2023-03-24T04:08:09.890Z"
   },
   {
    "duration": 30,
    "start_time": "2023-03-24T04:08:10.136Z"
   },
   {
    "duration": 1416,
    "start_time": "2023-03-24T04:08:10.168Z"
   },
   {
    "duration": 185,
    "start_time": "2023-03-24T04:08:11.585Z"
   },
   {
    "duration": 22,
    "start_time": "2023-03-24T04:08:11.771Z"
   },
   {
    "duration": 94,
    "start_time": "2023-03-24T04:08:11.795Z"
   },
   {
    "duration": 188,
    "start_time": "2023-03-24T04:08:11.890Z"
   },
   {
    "duration": 23,
    "start_time": "2023-03-24T04:08:12.093Z"
   },
   {
    "duration": 629,
    "start_time": "2023-03-24T04:08:12.118Z"
   },
   {
    "duration": 143,
    "start_time": "2023-03-24T04:08:12.749Z"
   },
   {
    "duration": 138,
    "start_time": "2023-03-24T04:10:26.401Z"
   },
   {
    "duration": 138,
    "start_time": "2023-03-24T04:10:41.841Z"
   },
   {
    "duration": 151,
    "start_time": "2023-03-24T04:10:48.140Z"
   },
   {
    "duration": 252,
    "start_time": "2023-03-24T04:11:14.100Z"
   },
   {
    "duration": 166,
    "start_time": "2023-03-24T04:11:47.895Z"
   },
   {
    "duration": 51,
    "start_time": "2023-03-24T04:11:54.288Z"
   },
   {
    "duration": 184,
    "start_time": "2023-03-24T04:12:01.263Z"
   },
   {
    "duration": 86,
    "start_time": "2023-03-24T04:12:05.247Z"
   },
   {
    "duration": 81,
    "start_time": "2023-03-24T04:12:24.745Z"
   },
   {
    "duration": 180,
    "start_time": "2023-03-24T04:13:10.566Z"
   },
   {
    "duration": 192,
    "start_time": "2023-03-24T04:13:53.579Z"
   },
   {
    "duration": 77,
    "start_time": "2023-03-24T04:14:02.789Z"
   },
   {
    "duration": 147,
    "start_time": "2023-03-24T04:14:07.359Z"
   },
   {
    "duration": 189,
    "start_time": "2023-03-24T04:14:12.121Z"
   },
   {
    "duration": 183,
    "start_time": "2023-03-24T04:14:15.980Z"
   },
   {
    "duration": 4,
    "start_time": "2023-03-24T04:15:00.948Z"
   },
   {
    "duration": 80,
    "start_time": "2023-03-24T04:15:00.954Z"
   },
   {
    "duration": 23,
    "start_time": "2023-03-24T04:15:01.037Z"
   },
   {
    "duration": 50,
    "start_time": "2023-03-24T04:15:01.062Z"
   },
   {
    "duration": 266,
    "start_time": "2023-03-24T04:15:01.114Z"
   },
   {
    "duration": 26,
    "start_time": "2023-03-24T04:15:01.381Z"
   },
   {
    "duration": 45,
    "start_time": "2023-03-24T04:15:01.409Z"
   },
   {
    "duration": 34,
    "start_time": "2023-03-24T04:15:01.456Z"
   },
   {
    "duration": 256,
    "start_time": "2023-03-24T04:15:01.492Z"
   },
   {
    "duration": 12,
    "start_time": "2023-03-24T04:15:01.750Z"
   },
   {
    "duration": 35,
    "start_time": "2023-03-24T04:15:01.766Z"
   },
   {
    "duration": 40,
    "start_time": "2023-03-24T04:15:01.803Z"
   },
   {
    "duration": 46,
    "start_time": "2023-03-24T04:15:01.845Z"
   },
   {
    "duration": 43,
    "start_time": "2023-03-24T04:15:01.892Z"
   },
   {
    "duration": 57,
    "start_time": "2023-03-24T04:15:01.937Z"
   },
   {
    "duration": 109,
    "start_time": "2023-03-24T04:15:01.996Z"
   },
   {
    "duration": 230,
    "start_time": "2023-03-24T04:15:02.107Z"
   },
   {
    "duration": 107,
    "start_time": "2023-03-24T04:15:02.339Z"
   },
   {
    "duration": 60,
    "start_time": "2023-03-24T04:15:02.448Z"
   },
   {
    "duration": 86,
    "start_time": "2023-03-24T04:15:02.510Z"
   },
   {
    "duration": 21,
    "start_time": "2023-03-24T04:15:02.598Z"
   },
   {
    "duration": 92,
    "start_time": "2023-03-24T04:15:02.621Z"
   },
   {
    "duration": 160,
    "start_time": "2023-03-24T04:15:02.715Z"
   },
   {
    "duration": 16,
    "start_time": "2023-03-24T04:15:02.877Z"
   },
   {
    "duration": 134,
    "start_time": "2023-03-24T04:15:02.895Z"
   },
   {
    "duration": 14,
    "start_time": "2023-03-24T04:15:03.031Z"
   },
   {
    "duration": 104,
    "start_time": "2023-03-24T04:15:03.047Z"
   },
   {
    "duration": 106,
    "start_time": "2023-03-24T04:15:03.152Z"
   },
   {
    "duration": 15,
    "start_time": "2023-03-24T04:15:03.261Z"
   },
   {
    "duration": 178,
    "start_time": "2023-03-24T04:15:03.278Z"
   },
   {
    "duration": 100,
    "start_time": "2023-03-24T04:15:03.458Z"
   },
   {
    "duration": 3,
    "start_time": "2023-03-24T04:15:03.560Z"
   },
   {
    "duration": 153,
    "start_time": "2023-03-24T04:15:03.565Z"
   },
   {
    "duration": 6,
    "start_time": "2023-03-24T04:15:03.720Z"
   },
   {
    "duration": 59,
    "start_time": "2023-03-24T04:15:03.728Z"
   },
   {
    "duration": 16,
    "start_time": "2023-03-24T04:15:03.790Z"
   },
   {
    "duration": 150,
    "start_time": "2023-03-24T04:15:03.808Z"
   },
   {
    "duration": 89,
    "start_time": "2023-03-24T04:15:03.960Z"
   },
   {
    "duration": 6,
    "start_time": "2023-03-24T04:15:04.051Z"
   },
   {
    "duration": 139,
    "start_time": "2023-03-24T04:15:04.058Z"
   },
   {
    "duration": 105,
    "start_time": "2023-03-24T04:15:04.199Z"
   },
   {
    "duration": 4,
    "start_time": "2023-03-24T04:15:04.305Z"
   },
   {
    "duration": 7,
    "start_time": "2023-03-24T04:15:04.310Z"
   },
   {
    "duration": 7,
    "start_time": "2023-03-24T04:15:04.319Z"
   },
   {
    "duration": 10,
    "start_time": "2023-03-24T04:15:04.327Z"
   },
   {
    "duration": 10,
    "start_time": "2023-03-24T04:15:04.338Z"
   },
   {
    "duration": 10,
    "start_time": "2023-03-24T04:15:04.349Z"
   },
   {
    "duration": 163,
    "start_time": "2023-03-24T04:15:04.360Z"
   },
   {
    "duration": 107,
    "start_time": "2023-03-24T04:15:04.525Z"
   },
   {
    "duration": 6,
    "start_time": "2023-03-24T04:15:04.633Z"
   },
   {
    "duration": 36,
    "start_time": "2023-03-24T04:15:04.641Z"
   },
   {
    "duration": 29,
    "start_time": "2023-03-24T04:15:04.679Z"
   },
   {
    "duration": 7,
    "start_time": "2023-03-24T04:15:04.710Z"
   },
   {
    "duration": 15,
    "start_time": "2023-03-24T04:15:04.718Z"
   },
   {
    "duration": 197,
    "start_time": "2023-03-24T04:15:04.735Z"
   },
   {
    "duration": 25,
    "start_time": "2023-03-24T04:15:04.933Z"
   },
   {
    "duration": 1111,
    "start_time": "2023-03-24T04:15:04.959Z"
   },
   {
    "duration": 197,
    "start_time": "2023-03-24T04:15:06.071Z"
   },
   {
    "duration": 131,
    "start_time": "2023-03-24T04:15:06.269Z"
   },
   {
    "duration": 8,
    "start_time": "2023-03-24T04:15:06.488Z"
   },
   {
    "duration": 20,
    "start_time": "2023-03-24T04:15:06.498Z"
   },
   {
    "duration": 24,
    "start_time": "2023-03-24T04:15:06.520Z"
   },
   {
    "duration": 51,
    "start_time": "2023-03-24T04:15:06.546Z"
   },
   {
    "duration": 390,
    "start_time": "2023-03-24T04:15:06.599Z"
   },
   {
    "duration": 297,
    "start_time": "2023-03-24T04:15:06.993Z"
   },
   {
    "duration": 27,
    "start_time": "2023-03-24T04:15:07.291Z"
   },
   {
    "duration": 1306,
    "start_time": "2023-03-24T04:15:07.320Z"
   },
   {
    "duration": 168,
    "start_time": "2023-03-24T04:15:08.628Z"
   },
   {
    "duration": 10,
    "start_time": "2023-03-24T04:15:08.798Z"
   },
   {
    "duration": 82,
    "start_time": "2023-03-24T04:15:08.809Z"
   },
   {
    "duration": 198,
    "start_time": "2023-03-24T04:15:08.892Z"
   },
   {
    "duration": 19,
    "start_time": "2023-03-24T04:15:09.091Z"
   },
   {
    "duration": 198,
    "start_time": "2023-03-24T04:15:09.111Z"
   },
   {
    "duration": 94,
    "start_time": "2023-03-24T04:15:09.311Z"
   },
   {
    "duration": 172,
    "start_time": "2023-03-24T04:15:09.407Z"
   },
   {
    "duration": 4,
    "start_time": "2023-03-24T04:15:23.476Z"
   },
   {
    "duration": 44,
    "start_time": "2023-03-24T04:15:23.482Z"
   },
   {
    "duration": 22,
    "start_time": "2023-03-24T04:15:23.528Z"
   },
   {
    "duration": 10,
    "start_time": "2023-03-24T04:15:23.552Z"
   },
   {
    "duration": 275,
    "start_time": "2023-03-24T04:15:23.563Z"
   },
   {
    "duration": 21,
    "start_time": "2023-03-24T04:15:23.839Z"
   },
   {
    "duration": 33,
    "start_time": "2023-03-24T04:15:23.861Z"
   },
   {
    "duration": 3,
    "start_time": "2023-03-24T04:15:23.896Z"
   },
   {
    "duration": 236,
    "start_time": "2023-03-24T04:15:23.901Z"
   },
   {
    "duration": 13,
    "start_time": "2023-03-24T04:15:24.141Z"
   },
   {
    "duration": 27,
    "start_time": "2023-03-24T04:15:24.156Z"
   },
   {
    "duration": 6,
    "start_time": "2023-03-24T04:15:24.184Z"
   },
   {
    "duration": 4,
    "start_time": "2023-03-24T04:15:24.192Z"
   },
   {
    "duration": 14,
    "start_time": "2023-03-24T04:15:24.197Z"
   },
   {
    "duration": 6,
    "start_time": "2023-03-24T04:15:24.213Z"
   },
   {
    "duration": 5,
    "start_time": "2023-03-24T04:15:24.220Z"
   },
   {
    "duration": 15,
    "start_time": "2023-03-24T04:15:24.227Z"
   },
   {
    "duration": 4,
    "start_time": "2023-03-24T04:15:24.244Z"
   },
   {
    "duration": 10,
    "start_time": "2023-03-24T04:15:24.289Z"
   },
   {
    "duration": 13,
    "start_time": "2023-03-24T04:15:24.300Z"
   },
   {
    "duration": 9,
    "start_time": "2023-03-24T04:15:24.315Z"
   },
   {
    "duration": 127,
    "start_time": "2023-03-24T04:15:24.325Z"
   },
   {
    "duration": 159,
    "start_time": "2023-03-24T04:15:24.454Z"
   },
   {
    "duration": 6,
    "start_time": "2023-03-24T04:15:24.614Z"
   },
   {
    "duration": 134,
    "start_time": "2023-03-24T04:15:24.622Z"
   },
   {
    "duration": 15,
    "start_time": "2023-03-24T04:15:24.758Z"
   },
   {
    "duration": 15,
    "start_time": "2023-03-24T04:15:24.774Z"
   },
   {
    "duration": 97,
    "start_time": "2023-03-24T04:15:24.793Z"
   },
   {
    "duration": 14,
    "start_time": "2023-03-24T04:15:24.892Z"
   },
   {
    "duration": 197,
    "start_time": "2023-03-24T04:15:24.907Z"
   },
   {
    "duration": 307,
    "start_time": "2023-03-24T04:15:25.106Z"
   },
   {
    "duration": 4,
    "start_time": "2023-03-24T04:15:25.414Z"
   },
   {
    "duration": 146,
    "start_time": "2023-03-24T04:15:25.420Z"
   },
   {
    "duration": 6,
    "start_time": "2023-03-24T04:15:25.568Z"
   },
   {
    "duration": 15,
    "start_time": "2023-03-24T04:15:25.575Z"
   },
   {
    "duration": 18,
    "start_time": "2023-03-24T04:15:25.591Z"
   },
   {
    "duration": 139,
    "start_time": "2023-03-24T04:15:25.610Z"
   },
   {
    "duration": 91,
    "start_time": "2023-03-24T04:15:25.750Z"
   },
   {
    "duration": 4,
    "start_time": "2023-03-24T04:15:25.843Z"
   },
   {
    "duration": 128,
    "start_time": "2023-03-24T04:15:25.849Z"
   },
   {
    "duration": 95,
    "start_time": "2023-03-24T04:15:25.979Z"
   },
   {
    "duration": 3,
    "start_time": "2023-03-24T04:15:26.088Z"
   },
   {
    "duration": 8,
    "start_time": "2023-03-24T04:15:26.093Z"
   },
   {
    "duration": 5,
    "start_time": "2023-03-24T04:15:26.103Z"
   },
   {
    "duration": 11,
    "start_time": "2023-03-24T04:15:26.109Z"
   },
   {
    "duration": 5,
    "start_time": "2023-03-24T04:15:26.121Z"
   },
   {
    "duration": 9,
    "start_time": "2023-03-24T04:15:26.128Z"
   },
   {
    "duration": 169,
    "start_time": "2023-03-24T04:15:26.139Z"
   },
   {
    "duration": 113,
    "start_time": "2023-03-24T04:15:26.310Z"
   },
   {
    "duration": 5,
    "start_time": "2023-03-24T04:15:26.425Z"
   },
   {
    "duration": 14,
    "start_time": "2023-03-24T04:15:26.431Z"
   },
   {
    "duration": 5,
    "start_time": "2023-03-24T04:15:26.446Z"
   },
   {
    "duration": 7,
    "start_time": "2023-03-24T04:15:26.452Z"
   },
   {
    "duration": 5,
    "start_time": "2023-03-24T04:15:26.461Z"
   },
   {
    "duration": 201,
    "start_time": "2023-03-24T04:15:26.467Z"
   },
   {
    "duration": 36,
    "start_time": "2023-03-24T04:15:26.670Z"
   },
   {
    "duration": 1052,
    "start_time": "2023-03-24T04:15:26.708Z"
   },
   {
    "duration": 188,
    "start_time": "2023-03-24T04:15:27.761Z"
   },
   {
    "duration": 139,
    "start_time": "2023-03-24T04:15:27.951Z"
   },
   {
    "duration": 100,
    "start_time": "2023-03-24T04:15:28.093Z"
   },
   {
    "duration": 7,
    "start_time": "2023-03-24T04:15:28.195Z"
   },
   {
    "duration": 14,
    "start_time": "2023-03-24T04:15:28.204Z"
   },
   {
    "duration": 178,
    "start_time": "2023-03-24T04:15:28.220Z"
   },
   {
    "duration": 289,
    "start_time": "2023-03-24T04:15:28.400Z"
   },
   {
    "duration": 331,
    "start_time": "2023-03-24T04:15:28.692Z"
   },
   {
    "duration": 32,
    "start_time": "2023-03-24T04:15:29.024Z"
   },
   {
    "duration": 1532,
    "start_time": "2023-03-24T04:15:29.057Z"
   },
   {
    "duration": 198,
    "start_time": "2023-03-24T04:15:30.591Z"
   },
   {
    "duration": 13,
    "start_time": "2023-03-24T04:15:30.791Z"
   },
   {
    "duration": 86,
    "start_time": "2023-03-24T04:15:30.805Z"
   },
   {
    "duration": 206,
    "start_time": "2023-03-24T04:15:30.893Z"
   },
   {
    "duration": 21,
    "start_time": "2023-03-24T04:15:31.100Z"
   },
   {
    "duration": 210,
    "start_time": "2023-03-24T04:15:31.123Z"
   },
   {
    "duration": 87,
    "start_time": "2023-03-24T04:15:31.334Z"
   },
   {
    "duration": 191,
    "start_time": "2023-03-24T04:15:31.422Z"
   },
   {
    "duration": 4,
    "start_time": "2023-03-24T04:15:43.159Z"
   },
   {
    "duration": 89,
    "start_time": "2023-03-24T04:15:43.164Z"
   },
   {
    "duration": 22,
    "start_time": "2023-03-24T04:15:43.255Z"
   },
   {
    "duration": 10,
    "start_time": "2023-03-24T04:15:43.280Z"
   },
   {
    "duration": 266,
    "start_time": "2023-03-24T04:15:43.293Z"
   },
   {
    "duration": 28,
    "start_time": "2023-03-24T04:15:43.560Z"
   },
   {
    "duration": 20,
    "start_time": "2023-03-24T04:15:43.590Z"
   },
   {
    "duration": 4,
    "start_time": "2023-03-24T04:15:43.612Z"
   },
   {
    "duration": 279,
    "start_time": "2023-03-24T04:15:43.618Z"
   },
   {
    "duration": 13,
    "start_time": "2023-03-24T04:15:43.898Z"
   },
   {
    "duration": 10,
    "start_time": "2023-03-24T04:15:43.912Z"
   },
   {
    "duration": 7,
    "start_time": "2023-03-24T04:15:43.924Z"
   },
   {
    "duration": 4,
    "start_time": "2023-03-24T04:15:43.933Z"
   },
   {
    "duration": 15,
    "start_time": "2023-03-24T04:15:43.938Z"
   },
   {
    "duration": 34,
    "start_time": "2023-03-24T04:15:43.955Z"
   },
   {
    "duration": 5,
    "start_time": "2023-03-24T04:15:43.990Z"
   },
   {
    "duration": 15,
    "start_time": "2023-03-24T04:15:43.996Z"
   },
   {
    "duration": 4,
    "start_time": "2023-03-24T04:15:44.013Z"
   },
   {
    "duration": 10,
    "start_time": "2023-03-24T04:15:44.019Z"
   },
   {
    "duration": 11,
    "start_time": "2023-03-24T04:15:44.031Z"
   },
   {
    "duration": 7,
    "start_time": "2023-03-24T04:15:44.044Z"
   },
   {
    "duration": 120,
    "start_time": "2023-03-24T04:15:44.052Z"
   },
   {
    "duration": 175,
    "start_time": "2023-03-24T04:15:44.174Z"
   },
   {
    "duration": 6,
    "start_time": "2023-03-24T04:15:44.353Z"
   },
   {
    "duration": 116,
    "start_time": "2023-03-24T04:15:44.360Z"
   },
   {
    "duration": 15,
    "start_time": "2023-03-24T04:15:44.488Z"
   },
   {
    "duration": 4,
    "start_time": "2023-03-24T04:15:44.505Z"
   },
   {
    "duration": 115,
    "start_time": "2023-03-24T04:15:44.511Z"
   },
   {
    "duration": 16,
    "start_time": "2023-03-24T04:15:44.628Z"
   },
   {
    "duration": 180,
    "start_time": "2023-03-24T04:15:44.646Z"
   },
   {
    "duration": 104,
    "start_time": "2023-03-24T04:15:44.828Z"
   },
   {
    "duration": 4,
    "start_time": "2023-03-24T04:15:44.934Z"
   },
   {
    "duration": 152,
    "start_time": "2023-03-24T04:15:44.939Z"
   },
   {
    "duration": 8,
    "start_time": "2023-03-24T04:15:45.093Z"
   },
   {
    "duration": 23,
    "start_time": "2023-03-24T04:15:45.103Z"
   },
   {
    "duration": 21,
    "start_time": "2023-03-24T04:15:45.129Z"
   },
   {
    "duration": 146,
    "start_time": "2023-03-24T04:15:45.153Z"
   },
   {
    "duration": 95,
    "start_time": "2023-03-24T04:15:45.300Z"
   },
   {
    "duration": 5,
    "start_time": "2023-03-24T04:15:45.397Z"
   },
   {
    "duration": 165,
    "start_time": "2023-03-24T04:15:45.404Z"
   },
   {
    "duration": 126,
    "start_time": "2023-03-24T04:15:45.571Z"
   },
   {
    "duration": 4,
    "start_time": "2023-03-24T04:15:45.699Z"
   },
   {
    "duration": 7,
    "start_time": "2023-03-24T04:15:45.704Z"
   },
   {
    "duration": 6,
    "start_time": "2023-03-24T04:15:45.712Z"
   },
   {
    "duration": 10,
    "start_time": "2023-03-24T04:15:45.719Z"
   },
   {
    "duration": 7,
    "start_time": "2023-03-24T04:15:45.730Z"
   },
   {
    "duration": 15,
    "start_time": "2023-03-24T04:15:45.738Z"
   },
   {
    "duration": 170,
    "start_time": "2023-03-24T04:15:45.754Z"
   },
   {
    "duration": 128,
    "start_time": "2023-03-24T04:15:45.926Z"
   },
   {
    "duration": 6,
    "start_time": "2023-03-24T04:15:46.056Z"
   },
   {
    "duration": 24,
    "start_time": "2023-03-24T04:15:46.064Z"
   },
   {
    "duration": 7,
    "start_time": "2023-03-24T04:15:46.090Z"
   },
   {
    "duration": 15,
    "start_time": "2023-03-24T04:15:46.098Z"
   },
   {
    "duration": 7,
    "start_time": "2023-03-24T04:15:46.115Z"
   },
   {
    "duration": 194,
    "start_time": "2023-03-24T04:15:46.123Z"
   },
   {
    "duration": 26,
    "start_time": "2023-03-24T04:15:46.319Z"
   },
   {
    "duration": 1134,
    "start_time": "2023-03-24T04:15:46.347Z"
   },
   {
    "duration": 205,
    "start_time": "2023-03-24T04:15:47.483Z"
   },
   {
    "duration": 110,
    "start_time": "2023-03-24T04:15:47.690Z"
   },
   {
    "duration": 102,
    "start_time": "2023-03-24T04:15:47.888Z"
   },
   {
    "duration": 6,
    "start_time": "2023-03-24T04:15:47.992Z"
   },
   {
    "duration": 14,
    "start_time": "2023-03-24T04:15:47.999Z"
   },
   {
    "duration": 84,
    "start_time": "2023-03-24T04:15:48.014Z"
   },
   {
    "duration": 291,
    "start_time": "2023-03-24T04:15:48.101Z"
   },
   {
    "duration": 329,
    "start_time": "2023-03-24T04:15:48.394Z"
   },
   {
    "duration": 30,
    "start_time": "2023-03-24T04:15:48.725Z"
   },
   {
    "duration": 1532,
    "start_time": "2023-03-24T04:15:48.756Z"
   },
   {
    "duration": 188,
    "start_time": "2023-03-24T04:15:50.290Z"
   },
   {
    "duration": 12,
    "start_time": "2023-03-24T04:15:50.487Z"
   },
   {
    "duration": 198,
    "start_time": "2023-03-24T04:15:50.500Z"
   },
   {
    "duration": 196,
    "start_time": "2023-03-24T04:15:50.700Z"
   },
   {
    "duration": 20,
    "start_time": "2023-03-24T04:15:50.898Z"
   },
   {
    "duration": 209,
    "start_time": "2023-03-24T04:15:50.919Z"
   },
   {
    "duration": 97,
    "start_time": "2023-03-24T04:15:51.130Z"
   },
   {
    "duration": 184,
    "start_time": "2023-03-24T04:15:51.228Z"
   },
   {
    "duration": 5,
    "start_time": "2023-03-24T04:16:18.954Z"
   },
   {
    "duration": 44,
    "start_time": "2023-03-24T04:16:18.961Z"
   },
   {
    "duration": 26,
    "start_time": "2023-03-24T04:16:19.007Z"
   },
   {
    "duration": 11,
    "start_time": "2023-03-24T04:16:19.036Z"
   },
   {
    "duration": 299,
    "start_time": "2023-03-24T04:16:19.048Z"
   },
   {
    "duration": 19,
    "start_time": "2023-03-24T04:16:19.349Z"
   },
   {
    "duration": 28,
    "start_time": "2023-03-24T04:16:19.370Z"
   },
   {
    "duration": 4,
    "start_time": "2023-03-24T04:16:19.399Z"
   },
   {
    "duration": 262,
    "start_time": "2023-03-24T04:16:19.404Z"
   },
   {
    "duration": 20,
    "start_time": "2023-03-24T04:16:19.669Z"
   },
   {
    "duration": 7,
    "start_time": "2023-03-24T04:16:19.691Z"
   },
   {
    "duration": 7,
    "start_time": "2023-03-24T04:16:19.699Z"
   },
   {
    "duration": 5,
    "start_time": "2023-03-24T04:16:19.707Z"
   },
   {
    "duration": 12,
    "start_time": "2023-03-24T04:16:19.713Z"
   },
   {
    "duration": 5,
    "start_time": "2023-03-24T04:16:19.727Z"
   },
   {
    "duration": 5,
    "start_time": "2023-03-24T04:16:19.733Z"
   },
   {
    "duration": 50,
    "start_time": "2023-03-24T04:16:19.739Z"
   },
   {
    "duration": 4,
    "start_time": "2023-03-24T04:16:19.791Z"
   },
   {
    "duration": 11,
    "start_time": "2023-03-24T04:16:19.797Z"
   },
   {
    "duration": 16,
    "start_time": "2023-03-24T04:16:19.810Z"
   },
   {
    "duration": 8,
    "start_time": "2023-03-24T04:16:19.828Z"
   },
   {
    "duration": 122,
    "start_time": "2023-03-24T04:16:19.838Z"
   },
   {
    "duration": 173,
    "start_time": "2023-03-24T04:16:19.963Z"
   },
   {
    "duration": 6,
    "start_time": "2023-03-24T04:16:20.138Z"
   },
   {
    "duration": 310,
    "start_time": "2023-03-24T04:16:20.146Z"
   },
   {
    "duration": 14,
    "start_time": "2023-03-24T04:16:20.458Z"
   },
   {
    "duration": 21,
    "start_time": "2023-03-24T04:16:20.473Z"
   },
   {
    "duration": 99,
    "start_time": "2023-03-24T04:16:20.498Z"
   },
   {
    "duration": 22,
    "start_time": "2023-03-24T04:16:20.599Z"
   },
   {
    "duration": 173,
    "start_time": "2023-03-24T04:16:20.623Z"
   },
   {
    "duration": 105,
    "start_time": "2023-03-24T04:16:20.797Z"
   },
   {
    "duration": 4,
    "start_time": "2023-03-24T04:16:20.904Z"
   },
   {
    "duration": 143,
    "start_time": "2023-03-24T04:16:20.910Z"
   },
   {
    "duration": 6,
    "start_time": "2023-03-24T04:16:21.055Z"
   },
   {
    "duration": 13,
    "start_time": "2023-03-24T04:16:21.063Z"
   },
   {
    "duration": 12,
    "start_time": "2023-03-24T04:16:21.077Z"
   },
   {
    "duration": 141,
    "start_time": "2023-03-24T04:16:21.090Z"
   },
   {
    "duration": 100,
    "start_time": "2023-03-24T04:16:21.232Z"
   },
   {
    "duration": 6,
    "start_time": "2023-03-24T04:16:21.333Z"
   },
   {
    "duration": 128,
    "start_time": "2023-03-24T04:16:21.340Z"
   },
   {
    "duration": 105,
    "start_time": "2023-03-24T04:16:21.469Z"
   },
   {
    "duration": 16,
    "start_time": "2023-03-24T04:16:21.575Z"
   },
   {
    "duration": 7,
    "start_time": "2023-03-24T04:16:21.592Z"
   },
   {
    "duration": 5,
    "start_time": "2023-03-24T04:16:21.600Z"
   },
   {
    "duration": 6,
    "start_time": "2023-03-24T04:16:21.607Z"
   },
   {
    "duration": 13,
    "start_time": "2023-03-24T04:16:21.614Z"
   },
   {
    "duration": 14,
    "start_time": "2023-03-24T04:16:21.629Z"
   },
   {
    "duration": 146,
    "start_time": "2023-03-24T04:16:21.645Z"
   },
   {
    "duration": 112,
    "start_time": "2023-03-24T04:16:21.793Z"
   },
   {
    "duration": 6,
    "start_time": "2023-03-24T04:16:21.908Z"
   },
   {
    "duration": 10,
    "start_time": "2023-03-24T04:16:21.916Z"
   },
   {
    "duration": 15,
    "start_time": "2023-03-24T04:16:21.927Z"
   },
   {
    "duration": 22,
    "start_time": "2023-03-24T04:16:21.943Z"
   },
   {
    "duration": 5,
    "start_time": "2023-03-24T04:16:21.967Z"
   },
   {
    "duration": 187,
    "start_time": "2023-03-24T04:16:21.974Z"
   },
   {
    "duration": 30,
    "start_time": "2023-03-24T04:16:22.163Z"
   },
   {
    "duration": 1087,
    "start_time": "2023-03-24T04:16:22.194Z"
   },
   {
    "duration": 197,
    "start_time": "2023-03-24T04:16:23.283Z"
   },
   {
    "duration": 39,
    "start_time": "2023-03-24T04:16:23.481Z"
   },
   {
    "duration": 11,
    "start_time": "2023-03-24T04:16:23.589Z"
   },
   {
    "duration": 91,
    "start_time": "2023-03-24T04:16:23.602Z"
   },
   {
    "duration": 19,
    "start_time": "2023-03-24T04:16:23.695Z"
   },
   {
    "duration": 77,
    "start_time": "2023-03-24T04:16:23.716Z"
   },
   {
    "duration": 295,
    "start_time": "2023-03-24T04:16:23.795Z"
   },
   {
    "duration": 355,
    "start_time": "2023-03-24T04:16:24.092Z"
   },
   {
    "duration": 29,
    "start_time": "2023-03-24T04:16:24.449Z"
   },
   {
    "duration": 1568,
    "start_time": "2023-03-24T04:16:24.480Z"
   },
   {
    "duration": 192,
    "start_time": "2023-03-24T04:16:26.049Z"
   },
   {
    "duration": 11,
    "start_time": "2023-03-24T04:16:26.242Z"
   },
   {
    "duration": 237,
    "start_time": "2023-03-24T04:16:26.255Z"
   },
   {
    "duration": 186,
    "start_time": "2023-03-24T04:16:26.494Z"
   },
   {
    "duration": 30,
    "start_time": "2023-03-24T04:16:26.682Z"
   },
   {
    "duration": 185,
    "start_time": "2023-03-24T04:16:26.714Z"
   },
   {
    "duration": 95,
    "start_time": "2023-03-24T04:16:26.900Z"
   },
   {
    "duration": 184,
    "start_time": "2023-03-24T04:16:26.996Z"
   },
   {
    "duration": 4,
    "start_time": "2023-03-24T04:18:56.663Z"
   },
   {
    "duration": 12,
    "start_time": "2023-03-24T04:19:28.670Z"
   },
   {
    "duration": 5,
    "start_time": "2023-03-24T04:19:46.303Z"
   },
   {
    "duration": 124,
    "start_time": "2023-03-24T04:19:51.030Z"
   },
   {
    "duration": 201,
    "start_time": "2023-03-24T04:20:30.563Z"
   },
   {
    "duration": 4,
    "start_time": "2023-03-24T04:21:25.463Z"
   },
   {
    "duration": 43,
    "start_time": "2023-03-24T04:21:25.469Z"
   },
   {
    "duration": 25,
    "start_time": "2023-03-24T04:21:25.514Z"
   },
   {
    "duration": 9,
    "start_time": "2023-03-24T04:21:25.541Z"
   },
   {
    "duration": 275,
    "start_time": "2023-03-24T04:21:25.552Z"
   },
   {
    "duration": 25,
    "start_time": "2023-03-24T04:21:25.829Z"
   },
   {
    "duration": 34,
    "start_time": "2023-03-24T04:21:25.855Z"
   },
   {
    "duration": 3,
    "start_time": "2023-03-24T04:21:25.891Z"
   },
   {
    "duration": 243,
    "start_time": "2023-03-24T04:21:25.896Z"
   },
   {
    "duration": 11,
    "start_time": "2023-03-24T04:21:26.141Z"
   },
   {
    "duration": 4,
    "start_time": "2023-03-24T04:21:26.154Z"
   },
   {
    "duration": 5,
    "start_time": "2023-03-24T04:21:26.160Z"
   },
   {
    "duration": 23,
    "start_time": "2023-03-24T04:21:26.166Z"
   },
   {
    "duration": 12,
    "start_time": "2023-03-24T04:21:26.191Z"
   },
   {
    "duration": 5,
    "start_time": "2023-03-24T04:21:26.205Z"
   },
   {
    "duration": 4,
    "start_time": "2023-03-24T04:21:26.212Z"
   },
   {
    "duration": 17,
    "start_time": "2023-03-24T04:21:26.217Z"
   },
   {
    "duration": 5,
    "start_time": "2023-03-24T04:21:26.236Z"
   },
   {
    "duration": 49,
    "start_time": "2023-03-24T04:21:26.242Z"
   },
   {
    "duration": 13,
    "start_time": "2023-03-24T04:21:26.293Z"
   },
   {
    "duration": 10,
    "start_time": "2023-03-24T04:21:26.308Z"
   },
   {
    "duration": 108,
    "start_time": "2023-03-24T04:21:26.320Z"
   },
   {
    "duration": 169,
    "start_time": "2023-03-24T04:21:26.430Z"
   },
   {
    "duration": 7,
    "start_time": "2023-03-24T04:21:26.604Z"
   },
   {
    "duration": 125,
    "start_time": "2023-03-24T04:21:26.612Z"
   },
   {
    "duration": 16,
    "start_time": "2023-03-24T04:21:26.739Z"
   },
   {
    "duration": 5,
    "start_time": "2023-03-24T04:21:26.757Z"
   },
   {
    "duration": 104,
    "start_time": "2023-03-24T04:21:26.763Z"
   },
   {
    "duration": 31,
    "start_time": "2023-03-24T04:21:26.869Z"
   },
   {
    "duration": 164,
    "start_time": "2023-03-24T04:21:26.902Z"
   },
   {
    "duration": 104,
    "start_time": "2023-03-24T04:21:27.068Z"
   },
   {
    "duration": 15,
    "start_time": "2023-03-24T04:21:27.174Z"
   },
   {
    "duration": 138,
    "start_time": "2023-03-24T04:21:27.191Z"
   },
   {
    "duration": 6,
    "start_time": "2023-03-24T04:21:27.330Z"
   },
   {
    "duration": 6,
    "start_time": "2023-03-24T04:21:27.337Z"
   },
   {
    "duration": 7,
    "start_time": "2023-03-24T04:21:27.345Z"
   },
   {
    "duration": 161,
    "start_time": "2023-03-24T04:21:27.354Z"
   },
   {
    "duration": 100,
    "start_time": "2023-03-24T04:21:27.516Z"
   },
   {
    "duration": 5,
    "start_time": "2023-03-24T04:21:27.618Z"
   },
   {
    "duration": 151,
    "start_time": "2023-03-24T04:21:27.625Z"
   },
   {
    "duration": 112,
    "start_time": "2023-03-24T04:21:27.778Z"
   },
   {
    "duration": 4,
    "start_time": "2023-03-24T04:21:27.891Z"
   },
   {
    "duration": 7,
    "start_time": "2023-03-24T04:21:27.896Z"
   },
   {
    "duration": 6,
    "start_time": "2023-03-24T04:21:27.904Z"
   },
   {
    "duration": 10,
    "start_time": "2023-03-24T04:21:27.911Z"
   },
   {
    "duration": 4,
    "start_time": "2023-03-24T04:21:27.923Z"
   },
   {
    "duration": 10,
    "start_time": "2023-03-24T04:21:27.928Z"
   },
   {
    "duration": 178,
    "start_time": "2023-03-24T04:21:27.940Z"
   },
   {
    "duration": 112,
    "start_time": "2023-03-24T04:21:28.119Z"
   },
   {
    "duration": 5,
    "start_time": "2023-03-24T04:21:28.232Z"
   },
   {
    "duration": 11,
    "start_time": "2023-03-24T04:21:28.239Z"
   },
   {
    "duration": 5,
    "start_time": "2023-03-24T04:21:28.251Z"
   },
   {
    "duration": 7,
    "start_time": "2023-03-24T04:21:28.257Z"
   },
   {
    "duration": 6,
    "start_time": "2023-03-24T04:21:28.288Z"
   },
   {
    "duration": 196,
    "start_time": "2023-03-24T04:21:28.296Z"
   },
   {
    "duration": 24,
    "start_time": "2023-03-24T04:21:28.494Z"
   },
   {
    "duration": 1112,
    "start_time": "2023-03-24T04:21:28.520Z"
   },
   {
    "duration": 199,
    "start_time": "2023-03-24T04:21:29.634Z"
   },
   {
    "duration": 61,
    "start_time": "2023-03-24T04:21:29.835Z"
   },
   {
    "duration": 94,
    "start_time": "2023-03-24T04:21:29.897Z"
   },
   {
    "duration": 14,
    "start_time": "2023-03-24T04:21:29.993Z"
   },
   {
    "duration": 13,
    "start_time": "2023-03-24T04:21:30.088Z"
   },
   {
    "duration": 96,
    "start_time": "2023-03-24T04:21:30.103Z"
   },
   {
    "duration": 297,
    "start_time": "2023-03-24T04:21:30.201Z"
   },
   {
    "duration": 324,
    "start_time": "2023-03-24T04:21:30.501Z"
   },
   {
    "duration": 34,
    "start_time": "2023-03-24T04:21:30.826Z"
   },
   {
    "duration": 1419,
    "start_time": "2023-03-24T04:21:30.862Z"
   },
   {
    "duration": 175,
    "start_time": "2023-03-24T04:21:32.282Z"
   },
   {
    "duration": 112,
    "start_time": "2023-03-24T04:21:32.461Z"
   },
   {
    "duration": 21,
    "start_time": "2023-03-24T04:21:32.575Z"
   },
   {
    "duration": 196,
    "start_time": "2023-03-24T04:21:32.597Z"
   },
   {
    "duration": 199,
    "start_time": "2023-03-24T04:21:32.795Z"
   },
   {
    "duration": 19,
    "start_time": "2023-03-24T04:21:32.995Z"
   },
   {
    "duration": 188,
    "start_time": "2023-03-24T04:21:33.016Z"
   },
   {
    "duration": 85,
    "start_time": "2023-03-24T04:21:33.206Z"
   },
   {
    "duration": 112,
    "start_time": "2023-03-24T04:21:33.292Z"
   },
   {
    "duration": 175,
    "start_time": "2023-03-24T04:21:33.405Z"
   },
   {
    "duration": 126,
    "start_time": "2023-03-24T04:21:33.581Z"
   },
   {
    "duration": 4,
    "start_time": "2023-03-24T04:23:57.744Z"
   },
   {
    "duration": 44,
    "start_time": "2023-03-24T04:23:57.750Z"
   },
   {
    "duration": 23,
    "start_time": "2023-03-24T04:23:57.795Z"
   },
   {
    "duration": 10,
    "start_time": "2023-03-24T04:23:57.820Z"
   },
   {
    "duration": 292,
    "start_time": "2023-03-24T04:23:57.831Z"
   },
   {
    "duration": 21,
    "start_time": "2023-03-24T04:23:58.125Z"
   },
   {
    "duration": 17,
    "start_time": "2023-03-24T04:23:58.148Z"
   },
   {
    "duration": 24,
    "start_time": "2023-03-24T04:23:58.166Z"
   },
   {
    "duration": 228,
    "start_time": "2023-03-24T04:23:58.191Z"
   },
   {
    "duration": 12,
    "start_time": "2023-03-24T04:23:58.423Z"
   },
   {
    "duration": 8,
    "start_time": "2023-03-24T04:23:58.437Z"
   },
   {
    "duration": 6,
    "start_time": "2023-03-24T04:23:58.447Z"
   },
   {
    "duration": 18,
    "start_time": "2023-03-24T04:23:58.454Z"
   },
   {
    "duration": 252,
    "start_time": "2023-03-24T04:23:58.473Z"
   },
   {
    "duration": 7,
    "start_time": "2023-03-24T04:23:58.726Z"
   },
   {
    "duration": 5,
    "start_time": "2023-03-24T04:23:58.734Z"
   },
   {
    "duration": 13,
    "start_time": "2023-03-24T04:23:58.740Z"
   },
   {
    "duration": 5,
    "start_time": "2023-03-24T04:23:58.754Z"
   },
   {
    "duration": 33,
    "start_time": "2023-03-24T04:23:58.760Z"
   },
   {
    "duration": 16,
    "start_time": "2023-03-24T04:23:58.795Z"
   },
   {
    "duration": 9,
    "start_time": "2023-03-24T04:23:58.812Z"
   },
   {
    "duration": 107,
    "start_time": "2023-03-24T04:23:58.823Z"
   },
   {
    "duration": 157,
    "start_time": "2023-03-24T04:23:58.932Z"
   },
   {
    "duration": 6,
    "start_time": "2023-03-24T04:23:59.090Z"
   },
   {
    "duration": 109,
    "start_time": "2023-03-24T04:23:59.098Z"
   },
   {
    "duration": 14,
    "start_time": "2023-03-24T04:23:59.208Z"
   },
   {
    "duration": 4,
    "start_time": "2023-03-24T04:23:59.224Z"
   },
   {
    "duration": 114,
    "start_time": "2023-03-24T04:23:59.231Z"
   },
   {
    "duration": 14,
    "start_time": "2023-03-24T04:23:59.346Z"
   },
   {
    "duration": 169,
    "start_time": "2023-03-24T04:23:59.361Z"
   },
   {
    "duration": 124,
    "start_time": "2023-03-24T04:23:59.532Z"
   },
   {
    "duration": 3,
    "start_time": "2023-03-24T04:23:59.658Z"
   },
   {
    "duration": 132,
    "start_time": "2023-03-24T04:23:59.662Z"
   },
   {
    "duration": 6,
    "start_time": "2023-03-24T04:23:59.796Z"
   },
   {
    "duration": 6,
    "start_time": "2023-03-24T04:23:59.804Z"
   },
   {
    "duration": 7,
    "start_time": "2023-03-24T04:23:59.811Z"
   },
   {
    "duration": 150,
    "start_time": "2023-03-24T04:23:59.819Z"
   },
   {
    "duration": 94,
    "start_time": "2023-03-24T04:23:59.971Z"
   },
   {
    "duration": 5,
    "start_time": "2023-03-24T04:24:00.067Z"
   },
   {
    "duration": 129,
    "start_time": "2023-03-24T04:24:00.089Z"
   },
   {
    "duration": 116,
    "start_time": "2023-03-24T04:24:00.220Z"
   },
   {
    "duration": 4,
    "start_time": "2023-03-24T04:24:00.337Z"
   },
   {
    "duration": 24,
    "start_time": "2023-03-24T04:24:00.342Z"
   },
   {
    "duration": 24,
    "start_time": "2023-03-24T04:24:00.368Z"
   },
   {
    "duration": 21,
    "start_time": "2023-03-24T04:24:00.394Z"
   },
   {
    "duration": 36,
    "start_time": "2023-03-24T04:24:00.416Z"
   },
   {
    "duration": 42,
    "start_time": "2023-03-24T04:24:00.454Z"
   },
   {
    "duration": 162,
    "start_time": "2023-03-24T04:24:00.498Z"
   },
   {
    "duration": 112,
    "start_time": "2023-03-24T04:24:00.661Z"
   },
   {
    "duration": 15,
    "start_time": "2023-03-24T04:24:00.775Z"
   },
   {
    "duration": 39,
    "start_time": "2023-03-24T04:24:00.792Z"
   },
   {
    "duration": 26,
    "start_time": "2023-03-24T04:24:00.833Z"
   },
   {
    "duration": 31,
    "start_time": "2023-03-24T04:24:00.861Z"
   },
   {
    "duration": 43,
    "start_time": "2023-03-24T04:24:00.893Z"
   },
   {
    "duration": 188,
    "start_time": "2023-03-24T04:24:00.938Z"
   },
   {
    "duration": 22,
    "start_time": "2023-03-24T04:24:01.128Z"
   },
   {
    "duration": 1111,
    "start_time": "2023-03-24T04:24:01.152Z"
   },
   {
    "duration": 201,
    "start_time": "2023-03-24T04:24:02.265Z"
   },
   {
    "duration": 43,
    "start_time": "2023-03-24T04:24:02.467Z"
   },
   {
    "duration": 176,
    "start_time": "2023-03-24T04:24:02.512Z"
   },
   {
    "duration": 6,
    "start_time": "2023-03-24T04:24:02.691Z"
   },
   {
    "duration": 12,
    "start_time": "2023-03-24T04:24:02.699Z"
   },
   {
    "duration": 85,
    "start_time": "2023-03-24T04:24:02.713Z"
   },
   {
    "duration": 298,
    "start_time": "2023-03-24T04:24:02.800Z"
   },
   {
    "duration": 398,
    "start_time": "2023-03-24T04:24:03.100Z"
   },
   {
    "duration": 28,
    "start_time": "2023-03-24T04:24:03.500Z"
   },
   {
    "duration": 1469,
    "start_time": "2023-03-24T04:24:03.530Z"
   },
   {
    "duration": 194,
    "start_time": "2023-03-24T04:24:05.001Z"
   },
   {
    "duration": 137,
    "start_time": "2023-03-24T04:24:05.197Z"
   },
   {
    "duration": 10,
    "start_time": "2023-03-24T04:24:05.335Z"
   },
   {
    "duration": 143,
    "start_time": "2023-03-24T04:24:05.347Z"
   },
   {
    "duration": 198,
    "start_time": "2023-03-24T04:24:05.492Z"
   },
   {
    "duration": 19,
    "start_time": "2023-03-24T04:24:05.692Z"
   },
   {
    "duration": 181,
    "start_time": "2023-03-24T04:24:05.713Z"
   },
   {
    "duration": 77,
    "start_time": "2023-03-24T04:24:05.896Z"
   },
   {
    "duration": 132,
    "start_time": "2023-03-24T04:24:05.975Z"
   },
   {
    "duration": 182,
    "start_time": "2023-03-24T04:24:06.109Z"
   },
   {
    "duration": 122,
    "start_time": "2023-03-24T04:24:06.293Z"
   },
   {
    "duration": 66,
    "start_time": "2023-03-24T13:24:54.583Z"
   },
   {
    "duration": 1828,
    "start_time": "2023-03-24T13:25:13.006Z"
   },
   {
    "duration": 98,
    "start_time": "2023-03-24T13:25:14.836Z"
   },
   {
    "duration": 31,
    "start_time": "2023-03-24T13:25:14.935Z"
   },
   {
    "duration": 15,
    "start_time": "2023-03-24T13:25:14.968Z"
   },
   {
    "duration": 331,
    "start_time": "2023-03-24T13:25:14.985Z"
   },
   {
    "duration": 24,
    "start_time": "2023-03-24T13:25:15.318Z"
   },
   {
    "duration": 20,
    "start_time": "2023-03-24T13:25:15.344Z"
   },
   {
    "duration": 7,
    "start_time": "2023-03-24T13:25:15.387Z"
   },
   {
    "duration": 301,
    "start_time": "2023-03-24T13:25:15.396Z"
   },
   {
    "duration": 17,
    "start_time": "2023-03-24T13:25:15.699Z"
   },
   {
    "duration": 5,
    "start_time": "2023-03-24T13:25:15.718Z"
   },
   {
    "duration": 8,
    "start_time": "2023-03-24T13:25:15.725Z"
   },
   {
    "duration": 4,
    "start_time": "2023-03-24T13:25:15.735Z"
   },
   {
    "duration": 15,
    "start_time": "2023-03-24T13:25:15.742Z"
   },
   {
    "duration": 7,
    "start_time": "2023-03-24T13:25:15.789Z"
   },
   {
    "duration": 18,
    "start_time": "2023-03-24T13:25:15.798Z"
   },
   {
    "duration": 16,
    "start_time": "2023-03-24T13:25:15.819Z"
   },
   {
    "duration": 5,
    "start_time": "2023-03-24T13:25:15.836Z"
   },
   {
    "duration": 16,
    "start_time": "2023-03-24T13:25:15.843Z"
   },
   {
    "duration": 43,
    "start_time": "2023-03-24T13:25:15.861Z"
   },
   {
    "duration": 11,
    "start_time": "2023-03-24T13:25:15.906Z"
   },
   {
    "duration": 132,
    "start_time": "2023-03-24T13:25:15.919Z"
   },
   {
    "duration": 287,
    "start_time": "2023-03-24T13:25:16.052Z"
   },
   {
    "duration": 7,
    "start_time": "2023-03-24T13:25:16.341Z"
   },
   {
    "duration": 158,
    "start_time": "2023-03-24T13:25:16.350Z"
   },
   {
    "duration": 20,
    "start_time": "2023-03-24T13:25:16.510Z"
   },
   {
    "duration": 7,
    "start_time": "2023-03-24T13:25:16.532Z"
   },
   {
    "duration": 146,
    "start_time": "2023-03-24T13:25:16.541Z"
   },
   {
    "duration": 21,
    "start_time": "2023-03-24T13:25:16.695Z"
   },
   {
    "duration": 212,
    "start_time": "2023-03-24T13:25:16.718Z"
   },
   {
    "duration": 116,
    "start_time": "2023-03-24T13:25:16.932Z"
   },
   {
    "duration": 4,
    "start_time": "2023-03-24T13:25:17.050Z"
   },
   {
    "duration": 168,
    "start_time": "2023-03-24T13:25:17.056Z"
   },
   {
    "duration": 6,
    "start_time": "2023-03-24T13:25:17.226Z"
   },
   {
    "duration": 6,
    "start_time": "2023-03-24T13:25:17.234Z"
   },
   {
    "duration": 11,
    "start_time": "2023-03-24T13:25:17.242Z"
   },
   {
    "duration": 191,
    "start_time": "2023-03-24T13:25:17.255Z"
   },
   {
    "duration": 122,
    "start_time": "2023-03-24T13:25:17.449Z"
   },
   {
    "duration": 14,
    "start_time": "2023-03-24T13:25:17.574Z"
   },
   {
    "duration": 172,
    "start_time": "2023-03-24T13:25:17.591Z"
   },
   {
    "duration": 122,
    "start_time": "2023-03-24T13:25:17.769Z"
   },
   {
    "duration": 10,
    "start_time": "2023-03-24T13:25:17.894Z"
   },
   {
    "duration": 14,
    "start_time": "2023-03-24T13:25:17.906Z"
   },
   {
    "duration": 7,
    "start_time": "2023-03-24T13:25:17.922Z"
   },
   {
    "duration": 10,
    "start_time": "2023-03-24T13:25:17.931Z"
   },
   {
    "duration": 10,
    "start_time": "2023-03-24T13:25:17.944Z"
   },
   {
    "duration": 12,
    "start_time": "2023-03-24T13:25:17.956Z"
   },
   {
    "duration": 197,
    "start_time": "2023-03-24T13:25:17.970Z"
   },
   {
    "duration": 143,
    "start_time": "2023-03-24T13:25:18.169Z"
   },
   {
    "duration": 6,
    "start_time": "2023-03-24T13:25:18.314Z"
   },
   {
    "duration": 21,
    "start_time": "2023-03-24T13:25:18.321Z"
   },
   {
    "duration": 6,
    "start_time": "2023-03-24T13:25:18.343Z"
   },
   {
    "duration": 9,
    "start_time": "2023-03-24T13:25:18.351Z"
   },
   {
    "duration": 27,
    "start_time": "2023-03-24T13:25:18.362Z"
   },
   {
    "duration": 332,
    "start_time": "2023-03-24T13:25:18.391Z"
   },
   {
    "duration": 32,
    "start_time": "2023-03-24T13:25:18.725Z"
   },
   {
    "duration": 1358,
    "start_time": "2023-03-24T13:25:18.759Z"
   },
   {
    "duration": 232,
    "start_time": "2023-03-24T13:25:20.118Z"
   },
   {
    "duration": 58,
    "start_time": "2023-03-24T13:25:20.351Z"
   },
   {
    "duration": 99,
    "start_time": "2023-03-24T13:25:20.489Z"
   },
   {
    "duration": 16,
    "start_time": "2023-03-24T13:25:20.591Z"
   },
   {
    "duration": 25,
    "start_time": "2023-03-24T13:25:20.610Z"
   },
   {
    "duration": 155,
    "start_time": "2023-03-24T13:25:20.637Z"
   },
   {
    "duration": 205,
    "start_time": "2023-03-24T13:25:20.795Z"
   },
   {
    "duration": 388,
    "start_time": "2023-03-24T13:25:21.005Z"
   },
   {
    "duration": 34,
    "start_time": "2023-03-24T13:25:21.394Z"
   },
   {
    "duration": 1705,
    "start_time": "2023-03-24T13:25:21.430Z"
   },
   {
    "duration": 221,
    "start_time": "2023-03-24T13:25:23.137Z"
   },
   {
    "duration": 158,
    "start_time": "2023-03-24T13:25:23.360Z"
   },
   {
    "duration": 11,
    "start_time": "2023-03-24T13:25:23.520Z"
   },
   {
    "duration": 155,
    "start_time": "2023-03-24T13:25:23.533Z"
   },
   {
    "duration": 201,
    "start_time": "2023-03-24T13:25:23.691Z"
   },
   {
    "duration": 22,
    "start_time": "2023-03-24T13:25:23.894Z"
   },
   {
    "duration": 227,
    "start_time": "2023-03-24T13:25:23.918Z"
   },
   {
    "duration": 104,
    "start_time": "2023-03-24T13:25:24.147Z"
   },
   {
    "duration": 164,
    "start_time": "2023-03-24T13:25:24.252Z"
   },
   {
    "duration": 220,
    "start_time": "2023-03-24T13:25:24.418Z"
   },
   {
    "duration": 156,
    "start_time": "2023-03-24T13:25:24.640Z"
   },
   {
    "duration": 301,
    "start_time": "2023-03-24T13:25:24.800Z"
   },
   {
    "duration": 285,
    "start_time": "2023-03-24T13:25:48.445Z"
   },
   {
    "duration": 270,
    "start_time": "2023-03-24T13:27:27.758Z"
   },
   {
    "duration": 518,
    "start_time": "2023-03-24T13:27:53.843Z"
   },
   {
    "duration": 4,
    "start_time": "2023-03-24T14:18:42.241Z"
   },
   {
    "duration": 20,
    "start_time": "2023-03-24T14:19:20.297Z"
   },
   {
    "duration": 16,
    "start_time": "2023-03-24T14:21:43.054Z"
   },
   {
    "duration": 19,
    "start_time": "2023-03-24T14:22:13.651Z"
   },
   {
    "duration": 18,
    "start_time": "2023-03-24T14:22:23.636Z"
   },
   {
    "duration": 4,
    "start_time": "2023-03-24T14:22:43.545Z"
   },
   {
    "duration": 4,
    "start_time": "2023-03-24T14:22:44.818Z"
   },
   {
    "duration": 4,
    "start_time": "2023-03-24T14:22:45.293Z"
   },
   {
    "duration": 4,
    "start_time": "2023-03-24T14:22:45.587Z"
   },
   {
    "duration": 3,
    "start_time": "2023-03-24T14:22:45.833Z"
   },
   {
    "duration": 3,
    "start_time": "2023-03-24T14:22:46.056Z"
   },
   {
    "duration": 3,
    "start_time": "2023-03-24T14:22:46.259Z"
   },
   {
    "duration": 4,
    "start_time": "2023-03-24T14:22:46.448Z"
   },
   {
    "duration": 3,
    "start_time": "2023-03-24T14:22:46.908Z"
   },
   {
    "duration": 3,
    "start_time": "2023-03-24T14:22:47.221Z"
   },
   {
    "duration": 200,
    "start_time": "2023-03-24T14:23:17.270Z"
   },
   {
    "duration": 4,
    "start_time": "2023-03-24T14:23:40.036Z"
   },
   {
    "duration": 205,
    "start_time": "2023-03-24T14:25:54.376Z"
   },
   {
    "duration": 320,
    "start_time": "2023-03-24T14:28:57.761Z"
   },
   {
    "duration": 12,
    "start_time": "2023-03-24T14:29:04.445Z"
   },
   {
    "duration": 46,
    "start_time": "2023-03-24T14:29:25.611Z"
   },
   {
    "duration": 50,
    "start_time": "2023-03-24T14:29:37.330Z"
   },
   {
    "duration": 10,
    "start_time": "2023-03-24T14:31:57.154Z"
   },
   {
    "duration": 46,
    "start_time": "2023-03-24T14:32:05.376Z"
   },
   {
    "duration": 9,
    "start_time": "2023-03-24T14:32:14.551Z"
   },
   {
    "duration": 12,
    "start_time": "2023-03-24T14:32:26.696Z"
   },
   {
    "duration": 4,
    "start_time": "2023-03-24T14:32:42.584Z"
   },
   {
    "duration": 4,
    "start_time": "2023-03-24T14:32:58.984Z"
   },
   {
    "duration": 3,
    "start_time": "2023-03-24T14:33:14.442Z"
   },
   {
    "duration": 5,
    "start_time": "2023-03-24T14:33:19.251Z"
   },
   {
    "duration": 11,
    "start_time": "2023-03-24T14:33:43.390Z"
   },
   {
    "duration": 11,
    "start_time": "2023-03-24T14:33:50.743Z"
   },
   {
    "duration": 3,
    "start_time": "2023-03-24T14:34:00.948Z"
   },
   {
    "duration": 4,
    "start_time": "2023-03-24T14:34:32.306Z"
   },
   {
    "duration": 4,
    "start_time": "2023-03-24T14:34:37.043Z"
   },
   {
    "duration": 4,
    "start_time": "2023-03-24T14:34:41.914Z"
   },
   {
    "duration": 4,
    "start_time": "2023-03-24T14:34:56.964Z"
   },
   {
    "duration": 4,
    "start_time": "2023-03-24T14:35:07.198Z"
   },
   {
    "duration": 7,
    "start_time": "2023-03-24T14:35:20.442Z"
   },
   {
    "duration": 11,
    "start_time": "2023-03-24T14:35:30.977Z"
   },
   {
    "duration": 10,
    "start_time": "2023-03-24T14:35:40.625Z"
   },
   {
    "duration": 11,
    "start_time": "2023-03-24T14:35:43.951Z"
   },
   {
    "duration": 4,
    "start_time": "2023-03-24T14:35:52.967Z"
   },
   {
    "duration": 8,
    "start_time": "2023-03-24T14:36:20.614Z"
   },
   {
    "duration": 6,
    "start_time": "2023-03-24T14:36:30.603Z"
   },
   {
    "duration": 7,
    "start_time": "2023-03-24T14:36:40.471Z"
   },
   {
    "duration": 4,
    "start_time": "2023-03-24T14:36:57.283Z"
   },
   {
    "duration": 5,
    "start_time": "2023-03-24T14:37:02.199Z"
   },
   {
    "duration": 6,
    "start_time": "2023-03-24T14:37:15.543Z"
   },
   {
    "duration": 529,
    "start_time": "2023-03-24T14:37:40.540Z"
   },
   {
    "duration": 600,
    "start_time": "2023-03-24T14:41:00.349Z"
   },
   {
    "duration": 4,
    "start_time": "2023-03-24T14:42:00.943Z"
   },
   {
    "duration": 1046,
    "start_time": "2023-03-24T14:42:31.611Z"
   },
   {
    "duration": 4,
    "start_time": "2023-03-24T14:42:34.975Z"
   },
   {
    "duration": 27,
    "start_time": "2023-03-24T14:43:05.409Z"
   },
   {
    "duration": 4,
    "start_time": "2023-03-24T14:43:08.441Z"
   },
   {
    "duration": 7,
    "start_time": "2023-03-24T14:43:21.389Z"
   },
   {
    "duration": 4,
    "start_time": "2023-03-24T14:43:22.212Z"
   },
   {
    "duration": 10,
    "start_time": "2023-03-24T14:44:38.234Z"
   },
   {
    "duration": 10,
    "start_time": "2023-03-24T14:44:39.875Z"
   },
   {
    "duration": 11,
    "start_time": "2023-03-24T14:44:40.546Z"
   },
   {
    "duration": 10,
    "start_time": "2023-03-24T14:44:41.005Z"
   },
   {
    "duration": 8,
    "start_time": "2023-03-24T14:44:41.536Z"
   },
   {
    "duration": 10,
    "start_time": "2023-03-24T14:44:41.941Z"
   },
   {
    "duration": 7,
    "start_time": "2023-03-24T14:44:42.381Z"
   },
   {
    "duration": 9,
    "start_time": "2023-03-24T14:44:42.800Z"
   },
   {
    "duration": 10,
    "start_time": "2023-03-24T14:46:56.873Z"
   },
   {
    "duration": 10,
    "start_time": "2023-03-24T14:46:59.039Z"
   },
   {
    "duration": 9,
    "start_time": "2023-03-24T14:46:59.455Z"
   },
   {
    "duration": 10,
    "start_time": "2023-03-24T14:46:59.851Z"
   },
   {
    "duration": 10,
    "start_time": "2023-03-24T14:47:00.185Z"
   },
   {
    "duration": 11,
    "start_time": "2023-03-24T14:47:00.468Z"
   },
   {
    "duration": 10,
    "start_time": "2023-03-24T14:47:00.687Z"
   },
   {
    "duration": 11,
    "start_time": "2023-03-24T14:47:01.064Z"
   },
   {
    "duration": 10,
    "start_time": "2023-03-24T14:47:01.640Z"
   },
   {
    "duration": 9,
    "start_time": "2023-03-24T14:47:02.154Z"
   },
   {
    "duration": 10,
    "start_time": "2023-03-24T14:47:03.165Z"
   },
   {
    "duration": 11,
    "start_time": "2023-03-24T14:47:27.908Z"
   },
   {
    "duration": 11,
    "start_time": "2023-03-24T14:47:28.505Z"
   },
   {
    "duration": 8,
    "start_time": "2023-03-24T14:47:28.914Z"
   },
   {
    "duration": 11,
    "start_time": "2023-03-24T14:47:29.235Z"
   },
   {
    "duration": 10,
    "start_time": "2023-03-24T14:47:29.500Z"
   },
   {
    "duration": 10,
    "start_time": "2023-03-24T14:47:29.853Z"
   },
   {
    "duration": 10,
    "start_time": "2023-03-24T14:47:30.167Z"
   },
   {
    "duration": 15,
    "start_time": "2023-03-24T14:47:30.437Z"
   },
   {
    "duration": 9,
    "start_time": "2023-03-24T14:54:50.271Z"
   },
   {
    "duration": 10,
    "start_time": "2023-03-24T15:02:38.927Z"
   },
   {
    "duration": 9,
    "start_time": "2023-03-24T15:02:40.851Z"
   },
   {
    "duration": 344,
    "start_time": "2023-03-24T15:18:27.401Z"
   },
   {
    "duration": 47,
    "start_time": "2023-03-24T15:18:53.440Z"
   },
   {
    "duration": 164,
    "start_time": "2023-03-24T15:19:00.083Z"
   },
   {
    "duration": 40,
    "start_time": "2023-03-24T15:19:03.607Z"
   },
   {
    "duration": 270,
    "start_time": "2023-03-24T15:19:18.929Z"
   },
   {
    "duration": 268,
    "start_time": "2023-03-24T15:19:27.590Z"
   },
   {
    "duration": 20,
    "start_time": "2023-03-24T15:19:35.562Z"
   },
   {
    "duration": 269,
    "start_time": "2023-03-24T15:19:42.193Z"
   },
   {
    "duration": 20,
    "start_time": "2023-03-24T15:19:59.033Z"
   },
   {
    "duration": 34,
    "start_time": "2023-03-24T15:20:21.215Z"
   },
   {
    "duration": 341,
    "start_time": "2023-03-24T15:20:49.751Z"
   },
   {
    "duration": 293,
    "start_time": "2023-03-24T15:20:51.841Z"
   },
   {
    "duration": 20,
    "start_time": "2023-03-24T15:20:57.418Z"
   },
   {
    "duration": 22,
    "start_time": "2023-03-24T15:20:58.614Z"
   },
   {
    "duration": 294,
    "start_time": "2023-03-24T15:21:01.937Z"
   },
   {
    "duration": 299,
    "start_time": "2023-03-24T15:21:04.621Z"
   },
   {
    "duration": 311,
    "start_time": "2023-03-24T15:21:05.707Z"
   },
   {
    "duration": 4,
    "start_time": "2023-03-24T15:21:34.437Z"
   },
   {
    "duration": 63,
    "start_time": "2023-03-24T15:21:34.443Z"
   },
   {
    "duration": 25,
    "start_time": "2023-03-24T15:21:34.508Z"
   },
   {
    "duration": 11,
    "start_time": "2023-03-24T15:21:34.535Z"
   },
   {
    "duration": 342,
    "start_time": "2023-03-24T15:21:34.548Z"
   },
   {
    "duration": 25,
    "start_time": "2023-03-24T15:21:34.896Z"
   },
   {
    "duration": 18,
    "start_time": "2023-03-24T15:21:34.923Z"
   },
   {
    "duration": 6,
    "start_time": "2023-03-24T15:21:34.943Z"
   },
   {
    "duration": 344,
    "start_time": "2023-03-24T15:21:34.952Z"
   },
   {
    "duration": 16,
    "start_time": "2023-03-24T15:21:35.300Z"
   },
   {
    "duration": 28,
    "start_time": "2023-03-24T15:21:35.318Z"
   },
   {
    "duration": 62,
    "start_time": "2023-03-24T15:21:35.347Z"
   },
   {
    "duration": 27,
    "start_time": "2023-03-24T15:21:35.411Z"
   },
   {
    "duration": 37,
    "start_time": "2023-03-24T15:21:35.439Z"
   },
   {
    "duration": 23,
    "start_time": "2023-03-24T15:21:35.478Z"
   },
   {
    "duration": 19,
    "start_time": "2023-03-24T15:21:35.503Z"
   },
   {
    "duration": 19,
    "start_time": "2023-03-24T15:21:35.523Z"
   },
   {
    "duration": 5,
    "start_time": "2023-03-24T15:21:35.544Z"
   },
   {
    "duration": 27,
    "start_time": "2023-03-24T15:21:35.551Z"
   },
   {
    "duration": 30,
    "start_time": "2023-03-24T15:21:35.579Z"
   },
   {
    "duration": 30,
    "start_time": "2023-03-24T15:21:35.613Z"
   },
   {
    "duration": 103,
    "start_time": "2023-03-24T15:21:35.645Z"
   },
   {
    "duration": 186,
    "start_time": "2023-03-24T15:21:35.750Z"
   },
   {
    "duration": 6,
    "start_time": "2023-03-24T15:21:35.942Z"
   },
   {
    "duration": 154,
    "start_time": "2023-03-24T15:21:35.950Z"
   },
   {
    "duration": 16,
    "start_time": "2023-03-24T15:21:36.106Z"
   },
   {
    "duration": 18,
    "start_time": "2023-03-24T15:21:36.124Z"
   },
   {
    "duration": 114,
    "start_time": "2023-03-24T15:21:36.143Z"
   },
   {
    "duration": 37,
    "start_time": "2023-03-24T15:21:36.259Z"
   },
   {
    "duration": 229,
    "start_time": "2023-03-24T15:21:36.302Z"
   },
   {
    "duration": 121,
    "start_time": "2023-03-24T15:21:36.533Z"
   },
   {
    "duration": 5,
    "start_time": "2023-03-24T15:21:36.655Z"
   },
   {
    "duration": 175,
    "start_time": "2023-03-24T15:21:36.661Z"
   },
   {
    "duration": 7,
    "start_time": "2023-03-24T15:21:36.838Z"
   },
   {
    "duration": 14,
    "start_time": "2023-03-24T15:21:36.847Z"
   },
   {
    "duration": 26,
    "start_time": "2023-03-24T15:21:36.863Z"
   },
   {
    "duration": 338,
    "start_time": "2023-03-24T15:21:36.895Z"
   },
   {
    "duration": 107,
    "start_time": "2023-03-24T15:21:37.235Z"
   },
   {
    "duration": 6,
    "start_time": "2023-03-24T15:21:37.344Z"
   },
   {
    "duration": 175,
    "start_time": "2023-03-24T15:21:37.351Z"
   },
   {
    "duration": 213,
    "start_time": "2023-03-24T15:21:37.528Z"
   },
   {
    "duration": 4,
    "start_time": "2023-03-24T15:21:37.743Z"
   },
   {
    "duration": 11,
    "start_time": "2023-03-24T15:21:37.748Z"
   },
   {
    "duration": 5,
    "start_time": "2023-03-24T15:21:37.761Z"
   },
   {
    "duration": 20,
    "start_time": "2023-03-24T15:21:37.790Z"
   },
   {
    "duration": 6,
    "start_time": "2023-03-24T15:21:37.813Z"
   },
   {
    "duration": 13,
    "start_time": "2023-03-24T15:21:37.820Z"
   },
   {
    "duration": 269,
    "start_time": "2023-03-24T15:21:37.835Z"
   },
   {
    "duration": 128,
    "start_time": "2023-03-24T15:21:38.105Z"
   },
   {
    "duration": 6,
    "start_time": "2023-03-24T15:21:38.236Z"
   },
   {
    "duration": 36,
    "start_time": "2023-03-24T15:21:38.243Z"
   },
   {
    "duration": 28,
    "start_time": "2023-03-24T15:21:38.281Z"
   },
   {
    "duration": 18,
    "start_time": "2023-03-24T15:21:38.311Z"
   },
   {
    "duration": 6,
    "start_time": "2023-03-24T15:21:38.331Z"
   },
   {
    "duration": 217,
    "start_time": "2023-03-24T15:21:38.339Z"
   },
   {
    "duration": 46,
    "start_time": "2023-03-24T15:21:38.558Z"
   },
   {
    "duration": 1267,
    "start_time": "2023-03-24T15:21:38.605Z"
   },
   {
    "duration": 239,
    "start_time": "2023-03-24T15:21:39.875Z"
   },
   {
    "duration": 97,
    "start_time": "2023-03-24T15:21:40.116Z"
   },
   {
    "duration": 17,
    "start_time": "2023-03-24T15:21:40.291Z"
   },
   {
    "duration": 28,
    "start_time": "2023-03-24T15:21:40.388Z"
   },
   {
    "duration": 22,
    "start_time": "2023-03-24T15:21:40.418Z"
   },
   {
    "duration": 76,
    "start_time": "2023-03-24T15:21:40.442Z"
   },
   {
    "duration": 303,
    "start_time": "2023-03-24T15:21:40.588Z"
   },
   {
    "duration": 222,
    "start_time": "2023-03-24T15:21:40.894Z"
   },
   {
    "duration": 0,
    "start_time": "2023-03-24T15:21:41.118Z"
   },
   {
    "duration": 0,
    "start_time": "2023-03-24T15:21:41.120Z"
   },
   {
    "duration": 0,
    "start_time": "2023-03-24T15:21:41.122Z"
   },
   {
    "duration": 0,
    "start_time": "2023-03-24T15:21:41.123Z"
   },
   {
    "duration": 0,
    "start_time": "2023-03-24T15:21:41.125Z"
   },
   {
    "duration": 0,
    "start_time": "2023-03-24T15:21:41.128Z"
   },
   {
    "duration": 0,
    "start_time": "2023-03-24T15:21:41.129Z"
   },
   {
    "duration": 0,
    "start_time": "2023-03-24T15:21:41.131Z"
   },
   {
    "duration": 0,
    "start_time": "2023-03-24T15:21:41.132Z"
   },
   {
    "duration": 0,
    "start_time": "2023-03-24T15:21:41.134Z"
   },
   {
    "duration": 0,
    "start_time": "2023-03-24T15:21:41.135Z"
   },
   {
    "duration": 0,
    "start_time": "2023-03-24T15:21:41.137Z"
   },
   {
    "duration": 0,
    "start_time": "2023-03-24T15:21:41.138Z"
   },
   {
    "duration": 0,
    "start_time": "2023-03-24T15:21:41.140Z"
   },
   {
    "duration": 0,
    "start_time": "2023-03-24T15:21:41.142Z"
   },
   {
    "duration": 0,
    "start_time": "2023-03-24T15:21:41.144Z"
   },
   {
    "duration": 301,
    "start_time": "2023-03-24T15:22:01.303Z"
   },
   {
    "duration": 300,
    "start_time": "2023-03-24T15:22:03.206Z"
   },
   {
    "duration": 292,
    "start_time": "2023-03-24T15:22:03.927Z"
   },
   {
    "duration": 281,
    "start_time": "2023-03-24T15:22:04.576Z"
   },
   {
    "duration": 285,
    "start_time": "2023-03-24T15:22:05.178Z"
   },
   {
    "duration": 291,
    "start_time": "2023-03-24T15:22:05.780Z"
   },
   {
    "duration": 295,
    "start_time": "2023-03-24T15:22:06.374Z"
   },
   {
    "duration": 276,
    "start_time": "2023-03-24T15:22:07.129Z"
   },
   {
    "duration": 286,
    "start_time": "2023-03-24T15:22:07.917Z"
   },
   {
    "duration": 282,
    "start_time": "2023-03-24T15:22:13.972Z"
   },
   {
    "duration": 327,
    "start_time": "2023-03-24T15:22:18.795Z"
   },
   {
    "duration": 367,
    "start_time": "2023-03-24T15:22:49.071Z"
   },
   {
    "duration": 335,
    "start_time": "2023-03-24T15:23:05.317Z"
   },
   {
    "duration": 320,
    "start_time": "2023-03-24T15:23:23.148Z"
   },
   {
    "duration": 5,
    "start_time": "2023-03-24T15:23:48.551Z"
   },
   {
    "duration": 52,
    "start_time": "2023-03-24T15:23:48.558Z"
   },
   {
    "duration": 35,
    "start_time": "2023-03-24T15:23:48.613Z"
   },
   {
    "duration": 15,
    "start_time": "2023-03-24T15:23:48.651Z"
   },
   {
    "duration": 334,
    "start_time": "2023-03-24T15:23:48.668Z"
   },
   {
    "duration": 30,
    "start_time": "2023-03-24T15:23:49.006Z"
   },
   {
    "duration": 22,
    "start_time": "2023-03-24T15:23:49.039Z"
   },
   {
    "duration": 54,
    "start_time": "2023-03-24T15:23:49.064Z"
   },
   {
    "duration": 329,
    "start_time": "2023-03-24T15:23:49.122Z"
   },
   {
    "duration": 13,
    "start_time": "2023-03-24T15:23:49.453Z"
   },
   {
    "duration": 28,
    "start_time": "2023-03-24T15:23:49.468Z"
   },
   {
    "duration": 24,
    "start_time": "2023-03-24T15:23:49.498Z"
   },
   {
    "duration": 5,
    "start_time": "2023-03-24T15:23:49.524Z"
   },
   {
    "duration": 19,
    "start_time": "2023-03-24T15:23:49.531Z"
   },
   {
    "duration": 7,
    "start_time": "2023-03-24T15:23:49.552Z"
   },
   {
    "duration": 7,
    "start_time": "2023-03-24T15:23:49.560Z"
   },
   {
    "duration": 33,
    "start_time": "2023-03-24T15:23:49.568Z"
   },
   {
    "duration": 17,
    "start_time": "2023-03-24T15:23:49.602Z"
   },
   {
    "duration": 12,
    "start_time": "2023-03-24T15:23:49.623Z"
   },
   {
    "duration": 17,
    "start_time": "2023-03-24T15:23:49.636Z"
   },
   {
    "duration": 9,
    "start_time": "2023-03-24T15:23:49.655Z"
   },
   {
    "duration": 129,
    "start_time": "2023-03-24T15:23:49.666Z"
   },
   {
    "duration": 203,
    "start_time": "2023-03-24T15:23:49.798Z"
   },
   {
    "duration": 9,
    "start_time": "2023-03-24T15:23:50.006Z"
   },
   {
    "duration": 141,
    "start_time": "2023-03-24T15:23:50.017Z"
   },
   {
    "duration": 17,
    "start_time": "2023-03-24T15:23:50.160Z"
   },
   {
    "duration": 26,
    "start_time": "2023-03-24T15:23:50.187Z"
   },
   {
    "duration": 116,
    "start_time": "2023-03-24T15:23:50.215Z"
   },
   {
    "duration": 18,
    "start_time": "2023-03-24T15:23:50.333Z"
   },
   {
    "duration": 265,
    "start_time": "2023-03-24T15:23:50.353Z"
   },
   {
    "duration": 151,
    "start_time": "2023-03-24T15:23:50.622Z"
   },
   {
    "duration": 5,
    "start_time": "2023-03-24T15:23:50.775Z"
   },
   {
    "duration": 353,
    "start_time": "2023-03-24T15:23:50.788Z"
   },
   {
    "duration": 7,
    "start_time": "2023-03-24T15:23:51.144Z"
   },
   {
    "duration": 11,
    "start_time": "2023-03-24T15:23:51.153Z"
   },
   {
    "duration": 72,
    "start_time": "2023-03-24T15:23:51.166Z"
   },
   {
    "duration": 198,
    "start_time": "2023-03-24T15:23:51.241Z"
   },
   {
    "duration": 136,
    "start_time": "2023-03-24T15:23:51.441Z"
   },
   {
    "duration": 16,
    "start_time": "2023-03-24T15:23:51.580Z"
   },
   {
    "duration": 222,
    "start_time": "2023-03-24T15:23:51.597Z"
   },
   {
    "duration": 142,
    "start_time": "2023-03-24T15:23:51.821Z"
   },
   {
    "duration": 5,
    "start_time": "2023-03-24T15:23:51.965Z"
   },
   {
    "duration": 35,
    "start_time": "2023-03-24T15:23:51.972Z"
   },
   {
    "duration": 14,
    "start_time": "2023-03-24T15:23:52.011Z"
   },
   {
    "duration": 12,
    "start_time": "2023-03-24T15:23:52.028Z"
   },
   {
    "duration": 6,
    "start_time": "2023-03-24T15:23:52.042Z"
   },
   {
    "duration": 16,
    "start_time": "2023-03-24T15:23:52.050Z"
   },
   {
    "duration": 158,
    "start_time": "2023-03-24T15:23:52.068Z"
   },
   {
    "duration": 138,
    "start_time": "2023-03-24T15:23:52.228Z"
   },
   {
    "duration": 6,
    "start_time": "2023-03-24T15:23:52.368Z"
   },
   {
    "duration": 22,
    "start_time": "2023-03-24T15:23:52.376Z"
   },
   {
    "duration": 9,
    "start_time": "2023-03-24T15:23:52.406Z"
   },
   {
    "duration": 14,
    "start_time": "2023-03-24T15:23:52.417Z"
   },
   {
    "duration": 7,
    "start_time": "2023-03-24T15:23:52.433Z"
   },
   {
    "duration": 231,
    "start_time": "2023-03-24T15:23:52.441Z"
   },
   {
    "duration": 34,
    "start_time": "2023-03-24T15:23:52.674Z"
   },
   {
    "duration": 1350,
    "start_time": "2023-03-24T15:23:52.712Z"
   },
   {
    "duration": 268,
    "start_time": "2023-03-24T15:23:54.064Z"
   },
   {
    "duration": 157,
    "start_time": "2023-03-24T15:23:54.336Z"
   },
   {
    "duration": 14,
    "start_time": "2023-03-24T15:23:54.495Z"
   },
   {
    "duration": 77,
    "start_time": "2023-03-24T15:23:54.516Z"
   },
   {
    "duration": 21,
    "start_time": "2023-03-24T15:23:54.595Z"
   },
   {
    "duration": 172,
    "start_time": "2023-03-24T15:23:54.618Z"
   },
   {
    "duration": 197,
    "start_time": "2023-03-24T15:23:54.798Z"
   },
   {
    "duration": 403,
    "start_time": "2023-03-24T15:23:54.998Z"
   },
   {
    "duration": 21,
    "start_time": "2023-03-24T15:23:55.412Z"
   },
   {
    "duration": 1822,
    "start_time": "2023-03-24T15:23:55.435Z"
   },
   {
    "duration": 243,
    "start_time": "2023-03-24T15:23:57.259Z"
   },
   {
    "duration": 136,
    "start_time": "2023-03-24T15:23:57.514Z"
   },
   {
    "duration": 10,
    "start_time": "2023-03-24T15:23:57.652Z"
   },
   {
    "duration": 47,
    "start_time": "2023-03-24T15:23:57.664Z"
   },
   {
    "duration": 299,
    "start_time": "2023-03-24T15:23:57.713Z"
   },
   {
    "duration": 26,
    "start_time": "2023-03-24T15:23:58.014Z"
   },
   {
    "duration": 234,
    "start_time": "2023-03-24T15:23:58.042Z"
   },
   {
    "duration": 127,
    "start_time": "2023-03-24T15:23:58.278Z"
   },
   {
    "duration": 157,
    "start_time": "2023-03-24T15:23:58.408Z"
   },
   {
    "duration": 239,
    "start_time": "2023-03-24T15:23:58.567Z"
   },
   {
    "duration": 151,
    "start_time": "2023-03-24T15:23:58.807Z"
   },
   {
    "duration": 11,
    "start_time": "2023-03-24T15:23:58.960Z"
   },
   {
    "duration": 33,
    "start_time": "2023-03-24T15:23:58.973Z"
   },
   {
    "duration": 316,
    "start_time": "2023-03-24T15:25:05.946Z"
   },
   {
    "duration": 35,
    "start_time": "2023-03-24T15:25:11.459Z"
   },
   {
    "duration": 308,
    "start_time": "2023-03-24T15:25:43.867Z"
   },
   {
    "duration": 62,
    "start_time": "2023-03-24T15:25:47.057Z"
   },
   {
    "duration": 1858,
    "start_time": "2023-03-24T15:27:09.611Z"
   },
   {
    "duration": 1685,
    "start_time": "2023-03-24T15:27:23.675Z"
   },
   {
    "duration": 1733,
    "start_time": "2023-03-24T15:27:30.052Z"
   },
   {
    "duration": 248,
    "start_time": "2023-03-24T15:27:40.231Z"
   },
   {
    "duration": 142,
    "start_time": "2023-03-24T15:29:55.927Z"
   },
   {
    "duration": 4,
    "start_time": "2023-03-24T15:30:05.230Z"
   },
   {
    "duration": 43,
    "start_time": "2023-03-24T15:30:05.236Z"
   },
   {
    "duration": 35,
    "start_time": "2023-03-24T15:30:05.281Z"
   },
   {
    "duration": 12,
    "start_time": "2023-03-24T15:30:05.318Z"
   },
   {
    "duration": 320,
    "start_time": "2023-03-24T15:30:05.332Z"
   },
   {
    "duration": 43,
    "start_time": "2023-03-24T15:30:05.654Z"
   },
   {
    "duration": 20,
    "start_time": "2023-03-24T15:30:05.700Z"
   },
   {
    "duration": 5,
    "start_time": "2023-03-24T15:30:05.721Z"
   },
   {
    "duration": 310,
    "start_time": "2023-03-24T15:30:05.728Z"
   },
   {
    "duration": 13,
    "start_time": "2023-03-24T15:30:06.040Z"
   },
   {
    "duration": 15,
    "start_time": "2023-03-24T15:30:06.055Z"
   },
   {
    "duration": 20,
    "start_time": "2023-03-24T15:30:06.072Z"
   },
   {
    "duration": 15,
    "start_time": "2023-03-24T15:30:06.094Z"
   },
   {
    "duration": 31,
    "start_time": "2023-03-24T15:30:06.111Z"
   },
   {
    "duration": 27,
    "start_time": "2023-03-24T15:30:06.144Z"
   },
   {
    "duration": 5,
    "start_time": "2023-03-24T15:30:06.173Z"
   },
   {
    "duration": 30,
    "start_time": "2023-03-24T15:30:06.180Z"
   },
   {
    "duration": 10,
    "start_time": "2023-03-24T15:30:06.212Z"
   },
   {
    "duration": 15,
    "start_time": "2023-03-24T15:30:06.224Z"
   },
   {
    "duration": 37,
    "start_time": "2023-03-24T15:30:06.241Z"
   },
   {
    "duration": 15,
    "start_time": "2023-03-24T15:30:06.280Z"
   },
   {
    "duration": 127,
    "start_time": "2023-03-24T15:30:06.298Z"
   },
   {
    "duration": 238,
    "start_time": "2023-03-24T15:30:06.427Z"
   },
   {
    "duration": 8,
    "start_time": "2023-03-24T15:30:06.667Z"
   },
   {
    "duration": 139,
    "start_time": "2023-03-24T15:30:06.687Z"
   },
   {
    "duration": 16,
    "start_time": "2023-03-24T15:30:06.828Z"
   },
   {
    "duration": 5,
    "start_time": "2023-03-24T15:30:06.846Z"
   },
   {
    "duration": 157,
    "start_time": "2023-03-24T15:30:06.853Z"
   },
   {
    "duration": 16,
    "start_time": "2023-03-24T15:30:07.015Z"
   },
   {
    "duration": 215,
    "start_time": "2023-03-24T15:30:07.033Z"
   },
   {
    "duration": 289,
    "start_time": "2023-03-24T15:30:07.250Z"
   },
   {
    "duration": 5,
    "start_time": "2023-03-24T15:30:07.542Z"
   },
   {
    "duration": 201,
    "start_time": "2023-03-24T15:30:07.549Z"
   },
   {
    "duration": 6,
    "start_time": "2023-03-24T15:30:07.752Z"
   },
   {
    "duration": 44,
    "start_time": "2023-03-24T15:30:07.760Z"
   },
   {
    "duration": 21,
    "start_time": "2023-03-24T15:30:07.806Z"
   },
   {
    "duration": 158,
    "start_time": "2023-03-24T15:30:07.829Z"
   },
   {
    "duration": 134,
    "start_time": "2023-03-24T15:30:07.990Z"
   },
   {
    "duration": 6,
    "start_time": "2023-03-24T15:30:08.126Z"
   },
   {
    "duration": 166,
    "start_time": "2023-03-24T15:30:08.134Z"
   },
   {
    "duration": 140,
    "start_time": "2023-03-24T15:30:08.303Z"
   },
   {
    "duration": 4,
    "start_time": "2023-03-24T15:30:08.446Z"
   },
   {
    "duration": 12,
    "start_time": "2023-03-24T15:30:08.452Z"
   },
   {
    "duration": 21,
    "start_time": "2023-03-24T15:30:08.466Z"
   },
   {
    "duration": 23,
    "start_time": "2023-03-24T15:30:08.490Z"
   },
   {
    "duration": 7,
    "start_time": "2023-03-24T15:30:08.515Z"
   },
   {
    "duration": 18,
    "start_time": "2023-03-24T15:30:08.524Z"
   },
   {
    "duration": 179,
    "start_time": "2023-03-24T15:30:08.545Z"
   },
   {
    "duration": 141,
    "start_time": "2023-03-24T15:30:08.727Z"
   },
   {
    "duration": 16,
    "start_time": "2023-03-24T15:30:08.871Z"
   },
   {
    "duration": 29,
    "start_time": "2023-03-24T15:30:08.890Z"
   },
   {
    "duration": 6,
    "start_time": "2023-03-24T15:30:08.921Z"
   },
   {
    "duration": 18,
    "start_time": "2023-03-24T15:30:08.928Z"
   },
   {
    "duration": 22,
    "start_time": "2023-03-24T15:30:08.948Z"
   },
   {
    "duration": 232,
    "start_time": "2023-03-24T15:30:08.972Z"
   },
   {
    "duration": 31,
    "start_time": "2023-03-24T15:30:09.206Z"
   },
   {
    "duration": 1337,
    "start_time": "2023-03-24T15:30:09.239Z"
   },
   {
    "duration": 287,
    "start_time": "2023-03-24T15:30:10.580Z"
   },
   {
    "duration": 54,
    "start_time": "2023-03-24T15:30:10.869Z"
   },
   {
    "duration": 72,
    "start_time": "2023-03-24T15:30:10.924Z"
   },
   {
    "duration": 94,
    "start_time": "2023-03-24T15:30:10.999Z"
   },
   {
    "duration": 28,
    "start_time": "2023-03-24T15:30:11.096Z"
   },
   {
    "duration": 169,
    "start_time": "2023-03-24T15:30:11.127Z"
   },
   {
    "duration": 206,
    "start_time": "2023-03-24T15:30:11.299Z"
   },
   {
    "duration": 323,
    "start_time": "2023-03-24T15:30:11.591Z"
   },
   {
    "duration": 35,
    "start_time": "2023-03-24T15:30:11.916Z"
   },
   {
    "duration": 1704,
    "start_time": "2023-03-24T15:30:11.953Z"
   },
   {
    "duration": 228,
    "start_time": "2023-03-24T15:30:13.659Z"
   },
   {
    "duration": 162,
    "start_time": "2023-03-24T15:30:13.892Z"
   },
   {
    "duration": 13,
    "start_time": "2023-03-24T15:30:14.055Z"
   },
   {
    "duration": 118,
    "start_time": "2023-03-24T15:30:14.070Z"
   },
   {
    "duration": 209,
    "start_time": "2023-03-24T15:30:14.191Z"
   },
   {
    "duration": 21,
    "start_time": "2023-03-24T15:30:14.402Z"
   },
   {
    "duration": 223,
    "start_time": "2023-03-24T15:30:14.425Z"
   },
   {
    "duration": 102,
    "start_time": "2023-03-24T15:30:14.649Z"
   },
   {
    "duration": 158,
    "start_time": "2023-03-24T15:30:14.753Z"
   },
   {
    "duration": 234,
    "start_time": "2023-03-24T15:30:14.914Z"
   },
   {
    "duration": 152,
    "start_time": "2023-03-24T15:30:15.150Z"
   },
   {
    "duration": 14,
    "start_time": "2023-03-24T15:30:15.304Z"
   },
   {
    "duration": 13,
    "start_time": "2023-03-24T15:30:15.319Z"
   },
   {
    "duration": 285,
    "start_time": "2023-03-24T15:33:26.933Z"
   },
   {
    "duration": 131,
    "start_time": "2023-03-24T15:34:47.578Z"
   },
   {
    "duration": 126,
    "start_time": "2023-03-24T15:34:49.615Z"
   },
   {
    "duration": 121,
    "start_time": "2023-03-24T15:34:54.633Z"
   },
   {
    "duration": 140,
    "start_time": "2023-03-24T15:35:36.407Z"
   },
   {
    "duration": 141,
    "start_time": "2023-03-24T15:35:50.790Z"
   },
   {
    "duration": 137,
    "start_time": "2023-03-24T15:36:00.253Z"
   },
   {
    "duration": 121,
    "start_time": "2023-03-24T15:36:06.306Z"
   },
   {
    "duration": 118,
    "start_time": "2023-03-24T15:36:15.710Z"
   },
   {
    "duration": 113,
    "start_time": "2023-03-24T15:36:24.367Z"
   },
   {
    "duration": 23,
    "start_time": "2023-03-24T15:36:38.431Z"
   },
   {
    "duration": 211,
    "start_time": "2023-03-24T15:37:08.614Z"
   },
   {
    "duration": 204,
    "start_time": "2023-03-24T15:37:26.860Z"
   },
   {
    "duration": 203,
    "start_time": "2023-03-24T15:37:27.669Z"
   },
   {
    "duration": 72,
    "start_time": "2023-03-24T15:37:31.839Z"
   },
   {
    "duration": 74,
    "start_time": "2023-03-24T15:37:33.747Z"
   },
   {
    "duration": 94,
    "start_time": "2023-03-24T15:37:37.516Z"
   },
   {
    "duration": 77,
    "start_time": "2023-03-24T15:37:42.972Z"
   },
   {
    "duration": 74,
    "start_time": "2023-03-24T15:39:13.244Z"
   },
   {
    "duration": 141,
    "start_time": "2023-03-24T15:39:14.484Z"
   },
   {
    "duration": 78,
    "start_time": "2023-03-24T15:39:29.089Z"
   },
   {
    "duration": 142,
    "start_time": "2023-03-24T15:39:36.247Z"
   },
   {
    "duration": 68,
    "start_time": "2023-03-24T15:40:59.386Z"
   },
   {
    "duration": 68,
    "start_time": "2023-03-24T15:41:06.345Z"
   },
   {
    "duration": 70,
    "start_time": "2023-03-24T15:41:14.375Z"
   },
   {
    "duration": 177,
    "start_time": "2023-03-24T15:47:40.901Z"
   },
   {
    "duration": 1257,
    "start_time": "2023-03-24T15:49:11.233Z"
   },
   {
    "duration": 1198,
    "start_time": "2023-03-24T15:49:27.296Z"
   },
   {
    "duration": 223,
    "start_time": "2023-03-24T15:50:11.496Z"
   },
   {
    "duration": 32,
    "start_time": "2023-03-24T15:50:16.875Z"
   },
   {
    "duration": 214,
    "start_time": "2023-03-24T15:50:39.206Z"
   },
   {
    "duration": 1456,
    "start_time": "2023-03-24T15:50:45.609Z"
   },
   {
    "duration": 298,
    "start_time": "2023-03-24T15:50:50.755Z"
   },
   {
    "duration": 58,
    "start_time": "2023-03-24T15:51:03.093Z"
   },
   {
    "duration": 9,
    "start_time": "2023-03-24T15:52:36.136Z"
   },
   {
    "duration": 12,
    "start_time": "2023-03-24T15:52:43.055Z"
   },
   {
    "duration": 10,
    "start_time": "2023-03-24T15:52:51.841Z"
   },
   {
    "duration": 9,
    "start_time": "2023-03-24T15:53:10.285Z"
   },
   {
    "duration": 9,
    "start_time": "2023-03-24T15:53:26.599Z"
   },
   {
    "duration": 9,
    "start_time": "2023-03-24T15:53:29.058Z"
   },
   {
    "duration": 1590,
    "start_time": "2023-03-24T16:00:01.634Z"
   },
   {
    "duration": 46,
    "start_time": "2023-03-24T16:18:07.550Z"
   },
   {
    "duration": 60,
    "start_time": "2023-03-24T16:18:17.972Z"
   },
   {
    "duration": 38,
    "start_time": "2023-03-24T16:18:30.554Z"
   },
   {
    "duration": 31,
    "start_time": "2023-03-24T16:18:45.267Z"
   },
   {
    "duration": 60,
    "start_time": "2023-03-24T16:18:55.869Z"
   },
   {
    "duration": 7,
    "start_time": "2023-03-24T16:19:00.511Z"
   },
   {
    "duration": 87,
    "start_time": "2023-03-24T16:19:00.520Z"
   },
   {
    "duration": 27,
    "start_time": "2023-03-24T16:19:00.609Z"
   },
   {
    "duration": 26,
    "start_time": "2023-03-24T16:19:00.638Z"
   },
   {
    "duration": 300,
    "start_time": "2023-03-24T16:19:00.666Z"
   },
   {
    "duration": 33,
    "start_time": "2023-03-24T16:19:00.968Z"
   },
   {
    "duration": 39,
    "start_time": "2023-03-24T16:19:01.004Z"
   },
   {
    "duration": 23,
    "start_time": "2023-03-24T16:19:01.045Z"
   },
   {
    "duration": 302,
    "start_time": "2023-03-24T16:19:01.071Z"
   },
   {
    "duration": 24,
    "start_time": "2023-03-24T16:19:01.376Z"
   },
   {
    "duration": 41,
    "start_time": "2023-03-24T16:19:01.403Z"
   },
   {
    "duration": 39,
    "start_time": "2023-03-24T16:19:01.445Z"
   },
   {
    "duration": 93,
    "start_time": "2023-03-24T16:19:01.485Z"
   },
   {
    "duration": 76,
    "start_time": "2023-03-24T16:19:01.580Z"
   },
   {
    "duration": 42,
    "start_time": "2023-03-24T16:19:01.658Z"
   },
   {
    "duration": 40,
    "start_time": "2023-03-24T16:19:01.702Z"
   },
   {
    "duration": 53,
    "start_time": "2023-03-24T16:19:01.744Z"
   },
   {
    "duration": 40,
    "start_time": "2023-03-24T16:19:01.799Z"
   },
   {
    "duration": 41,
    "start_time": "2023-03-24T16:19:01.841Z"
   },
   {
    "duration": 44,
    "start_time": "2023-03-24T16:19:01.884Z"
   },
   {
    "duration": 42,
    "start_time": "2023-03-24T16:19:01.931Z"
   },
   {
    "duration": 121,
    "start_time": "2023-03-24T16:19:01.975Z"
   },
   {
    "duration": 195,
    "start_time": "2023-03-24T16:19:02.098Z"
   },
   {
    "duration": 7,
    "start_time": "2023-03-24T16:19:02.295Z"
   },
   {
    "duration": 127,
    "start_time": "2023-03-24T16:19:02.305Z"
   },
   {
    "duration": 17,
    "start_time": "2023-03-24T16:19:02.434Z"
   },
   {
    "duration": 12,
    "start_time": "2023-03-24T16:19:02.453Z"
   },
   {
    "duration": 122,
    "start_time": "2023-03-24T16:19:02.467Z"
   },
   {
    "duration": 17,
    "start_time": "2023-03-24T16:19:02.594Z"
   },
   {
    "duration": 209,
    "start_time": "2023-03-24T16:19:02.613Z"
   },
   {
    "duration": 291,
    "start_time": "2023-03-24T16:19:02.824Z"
   },
   {
    "duration": 4,
    "start_time": "2023-03-24T16:19:03.117Z"
   },
   {
    "duration": 166,
    "start_time": "2023-03-24T16:19:03.123Z"
   },
   {
    "duration": 6,
    "start_time": "2023-03-24T16:19:03.291Z"
   },
   {
    "duration": 7,
    "start_time": "2023-03-24T16:19:03.299Z"
   },
   {
    "duration": 8,
    "start_time": "2023-03-24T16:19:03.308Z"
   },
   {
    "duration": 180,
    "start_time": "2023-03-24T16:19:03.318Z"
   },
   {
    "duration": 110,
    "start_time": "2023-03-24T16:19:03.500Z"
   },
   {
    "duration": 6,
    "start_time": "2023-03-24T16:19:03.612Z"
   },
   {
    "duration": 154,
    "start_time": "2023-03-24T16:19:03.620Z"
   },
   {
    "duration": 118,
    "start_time": "2023-03-24T16:19:03.776Z"
   },
   {
    "duration": 4,
    "start_time": "2023-03-24T16:19:03.895Z"
   },
   {
    "duration": 33,
    "start_time": "2023-03-24T16:19:03.900Z"
   },
   {
    "duration": 23,
    "start_time": "2023-03-24T16:19:03.934Z"
   },
   {
    "duration": 15,
    "start_time": "2023-03-24T16:19:03.958Z"
   },
   {
    "duration": 7,
    "start_time": "2023-03-24T16:19:03.975Z"
   },
   {
    "duration": 17,
    "start_time": "2023-03-24T16:19:03.984Z"
   },
   {
    "duration": 148,
    "start_time": "2023-03-24T16:19:04.003Z"
   },
   {
    "duration": 126,
    "start_time": "2023-03-24T16:19:04.153Z"
   },
   {
    "duration": 6,
    "start_time": "2023-03-24T16:19:04.287Z"
   },
   {
    "duration": 15,
    "start_time": "2023-03-24T16:19:04.295Z"
   },
   {
    "duration": 14,
    "start_time": "2023-03-24T16:19:04.312Z"
   },
   {
    "duration": 9,
    "start_time": "2023-03-24T16:19:04.328Z"
   },
   {
    "duration": 9,
    "start_time": "2023-03-24T16:19:04.339Z"
   },
   {
    "duration": 238,
    "start_time": "2023-03-24T16:19:04.350Z"
   },
   {
    "duration": 36,
    "start_time": "2023-03-24T16:19:04.591Z"
   },
   {
    "duration": 1464,
    "start_time": "2023-03-24T16:19:04.629Z"
   },
   {
    "duration": 61,
    "start_time": "2023-03-24T16:19:06.095Z"
   },
   {
    "duration": 132,
    "start_time": "2023-03-24T16:19:06.158Z"
   },
   {
    "duration": 100,
    "start_time": "2023-03-24T16:19:06.293Z"
   },
   {
    "duration": 11,
    "start_time": "2023-03-24T16:19:06.395Z"
   },
   {
    "duration": 6,
    "start_time": "2023-03-24T16:19:06.408Z"
   },
   {
    "duration": 26,
    "start_time": "2023-03-24T16:19:06.416Z"
   },
   {
    "duration": 145,
    "start_time": "2023-03-24T16:19:06.444Z"
   },
   {
    "duration": 361,
    "start_time": "2023-03-24T16:19:06.592Z"
   },
   {
    "duration": 42,
    "start_time": "2023-03-24T16:19:06.955Z"
   },
   {
    "duration": 1525,
    "start_time": "2023-03-24T16:19:06.999Z"
   },
   {
    "duration": 203,
    "start_time": "2023-03-24T16:19:08.526Z"
   },
   {
    "duration": 151,
    "start_time": "2023-03-24T16:19:08.731Z"
   },
   {
    "duration": 11,
    "start_time": "2023-03-24T16:19:08.886Z"
   },
   {
    "duration": 190,
    "start_time": "2023-03-24T16:19:08.898Z"
   },
   {
    "duration": 158,
    "start_time": "2023-03-24T16:19:09.090Z"
   },
   {
    "duration": 21,
    "start_time": "2023-03-24T16:19:09.249Z"
   },
   {
    "duration": 195,
    "start_time": "2023-03-24T16:19:09.272Z"
   },
   {
    "duration": 72,
    "start_time": "2023-03-24T16:19:09.469Z"
   },
   {
    "duration": 153,
    "start_time": "2023-03-24T16:19:09.543Z"
   },
   {
    "duration": 206,
    "start_time": "2023-03-24T16:19:09.698Z"
   },
   {
    "duration": 139,
    "start_time": "2023-03-24T16:19:09.906Z"
   },
   {
    "duration": 81,
    "start_time": "2023-03-24T16:19:10.048Z"
   },
   {
    "duration": 9,
    "start_time": "2023-03-24T16:19:10.130Z"
   },
   {
    "duration": 8,
    "start_time": "2023-03-24T16:19:10.141Z"
   },
   {
    "duration": 7,
    "start_time": "2023-03-24T16:19:10.150Z"
   },
   {
    "duration": 160,
    "start_time": "2023-03-24T16:20:57.454Z"
   },
   {
    "duration": 127,
    "start_time": "2023-03-24T16:21:02.030Z"
   },
   {
    "duration": 60,
    "start_time": "2023-03-24T16:21:11.748Z"
   },
   {
    "duration": 126,
    "start_time": "2023-03-24T16:21:12.725Z"
   },
   {
    "duration": 5,
    "start_time": "2023-03-24T16:21:16.965Z"
   },
   {
    "duration": 46,
    "start_time": "2023-03-24T16:21:16.972Z"
   },
   {
    "duration": 24,
    "start_time": "2023-03-24T16:21:17.020Z"
   },
   {
    "duration": 11,
    "start_time": "2023-03-24T16:21:17.045Z"
   },
   {
    "duration": 285,
    "start_time": "2023-03-24T16:21:17.058Z"
   },
   {
    "duration": 22,
    "start_time": "2023-03-24T16:21:17.345Z"
   },
   {
    "duration": 35,
    "start_time": "2023-03-24T16:21:17.369Z"
   },
   {
    "duration": 4,
    "start_time": "2023-03-24T16:21:17.405Z"
   },
   {
    "duration": 279,
    "start_time": "2023-03-24T16:21:17.411Z"
   },
   {
    "duration": 17,
    "start_time": "2023-03-24T16:21:17.692Z"
   },
   {
    "duration": 6,
    "start_time": "2023-03-24T16:21:17.714Z"
   },
   {
    "duration": 7,
    "start_time": "2023-03-24T16:21:17.722Z"
   },
   {
    "duration": 7,
    "start_time": "2023-03-24T16:21:17.731Z"
   },
   {
    "duration": 48,
    "start_time": "2023-03-24T16:21:17.740Z"
   },
   {
    "duration": 7,
    "start_time": "2023-03-24T16:21:17.790Z"
   },
   {
    "duration": 6,
    "start_time": "2023-03-24T16:21:17.798Z"
   },
   {
    "duration": 16,
    "start_time": "2023-03-24T16:21:17.805Z"
   },
   {
    "duration": 5,
    "start_time": "2023-03-24T16:21:17.823Z"
   },
   {
    "duration": 15,
    "start_time": "2023-03-24T16:21:17.830Z"
   },
   {
    "duration": 42,
    "start_time": "2023-03-24T16:21:17.847Z"
   },
   {
    "duration": 10,
    "start_time": "2023-03-24T16:21:17.890Z"
   },
   {
    "duration": 112,
    "start_time": "2023-03-24T16:21:17.901Z"
   },
   {
    "duration": 177,
    "start_time": "2023-03-24T16:21:18.015Z"
   },
   {
    "duration": 6,
    "start_time": "2023-03-24T16:21:18.194Z"
   },
   {
    "duration": 123,
    "start_time": "2023-03-24T16:21:18.202Z"
   },
   {
    "duration": 15,
    "start_time": "2023-03-24T16:21:18.327Z"
   },
   {
    "duration": 5,
    "start_time": "2023-03-24T16:21:18.344Z"
   },
   {
    "duration": 120,
    "start_time": "2023-03-24T16:21:18.350Z"
   },
   {
    "duration": 26,
    "start_time": "2023-03-24T16:21:18.475Z"
   },
   {
    "duration": 197,
    "start_time": "2023-03-24T16:21:18.502Z"
   },
   {
    "duration": 120,
    "start_time": "2023-03-24T16:21:18.700Z"
   },
   {
    "duration": 5,
    "start_time": "2023-03-24T16:21:18.822Z"
   },
   {
    "duration": 159,
    "start_time": "2023-03-24T16:21:18.828Z"
   },
   {
    "duration": 7,
    "start_time": "2023-03-24T16:21:18.989Z"
   },
   {
    "duration": 16,
    "start_time": "2023-03-24T16:21:18.998Z"
   },
   {
    "duration": 8,
    "start_time": "2023-03-24T16:21:19.016Z"
   },
   {
    "duration": 163,
    "start_time": "2023-03-24T16:21:19.026Z"
   },
   {
    "duration": 279,
    "start_time": "2023-03-24T16:21:19.191Z"
   },
   {
    "duration": 16,
    "start_time": "2023-03-24T16:21:19.472Z"
   },
   {
    "duration": 145,
    "start_time": "2023-03-24T16:21:19.490Z"
   },
   {
    "duration": 106,
    "start_time": "2023-03-24T16:21:19.637Z"
   },
   {
    "duration": 4,
    "start_time": "2023-03-24T16:21:19.745Z"
   },
   {
    "duration": 9,
    "start_time": "2023-03-24T16:21:19.750Z"
   },
   {
    "duration": 27,
    "start_time": "2023-03-24T16:21:19.760Z"
   },
   {
    "duration": 6,
    "start_time": "2023-03-24T16:21:19.789Z"
   },
   {
    "duration": 6,
    "start_time": "2023-03-24T16:21:19.796Z"
   },
   {
    "duration": 13,
    "start_time": "2023-03-24T16:21:19.804Z"
   },
   {
    "duration": 163,
    "start_time": "2023-03-24T16:21:19.819Z"
   },
   {
    "duration": 115,
    "start_time": "2023-03-24T16:21:19.990Z"
   },
   {
    "duration": 6,
    "start_time": "2023-03-24T16:21:20.107Z"
   },
   {
    "duration": 13,
    "start_time": "2023-03-24T16:21:20.115Z"
   },
   {
    "duration": 5,
    "start_time": "2023-03-24T16:21:20.130Z"
   },
   {
    "duration": 8,
    "start_time": "2023-03-24T16:21:20.136Z"
   },
   {
    "duration": 8,
    "start_time": "2023-03-24T16:21:20.145Z"
   },
   {
    "duration": 243,
    "start_time": "2023-03-24T16:21:20.155Z"
   },
   {
    "duration": 37,
    "start_time": "2023-03-24T16:21:20.400Z"
   },
   {
    "duration": 1495,
    "start_time": "2023-03-24T16:21:20.438Z"
   },
   {
    "duration": 70,
    "start_time": "2023-03-24T16:21:21.935Z"
   },
   {
    "duration": 137,
    "start_time": "2023-03-24T16:21:22.007Z"
   },
   {
    "duration": 143,
    "start_time": "2023-03-24T16:21:22.146Z"
   },
   {
    "duration": 98,
    "start_time": "2023-03-24T16:21:22.291Z"
   },
   {
    "duration": 8,
    "start_time": "2023-03-24T16:21:22.391Z"
   },
   {
    "duration": 6,
    "start_time": "2023-03-24T16:21:22.401Z"
   },
   {
    "duration": 15,
    "start_time": "2023-03-24T16:21:22.409Z"
   },
   {
    "duration": 168,
    "start_time": "2023-03-24T16:21:22.426Z"
   },
   {
    "duration": 369,
    "start_time": "2023-03-24T16:21:22.598Z"
   },
   {
    "duration": 37,
    "start_time": "2023-03-24T16:21:22.969Z"
   },
   {
    "duration": 1500,
    "start_time": "2023-03-24T16:21:23.008Z"
   },
   {
    "duration": 201,
    "start_time": "2023-03-24T16:21:24.510Z"
   },
   {
    "duration": 145,
    "start_time": "2023-03-24T16:21:24.713Z"
   },
   {
    "duration": 11,
    "start_time": "2023-03-24T16:21:24.860Z"
   },
   {
    "duration": 117,
    "start_time": "2023-03-24T16:21:24.873Z"
   },
   {
    "duration": 315,
    "start_time": "2023-03-24T16:21:24.993Z"
   },
   {
    "duration": 80,
    "start_time": "2023-03-24T16:21:25.309Z"
   },
   {
    "duration": 336,
    "start_time": "2023-03-24T16:21:25.391Z"
   },
   {
    "duration": 173,
    "start_time": "2023-03-24T16:21:25.728Z"
   },
   {
    "duration": 295,
    "start_time": "2023-03-24T16:21:25.903Z"
   },
   {
    "duration": 407,
    "start_time": "2023-03-24T16:21:26.199Z"
   },
   {
    "duration": 289,
    "start_time": "2023-03-24T16:21:26.607Z"
   },
   {
    "duration": 126,
    "start_time": "2023-03-24T16:21:26.898Z"
   },
   {
    "duration": 10,
    "start_time": "2023-03-24T16:21:27.026Z"
   },
   {
    "duration": 53,
    "start_time": "2023-03-24T16:21:27.037Z"
   },
   {
    "duration": 7,
    "start_time": "2023-03-24T16:21:27.096Z"
   },
   {
    "duration": 110,
    "start_time": "2023-03-24T16:34:39.207Z"
   },
   {
    "duration": 6,
    "start_time": "2023-03-24T16:36:40.481Z"
   },
   {
    "duration": 99,
    "start_time": "2023-03-24T16:36:40.490Z"
   },
   {
    "duration": 33,
    "start_time": "2023-03-24T16:36:40.592Z"
   },
   {
    "duration": 15,
    "start_time": "2023-03-24T16:36:40.628Z"
   },
   {
    "duration": 323,
    "start_time": "2023-03-24T16:36:40.646Z"
   },
   {
    "duration": 44,
    "start_time": "2023-03-24T16:36:40.970Z"
   },
   {
    "duration": 19,
    "start_time": "2023-03-24T16:36:41.015Z"
   },
   {
    "duration": 4,
    "start_time": "2023-03-24T16:36:41.036Z"
   },
   {
    "duration": 286,
    "start_time": "2023-03-24T16:36:41.042Z"
   },
   {
    "duration": 13,
    "start_time": "2023-03-24T16:36:41.330Z"
   },
   {
    "duration": 5,
    "start_time": "2023-03-24T16:36:41.345Z"
   },
   {
    "duration": 15,
    "start_time": "2023-03-24T16:36:41.351Z"
   },
   {
    "duration": 23,
    "start_time": "2023-03-24T16:36:41.368Z"
   },
   {
    "duration": 15,
    "start_time": "2023-03-24T16:36:41.393Z"
   },
   {
    "duration": 5,
    "start_time": "2023-03-24T16:36:41.410Z"
   },
   {
    "duration": 5,
    "start_time": "2023-03-24T16:36:41.417Z"
   },
   {
    "duration": 17,
    "start_time": "2023-03-24T16:36:41.424Z"
   },
   {
    "duration": 5,
    "start_time": "2023-03-24T16:36:41.443Z"
   },
   {
    "duration": 44,
    "start_time": "2023-03-24T16:36:41.450Z"
   },
   {
    "duration": 19,
    "start_time": "2023-03-24T16:36:41.495Z"
   },
   {
    "duration": 8,
    "start_time": "2023-03-24T16:36:41.515Z"
   },
   {
    "duration": 110,
    "start_time": "2023-03-24T16:36:41.524Z"
   },
   {
    "duration": 185,
    "start_time": "2023-03-24T16:36:41.636Z"
   },
   {
    "duration": 7,
    "start_time": "2023-03-24T16:36:41.825Z"
   },
   {
    "duration": 128,
    "start_time": "2023-03-24T16:36:41.834Z"
   },
   {
    "duration": 32,
    "start_time": "2023-03-24T16:36:41.964Z"
   },
   {
    "duration": 6,
    "start_time": "2023-03-24T16:36:41.998Z"
   },
   {
    "duration": 116,
    "start_time": "2023-03-24T16:36:42.006Z"
   },
   {
    "duration": 16,
    "start_time": "2023-03-24T16:36:42.124Z"
   },
   {
    "duration": 205,
    "start_time": "2023-03-24T16:36:42.142Z"
   },
   {
    "duration": 119,
    "start_time": "2023-03-24T16:36:42.349Z"
   },
   {
    "duration": 4,
    "start_time": "2023-03-24T16:36:42.470Z"
   },
   {
    "duration": 142,
    "start_time": "2023-03-24T16:36:42.487Z"
   },
   {
    "duration": 6,
    "start_time": "2023-03-24T16:36:42.631Z"
   },
   {
    "duration": 8,
    "start_time": "2023-03-24T16:36:42.638Z"
   },
   {
    "duration": 17,
    "start_time": "2023-03-24T16:36:42.647Z"
   },
   {
    "duration": 178,
    "start_time": "2023-03-24T16:36:42.666Z"
   },
   {
    "duration": 107,
    "start_time": "2023-03-24T16:36:42.847Z"
   },
   {
    "duration": 7,
    "start_time": "2023-03-24T16:36:42.956Z"
   },
   {
    "duration": 168,
    "start_time": "2023-03-24T16:36:42.964Z"
   },
   {
    "duration": 108,
    "start_time": "2023-03-24T16:36:43.134Z"
   },
   {
    "duration": 4,
    "start_time": "2023-03-24T16:36:43.244Z"
   },
   {
    "duration": 8,
    "start_time": "2023-03-24T16:36:43.250Z"
   },
   {
    "duration": 6,
    "start_time": "2023-03-24T16:36:43.260Z"
   },
   {
    "duration": 6,
    "start_time": "2023-03-24T16:36:43.288Z"
   },
   {
    "duration": 5,
    "start_time": "2023-03-24T16:36:43.296Z"
   },
   {
    "duration": 11,
    "start_time": "2023-03-24T16:36:43.302Z"
   },
   {
    "duration": 165,
    "start_time": "2023-03-24T16:36:43.315Z"
   },
   {
    "duration": 119,
    "start_time": "2023-03-24T16:36:43.487Z"
   },
   {
    "duration": 6,
    "start_time": "2023-03-24T16:36:43.607Z"
   },
   {
    "duration": 16,
    "start_time": "2023-03-24T16:36:43.614Z"
   },
   {
    "duration": 6,
    "start_time": "2023-03-24T16:36:43.631Z"
   },
   {
    "duration": 13,
    "start_time": "2023-03-24T16:36:43.638Z"
   },
   {
    "duration": 13,
    "start_time": "2023-03-24T16:36:43.653Z"
   },
   {
    "duration": 220,
    "start_time": "2023-03-24T16:36:43.668Z"
   },
   {
    "duration": 35,
    "start_time": "2023-03-24T16:36:43.890Z"
   },
   {
    "duration": 1419,
    "start_time": "2023-03-24T16:36:43.926Z"
   },
   {
    "duration": 63,
    "start_time": "2023-03-24T16:36:45.346Z"
   },
   {
    "duration": 137,
    "start_time": "2023-03-24T16:36:45.411Z"
   },
   {
    "duration": 142,
    "start_time": "2023-03-24T16:36:45.550Z"
   },
   {
    "duration": 98,
    "start_time": "2023-03-24T16:36:45.695Z"
   },
   {
    "duration": 8,
    "start_time": "2023-03-24T16:36:45.795Z"
   },
   {
    "duration": 25,
    "start_time": "2023-03-24T16:36:45.804Z"
   },
   {
    "duration": 15,
    "start_time": "2023-03-24T16:36:45.831Z"
   },
   {
    "duration": 146,
    "start_time": "2023-03-24T16:36:45.848Z"
   },
   {
    "duration": 371,
    "start_time": "2023-03-24T16:36:45.996Z"
   },
   {
    "duration": 40,
    "start_time": "2023-03-24T16:36:46.369Z"
   },
   {
    "duration": 1594,
    "start_time": "2023-03-24T16:36:46.411Z"
   },
   {
    "duration": 215,
    "start_time": "2023-03-24T16:36:48.011Z"
   },
   {
    "duration": 143,
    "start_time": "2023-03-24T16:36:48.227Z"
   },
   {
    "duration": 21,
    "start_time": "2023-03-24T16:36:48.372Z"
   },
   {
    "duration": 108,
    "start_time": "2023-03-24T16:36:48.395Z"
   },
   {
    "duration": 129,
    "start_time": "2023-03-24T16:36:48.588Z"
   },
   {
    "duration": 21,
    "start_time": "2023-03-24T16:36:48.719Z"
   },
   {
    "duration": 207,
    "start_time": "2023-03-24T16:36:48.741Z"
   },
   {
    "duration": 78,
    "start_time": "2023-03-24T16:36:48.950Z"
   },
   {
    "duration": 146,
    "start_time": "2023-03-24T16:36:49.030Z"
   },
   {
    "duration": 212,
    "start_time": "2023-03-24T16:36:49.178Z"
   },
   {
    "duration": 356,
    "start_time": "2023-03-24T16:36:49.392Z"
   },
   {
    "duration": 86,
    "start_time": "2023-03-24T16:36:49.750Z"
   },
   {
    "duration": 10,
    "start_time": "2023-03-24T16:36:49.837Z"
   },
   {
    "duration": 20,
    "start_time": "2023-03-24T16:36:49.848Z"
   },
   {
    "duration": 17,
    "start_time": "2023-03-24T16:36:49.870Z"
   },
   {
    "duration": 1628,
    "start_time": "2023-03-26T05:49:31.320Z"
   },
   {
    "duration": 55,
    "start_time": "2023-03-26T05:49:32.950Z"
   },
   {
    "duration": 30,
    "start_time": "2023-03-26T05:49:33.006Z"
   },
   {
    "duration": 25,
    "start_time": "2023-03-26T05:49:33.039Z"
   },
   {
    "duration": 280,
    "start_time": "2023-03-26T05:49:33.066Z"
   },
   {
    "duration": 24,
    "start_time": "2023-03-26T05:49:33.348Z"
   },
   {
    "duration": 21,
    "start_time": "2023-03-26T05:49:33.374Z"
   },
   {
    "duration": 5,
    "start_time": "2023-03-26T05:49:33.396Z"
   },
   {
    "duration": 293,
    "start_time": "2023-03-26T05:49:33.402Z"
   },
   {
    "duration": 12,
    "start_time": "2023-03-26T05:49:33.698Z"
   },
   {
    "duration": 5,
    "start_time": "2023-03-26T05:49:33.712Z"
   },
   {
    "duration": 27,
    "start_time": "2023-03-26T05:49:33.719Z"
   },
   {
    "duration": 14,
    "start_time": "2023-03-26T05:49:33.748Z"
   },
   {
    "duration": 31,
    "start_time": "2023-03-26T05:49:33.764Z"
   },
   {
    "duration": 15,
    "start_time": "2023-03-26T05:49:33.798Z"
   },
   {
    "duration": 12,
    "start_time": "2023-03-26T05:49:33.815Z"
   },
   {
    "duration": 27,
    "start_time": "2023-03-26T05:49:33.829Z"
   },
   {
    "duration": 6,
    "start_time": "2023-03-26T05:49:33.858Z"
   },
   {
    "duration": 12,
    "start_time": "2023-03-26T05:49:33.866Z"
   },
   {
    "duration": 31,
    "start_time": "2023-03-26T05:49:33.880Z"
   },
   {
    "duration": 12,
    "start_time": "2023-03-26T05:49:33.913Z"
   },
   {
    "duration": 114,
    "start_time": "2023-03-26T05:49:33.927Z"
   },
   {
    "duration": 424,
    "start_time": "2023-03-26T05:49:34.044Z"
   },
   {
    "duration": 7,
    "start_time": "2023-03-26T05:49:34.470Z"
   },
   {
    "duration": 272,
    "start_time": "2023-03-26T05:49:34.479Z"
   },
   {
    "duration": 18,
    "start_time": "2023-03-26T05:49:34.753Z"
   },
   {
    "duration": 68,
    "start_time": "2023-03-26T05:49:34.772Z"
   },
   {
    "duration": 199,
    "start_time": "2023-03-26T05:49:34.845Z"
   },
   {
    "duration": 24,
    "start_time": "2023-03-26T05:49:35.045Z"
   },
   {
    "duration": 413,
    "start_time": "2023-03-26T05:49:35.071Z"
   },
   {
    "duration": 277,
    "start_time": "2023-03-26T05:49:35.485Z"
   },
   {
    "duration": 6,
    "start_time": "2023-03-26T05:49:35.764Z"
   },
   {
    "duration": 405,
    "start_time": "2023-03-26T05:49:35.772Z"
   },
   {
    "duration": 7,
    "start_time": "2023-03-26T05:49:36.180Z"
   },
   {
    "duration": 6,
    "start_time": "2023-03-26T05:49:36.242Z"
   },
   {
    "duration": 10,
    "start_time": "2023-03-26T05:49:36.250Z"
   },
   {
    "duration": 218,
    "start_time": "2023-03-26T05:49:36.262Z"
   },
   {
    "duration": 124,
    "start_time": "2023-03-26T05:49:36.482Z"
   },
   {
    "duration": 7,
    "start_time": "2023-03-26T05:49:36.608Z"
   },
   {
    "duration": 187,
    "start_time": "2023-03-26T05:49:36.616Z"
   },
   {
    "duration": 119,
    "start_time": "2023-03-26T05:49:36.805Z"
   },
   {
    "duration": 16,
    "start_time": "2023-03-26T05:49:36.926Z"
   },
   {
    "duration": 20,
    "start_time": "2023-03-26T05:49:36.945Z"
   },
   {
    "duration": 19,
    "start_time": "2023-03-26T05:49:36.968Z"
   },
   {
    "duration": 10,
    "start_time": "2023-03-26T05:49:36.989Z"
   },
   {
    "duration": 12,
    "start_time": "2023-03-26T05:49:37.001Z"
   },
   {
    "duration": 24,
    "start_time": "2023-03-26T05:49:37.015Z"
   },
   {
    "duration": 166,
    "start_time": "2023-03-26T05:49:37.041Z"
   },
   {
    "duration": 140,
    "start_time": "2023-03-26T05:49:37.209Z"
   },
   {
    "duration": 7,
    "start_time": "2023-03-26T05:49:37.351Z"
   },
   {
    "duration": 12,
    "start_time": "2023-03-26T05:49:37.360Z"
   },
   {
    "duration": 7,
    "start_time": "2023-03-26T05:49:37.374Z"
   },
   {
    "duration": 21,
    "start_time": "2023-03-26T05:49:37.383Z"
   },
   {
    "duration": 36,
    "start_time": "2023-03-26T05:49:37.406Z"
   },
   {
    "duration": 347,
    "start_time": "2023-03-26T05:49:37.444Z"
   },
   {
    "duration": 50,
    "start_time": "2023-03-26T05:49:37.794Z"
   },
   {
    "duration": 1432,
    "start_time": "2023-03-26T05:49:37.846Z"
   },
   {
    "duration": 62,
    "start_time": "2023-03-26T05:49:39.280Z"
   },
   {
    "duration": 156,
    "start_time": "2023-03-26T05:49:39.344Z"
   },
   {
    "duration": 242,
    "start_time": "2023-03-26T05:49:39.502Z"
   },
   {
    "duration": 96,
    "start_time": "2023-03-26T05:49:39.746Z"
   },
   {
    "duration": 15,
    "start_time": "2023-03-26T05:49:39.843Z"
   },
   {
    "duration": 14,
    "start_time": "2023-03-26T05:49:39.859Z"
   },
   {
    "duration": 22,
    "start_time": "2023-03-26T05:49:39.875Z"
   },
   {
    "duration": 250,
    "start_time": "2023-03-26T05:49:39.899Z"
   },
   {
    "duration": 448,
    "start_time": "2023-03-26T05:49:40.151Z"
   },
   {
    "duration": 0,
    "start_time": "2023-03-26T05:49:40.601Z"
   },
   {
    "duration": 0,
    "start_time": "2023-03-26T05:49:40.602Z"
   },
   {
    "duration": 0,
    "start_time": "2023-03-26T05:49:40.604Z"
   },
   {
    "duration": 0,
    "start_time": "2023-03-26T05:49:40.605Z"
   },
   {
    "duration": 0,
    "start_time": "2023-03-26T05:49:40.606Z"
   },
   {
    "duration": 0,
    "start_time": "2023-03-26T05:49:40.607Z"
   },
   {
    "duration": 0,
    "start_time": "2023-03-26T05:49:40.608Z"
   },
   {
    "duration": 1,
    "start_time": "2023-03-26T05:49:40.609Z"
   },
   {
    "duration": 0,
    "start_time": "2023-03-26T05:49:40.611Z"
   },
   {
    "duration": 0,
    "start_time": "2023-03-26T05:49:40.612Z"
   },
   {
    "duration": 0,
    "start_time": "2023-03-26T05:49:40.613Z"
   },
   {
    "duration": 0,
    "start_time": "2023-03-26T05:49:40.614Z"
   },
   {
    "duration": 0,
    "start_time": "2023-03-26T05:49:40.615Z"
   },
   {
    "duration": 0,
    "start_time": "2023-03-26T05:49:40.642Z"
   },
   {
    "duration": 0,
    "start_time": "2023-03-26T05:49:40.643Z"
   },
   {
    "duration": 0,
    "start_time": "2023-03-26T05:49:40.644Z"
   },
   {
    "duration": 0,
    "start_time": "2023-03-26T05:49:40.646Z"
   },
   {
    "duration": 38,
    "start_time": "2023-03-26T06:29:09.199Z"
   },
   {
    "duration": 1571,
    "start_time": "2023-03-26T06:29:10.248Z"
   },
   {
    "duration": 215,
    "start_time": "2023-03-26T06:29:11.821Z"
   },
   {
    "duration": 151,
    "start_time": "2023-03-26T06:29:12.042Z"
   },
   {
    "duration": 11,
    "start_time": "2023-03-26T06:29:13.470Z"
   },
   {
    "duration": 122,
    "start_time": "2023-03-26T06:29:13.827Z"
   },
   {
    "duration": 121,
    "start_time": "2023-03-26T06:29:14.265Z"
   },
   {
    "duration": 20,
    "start_time": "2023-03-26T06:29:14.452Z"
   },
   {
    "duration": 217,
    "start_time": "2023-03-26T06:29:15.608Z"
   },
   {
    "duration": 95,
    "start_time": "2023-03-26T06:29:15.828Z"
   },
   {
    "duration": 180,
    "start_time": "2023-03-26T06:29:15.925Z"
   },
   {
    "duration": 211,
    "start_time": "2023-03-26T06:29:16.812Z"
   },
   {
    "duration": 152,
    "start_time": "2023-03-26T06:29:17.225Z"
   },
   {
    "duration": 73,
    "start_time": "2023-03-26T06:29:17.828Z"
   },
   {
    "duration": 11,
    "start_time": "2023-03-26T06:29:18.803Z"
   },
   {
    "duration": 9,
    "start_time": "2023-03-26T06:29:19.619Z"
   },
   {
    "duration": 26,
    "start_time": "2023-03-26T06:29:19.630Z"
   },
   {
    "duration": 235,
    "start_time": "2023-03-26T06:35:25.620Z"
   },
   {
    "duration": 52,
    "start_time": "2023-03-26T07:16:16.117Z"
   },
   {
    "duration": 2405,
    "start_time": "2023-03-26T13:44:23.752Z"
   },
   {
    "duration": 172,
    "start_time": "2023-03-26T13:44:26.160Z"
   },
   {
    "duration": 31,
    "start_time": "2023-03-26T13:44:26.335Z"
   },
   {
    "duration": 18,
    "start_time": "2023-03-26T13:44:26.369Z"
   },
   {
    "duration": 312,
    "start_time": "2023-03-26T13:44:26.390Z"
   },
   {
    "duration": 24,
    "start_time": "2023-03-26T13:44:26.705Z"
   },
   {
    "duration": 18,
    "start_time": "2023-03-26T13:44:26.731Z"
   },
   {
    "duration": 26,
    "start_time": "2023-03-26T13:44:26.751Z"
   },
   {
    "duration": 305,
    "start_time": "2023-03-26T13:44:26.779Z"
   },
   {
    "duration": 14,
    "start_time": "2023-03-26T13:44:27.087Z"
   },
   {
    "duration": 5,
    "start_time": "2023-03-26T13:44:27.103Z"
   },
   {
    "duration": 7,
    "start_time": "2023-03-26T13:44:27.110Z"
   },
   {
    "duration": 4,
    "start_time": "2023-03-26T13:44:27.119Z"
   },
   {
    "duration": 52,
    "start_time": "2023-03-26T13:44:27.125Z"
   },
   {
    "duration": 7,
    "start_time": "2023-03-26T13:44:27.180Z"
   },
   {
    "duration": 5,
    "start_time": "2023-03-26T13:44:27.189Z"
   },
   {
    "duration": 15,
    "start_time": "2023-03-26T13:44:27.196Z"
   },
   {
    "duration": 5,
    "start_time": "2023-03-26T13:44:27.214Z"
   },
   {
    "duration": 11,
    "start_time": "2023-03-26T13:44:27.221Z"
   },
   {
    "duration": 19,
    "start_time": "2023-03-26T13:44:27.274Z"
   },
   {
    "duration": 10,
    "start_time": "2023-03-26T13:44:27.295Z"
   },
   {
    "duration": 133,
    "start_time": "2023-03-26T13:44:27.307Z"
   },
   {
    "duration": 284,
    "start_time": "2023-03-26T13:44:27.442Z"
   },
   {
    "duration": 7,
    "start_time": "2023-03-26T13:44:27.729Z"
   },
   {
    "duration": 141,
    "start_time": "2023-03-26T13:44:27.737Z"
   },
   {
    "duration": 24,
    "start_time": "2023-03-26T13:44:27.880Z"
   },
   {
    "duration": 6,
    "start_time": "2023-03-26T13:44:27.906Z"
   },
   {
    "duration": 130,
    "start_time": "2023-03-26T13:44:27.919Z"
   },
   {
    "duration": 33,
    "start_time": "2023-03-26T13:44:28.051Z"
   },
   {
    "duration": 215,
    "start_time": "2023-03-26T13:44:28.086Z"
   },
   {
    "duration": 126,
    "start_time": "2023-03-26T13:44:28.304Z"
   },
   {
    "duration": 4,
    "start_time": "2023-03-26T13:44:28.431Z"
   },
   {
    "duration": 169,
    "start_time": "2023-03-26T13:44:28.437Z"
   },
   {
    "duration": 8,
    "start_time": "2023-03-26T13:44:28.608Z"
   },
   {
    "duration": 7,
    "start_time": "2023-03-26T13:44:28.618Z"
   },
   {
    "duration": 13,
    "start_time": "2023-03-26T13:44:28.627Z"
   },
   {
    "duration": 178,
    "start_time": "2023-03-26T13:44:28.642Z"
   },
   {
    "duration": 112,
    "start_time": "2023-03-26T13:44:28.822Z"
   },
   {
    "duration": 6,
    "start_time": "2023-03-26T13:44:28.937Z"
   },
   {
    "duration": 159,
    "start_time": "2023-03-26T13:44:28.944Z"
   },
   {
    "duration": 118,
    "start_time": "2023-03-26T13:44:29.105Z"
   },
   {
    "duration": 4,
    "start_time": "2023-03-26T13:44:29.225Z"
   },
   {
    "duration": 6,
    "start_time": "2023-03-26T13:44:29.232Z"
   },
   {
    "duration": 5,
    "start_time": "2023-03-26T13:44:29.240Z"
   },
   {
    "duration": 33,
    "start_time": "2023-03-26T13:44:29.247Z"
   },
   {
    "duration": 8,
    "start_time": "2023-03-26T13:44:29.283Z"
   },
   {
    "duration": 15,
    "start_time": "2023-03-26T13:44:29.293Z"
   },
   {
    "duration": 180,
    "start_time": "2023-03-26T13:44:29.310Z"
   },
   {
    "duration": 156,
    "start_time": "2023-03-26T13:44:29.493Z"
   },
   {
    "duration": 7,
    "start_time": "2023-03-26T13:44:29.652Z"
   },
   {
    "duration": 25,
    "start_time": "2023-03-26T13:44:29.661Z"
   },
   {
    "duration": 6,
    "start_time": "2023-03-26T13:44:29.688Z"
   },
   {
    "duration": 8,
    "start_time": "2023-03-26T13:44:29.697Z"
   },
   {
    "duration": 7,
    "start_time": "2023-03-26T13:44:29.708Z"
   },
   {
    "duration": 360,
    "start_time": "2023-03-26T13:44:29.717Z"
   },
   {
    "duration": 38,
    "start_time": "2023-03-26T13:44:30.079Z"
   },
   {
    "duration": 1465,
    "start_time": "2023-03-26T13:44:30.118Z"
   },
   {
    "duration": 91,
    "start_time": "2023-03-26T13:44:31.585Z"
   },
   {
    "duration": 146,
    "start_time": "2023-03-26T13:44:31.678Z"
   },
   {
    "duration": 68,
    "start_time": "2023-03-26T13:44:31.826Z"
   },
   {
    "duration": 86,
    "start_time": "2023-03-26T13:44:31.896Z"
   },
   {
    "duration": 90,
    "start_time": "2023-03-26T13:44:31.985Z"
   },
   {
    "duration": 8,
    "start_time": "2023-03-26T13:44:32.078Z"
   },
   {
    "duration": 20,
    "start_time": "2023-03-26T13:44:32.088Z"
   },
   {
    "duration": 166,
    "start_time": "2023-03-26T13:44:32.111Z"
   },
   {
    "duration": 360,
    "start_time": "2023-03-26T13:44:32.278Z"
   },
   {
    "duration": 40,
    "start_time": "2023-03-26T13:44:32.640Z"
   },
   {
    "duration": 1563,
    "start_time": "2023-03-26T13:44:32.682Z"
   },
   {
    "duration": 247,
    "start_time": "2023-03-26T13:44:34.248Z"
   },
   {
    "duration": 142,
    "start_time": "2023-03-26T13:44:34.496Z"
   },
   {
    "duration": 15,
    "start_time": "2023-03-26T13:44:34.639Z"
   },
   {
    "duration": 321,
    "start_time": "2023-03-26T13:44:34.656Z"
   },
   {
    "duration": 262,
    "start_time": "2023-03-26T13:44:34.980Z"
   },
   {
    "duration": 38,
    "start_time": "2023-03-26T13:44:35.245Z"
   },
   {
    "duration": 220,
    "start_time": "2023-03-26T13:44:35.286Z"
   },
   {
    "duration": 73,
    "start_time": "2023-03-26T13:44:35.508Z"
   },
   {
    "duration": 150,
    "start_time": "2023-03-26T13:44:35.583Z"
   },
   {
    "duration": 209,
    "start_time": "2023-03-26T13:44:35.735Z"
   },
   {
    "duration": 142,
    "start_time": "2023-03-26T13:44:35.946Z"
   },
   {
    "duration": 85,
    "start_time": "2023-03-26T13:44:36.090Z"
   },
   {
    "duration": 12,
    "start_time": "2023-03-26T13:44:36.178Z"
   },
   {
    "duration": 11,
    "start_time": "2023-03-26T13:44:36.197Z"
   },
   {
    "duration": 9,
    "start_time": "2023-03-26T13:44:36.211Z"
   },
   {
    "duration": 52,
    "start_time": "2023-03-26T13:44:51.887Z"
   },
   {
    "duration": 6,
    "start_time": "2023-03-26T13:56:15.164Z"
   },
   {
    "duration": 41,
    "start_time": "2023-03-26T13:56:15.172Z"
   },
   {
    "duration": 28,
    "start_time": "2023-03-26T13:56:15.216Z"
   },
   {
    "duration": 30,
    "start_time": "2023-03-26T13:56:15.247Z"
   },
   {
    "duration": 44,
    "start_time": "2023-03-26T13:56:15.279Z"
   },
   {
    "duration": 381,
    "start_time": "2023-03-26T13:56:15.326Z"
   },
   {
    "duration": 29,
    "start_time": "2023-03-26T13:56:15.710Z"
   },
   {
    "duration": 34,
    "start_time": "2023-03-26T13:56:15.741Z"
   },
   {
    "duration": 3,
    "start_time": "2023-03-26T13:56:15.777Z"
   },
   {
    "duration": 301,
    "start_time": "2023-03-26T13:56:15.782Z"
   },
   {
    "duration": 14,
    "start_time": "2023-03-26T13:56:16.086Z"
   },
   {
    "duration": 6,
    "start_time": "2023-03-26T13:56:16.102Z"
   },
   {
    "duration": 7,
    "start_time": "2023-03-26T13:56:16.110Z"
   },
   {
    "duration": 4,
    "start_time": "2023-03-26T13:56:16.119Z"
   },
   {
    "duration": 53,
    "start_time": "2023-03-26T13:56:16.125Z"
   },
   {
    "duration": 5,
    "start_time": "2023-03-26T13:56:16.180Z"
   },
   {
    "duration": 7,
    "start_time": "2023-03-26T13:56:16.187Z"
   },
   {
    "duration": 19,
    "start_time": "2023-03-26T13:56:16.197Z"
   },
   {
    "duration": 6,
    "start_time": "2023-03-26T13:56:16.218Z"
   },
   {
    "duration": 11,
    "start_time": "2023-03-26T13:56:16.226Z"
   },
   {
    "duration": 16,
    "start_time": "2023-03-26T13:56:16.275Z"
   },
   {
    "duration": 9,
    "start_time": "2023-03-26T13:56:16.293Z"
   },
   {
    "duration": 154,
    "start_time": "2023-03-26T13:56:16.303Z"
   },
   {
    "duration": 279,
    "start_time": "2023-03-26T13:56:16.475Z"
   },
   {
    "duration": 20,
    "start_time": "2023-03-26T13:56:16.756Z"
   },
   {
    "duration": 125,
    "start_time": "2023-03-26T13:56:16.778Z"
   },
   {
    "duration": 18,
    "start_time": "2023-03-26T13:56:16.905Z"
   },
   {
    "duration": 5,
    "start_time": "2023-03-26T13:56:16.925Z"
   },
   {
    "duration": 125,
    "start_time": "2023-03-26T13:56:16.935Z"
   },
   {
    "duration": 31,
    "start_time": "2023-03-26T13:56:17.062Z"
   },
   {
    "duration": 191,
    "start_time": "2023-03-26T13:56:17.095Z"
   },
   {
    "duration": 120,
    "start_time": "2023-03-26T13:56:17.288Z"
   },
   {
    "duration": 5,
    "start_time": "2023-03-26T13:56:17.409Z"
   },
   {
    "duration": 178,
    "start_time": "2023-03-26T13:56:17.416Z"
   },
   {
    "duration": 7,
    "start_time": "2023-03-26T13:56:17.596Z"
   },
   {
    "duration": 5,
    "start_time": "2023-03-26T13:56:17.605Z"
   },
   {
    "duration": 7,
    "start_time": "2023-03-26T13:56:17.612Z"
   },
   {
    "duration": 293,
    "start_time": "2023-03-26T13:56:17.621Z"
   },
   {
    "duration": 106,
    "start_time": "2023-03-26T13:56:17.916Z"
   },
   {
    "duration": 6,
    "start_time": "2023-03-26T13:56:18.023Z"
   },
   {
    "duration": 154,
    "start_time": "2023-03-26T13:56:18.031Z"
   },
   {
    "duration": 115,
    "start_time": "2023-03-26T13:56:18.186Z"
   },
   {
    "duration": 4,
    "start_time": "2023-03-26T13:56:18.302Z"
   },
   {
    "duration": 7,
    "start_time": "2023-03-26T13:56:18.308Z"
   },
   {
    "duration": 5,
    "start_time": "2023-03-26T13:56:18.317Z"
   },
   {
    "duration": 6,
    "start_time": "2023-03-26T13:56:18.324Z"
   },
   {
    "duration": 4,
    "start_time": "2023-03-26T13:56:18.332Z"
   },
   {
    "duration": 44,
    "start_time": "2023-03-26T13:56:18.338Z"
   },
   {
    "duration": 159,
    "start_time": "2023-03-26T13:56:18.384Z"
   },
   {
    "duration": 151,
    "start_time": "2023-03-26T13:56:18.545Z"
   },
   {
    "duration": 7,
    "start_time": "2023-03-26T13:56:18.697Z"
   },
   {
    "duration": 20,
    "start_time": "2023-03-26T13:56:18.706Z"
   },
   {
    "duration": 11,
    "start_time": "2023-03-26T13:56:18.728Z"
   },
   {
    "duration": 8,
    "start_time": "2023-03-26T13:56:18.741Z"
   },
   {
    "duration": 39,
    "start_time": "2023-03-26T13:56:18.750Z"
   },
   {
    "duration": 122,
    "start_time": "2023-03-26T13:56:18.791Z"
   },
   {
    "duration": 0,
    "start_time": "2023-03-26T13:56:18.916Z"
   },
   {
    "duration": 0,
    "start_time": "2023-03-26T13:56:18.918Z"
   },
   {
    "duration": 0,
    "start_time": "2023-03-26T13:56:18.919Z"
   },
   {
    "duration": 0,
    "start_time": "2023-03-26T13:56:18.920Z"
   },
   {
    "duration": 0,
    "start_time": "2023-03-26T13:56:18.921Z"
   },
   {
    "duration": 0,
    "start_time": "2023-03-26T13:56:18.923Z"
   },
   {
    "duration": 0,
    "start_time": "2023-03-26T13:56:18.925Z"
   },
   {
    "duration": 0,
    "start_time": "2023-03-26T13:56:18.927Z"
   },
   {
    "duration": 0,
    "start_time": "2023-03-26T13:56:18.929Z"
   },
   {
    "duration": 0,
    "start_time": "2023-03-26T13:56:18.930Z"
   },
   {
    "duration": 0,
    "start_time": "2023-03-26T13:56:18.932Z"
   },
   {
    "duration": 0,
    "start_time": "2023-03-26T13:56:18.934Z"
   },
   {
    "duration": 0,
    "start_time": "2023-03-26T13:56:18.936Z"
   },
   {
    "duration": 0,
    "start_time": "2023-03-26T13:56:18.975Z"
   },
   {
    "duration": 0,
    "start_time": "2023-03-26T13:56:18.978Z"
   },
   {
    "duration": 0,
    "start_time": "2023-03-26T13:56:18.979Z"
   },
   {
    "duration": 0,
    "start_time": "2023-03-26T13:56:18.981Z"
   },
   {
    "duration": 0,
    "start_time": "2023-03-26T13:56:18.982Z"
   },
   {
    "duration": 0,
    "start_time": "2023-03-26T13:56:18.984Z"
   },
   {
    "duration": 0,
    "start_time": "2023-03-26T13:56:18.986Z"
   },
   {
    "duration": 0,
    "start_time": "2023-03-26T13:56:18.987Z"
   },
   {
    "duration": 0,
    "start_time": "2023-03-26T13:56:18.989Z"
   },
   {
    "duration": 0,
    "start_time": "2023-03-26T13:56:18.990Z"
   },
   {
    "duration": 0,
    "start_time": "2023-03-26T13:56:18.992Z"
   },
   {
    "duration": 0,
    "start_time": "2023-03-26T13:56:18.993Z"
   },
   {
    "duration": 0,
    "start_time": "2023-03-26T13:56:18.995Z"
   },
   {
    "duration": 0,
    "start_time": "2023-03-26T13:56:18.997Z"
   },
   {
    "duration": 0,
    "start_time": "2023-03-26T13:56:18.998Z"
   },
   {
    "duration": 0,
    "start_time": "2023-03-26T13:56:18.999Z"
   },
   {
    "duration": 0,
    "start_time": "2023-03-26T13:56:19.001Z"
   },
   {
    "duration": 0,
    "start_time": "2023-03-26T13:56:19.002Z"
   },
   {
    "duration": 0,
    "start_time": "2023-03-26T13:56:19.004Z"
   },
   {
    "duration": 0,
    "start_time": "2023-03-26T13:56:19.005Z"
   },
   {
    "duration": 0,
    "start_time": "2023-03-26T13:56:19.006Z"
   },
   {
    "duration": 4,
    "start_time": "2023-03-26T13:56:48.057Z"
   },
   {
    "duration": 39,
    "start_time": "2023-03-26T13:56:48.064Z"
   },
   {
    "duration": 25,
    "start_time": "2023-03-26T13:56:48.106Z"
   },
   {
    "duration": 13,
    "start_time": "2023-03-26T13:56:48.132Z"
   },
   {
    "duration": 61,
    "start_time": "2023-03-26T13:56:48.148Z"
   },
   {
    "duration": 344,
    "start_time": "2023-03-26T13:56:48.211Z"
   },
   {
    "duration": 37,
    "start_time": "2023-03-26T13:56:48.557Z"
   },
   {
    "duration": 18,
    "start_time": "2023-03-26T13:56:48.596Z"
   },
   {
    "duration": 4,
    "start_time": "2023-03-26T13:56:48.616Z"
   },
   {
    "duration": 278,
    "start_time": "2023-03-26T13:56:48.622Z"
   },
   {
    "duration": 14,
    "start_time": "2023-03-26T13:56:48.903Z"
   },
   {
    "duration": 4,
    "start_time": "2023-03-26T13:56:48.919Z"
   },
   {
    "duration": 6,
    "start_time": "2023-03-26T13:56:48.925Z"
   },
   {
    "duration": 4,
    "start_time": "2023-03-26T13:56:48.933Z"
   },
   {
    "duration": 50,
    "start_time": "2023-03-26T13:56:48.939Z"
   },
   {
    "duration": 5,
    "start_time": "2023-03-26T13:56:48.991Z"
   },
   {
    "duration": 4,
    "start_time": "2023-03-26T13:56:48.998Z"
   },
   {
    "duration": 16,
    "start_time": "2023-03-26T13:56:49.004Z"
   },
   {
    "duration": 5,
    "start_time": "2023-03-26T13:56:49.022Z"
   },
   {
    "duration": 50,
    "start_time": "2023-03-26T13:56:49.029Z"
   },
   {
    "duration": 19,
    "start_time": "2023-03-26T13:56:49.082Z"
   },
   {
    "duration": 9,
    "start_time": "2023-03-26T13:56:49.103Z"
   },
   {
    "duration": 120,
    "start_time": "2023-03-26T13:56:49.114Z"
   },
   {
    "duration": 181,
    "start_time": "2023-03-26T13:56:49.236Z"
   },
   {
    "duration": 9,
    "start_time": "2023-03-26T13:56:49.420Z"
   },
   {
    "duration": 128,
    "start_time": "2023-03-26T13:56:49.431Z"
   },
   {
    "duration": 29,
    "start_time": "2023-03-26T13:56:49.562Z"
   },
   {
    "duration": 5,
    "start_time": "2023-03-26T13:56:49.593Z"
   },
   {
    "duration": 171,
    "start_time": "2023-03-26T13:56:49.605Z"
   },
   {
    "duration": 15,
    "start_time": "2023-03-26T13:56:49.778Z"
   },
   {
    "duration": 195,
    "start_time": "2023-03-26T13:56:49.795Z"
   },
   {
    "duration": 130,
    "start_time": "2023-03-26T13:56:49.992Z"
   },
   {
    "duration": 4,
    "start_time": "2023-03-26T13:56:50.124Z"
   },
   {
    "duration": 292,
    "start_time": "2023-03-26T13:56:50.130Z"
   },
   {
    "duration": 8,
    "start_time": "2023-03-26T13:56:50.428Z"
   },
   {
    "duration": 7,
    "start_time": "2023-03-26T13:56:50.438Z"
   },
   {
    "duration": 26,
    "start_time": "2023-03-26T13:56:50.448Z"
   },
   {
    "duration": 161,
    "start_time": "2023-03-26T13:56:50.477Z"
   },
   {
    "duration": 118,
    "start_time": "2023-03-26T13:56:50.640Z"
   },
   {
    "duration": 16,
    "start_time": "2023-03-26T13:56:50.760Z"
   },
   {
    "duration": 159,
    "start_time": "2023-03-26T13:56:50.778Z"
   },
   {
    "duration": 142,
    "start_time": "2023-03-26T13:56:50.939Z"
   },
   {
    "duration": 7,
    "start_time": "2023-03-26T13:56:51.084Z"
   },
   {
    "duration": 9,
    "start_time": "2023-03-26T13:56:51.093Z"
   },
   {
    "duration": 5,
    "start_time": "2023-03-26T13:56:51.104Z"
   },
   {
    "duration": 7,
    "start_time": "2023-03-26T13:56:51.111Z"
   },
   {
    "duration": 5,
    "start_time": "2023-03-26T13:56:51.120Z"
   },
   {
    "duration": 51,
    "start_time": "2023-03-26T13:56:51.127Z"
   },
   {
    "duration": 173,
    "start_time": "2023-03-26T13:56:51.180Z"
   },
   {
    "duration": 146,
    "start_time": "2023-03-26T13:56:51.355Z"
   },
   {
    "duration": 7,
    "start_time": "2023-03-26T13:56:51.503Z"
   },
   {
    "duration": 12,
    "start_time": "2023-03-26T13:56:51.512Z"
   },
   {
    "duration": 9,
    "start_time": "2023-03-26T13:56:51.526Z"
   },
   {
    "duration": 9,
    "start_time": "2023-03-26T13:56:51.537Z"
   },
   {
    "duration": 43,
    "start_time": "2023-03-26T13:56:51.548Z"
   },
   {
    "duration": 4,
    "start_time": "2023-03-26T13:56:51.593Z"
   },
   {
    "duration": 11,
    "start_time": "2023-03-26T13:56:51.599Z"
   },
   {
    "duration": 3,
    "start_time": "2023-03-26T13:56:51.612Z"
   },
   {
    "duration": 5,
    "start_time": "2023-03-26T13:56:51.617Z"
   },
   {
    "duration": 5,
    "start_time": "2023-03-26T13:56:51.625Z"
   },
   {
    "duration": 7,
    "start_time": "2023-03-26T13:56:51.632Z"
   },
   {
    "duration": 982,
    "start_time": "2023-03-26T13:56:51.674Z"
   },
   {
    "duration": 124,
    "start_time": "2023-03-26T13:56:52.658Z"
   },
   {
    "duration": 1659,
    "start_time": "2023-03-26T13:56:52.785Z"
   },
   {
    "duration": 71,
    "start_time": "2023-03-26T13:56:54.447Z"
   },
   {
    "duration": 162,
    "start_time": "2023-03-26T13:56:54.520Z"
   },
   {
    "duration": 3805,
    "start_time": "2023-03-26T13:56:54.684Z"
   },
   {
    "duration": 185,
    "start_time": "2023-03-26T13:56:58.490Z"
   },
   {
    "duration": 0,
    "start_time": "2023-03-26T13:56:58.677Z"
   },
   {
    "duration": 0,
    "start_time": "2023-03-26T13:56:58.678Z"
   },
   {
    "duration": 0,
    "start_time": "2023-03-26T13:56:58.680Z"
   },
   {
    "duration": 0,
    "start_time": "2023-03-26T13:56:58.681Z"
   },
   {
    "duration": 0,
    "start_time": "2023-03-26T13:56:58.682Z"
   },
   {
    "duration": 0,
    "start_time": "2023-03-26T13:56:58.683Z"
   },
   {
    "duration": 0,
    "start_time": "2023-03-26T13:56:58.684Z"
   },
   {
    "duration": 0,
    "start_time": "2023-03-26T13:56:58.685Z"
   },
   {
    "duration": 0,
    "start_time": "2023-03-26T13:56:58.687Z"
   },
   {
    "duration": 0,
    "start_time": "2023-03-26T13:56:58.689Z"
   },
   {
    "duration": 0,
    "start_time": "2023-03-26T13:56:58.690Z"
   },
   {
    "duration": 0,
    "start_time": "2023-03-26T13:56:58.693Z"
   },
   {
    "duration": 0,
    "start_time": "2023-03-26T13:56:58.694Z"
   },
   {
    "duration": 0,
    "start_time": "2023-03-26T13:56:58.696Z"
   },
   {
    "duration": 0,
    "start_time": "2023-03-26T13:56:58.697Z"
   },
   {
    "duration": 0,
    "start_time": "2023-03-26T13:56:58.698Z"
   },
   {
    "duration": 0,
    "start_time": "2023-03-26T13:56:58.700Z"
   },
   {
    "duration": 0,
    "start_time": "2023-03-26T13:56:58.701Z"
   },
   {
    "duration": 0,
    "start_time": "2023-03-26T13:56:58.702Z"
   },
   {
    "duration": 0,
    "start_time": "2023-03-26T13:56:58.704Z"
   },
   {
    "duration": 0,
    "start_time": "2023-03-26T13:56:58.705Z"
   },
   {
    "duration": 0,
    "start_time": "2023-03-26T13:56:58.706Z"
   },
   {
    "duration": 13,
    "start_time": "2023-03-26T13:58:05.402Z"
   },
   {
    "duration": 211,
    "start_time": "2023-03-26T13:58:26.955Z"
   },
   {
    "duration": 224,
    "start_time": "2023-03-26T13:58:33.881Z"
   },
   {
    "duration": 5,
    "start_time": "2023-03-26T14:01:46.986Z"
   },
   {
    "duration": 53,
    "start_time": "2023-03-26T14:01:46.993Z"
   },
   {
    "duration": 35,
    "start_time": "2023-03-26T14:01:47.049Z"
   },
   {
    "duration": 15,
    "start_time": "2023-03-26T14:01:47.085Z"
   },
   {
    "duration": 87,
    "start_time": "2023-03-26T14:01:47.102Z"
   },
   {
    "duration": 321,
    "start_time": "2023-03-26T14:01:47.191Z"
   },
   {
    "duration": 27,
    "start_time": "2023-03-26T14:01:47.514Z"
   },
   {
    "duration": 43,
    "start_time": "2023-03-26T14:01:47.543Z"
   },
   {
    "duration": 4,
    "start_time": "2023-03-26T14:01:47.588Z"
   },
   {
    "duration": 313,
    "start_time": "2023-03-26T14:01:47.594Z"
   },
   {
    "duration": 18,
    "start_time": "2023-03-26T14:01:47.910Z"
   },
   {
    "duration": 5,
    "start_time": "2023-03-26T14:01:47.931Z"
   },
   {
    "duration": 14,
    "start_time": "2023-03-26T14:01:47.938Z"
   },
   {
    "duration": 6,
    "start_time": "2023-03-26T14:01:47.974Z"
   },
   {
    "duration": 16,
    "start_time": "2023-03-26T14:01:47.982Z"
   },
   {
    "duration": 6,
    "start_time": "2023-03-26T14:01:48.000Z"
   },
   {
    "duration": 7,
    "start_time": "2023-03-26T14:01:48.007Z"
   },
   {
    "duration": 14,
    "start_time": "2023-03-26T14:01:48.016Z"
   },
   {
    "duration": 5,
    "start_time": "2023-03-26T14:01:48.032Z"
   },
   {
    "duration": 12,
    "start_time": "2023-03-26T14:01:48.074Z"
   },
   {
    "duration": 19,
    "start_time": "2023-03-26T14:01:48.089Z"
   },
   {
    "duration": 10,
    "start_time": "2023-03-26T14:01:48.110Z"
   },
   {
    "duration": 139,
    "start_time": "2023-03-26T14:01:48.122Z"
   },
   {
    "duration": 207,
    "start_time": "2023-03-26T14:01:48.263Z"
   },
   {
    "duration": 7,
    "start_time": "2023-03-26T14:01:48.471Z"
   },
   {
    "duration": 131,
    "start_time": "2023-03-26T14:01:48.480Z"
   },
   {
    "duration": 16,
    "start_time": "2023-03-26T14:01:48.612Z"
   },
   {
    "duration": 5,
    "start_time": "2023-03-26T14:01:48.629Z"
   },
   {
    "duration": 123,
    "start_time": "2023-03-26T14:01:48.639Z"
   },
   {
    "duration": 27,
    "start_time": "2023-03-26T14:01:48.763Z"
   },
   {
    "duration": 202,
    "start_time": "2023-03-26T14:01:48.792Z"
   },
   {
    "duration": 125,
    "start_time": "2023-03-26T14:01:48.996Z"
   },
   {
    "duration": 5,
    "start_time": "2023-03-26T14:01:49.123Z"
   },
   {
    "duration": 290,
    "start_time": "2023-03-26T14:01:49.130Z"
   },
   {
    "duration": 7,
    "start_time": "2023-03-26T14:01:49.422Z"
   },
   {
    "duration": 8,
    "start_time": "2023-03-26T14:01:49.431Z"
   },
   {
    "duration": 5,
    "start_time": "2023-03-26T14:01:49.440Z"
   },
   {
    "duration": 184,
    "start_time": "2023-03-26T14:01:49.447Z"
   },
   {
    "duration": 104,
    "start_time": "2023-03-26T14:01:49.633Z"
   },
   {
    "duration": 8,
    "start_time": "2023-03-26T14:01:49.739Z"
   },
   {
    "duration": 171,
    "start_time": "2023-03-26T14:01:49.749Z"
   },
   {
    "duration": 152,
    "start_time": "2023-03-26T14:01:49.923Z"
   },
   {
    "duration": 8,
    "start_time": "2023-03-26T14:01:50.077Z"
   },
   {
    "duration": 8,
    "start_time": "2023-03-26T14:01:50.087Z"
   },
   {
    "duration": 5,
    "start_time": "2023-03-26T14:01:50.097Z"
   },
   {
    "duration": 10,
    "start_time": "2023-03-26T14:01:50.105Z"
   },
   {
    "duration": 10,
    "start_time": "2023-03-26T14:01:50.117Z"
   },
   {
    "duration": 47,
    "start_time": "2023-03-26T14:01:50.129Z"
   },
   {
    "duration": 245,
    "start_time": "2023-03-26T14:01:50.179Z"
   },
   {
    "duration": 194,
    "start_time": "2023-03-26T14:01:50.426Z"
   },
   {
    "duration": 10,
    "start_time": "2023-03-26T14:01:50.622Z"
   },
   {
    "duration": 13,
    "start_time": "2023-03-26T14:01:50.635Z"
   },
   {
    "duration": 4,
    "start_time": "2023-03-26T14:01:50.650Z"
   },
   {
    "duration": 20,
    "start_time": "2023-03-26T14:01:50.657Z"
   },
   {
    "duration": 37,
    "start_time": "2023-03-26T14:01:50.680Z"
   },
   {
    "duration": 5,
    "start_time": "2023-03-26T14:01:50.719Z"
   },
   {
    "duration": 10,
    "start_time": "2023-03-26T14:01:50.725Z"
   },
   {
    "duration": 3,
    "start_time": "2023-03-26T14:01:50.737Z"
   },
   {
    "duration": 6,
    "start_time": "2023-03-26T14:01:50.742Z"
   },
   {
    "duration": 6,
    "start_time": "2023-03-26T14:01:50.776Z"
   },
   {
    "duration": 8,
    "start_time": "2023-03-26T14:01:50.784Z"
   },
   {
    "duration": 1020,
    "start_time": "2023-03-26T14:01:50.794Z"
   },
   {
    "duration": 124,
    "start_time": "2023-03-26T14:01:51.817Z"
   },
   {
    "duration": 1547,
    "start_time": "2023-03-26T14:01:51.943Z"
   },
   {
    "duration": 59,
    "start_time": "2023-03-26T14:01:53.492Z"
   },
   {
    "duration": 191,
    "start_time": "2023-03-26T14:01:53.553Z"
   },
   {
    "duration": 644,
    "start_time": "2023-03-26T14:01:53.747Z"
   },
   {
    "duration": 91,
    "start_time": "2023-03-26T14:01:54.393Z"
   },
   {
    "duration": 0,
    "start_time": "2023-03-26T14:01:54.487Z"
   },
   {
    "duration": 0,
    "start_time": "2023-03-26T14:01:54.488Z"
   },
   {
    "duration": 0,
    "start_time": "2023-03-26T14:01:54.490Z"
   },
   {
    "duration": 0,
    "start_time": "2023-03-26T14:01:54.491Z"
   },
   {
    "duration": 0,
    "start_time": "2023-03-26T14:01:54.492Z"
   },
   {
    "duration": 0,
    "start_time": "2023-03-26T14:01:54.493Z"
   },
   {
    "duration": 0,
    "start_time": "2023-03-26T14:01:54.494Z"
   },
   {
    "duration": 0,
    "start_time": "2023-03-26T14:01:54.496Z"
   },
   {
    "duration": 0,
    "start_time": "2023-03-26T14:01:54.498Z"
   },
   {
    "duration": 0,
    "start_time": "2023-03-26T14:01:54.500Z"
   },
   {
    "duration": 0,
    "start_time": "2023-03-26T14:01:54.501Z"
   },
   {
    "duration": 0,
    "start_time": "2023-03-26T14:01:54.504Z"
   },
   {
    "duration": 0,
    "start_time": "2023-03-26T14:01:54.505Z"
   },
   {
    "duration": 0,
    "start_time": "2023-03-26T14:01:54.506Z"
   },
   {
    "duration": 0,
    "start_time": "2023-03-26T14:01:54.507Z"
   },
   {
    "duration": 0,
    "start_time": "2023-03-26T14:01:54.508Z"
   },
   {
    "duration": 0,
    "start_time": "2023-03-26T14:01:54.509Z"
   },
   {
    "duration": 0,
    "start_time": "2023-03-26T14:01:54.510Z"
   },
   {
    "duration": 0,
    "start_time": "2023-03-26T14:01:54.512Z"
   },
   {
    "duration": 0,
    "start_time": "2023-03-26T14:01:54.513Z"
   },
   {
    "duration": 0,
    "start_time": "2023-03-26T14:01:54.514Z"
   },
   {
    "duration": 0,
    "start_time": "2023-03-26T14:01:54.516Z"
   },
   {
    "duration": 29,
    "start_time": "2023-03-26T14:03:44.441Z"
   },
   {
    "duration": 14,
    "start_time": "2023-03-26T14:07:01.186Z"
   },
   {
    "duration": 2,
    "start_time": "2023-03-26T14:07:03.483Z"
   },
   {
    "duration": 3,
    "start_time": "2023-03-26T14:07:04.044Z"
   },
   {
    "duration": 5,
    "start_time": "2023-03-26T14:07:04.589Z"
   },
   {
    "duration": 25,
    "start_time": "2023-03-26T14:07:05.179Z"
   },
   {
    "duration": 35,
    "start_time": "2023-03-26T14:08:16.413Z"
   },
   {
    "duration": 5,
    "start_time": "2023-03-26T14:08:23.990Z"
   },
   {
    "duration": 24,
    "start_time": "2023-03-26T14:08:24.900Z"
   },
   {
    "duration": 1234,
    "start_time": "2023-03-26T14:08:51.822Z"
   },
   {
    "duration": 17,
    "start_time": "2023-03-26T14:09:12.840Z"
   },
   {
    "duration": 19,
    "start_time": "2023-03-26T14:09:23.383Z"
   },
   {
    "duration": 13,
    "start_time": "2023-03-26T14:58:51.771Z"
   },
   {
    "duration": 3,
    "start_time": "2023-03-26T14:59:09.075Z"
   },
   {
    "duration": 5,
    "start_time": "2023-03-26T14:59:13.251Z"
   },
   {
    "duration": 43,
    "start_time": "2023-03-26T14:59:13.258Z"
   },
   {
    "duration": 25,
    "start_time": "2023-03-26T14:59:13.303Z"
   },
   {
    "duration": 12,
    "start_time": "2023-03-26T14:59:13.329Z"
   },
   {
    "duration": 68,
    "start_time": "2023-03-26T14:59:13.343Z"
   },
   {
    "duration": 323,
    "start_time": "2023-03-26T14:59:13.413Z"
   },
   {
    "duration": 40,
    "start_time": "2023-03-26T14:59:13.739Z"
   },
   {
    "duration": 19,
    "start_time": "2023-03-26T14:59:13.781Z"
   },
   {
    "duration": 4,
    "start_time": "2023-03-26T14:59:13.801Z"
   },
   {
    "duration": 302,
    "start_time": "2023-03-26T14:59:13.807Z"
   },
   {
    "duration": 17,
    "start_time": "2023-03-26T14:59:14.115Z"
   },
   {
    "duration": 7,
    "start_time": "2023-03-26T14:59:14.134Z"
   },
   {
    "duration": 7,
    "start_time": "2023-03-26T14:59:14.143Z"
   },
   {
    "duration": 5,
    "start_time": "2023-03-26T14:59:14.175Z"
   },
   {
    "duration": 18,
    "start_time": "2023-03-26T14:59:14.183Z"
   },
   {
    "duration": 7,
    "start_time": "2023-03-26T14:59:14.203Z"
   },
   {
    "duration": 12,
    "start_time": "2023-03-26T14:59:14.211Z"
   },
   {
    "duration": 19,
    "start_time": "2023-03-26T14:59:14.225Z"
   },
   {
    "duration": 35,
    "start_time": "2023-03-26T14:59:14.246Z"
   },
   {
    "duration": 30,
    "start_time": "2023-03-26T14:59:14.283Z"
   },
   {
    "duration": 18,
    "start_time": "2023-03-26T14:59:14.315Z"
   },
   {
    "duration": 11,
    "start_time": "2023-03-26T14:59:14.335Z"
   },
   {
    "duration": 142,
    "start_time": "2023-03-26T14:59:14.348Z"
   },
   {
    "duration": 180,
    "start_time": "2023-03-26T14:59:14.492Z"
   },
   {
    "duration": 7,
    "start_time": "2023-03-26T14:59:14.675Z"
   },
   {
    "duration": 126,
    "start_time": "2023-03-26T14:59:14.684Z"
   },
   {
    "duration": 14,
    "start_time": "2023-03-26T14:59:14.812Z"
   },
   {
    "duration": 5,
    "start_time": "2023-03-26T14:59:14.828Z"
   },
   {
    "duration": 125,
    "start_time": "2023-03-26T14:59:14.838Z"
   },
   {
    "duration": 17,
    "start_time": "2023-03-26T14:59:14.974Z"
   },
   {
    "duration": 196,
    "start_time": "2023-03-26T14:59:14.993Z"
   },
   {
    "duration": 126,
    "start_time": "2023-03-26T14:59:15.191Z"
   },
   {
    "duration": 5,
    "start_time": "2023-03-26T14:59:15.320Z"
   },
   {
    "duration": 162,
    "start_time": "2023-03-26T14:59:15.327Z"
   },
   {
    "duration": 6,
    "start_time": "2023-03-26T14:59:15.491Z"
   },
   {
    "duration": 6,
    "start_time": "2023-03-26T14:59:15.500Z"
   },
   {
    "duration": 6,
    "start_time": "2023-03-26T14:59:15.508Z"
   },
   {
    "duration": 190,
    "start_time": "2023-03-26T14:59:15.515Z"
   },
   {
    "duration": 311,
    "start_time": "2023-03-26T14:59:15.707Z"
   },
   {
    "duration": 8,
    "start_time": "2023-03-26T14:59:16.020Z"
   },
   {
    "duration": 188,
    "start_time": "2023-03-26T14:59:16.029Z"
   },
   {
    "duration": 133,
    "start_time": "2023-03-26T14:59:16.219Z"
   },
   {
    "duration": 6,
    "start_time": "2023-03-26T14:59:16.354Z"
   },
   {
    "duration": 15,
    "start_time": "2023-03-26T14:59:16.362Z"
   },
   {
    "duration": 14,
    "start_time": "2023-03-26T14:59:16.379Z"
   },
   {
    "duration": 9,
    "start_time": "2023-03-26T14:59:16.394Z"
   },
   {
    "duration": 13,
    "start_time": "2023-03-26T14:59:16.405Z"
   },
   {
    "duration": 28,
    "start_time": "2023-03-26T14:59:16.420Z"
   },
   {
    "duration": 230,
    "start_time": "2023-03-26T14:59:16.450Z"
   },
   {
    "duration": 149,
    "start_time": "2023-03-26T14:59:16.682Z"
   },
   {
    "duration": 8,
    "start_time": "2023-03-26T14:59:16.833Z"
   },
   {
    "duration": 3,
    "start_time": "2023-03-26T14:59:16.842Z"
   },
   {
    "duration": 4,
    "start_time": "2023-03-26T14:59:16.847Z"
   },
   {
    "duration": 28,
    "start_time": "2023-03-26T14:59:16.853Z"
   },
   {
    "duration": 23,
    "start_time": "2023-03-26T14:59:16.883Z"
   },
   {
    "duration": 0,
    "start_time": "2023-03-26T14:59:16.908Z"
   },
   {
    "duration": 0,
    "start_time": "2023-03-26T14:59:16.910Z"
   },
   {
    "duration": 0,
    "start_time": "2023-03-26T14:59:16.912Z"
   },
   {
    "duration": 0,
    "start_time": "2023-03-26T14:59:16.913Z"
   },
   {
    "duration": 0,
    "start_time": "2023-03-26T14:59:16.914Z"
   },
   {
    "duration": 0,
    "start_time": "2023-03-26T14:59:16.916Z"
   },
   {
    "duration": 0,
    "start_time": "2023-03-26T14:59:16.917Z"
   },
   {
    "duration": 0,
    "start_time": "2023-03-26T14:59:16.918Z"
   },
   {
    "duration": 0,
    "start_time": "2023-03-26T14:59:16.920Z"
   },
   {
    "duration": 0,
    "start_time": "2023-03-26T14:59:16.921Z"
   },
   {
    "duration": 0,
    "start_time": "2023-03-26T14:59:16.922Z"
   },
   {
    "duration": 0,
    "start_time": "2023-03-26T14:59:16.923Z"
   },
   {
    "duration": 0,
    "start_time": "2023-03-26T14:59:16.924Z"
   },
   {
    "duration": 0,
    "start_time": "2023-03-26T14:59:16.925Z"
   },
   {
    "duration": 0,
    "start_time": "2023-03-26T14:59:16.926Z"
   },
   {
    "duration": 0,
    "start_time": "2023-03-26T14:59:16.928Z"
   },
   {
    "duration": 0,
    "start_time": "2023-03-26T14:59:16.976Z"
   },
   {
    "duration": 0,
    "start_time": "2023-03-26T14:59:16.977Z"
   },
   {
    "duration": 0,
    "start_time": "2023-03-26T14:59:16.979Z"
   },
   {
    "duration": 0,
    "start_time": "2023-03-26T14:59:16.980Z"
   },
   {
    "duration": 0,
    "start_time": "2023-03-26T14:59:16.981Z"
   },
   {
    "duration": 0,
    "start_time": "2023-03-26T14:59:16.982Z"
   },
   {
    "duration": 0,
    "start_time": "2023-03-26T14:59:16.984Z"
   },
   {
    "duration": 0,
    "start_time": "2023-03-26T14:59:16.985Z"
   },
   {
    "duration": 0,
    "start_time": "2023-03-26T14:59:16.986Z"
   },
   {
    "duration": 0,
    "start_time": "2023-03-26T14:59:16.988Z"
   },
   {
    "duration": 0,
    "start_time": "2023-03-26T14:59:16.991Z"
   },
   {
    "duration": 0,
    "start_time": "2023-03-26T14:59:16.993Z"
   },
   {
    "duration": 0,
    "start_time": "2023-03-26T14:59:16.994Z"
   },
   {
    "duration": 0,
    "start_time": "2023-03-26T14:59:16.995Z"
   },
   {
    "duration": 0,
    "start_time": "2023-03-26T14:59:16.996Z"
   },
   {
    "duration": 0,
    "start_time": "2023-03-26T14:59:16.997Z"
   },
   {
    "duration": 0,
    "start_time": "2023-03-26T14:59:16.999Z"
   },
   {
    "duration": 0,
    "start_time": "2023-03-26T14:59:17.000Z"
   },
   {
    "duration": 0,
    "start_time": "2023-03-26T14:59:17.001Z"
   },
   {
    "duration": 0,
    "start_time": "2023-03-26T14:59:17.002Z"
   },
   {
    "duration": 5,
    "start_time": "2023-03-26T14:59:41.229Z"
   },
   {
    "duration": 41,
    "start_time": "2023-03-26T14:59:41.237Z"
   },
   {
    "duration": 25,
    "start_time": "2023-03-26T14:59:41.281Z"
   },
   {
    "duration": 12,
    "start_time": "2023-03-26T14:59:41.308Z"
   },
   {
    "duration": 100,
    "start_time": "2023-03-26T14:59:41.322Z"
   },
   {
    "duration": 370,
    "start_time": "2023-03-26T14:59:41.424Z"
   },
   {
    "duration": 30,
    "start_time": "2023-03-26T14:59:41.797Z"
   },
   {
    "duration": 20,
    "start_time": "2023-03-26T14:59:41.829Z"
   },
   {
    "duration": 31,
    "start_time": "2023-03-26T14:59:41.850Z"
   },
   {
    "duration": 361,
    "start_time": "2023-03-26T14:59:41.883Z"
   },
   {
    "duration": 30,
    "start_time": "2023-03-26T14:59:42.247Z"
   },
   {
    "duration": 7,
    "start_time": "2023-03-26T14:59:42.279Z"
   },
   {
    "duration": 7,
    "start_time": "2023-03-26T14:59:42.288Z"
   },
   {
    "duration": 8,
    "start_time": "2023-03-26T14:59:42.297Z"
   },
   {
    "duration": 16,
    "start_time": "2023-03-26T14:59:42.306Z"
   },
   {
    "duration": 8,
    "start_time": "2023-03-26T14:59:42.328Z"
   },
   {
    "duration": 41,
    "start_time": "2023-03-26T14:59:42.338Z"
   },
   {
    "duration": 18,
    "start_time": "2023-03-26T14:59:42.381Z"
   },
   {
    "duration": 6,
    "start_time": "2023-03-26T14:59:42.401Z"
   },
   {
    "duration": 12,
    "start_time": "2023-03-26T14:59:42.408Z"
   },
   {
    "duration": 51,
    "start_time": "2023-03-26T14:59:42.423Z"
   },
   {
    "duration": 12,
    "start_time": "2023-03-26T14:59:42.477Z"
   },
   {
    "duration": 131,
    "start_time": "2023-03-26T14:59:42.491Z"
   },
   {
    "duration": 202,
    "start_time": "2023-03-26T14:59:42.625Z"
   },
   {
    "duration": 6,
    "start_time": "2023-03-26T14:59:42.829Z"
   },
   {
    "duration": 140,
    "start_time": "2023-03-26T14:59:42.837Z"
   },
   {
    "duration": 20,
    "start_time": "2023-03-26T14:59:42.979Z"
   },
   {
    "duration": 6,
    "start_time": "2023-03-26T14:59:43.001Z"
   },
   {
    "duration": 151,
    "start_time": "2023-03-26T14:59:43.014Z"
   },
   {
    "duration": 18,
    "start_time": "2023-03-26T14:59:43.175Z"
   },
   {
    "duration": 239,
    "start_time": "2023-03-26T14:59:43.194Z"
   },
   {
    "duration": 117,
    "start_time": "2023-03-26T14:59:43.435Z"
   },
   {
    "duration": 5,
    "start_time": "2023-03-26T14:59:43.555Z"
   },
   {
    "duration": 155,
    "start_time": "2023-03-26T14:59:43.575Z"
   },
   {
    "duration": 8,
    "start_time": "2023-03-26T14:59:43.732Z"
   },
   {
    "duration": 6,
    "start_time": "2023-03-26T14:59:43.742Z"
   },
   {
    "duration": 26,
    "start_time": "2023-03-26T14:59:43.750Z"
   },
   {
    "duration": 203,
    "start_time": "2023-03-26T14:59:43.779Z"
   },
   {
    "duration": 143,
    "start_time": "2023-03-26T14:59:43.984Z"
   },
   {
    "duration": 7,
    "start_time": "2023-03-26T14:59:44.129Z"
   },
   {
    "duration": 207,
    "start_time": "2023-03-26T14:59:44.138Z"
   },
   {
    "duration": 121,
    "start_time": "2023-03-26T14:59:44.347Z"
   },
   {
    "duration": 5,
    "start_time": "2023-03-26T14:59:44.476Z"
   },
   {
    "duration": 7,
    "start_time": "2023-03-26T14:59:44.483Z"
   },
   {
    "duration": 4,
    "start_time": "2023-03-26T14:59:44.492Z"
   },
   {
    "duration": 8,
    "start_time": "2023-03-26T14:59:44.498Z"
   },
   {
    "duration": 11,
    "start_time": "2023-03-26T14:59:44.508Z"
   },
   {
    "duration": 10,
    "start_time": "2023-03-26T14:59:44.521Z"
   },
   {
    "duration": 210,
    "start_time": "2023-03-26T14:59:44.574Z"
   },
   {
    "duration": 149,
    "start_time": "2023-03-26T14:59:44.786Z"
   },
   {
    "duration": 7,
    "start_time": "2023-03-26T14:59:44.937Z"
   },
   {
    "duration": 4,
    "start_time": "2023-03-26T14:59:44.946Z"
   },
   {
    "duration": 22,
    "start_time": "2023-03-26T14:59:44.952Z"
   },
   {
    "duration": 6,
    "start_time": "2023-03-26T14:59:44.977Z"
   },
   {
    "duration": 247,
    "start_time": "2023-03-26T14:59:44.985Z"
   },
   {
    "duration": 11,
    "start_time": "2023-03-26T14:59:45.234Z"
   },
   {
    "duration": 0,
    "start_time": "2023-03-26T14:59:45.247Z"
   },
   {
    "duration": 0,
    "start_time": "2023-03-26T14:59:45.249Z"
   },
   {
    "duration": 0,
    "start_time": "2023-03-26T14:59:45.250Z"
   },
   {
    "duration": 0,
    "start_time": "2023-03-26T14:59:45.252Z"
   },
   {
    "duration": 0,
    "start_time": "2023-03-26T14:59:45.253Z"
   },
   {
    "duration": 0,
    "start_time": "2023-03-26T14:59:45.255Z"
   },
   {
    "duration": 0,
    "start_time": "2023-03-26T14:59:45.256Z"
   },
   {
    "duration": 0,
    "start_time": "2023-03-26T14:59:45.256Z"
   },
   {
    "duration": 0,
    "start_time": "2023-03-26T14:59:45.257Z"
   },
   {
    "duration": 0,
    "start_time": "2023-03-26T14:59:45.258Z"
   },
   {
    "duration": 0,
    "start_time": "2023-03-26T14:59:45.274Z"
   },
   {
    "duration": 0,
    "start_time": "2023-03-26T14:59:45.277Z"
   },
   {
    "duration": 0,
    "start_time": "2023-03-26T14:59:45.279Z"
   },
   {
    "duration": 0,
    "start_time": "2023-03-26T14:59:45.280Z"
   },
   {
    "duration": 0,
    "start_time": "2023-03-26T14:59:45.282Z"
   },
   {
    "duration": 0,
    "start_time": "2023-03-26T14:59:45.283Z"
   },
   {
    "duration": 0,
    "start_time": "2023-03-26T14:59:45.285Z"
   },
   {
    "duration": 0,
    "start_time": "2023-03-26T14:59:45.286Z"
   },
   {
    "duration": 0,
    "start_time": "2023-03-26T14:59:45.288Z"
   },
   {
    "duration": 0,
    "start_time": "2023-03-26T14:59:45.290Z"
   },
   {
    "duration": 0,
    "start_time": "2023-03-26T14:59:45.291Z"
   },
   {
    "duration": 0,
    "start_time": "2023-03-26T14:59:45.292Z"
   },
   {
    "duration": 0,
    "start_time": "2023-03-26T14:59:45.294Z"
   },
   {
    "duration": 0,
    "start_time": "2023-03-26T14:59:45.295Z"
   },
   {
    "duration": 0,
    "start_time": "2023-03-26T14:59:45.297Z"
   },
   {
    "duration": 0,
    "start_time": "2023-03-26T14:59:45.298Z"
   },
   {
    "duration": 0,
    "start_time": "2023-03-26T14:59:45.300Z"
   },
   {
    "duration": 0,
    "start_time": "2023-03-26T14:59:45.301Z"
   },
   {
    "duration": 0,
    "start_time": "2023-03-26T14:59:45.302Z"
   },
   {
    "duration": 0,
    "start_time": "2023-03-26T14:59:45.304Z"
   },
   {
    "duration": 0,
    "start_time": "2023-03-26T14:59:45.305Z"
   },
   {
    "duration": 0,
    "start_time": "2023-03-26T14:59:45.306Z"
   },
   {
    "duration": 0,
    "start_time": "2023-03-26T14:59:45.308Z"
   },
   {
    "duration": 0,
    "start_time": "2023-03-26T14:59:45.309Z"
   },
   {
    "duration": 0,
    "start_time": "2023-03-26T14:59:45.310Z"
   },
   {
    "duration": 5,
    "start_time": "2023-03-26T15:00:03.603Z"
   },
   {
    "duration": 23,
    "start_time": "2023-03-26T15:04:15.936Z"
   },
   {
    "duration": 5,
    "start_time": "2023-03-26T15:04:20.127Z"
   },
   {
    "duration": 14,
    "start_time": "2023-03-26T15:04:32.682Z"
   },
   {
    "duration": 5,
    "start_time": "2023-03-26T15:04:34.504Z"
   },
   {
    "duration": 19,
    "start_time": "2023-03-26T15:04:56.515Z"
   },
   {
    "duration": 7,
    "start_time": "2023-03-26T15:05:20.127Z"
   },
   {
    "duration": 7,
    "start_time": "2023-03-26T15:05:26.227Z"
   },
   {
    "duration": 3,
    "start_time": "2023-03-26T15:05:27.641Z"
   },
   {
    "duration": 3,
    "start_time": "2023-03-26T15:05:56.521Z"
   },
   {
    "duration": 5,
    "start_time": "2023-03-26T15:05:57.312Z"
   },
   {
    "duration": 9,
    "start_time": "2023-03-26T15:05:58.248Z"
   },
   {
    "duration": 5,
    "start_time": "2023-03-26T15:06:00.431Z"
   },
   {
    "duration": 3,
    "start_time": "2023-03-26T15:06:11.857Z"
   },
   {
    "duration": 3,
    "start_time": "2023-03-26T15:06:26.601Z"
   },
   {
    "duration": 5,
    "start_time": "2023-03-26T15:06:27.889Z"
   },
   {
    "duration": 11,
    "start_time": "2023-03-26T15:06:28.790Z"
   },
   {
    "duration": 4,
    "start_time": "2023-03-26T15:06:29.817Z"
   },
   {
    "duration": 14,
    "start_time": "2023-03-26T15:16:59.698Z"
   },
   {
    "duration": 12,
    "start_time": "2023-03-26T15:17:47.906Z"
   },
   {
    "duration": 15,
    "start_time": "2023-03-26T15:17:59.003Z"
   },
   {
    "duration": 19,
    "start_time": "2023-03-26T15:18:16.393Z"
   },
   {
    "duration": 20,
    "start_time": "2023-03-26T15:18:43.717Z"
   },
   {
    "duration": 2,
    "start_time": "2023-03-26T15:22:22.360Z"
   },
   {
    "duration": 14,
    "start_time": "2023-03-26T15:22:23.951Z"
   },
   {
    "duration": 5,
    "start_time": "2023-03-26T15:22:25.398Z"
   },
   {
    "duration": 3,
    "start_time": "2023-03-26T15:22:26.391Z"
   },
   {
    "duration": 21,
    "start_time": "2023-03-26T15:22:31.497Z"
   },
   {
    "duration": 4,
    "start_time": "2023-03-26T15:22:37.527Z"
   },
   {
    "duration": 11,
    "start_time": "2023-03-26T15:22:40.806Z"
   },
   {
    "duration": 13,
    "start_time": "2023-03-26T15:22:57.537Z"
   },
   {
    "duration": 9,
    "start_time": "2023-03-26T15:23:03.627Z"
   },
   {
    "duration": 10,
    "start_time": "2023-03-26T15:23:28.801Z"
   },
   {
    "duration": 8,
    "start_time": "2023-03-26T15:23:31.326Z"
   },
   {
    "duration": 14,
    "start_time": "2023-03-26T15:25:43.509Z"
   },
   {
    "duration": 17,
    "start_time": "2023-03-26T15:25:52.713Z"
   },
   {
    "duration": 18,
    "start_time": "2023-03-26T15:25:56.435Z"
   },
   {
    "duration": 74,
    "start_time": "2023-03-26T15:26:00.659Z"
   },
   {
    "duration": 15,
    "start_time": "2023-03-26T15:26:05.644Z"
   },
   {
    "duration": 14,
    "start_time": "2023-03-26T15:26:10.720Z"
   },
   {
    "duration": 4,
    "start_time": "2023-03-26T15:26:23.516Z"
   },
   {
    "duration": 7,
    "start_time": "2023-03-26T15:27:52.909Z"
   },
   {
    "duration": 3,
    "start_time": "2023-03-26T15:27:54.765Z"
   },
   {
    "duration": 8,
    "start_time": "2023-03-26T15:27:57.004Z"
   },
   {
    "duration": 6,
    "start_time": "2023-03-26T15:28:08.166Z"
   },
   {
    "duration": 48,
    "start_time": "2023-03-26T15:28:08.174Z"
   },
   {
    "duration": 32,
    "start_time": "2023-03-26T15:28:08.225Z"
   },
   {
    "duration": 18,
    "start_time": "2023-03-26T15:28:08.258Z"
   },
   {
    "duration": 43,
    "start_time": "2023-03-26T15:28:08.278Z"
   },
   {
    "duration": 509,
    "start_time": "2023-03-26T15:28:08.324Z"
   },
   {
    "duration": 24,
    "start_time": "2023-03-26T15:28:08.834Z"
   },
   {
    "duration": 31,
    "start_time": "2023-03-26T15:28:08.860Z"
   },
   {
    "duration": 4,
    "start_time": "2023-03-26T15:28:08.893Z"
   },
   {
    "duration": 312,
    "start_time": "2023-03-26T15:28:08.899Z"
   },
   {
    "duration": 18,
    "start_time": "2023-03-26T15:28:09.215Z"
   },
   {
    "duration": 7,
    "start_time": "2023-03-26T15:28:09.235Z"
   },
   {
    "duration": 32,
    "start_time": "2023-03-26T15:28:09.244Z"
   },
   {
    "duration": 7,
    "start_time": "2023-03-26T15:28:09.279Z"
   },
   {
    "duration": 14,
    "start_time": "2023-03-26T15:28:09.287Z"
   },
   {
    "duration": 8,
    "start_time": "2023-03-26T15:28:09.303Z"
   },
   {
    "duration": 6,
    "start_time": "2023-03-26T15:28:09.313Z"
   },
   {
    "duration": 58,
    "start_time": "2023-03-26T15:28:09.320Z"
   },
   {
    "duration": 6,
    "start_time": "2023-03-26T15:28:09.380Z"
   },
   {
    "duration": 11,
    "start_time": "2023-03-26T15:28:09.388Z"
   },
   {
    "duration": 18,
    "start_time": "2023-03-26T15:28:09.401Z"
   },
   {
    "duration": 9,
    "start_time": "2023-03-26T15:28:09.420Z"
   },
   {
    "duration": 144,
    "start_time": "2023-03-26T15:28:09.431Z"
   },
   {
    "duration": 203,
    "start_time": "2023-03-26T15:28:09.577Z"
   },
   {
    "duration": 7,
    "start_time": "2023-03-26T15:28:09.782Z"
   },
   {
    "duration": 138,
    "start_time": "2023-03-26T15:28:09.792Z"
   },
   {
    "duration": 18,
    "start_time": "2023-03-26T15:28:09.933Z"
   },
   {
    "duration": 23,
    "start_time": "2023-03-26T15:28:09.953Z"
   },
   {
    "duration": 121,
    "start_time": "2023-03-26T15:28:09.981Z"
   },
   {
    "duration": 19,
    "start_time": "2023-03-26T15:28:10.104Z"
   },
   {
    "duration": 212,
    "start_time": "2023-03-26T15:28:10.125Z"
   },
   {
    "duration": 153,
    "start_time": "2023-03-26T15:28:10.339Z"
   },
   {
    "duration": 4,
    "start_time": "2023-03-26T15:28:10.495Z"
   },
   {
    "duration": 156,
    "start_time": "2023-03-26T15:28:10.501Z"
   },
   {
    "duration": 6,
    "start_time": "2023-03-26T15:28:10.659Z"
   },
   {
    "duration": 6,
    "start_time": "2023-03-26T15:28:10.675Z"
   },
   {
    "duration": 7,
    "start_time": "2023-03-26T15:28:10.682Z"
   },
   {
    "duration": 224,
    "start_time": "2023-03-26T15:28:10.692Z"
   },
   {
    "duration": 126,
    "start_time": "2023-03-26T15:28:10.919Z"
   },
   {
    "duration": 5,
    "start_time": "2023-03-26T15:28:11.047Z"
   },
   {
    "duration": 174,
    "start_time": "2023-03-26T15:28:11.054Z"
   },
   {
    "duration": 123,
    "start_time": "2023-03-26T15:28:11.230Z"
   },
   {
    "duration": 5,
    "start_time": "2023-03-26T15:28:11.355Z"
   },
   {
    "duration": 18,
    "start_time": "2023-03-26T15:28:11.361Z"
   },
   {
    "duration": 5,
    "start_time": "2023-03-26T15:28:11.381Z"
   },
   {
    "duration": 9,
    "start_time": "2023-03-26T15:28:11.388Z"
   },
   {
    "duration": 5,
    "start_time": "2023-03-26T15:28:11.399Z"
   },
   {
    "duration": 14,
    "start_time": "2023-03-26T15:28:11.406Z"
   },
   {
    "duration": 196,
    "start_time": "2023-03-26T15:28:11.422Z"
   },
   {
    "duration": 123,
    "start_time": "2023-03-26T15:28:11.619Z"
   },
   {
    "duration": 6,
    "start_time": "2023-03-26T15:28:11.743Z"
   },
   {
    "duration": 2,
    "start_time": "2023-03-26T15:28:11.751Z"
   },
   {
    "duration": 25,
    "start_time": "2023-03-26T15:28:11.755Z"
   },
   {
    "duration": 6,
    "start_time": "2023-03-26T15:28:11.782Z"
   },
   {
    "duration": 11,
    "start_time": "2023-03-26T15:28:11.789Z"
   },
   {
    "duration": 12,
    "start_time": "2023-03-26T15:28:11.802Z"
   },
   {
    "duration": 12,
    "start_time": "2023-03-26T15:28:11.815Z"
   },
   {
    "duration": 8,
    "start_time": "2023-03-26T15:28:11.829Z"
   },
   {
    "duration": 2,
    "start_time": "2023-03-26T15:28:11.839Z"
   },
   {
    "duration": 4,
    "start_time": "2023-03-26T15:28:11.843Z"
   },
   {
    "duration": 28,
    "start_time": "2023-03-26T15:28:11.848Z"
   },
   {
    "duration": 10,
    "start_time": "2023-03-26T15:28:11.878Z"
   },
   {
    "duration": 55,
    "start_time": "2023-03-26T15:28:11.890Z"
   },
   {
    "duration": 14,
    "start_time": "2023-03-26T15:28:11.948Z"
   },
   {
    "duration": 534,
    "start_time": "2023-03-26T15:28:11.976Z"
   },
   {
    "duration": 36,
    "start_time": "2023-03-26T15:28:12.514Z"
   },
   {
    "duration": 145,
    "start_time": "2023-03-26T15:28:12.552Z"
   },
   {
    "duration": 15,
    "start_time": "2023-03-26T15:28:12.699Z"
   },
   {
    "duration": 9,
    "start_time": "2023-03-26T15:28:12.715Z"
   },
   {
    "duration": 9,
    "start_time": "2023-03-26T15:28:12.725Z"
   },
   {
    "duration": 39,
    "start_time": "2023-03-26T15:28:12.736Z"
   },
   {
    "duration": 20,
    "start_time": "2023-03-26T15:28:12.777Z"
   },
   {
    "duration": 0,
    "start_time": "2023-03-26T15:28:12.799Z"
   },
   {
    "duration": 0,
    "start_time": "2023-03-26T15:28:12.800Z"
   },
   {
    "duration": 0,
    "start_time": "2023-03-26T15:28:12.801Z"
   },
   {
    "duration": 0,
    "start_time": "2023-03-26T15:28:12.802Z"
   },
   {
    "duration": 0,
    "start_time": "2023-03-26T15:28:12.804Z"
   },
   {
    "duration": 0,
    "start_time": "2023-03-26T15:28:12.805Z"
   },
   {
    "duration": 0,
    "start_time": "2023-03-26T15:28:12.806Z"
   },
   {
    "duration": 0,
    "start_time": "2023-03-26T15:28:12.807Z"
   },
   {
    "duration": 0,
    "start_time": "2023-03-26T15:28:12.808Z"
   },
   {
    "duration": 0,
    "start_time": "2023-03-26T15:28:12.809Z"
   },
   {
    "duration": 0,
    "start_time": "2023-03-26T15:28:12.811Z"
   },
   {
    "duration": 0,
    "start_time": "2023-03-26T15:28:12.812Z"
   },
   {
    "duration": 0,
    "start_time": "2023-03-26T15:28:12.813Z"
   },
   {
    "duration": 0,
    "start_time": "2023-03-26T15:28:12.814Z"
   },
   {
    "duration": 0,
    "start_time": "2023-03-26T15:28:12.815Z"
   },
   {
    "duration": 0,
    "start_time": "2023-03-26T15:28:12.816Z"
   },
   {
    "duration": 0,
    "start_time": "2023-03-26T15:28:12.817Z"
   },
   {
    "duration": 0,
    "start_time": "2023-03-26T15:28:12.818Z"
   },
   {
    "duration": 0,
    "start_time": "2023-03-26T15:28:12.819Z"
   },
   {
    "duration": 16,
    "start_time": "2023-03-26T15:29:00.845Z"
   },
   {
    "duration": 4,
    "start_time": "2023-03-26T15:29:31.854Z"
   },
   {
    "duration": 47,
    "start_time": "2023-03-26T15:29:31.861Z"
   },
   {
    "duration": 26,
    "start_time": "2023-03-26T15:29:31.910Z"
   },
   {
    "duration": 13,
    "start_time": "2023-03-26T15:29:31.938Z"
   },
   {
    "duration": 61,
    "start_time": "2023-03-26T15:29:31.954Z"
   },
   {
    "duration": 316,
    "start_time": "2023-03-26T15:29:32.017Z"
   },
   {
    "duration": 44,
    "start_time": "2023-03-26T15:29:32.334Z"
   },
   {
    "duration": 20,
    "start_time": "2023-03-26T15:29:32.381Z"
   },
   {
    "duration": 5,
    "start_time": "2023-03-26T15:29:32.403Z"
   },
   {
    "duration": 323,
    "start_time": "2023-03-26T15:29:32.410Z"
   },
   {
    "duration": 17,
    "start_time": "2023-03-26T15:29:32.737Z"
   },
   {
    "duration": 21,
    "start_time": "2023-03-26T15:29:32.756Z"
   },
   {
    "duration": 14,
    "start_time": "2023-03-26T15:29:32.780Z"
   },
   {
    "duration": 6,
    "start_time": "2023-03-26T15:29:32.796Z"
   },
   {
    "duration": 27,
    "start_time": "2023-03-26T15:29:32.804Z"
   },
   {
    "duration": 13,
    "start_time": "2023-03-26T15:29:32.834Z"
   },
   {
    "duration": 26,
    "start_time": "2023-03-26T15:29:32.850Z"
   },
   {
    "duration": 19,
    "start_time": "2023-03-26T15:29:32.878Z"
   },
   {
    "duration": 7,
    "start_time": "2023-03-26T15:29:32.898Z"
   },
   {
    "duration": 14,
    "start_time": "2023-03-26T15:29:32.907Z"
   },
   {
    "duration": 16,
    "start_time": "2023-03-26T15:29:32.923Z"
   },
   {
    "duration": 10,
    "start_time": "2023-03-26T15:29:32.975Z"
   },
   {
    "duration": 160,
    "start_time": "2023-03-26T15:29:32.987Z"
   },
   {
    "duration": 233,
    "start_time": "2023-03-26T15:29:33.153Z"
   },
   {
    "duration": 8,
    "start_time": "2023-03-26T15:29:33.389Z"
   },
   {
    "duration": 138,
    "start_time": "2023-03-26T15:29:33.399Z"
   },
   {
    "duration": 29,
    "start_time": "2023-03-26T15:29:33.539Z"
   },
   {
    "duration": 7,
    "start_time": "2023-03-26T15:29:33.574Z"
   },
   {
    "duration": 157,
    "start_time": "2023-03-26T15:29:33.588Z"
   },
   {
    "duration": 34,
    "start_time": "2023-03-26T15:29:33.748Z"
   },
   {
    "duration": 310,
    "start_time": "2023-03-26T15:29:33.784Z"
   },
   {
    "duration": 180,
    "start_time": "2023-03-26T15:29:34.097Z"
   },
   {
    "duration": 12,
    "start_time": "2023-03-26T15:29:34.279Z"
   },
   {
    "duration": 460,
    "start_time": "2023-03-26T15:29:34.297Z"
   },
   {
    "duration": 7,
    "start_time": "2023-03-26T15:29:34.758Z"
   },
   {
    "duration": 54,
    "start_time": "2023-03-26T15:29:34.774Z"
   },
   {
    "duration": 7,
    "start_time": "2023-03-26T15:29:34.830Z"
   },
   {
    "duration": 188,
    "start_time": "2023-03-26T15:29:34.839Z"
   },
   {
    "duration": 150,
    "start_time": "2023-03-26T15:29:35.029Z"
   },
   {
    "duration": 7,
    "start_time": "2023-03-26T15:29:35.182Z"
   },
   {
    "duration": 218,
    "start_time": "2023-03-26T15:29:35.191Z"
   },
   {
    "duration": 123,
    "start_time": "2023-03-26T15:29:35.411Z"
   },
   {
    "duration": 5,
    "start_time": "2023-03-26T15:29:35.536Z"
   },
   {
    "duration": 51,
    "start_time": "2023-03-26T15:29:35.544Z"
   },
   {
    "duration": 5,
    "start_time": "2023-03-26T15:29:35.597Z"
   },
   {
    "duration": 15,
    "start_time": "2023-03-26T15:29:35.604Z"
   },
   {
    "duration": 7,
    "start_time": "2023-03-26T15:29:35.621Z"
   },
   {
    "duration": 11,
    "start_time": "2023-03-26T15:29:35.629Z"
   },
   {
    "duration": 174,
    "start_time": "2023-03-26T15:29:35.642Z"
   },
   {
    "duration": 129,
    "start_time": "2023-03-26T15:29:35.818Z"
   },
   {
    "duration": 6,
    "start_time": "2023-03-26T15:29:35.949Z"
   },
   {
    "duration": 19,
    "start_time": "2023-03-26T15:29:35.956Z"
   },
   {
    "duration": 3,
    "start_time": "2023-03-26T15:29:35.977Z"
   },
   {
    "duration": 7,
    "start_time": "2023-03-26T15:29:35.982Z"
   },
   {
    "duration": 13,
    "start_time": "2023-03-26T15:29:35.991Z"
   },
   {
    "duration": 5,
    "start_time": "2023-03-26T15:29:36.006Z"
   },
   {
    "duration": 8,
    "start_time": "2023-03-26T15:29:36.012Z"
   },
   {
    "duration": 21,
    "start_time": "2023-03-26T15:29:36.021Z"
   },
   {
    "duration": 31,
    "start_time": "2023-03-26T15:29:36.044Z"
   },
   {
    "duration": 3,
    "start_time": "2023-03-26T15:29:36.077Z"
   },
   {
    "duration": 10,
    "start_time": "2023-03-26T15:29:36.082Z"
   },
   {
    "duration": 6,
    "start_time": "2023-03-26T15:29:36.094Z"
   },
   {
    "duration": 251,
    "start_time": "2023-03-26T15:29:36.101Z"
   },
   {
    "duration": 46,
    "start_time": "2023-03-26T15:29:36.354Z"
   },
   {
    "duration": 1318,
    "start_time": "2023-03-26T15:29:36.402Z"
   },
   {
    "duration": 62,
    "start_time": "2023-03-26T15:29:37.722Z"
   },
   {
    "duration": 134,
    "start_time": "2023-03-26T15:29:37.785Z"
   },
   {
    "duration": 65,
    "start_time": "2023-03-26T15:29:37.920Z"
   },
   {
    "duration": 96,
    "start_time": "2023-03-26T15:29:37.986Z"
   },
   {
    "duration": 90,
    "start_time": "2023-03-26T15:29:38.087Z"
   },
   {
    "duration": 7,
    "start_time": "2023-03-26T15:29:38.179Z"
   },
   {
    "duration": 19,
    "start_time": "2023-03-26T15:29:38.188Z"
   },
   {
    "duration": 166,
    "start_time": "2023-03-26T15:29:38.209Z"
   },
   {
    "duration": 630,
    "start_time": "2023-03-26T15:29:38.378Z"
   },
   {
    "duration": 86,
    "start_time": "2023-03-26T15:29:39.009Z"
   },
   {
    "duration": 2338,
    "start_time": "2023-03-26T15:29:39.097Z"
   },
   {
    "duration": 277,
    "start_time": "2023-03-26T15:29:41.437Z"
   },
   {
    "duration": 169,
    "start_time": "2023-03-26T15:29:41.716Z"
   },
   {
    "duration": 12,
    "start_time": "2023-03-26T15:29:41.886Z"
   },
   {
    "duration": 83,
    "start_time": "2023-03-26T15:29:41.900Z"
   },
   {
    "duration": 307,
    "start_time": "2023-03-26T15:29:41.985Z"
   },
   {
    "duration": 20,
    "start_time": "2023-03-26T15:29:42.294Z"
   },
   {
    "duration": 213,
    "start_time": "2023-03-26T15:29:42.320Z"
   },
   {
    "duration": 82,
    "start_time": "2023-03-26T15:29:42.537Z"
   },
   {
    "duration": 172,
    "start_time": "2023-03-26T15:29:42.621Z"
   },
   {
    "duration": 201,
    "start_time": "2023-03-26T15:29:42.795Z"
   },
   {
    "duration": 154,
    "start_time": "2023-03-26T15:29:42.998Z"
   },
   {
    "duration": 77,
    "start_time": "2023-03-26T15:29:43.154Z"
   },
   {
    "duration": 11,
    "start_time": "2023-03-26T15:29:43.233Z"
   },
   {
    "duration": 29,
    "start_time": "2023-03-26T15:29:43.246Z"
   },
   {
    "duration": 7,
    "start_time": "2023-03-26T15:29:43.277Z"
   },
   {
    "duration": 17,
    "start_time": "2023-03-26T15:30:36.146Z"
   },
   {
    "duration": 91,
    "start_time": "2023-03-26T15:33:32.869Z"
   },
   {
    "duration": 11300,
    "start_time": "2023-03-26T15:33:46.527Z"
   },
   {
    "duration": 5,
    "start_time": "2023-03-26T15:47:43.407Z"
   },
   {
    "duration": 4,
    "start_time": "2023-03-26T15:55:25.805Z"
   },
   {
    "duration": 6,
    "start_time": "2023-03-26T15:57:47.470Z"
   },
   {
    "duration": 12,
    "start_time": "2023-03-26T15:57:57.202Z"
   },
   {
    "duration": 8,
    "start_time": "2023-03-26T15:58:09.014Z"
   },
   {
    "duration": 11,
    "start_time": "2023-03-26T15:58:10.250Z"
   },
   {
    "duration": 54,
    "start_time": "2023-03-28T10:33:57.613Z"
   },
   {
    "duration": 1652,
    "start_time": "2023-03-28T10:34:43.373Z"
   },
   {
    "duration": 182,
    "start_time": "2023-03-28T10:34:45.028Z"
   },
   {
    "duration": 51,
    "start_time": "2023-03-28T10:34:45.212Z"
   },
   {
    "duration": 19,
    "start_time": "2023-03-28T10:34:45.266Z"
   },
   {
    "duration": 64,
    "start_time": "2023-03-28T10:34:45.287Z"
   },
   {
    "duration": 272,
    "start_time": "2023-03-28T10:34:45.352Z"
   },
   {
    "duration": 22,
    "start_time": "2023-03-28T10:34:45.626Z"
   },
   {
    "duration": 18,
    "start_time": "2023-03-28T10:34:45.649Z"
   },
   {
    "duration": 4,
    "start_time": "2023-03-28T10:34:45.669Z"
   },
   {
    "duration": 276,
    "start_time": "2023-03-28T10:34:45.676Z"
   },
   {
    "duration": 14,
    "start_time": "2023-03-28T10:34:45.954Z"
   },
   {
    "duration": 4,
    "start_time": "2023-03-28T10:34:45.970Z"
   },
   {
    "duration": 7,
    "start_time": "2023-03-28T10:34:45.976Z"
   },
   {
    "duration": 14,
    "start_time": "2023-03-28T10:34:45.985Z"
   },
   {
    "duration": 13,
    "start_time": "2023-03-28T10:34:46.018Z"
   },
   {
    "duration": 5,
    "start_time": "2023-03-28T10:34:46.033Z"
   },
   {
    "duration": 9,
    "start_time": "2023-03-28T10:34:46.039Z"
   },
   {
    "duration": 24,
    "start_time": "2023-03-28T10:34:46.050Z"
   },
   {
    "duration": 20,
    "start_time": "2023-03-28T10:34:46.076Z"
   },
   {
    "duration": 28,
    "start_time": "2023-03-28T10:34:46.098Z"
   },
   {
    "duration": 16,
    "start_time": "2023-03-28T10:34:46.127Z"
   },
   {
    "duration": 8,
    "start_time": "2023-03-28T10:34:46.145Z"
   },
   {
    "duration": 114,
    "start_time": "2023-03-28T10:34:46.155Z"
   },
   {
    "duration": 252,
    "start_time": "2023-03-28T10:34:46.271Z"
   },
   {
    "duration": 6,
    "start_time": "2023-03-28T10:34:46.524Z"
   },
   {
    "duration": 118,
    "start_time": "2023-03-28T10:34:46.532Z"
   },
   {
    "duration": 16,
    "start_time": "2023-03-28T10:34:46.652Z"
   },
   {
    "duration": 5,
    "start_time": "2023-03-28T10:34:46.672Z"
   },
   {
    "duration": 124,
    "start_time": "2023-03-28T10:34:46.679Z"
   },
   {
    "duration": 23,
    "start_time": "2023-03-28T10:34:46.805Z"
   },
   {
    "duration": 190,
    "start_time": "2023-03-28T10:34:46.830Z"
   },
   {
    "duration": 130,
    "start_time": "2023-03-28T10:34:47.022Z"
   },
   {
    "duration": 5,
    "start_time": "2023-03-28T10:34:47.154Z"
   },
   {
    "duration": 165,
    "start_time": "2023-03-28T10:34:47.160Z"
   },
   {
    "duration": 7,
    "start_time": "2023-03-28T10:34:47.327Z"
   },
   {
    "duration": 25,
    "start_time": "2023-03-28T10:34:47.336Z"
   },
   {
    "duration": 11,
    "start_time": "2023-03-28T10:34:47.363Z"
   },
   {
    "duration": 152,
    "start_time": "2023-03-28T10:34:47.376Z"
   },
   {
    "duration": 103,
    "start_time": "2023-03-28T10:34:47.529Z"
   },
   {
    "duration": 5,
    "start_time": "2023-03-28T10:34:47.634Z"
   },
   {
    "duration": 140,
    "start_time": "2023-03-28T10:34:47.641Z"
   },
   {
    "duration": 109,
    "start_time": "2023-03-28T10:34:47.782Z"
   },
   {
    "duration": 4,
    "start_time": "2023-03-28T10:34:47.893Z"
   },
   {
    "duration": 20,
    "start_time": "2023-03-28T10:34:47.899Z"
   },
   {
    "duration": 16,
    "start_time": "2023-03-28T10:34:47.920Z"
   },
   {
    "duration": 21,
    "start_time": "2023-03-28T10:34:47.938Z"
   },
   {
    "duration": 14,
    "start_time": "2023-03-28T10:34:47.961Z"
   },
   {
    "duration": 18,
    "start_time": "2023-03-28T10:34:47.976Z"
   },
   {
    "duration": 141,
    "start_time": "2023-03-28T10:34:47.995Z"
   },
   {
    "duration": 123,
    "start_time": "2023-03-28T10:34:48.138Z"
   },
   {
    "duration": 6,
    "start_time": "2023-03-28T10:34:48.263Z"
   },
   {
    "duration": 5,
    "start_time": "2023-03-28T10:34:48.271Z"
   },
   {
    "duration": 7,
    "start_time": "2023-03-28T10:34:48.278Z"
   },
   {
    "duration": 9,
    "start_time": "2023-03-28T10:34:48.287Z"
   },
   {
    "duration": 27,
    "start_time": "2023-03-28T10:34:48.298Z"
   },
   {
    "duration": 5,
    "start_time": "2023-03-28T10:34:48.326Z"
   },
   {
    "duration": 19,
    "start_time": "2023-03-28T10:34:48.333Z"
   },
   {
    "duration": 18,
    "start_time": "2023-03-28T10:34:48.353Z"
   },
   {
    "duration": 7,
    "start_time": "2023-03-28T10:34:48.373Z"
   },
   {
    "duration": 17,
    "start_time": "2023-03-28T10:34:48.382Z"
   },
   {
    "duration": 100,
    "start_time": "2023-03-28T10:34:48.401Z"
   },
   {
    "duration": 6,
    "start_time": "2023-03-28T10:34:48.503Z"
   },
   {
    "duration": 216,
    "start_time": "2023-03-28T10:34:48.517Z"
   },
   {
    "duration": 36,
    "start_time": "2023-03-28T10:34:48.734Z"
   },
   {
    "duration": 1270,
    "start_time": "2023-03-28T10:34:48.771Z"
   },
   {
    "duration": 77,
    "start_time": "2023-03-28T10:34:50.042Z"
   },
   {
    "duration": 0,
    "start_time": "2023-03-28T10:34:50.121Z"
   },
   {
    "duration": 0,
    "start_time": "2023-03-28T10:34:50.122Z"
   },
   {
    "duration": 0,
    "start_time": "2023-03-28T10:34:50.123Z"
   },
   {
    "duration": 0,
    "start_time": "2023-03-28T10:34:50.124Z"
   },
   {
    "duration": 0,
    "start_time": "2023-03-28T10:34:50.125Z"
   },
   {
    "duration": 0,
    "start_time": "2023-03-28T10:34:50.126Z"
   },
   {
    "duration": 0,
    "start_time": "2023-03-28T10:34:50.127Z"
   },
   {
    "duration": 0,
    "start_time": "2023-03-28T10:34:50.129Z"
   },
   {
    "duration": 0,
    "start_time": "2023-03-28T10:34:50.130Z"
   },
   {
    "duration": 0,
    "start_time": "2023-03-28T10:34:50.131Z"
   },
   {
    "duration": 0,
    "start_time": "2023-03-28T10:34:50.132Z"
   },
   {
    "duration": 0,
    "start_time": "2023-03-28T10:34:50.133Z"
   },
   {
    "duration": 0,
    "start_time": "2023-03-28T10:34:50.134Z"
   },
   {
    "duration": 0,
    "start_time": "2023-03-28T10:34:50.136Z"
   },
   {
    "duration": 0,
    "start_time": "2023-03-28T10:34:50.137Z"
   },
   {
    "duration": 0,
    "start_time": "2023-03-28T10:34:50.138Z"
   },
   {
    "duration": 0,
    "start_time": "2023-03-28T10:34:50.139Z"
   },
   {
    "duration": 0,
    "start_time": "2023-03-28T10:34:50.140Z"
   },
   {
    "duration": 0,
    "start_time": "2023-03-28T10:34:50.141Z"
   },
   {
    "duration": 0,
    "start_time": "2023-03-28T10:34:50.142Z"
   },
   {
    "duration": 0,
    "start_time": "2023-03-28T10:34:50.144Z"
   },
   {
    "duration": 0,
    "start_time": "2023-03-28T10:34:50.145Z"
   },
   {
    "duration": 0,
    "start_time": "2023-03-28T10:34:50.146Z"
   },
   {
    "duration": 0,
    "start_time": "2023-03-28T10:34:50.147Z"
   },
   {
    "duration": 0,
    "start_time": "2023-03-28T10:34:50.149Z"
   },
   {
    "duration": 0,
    "start_time": "2023-03-28T10:34:50.150Z"
   },
   {
    "duration": 0,
    "start_time": "2023-03-28T10:34:50.152Z"
   },
   {
    "duration": 0,
    "start_time": "2023-03-28T10:34:50.153Z"
   },
   {
    "duration": 0,
    "start_time": "2023-03-28T10:34:50.154Z"
   },
   {
    "duration": 12550,
    "start_time": "2023-03-28T11:00:48.946Z"
   },
   {
    "duration": 13016,
    "start_time": "2023-03-28T11:03:11.785Z"
   },
   {
    "duration": 343,
    "start_time": "2023-03-28T11:03:34.491Z"
   },
   {
    "duration": 4188,
    "start_time": "2023-03-28T11:03:52.919Z"
   },
   {
    "duration": 374,
    "start_time": "2023-03-28T11:04:01.834Z"
   },
   {
    "duration": 97,
    "start_time": "2023-03-28T11:04:29.591Z"
   },
   {
    "duration": 46,
    "start_time": "2023-03-28T11:05:09.117Z"
   },
   {
    "duration": 252,
    "start_time": "2023-03-28T11:05:33.310Z"
   },
   {
    "duration": 49,
    "start_time": "2023-03-28T11:05:34.337Z"
   },
   {
    "duration": 1594,
    "start_time": "2023-03-28T11:05:36.048Z"
   },
   {
    "duration": 4459,
    "start_time": "2023-03-28T11:05:46.134Z"
   },
   {
    "duration": 20163,
    "start_time": "2023-03-28T11:06:06.412Z"
   },
   {
    "duration": 39,
    "start_time": "2023-03-28T11:07:53.295Z"
   },
   {
    "duration": 97,
    "start_time": "2023-03-28T11:08:15.787Z"
   },
   {
    "duration": 128,
    "start_time": "2023-03-28T11:08:25.596Z"
   },
   {
    "duration": 5,
    "start_time": "2023-03-28T11:11:49.596Z"
   },
   {
    "duration": 82,
    "start_time": "2023-03-28T11:11:49.604Z"
   },
   {
    "duration": 36,
    "start_time": "2023-03-28T11:11:49.689Z"
   },
   {
    "duration": 53,
    "start_time": "2023-03-28T11:11:49.728Z"
   },
   {
    "duration": 76,
    "start_time": "2023-03-28T11:11:49.784Z"
   },
   {
    "duration": 322,
    "start_time": "2023-03-28T11:11:49.862Z"
   },
   {
    "duration": 51,
    "start_time": "2023-03-28T11:11:50.186Z"
   },
   {
    "duration": 29,
    "start_time": "2023-03-28T11:11:50.239Z"
   },
   {
    "duration": 30,
    "start_time": "2023-03-28T11:11:50.273Z"
   },
   {
    "duration": 332,
    "start_time": "2023-03-28T11:11:50.306Z"
   },
   {
    "duration": 13,
    "start_time": "2023-03-28T11:11:50.655Z"
   },
   {
    "duration": 11,
    "start_time": "2023-03-28T11:11:50.671Z"
   },
   {
    "duration": 9,
    "start_time": "2023-03-28T11:11:50.684Z"
   },
   {
    "duration": 5,
    "start_time": "2023-03-28T11:11:50.696Z"
   },
   {
    "duration": 34,
    "start_time": "2023-03-28T11:11:50.703Z"
   },
   {
    "duration": 27,
    "start_time": "2023-03-28T11:11:50.739Z"
   },
   {
    "duration": 15,
    "start_time": "2023-03-28T11:11:50.769Z"
   },
   {
    "duration": 19,
    "start_time": "2023-03-28T11:11:50.786Z"
   },
   {
    "duration": 35,
    "start_time": "2023-03-28T11:11:50.807Z"
   },
   {
    "duration": 27,
    "start_time": "2023-03-28T11:11:50.844Z"
   },
   {
    "duration": 32,
    "start_time": "2023-03-28T11:11:50.873Z"
   },
   {
    "duration": 16,
    "start_time": "2023-03-28T11:11:50.908Z"
   },
   {
    "duration": 132,
    "start_time": "2023-03-28T11:11:50.935Z"
   },
   {
    "duration": 212,
    "start_time": "2023-03-28T11:11:51.070Z"
   },
   {
    "duration": 11,
    "start_time": "2023-03-28T11:11:51.284Z"
   },
   {
    "duration": 142,
    "start_time": "2023-03-28T11:11:51.297Z"
   },
   {
    "duration": 21,
    "start_time": "2023-03-28T11:11:51.441Z"
   },
   {
    "duration": 12,
    "start_time": "2023-03-28T11:11:51.463Z"
   },
   {
    "duration": 121,
    "start_time": "2023-03-28T11:11:51.480Z"
   },
   {
    "duration": 37,
    "start_time": "2023-03-28T11:11:51.603Z"
   },
   {
    "duration": 270,
    "start_time": "2023-03-28T11:11:51.642Z"
   },
   {
    "duration": 156,
    "start_time": "2023-03-28T11:11:51.926Z"
   },
   {
    "duration": 4,
    "start_time": "2023-03-28T11:11:52.084Z"
   },
   {
    "duration": 177,
    "start_time": "2023-03-28T11:11:52.090Z"
   },
   {
    "duration": 6,
    "start_time": "2023-03-28T11:11:52.269Z"
   },
   {
    "duration": 24,
    "start_time": "2023-03-28T11:11:52.277Z"
   },
   {
    "duration": 14,
    "start_time": "2023-03-28T11:11:52.303Z"
   },
   {
    "duration": 213,
    "start_time": "2023-03-28T11:11:52.322Z"
   },
   {
    "duration": 135,
    "start_time": "2023-03-28T11:11:52.539Z"
   },
   {
    "duration": 7,
    "start_time": "2023-03-28T11:11:52.676Z"
   },
   {
    "duration": 254,
    "start_time": "2023-03-28T11:11:52.685Z"
   },
   {
    "duration": 228,
    "start_time": "2023-03-28T11:11:52.947Z"
   },
   {
    "duration": 5,
    "start_time": "2023-03-28T11:11:53.177Z"
   },
   {
    "duration": 20,
    "start_time": "2023-03-28T11:11:53.184Z"
   },
   {
    "duration": 72,
    "start_time": "2023-03-28T11:11:53.206Z"
   },
   {
    "duration": 9,
    "start_time": "2023-03-28T11:11:53.280Z"
   },
   {
    "duration": 9,
    "start_time": "2023-03-28T11:11:53.291Z"
   },
   {
    "duration": 14,
    "start_time": "2023-03-28T11:11:53.302Z"
   },
   {
    "duration": 223,
    "start_time": "2023-03-28T11:11:53.326Z"
   },
   {
    "duration": 135,
    "start_time": "2023-03-28T11:11:53.551Z"
   },
   {
    "duration": 6,
    "start_time": "2023-03-28T11:11:53.689Z"
   },
   {
    "duration": 31,
    "start_time": "2023-03-28T11:11:53.697Z"
   },
   {
    "duration": 35,
    "start_time": "2023-03-28T11:11:53.732Z"
   },
   {
    "duration": 10,
    "start_time": "2023-03-28T11:11:53.769Z"
   },
   {
    "duration": 24,
    "start_time": "2023-03-28T11:11:53.781Z"
   },
   {
    "duration": 5,
    "start_time": "2023-03-28T11:11:53.806Z"
   },
   {
    "duration": 44,
    "start_time": "2023-03-28T11:11:53.813Z"
   },
   {
    "duration": 15,
    "start_time": "2023-03-28T11:11:53.860Z"
   },
   {
    "duration": 13,
    "start_time": "2023-03-28T11:11:53.877Z"
   },
   {
    "duration": 9,
    "start_time": "2023-03-28T11:11:53.892Z"
   },
   {
    "duration": 13,
    "start_time": "2023-03-28T11:11:53.903Z"
   },
   {
    "duration": 20,
    "start_time": "2023-03-28T11:11:53.924Z"
   },
   {
    "duration": 246,
    "start_time": "2023-03-28T11:11:53.950Z"
   },
   {
    "duration": 60,
    "start_time": "2023-03-28T11:11:54.198Z"
   },
   {
    "duration": 1472,
    "start_time": "2023-03-28T11:11:54.260Z"
   },
   {
    "duration": 18984,
    "start_time": "2023-03-28T11:11:55.733Z"
   },
   {
    "duration": 135,
    "start_time": "2023-03-28T11:12:14.719Z"
   },
   {
    "duration": 156,
    "start_time": "2023-03-28T11:12:14.856Z"
   },
   {
    "duration": 134,
    "start_time": "2023-03-28T11:12:15.014Z"
   },
   {
    "duration": 105,
    "start_time": "2023-03-28T11:12:15.223Z"
   },
   {
    "duration": 42,
    "start_time": "2023-03-28T11:12:15.330Z"
   },
   {
    "duration": 10,
    "start_time": "2023-03-28T11:12:15.375Z"
   },
   {
    "duration": 21,
    "start_time": "2023-03-28T11:12:15.387Z"
   },
   {
    "duration": 153,
    "start_time": "2023-03-28T11:12:15.410Z"
   },
   {
    "duration": 0,
    "start_time": "2023-03-28T11:12:15.566Z"
   },
   {
    "duration": 0,
    "start_time": "2023-03-28T11:12:15.568Z"
   },
   {
    "duration": 0,
    "start_time": "2023-03-28T11:12:15.570Z"
   },
   {
    "duration": 0,
    "start_time": "2023-03-28T11:12:15.572Z"
   },
   {
    "duration": 0,
    "start_time": "2023-03-28T11:12:15.573Z"
   },
   {
    "duration": 0,
    "start_time": "2023-03-28T11:12:15.575Z"
   },
   {
    "duration": 0,
    "start_time": "2023-03-28T11:12:15.576Z"
   },
   {
    "duration": 0,
    "start_time": "2023-03-28T11:12:15.577Z"
   },
   {
    "duration": 0,
    "start_time": "2023-03-28T11:12:15.578Z"
   },
   {
    "duration": 0,
    "start_time": "2023-03-28T11:12:15.579Z"
   },
   {
    "duration": 0,
    "start_time": "2023-03-28T11:12:15.580Z"
   },
   {
    "duration": 0,
    "start_time": "2023-03-28T11:12:15.581Z"
   },
   {
    "duration": 0,
    "start_time": "2023-03-28T11:12:15.583Z"
   },
   {
    "duration": 0,
    "start_time": "2023-03-28T11:12:15.621Z"
   },
   {
    "duration": 0,
    "start_time": "2023-03-28T11:12:15.622Z"
   },
   {
    "duration": 0,
    "start_time": "2023-03-28T11:12:15.630Z"
   },
   {
    "duration": 0,
    "start_time": "2023-03-28T11:12:15.642Z"
   },
   {
    "duration": 0,
    "start_time": "2023-03-28T11:12:15.643Z"
   },
   {
    "duration": 0,
    "start_time": "2023-03-28T11:12:15.651Z"
   },
   {
    "duration": 0,
    "start_time": "2023-03-28T11:12:15.654Z"
   },
   {
    "duration": 24,
    "start_time": "2023-03-28T11:14:01.655Z"
   },
   {
    "duration": 18,
    "start_time": "2023-03-28T11:17:57.905Z"
   },
   {
    "duration": 97,
    "start_time": "2023-03-28T11:18:00.846Z"
   },
   {
    "duration": 315,
    "start_time": "2023-03-28T11:18:04.781Z"
   },
   {
    "duration": 10,
    "start_time": "2023-03-28T11:25:20.997Z"
   },
   {
    "duration": 66,
    "start_time": "2023-03-28T11:25:23.338Z"
   },
   {
    "duration": 6,
    "start_time": "2023-03-28T11:25:26.616Z"
   },
   {
    "duration": 3,
    "start_time": "2023-03-28T11:25:36.459Z"
   },
   {
    "duration": 21,
    "start_time": "2023-03-28T11:25:49.246Z"
   },
   {
    "duration": 6,
    "start_time": "2023-03-28T11:25:52.107Z"
   },
   {
    "duration": 74,
    "start_time": "2023-03-28T11:25:52.116Z"
   },
   {
    "duration": 24,
    "start_time": "2023-03-28T11:25:52.192Z"
   },
   {
    "duration": 24,
    "start_time": "2023-03-28T11:25:52.218Z"
   },
   {
    "duration": 47,
    "start_time": "2023-03-28T11:25:52.245Z"
   },
   {
    "duration": 409,
    "start_time": "2023-03-28T11:25:52.319Z"
   },
   {
    "duration": 39,
    "start_time": "2023-03-28T11:25:52.736Z"
   },
   {
    "duration": 22,
    "start_time": "2023-03-28T11:25:52.777Z"
   },
   {
    "duration": 27,
    "start_time": "2023-03-28T11:25:52.802Z"
   },
   {
    "duration": 271,
    "start_time": "2023-03-28T11:25:52.831Z"
   },
   {
    "duration": 27,
    "start_time": "2023-03-28T11:25:53.105Z"
   },
   {
    "duration": 22,
    "start_time": "2023-03-28T11:25:53.134Z"
   },
   {
    "duration": 12,
    "start_time": "2023-03-28T11:25:53.159Z"
   },
   {
    "duration": 8,
    "start_time": "2023-03-28T11:25:53.173Z"
   },
   {
    "duration": 18,
    "start_time": "2023-03-28T11:25:53.183Z"
   },
   {
    "duration": 7,
    "start_time": "2023-03-28T11:25:53.203Z"
   },
   {
    "duration": 20,
    "start_time": "2023-03-28T11:25:53.218Z"
   },
   {
    "duration": 18,
    "start_time": "2023-03-28T11:25:53.240Z"
   },
   {
    "duration": 10,
    "start_time": "2023-03-28T11:25:53.260Z"
   },
   {
    "duration": 26,
    "start_time": "2023-03-28T11:25:53.271Z"
   },
   {
    "duration": 24,
    "start_time": "2023-03-28T11:25:53.299Z"
   },
   {
    "duration": 19,
    "start_time": "2023-03-28T11:25:53.324Z"
   },
   {
    "duration": 103,
    "start_time": "2023-03-28T11:25:53.345Z"
   },
   {
    "duration": 194,
    "start_time": "2023-03-28T11:25:53.449Z"
   },
   {
    "duration": 7,
    "start_time": "2023-03-28T11:25:53.644Z"
   },
   {
    "duration": 126,
    "start_time": "2023-03-28T11:25:53.652Z"
   },
   {
    "duration": 16,
    "start_time": "2023-03-28T11:25:53.780Z"
   },
   {
    "duration": 5,
    "start_time": "2023-03-28T11:25:53.798Z"
   },
   {
    "duration": 124,
    "start_time": "2023-03-28T11:25:53.826Z"
   },
   {
    "duration": 16,
    "start_time": "2023-03-28T11:25:53.952Z"
   },
   {
    "duration": 214,
    "start_time": "2023-03-28T11:25:53.970Z"
   },
   {
    "duration": 116,
    "start_time": "2023-03-28T11:25:54.186Z"
   },
   {
    "duration": 15,
    "start_time": "2023-03-28T11:25:54.304Z"
   },
   {
    "duration": 148,
    "start_time": "2023-03-28T11:25:54.331Z"
   },
   {
    "duration": 7,
    "start_time": "2023-03-28T11:25:54.481Z"
   },
   {
    "duration": 9,
    "start_time": "2023-03-28T11:25:54.490Z"
   },
   {
    "duration": 38,
    "start_time": "2023-03-28T11:25:54.501Z"
   },
   {
    "duration": 184,
    "start_time": "2023-03-28T11:25:54.541Z"
   },
   {
    "duration": 232,
    "start_time": "2023-03-28T11:25:54.729Z"
   },
   {
    "duration": 6,
    "start_time": "2023-03-28T11:25:54.963Z"
   },
   {
    "duration": 159,
    "start_time": "2023-03-28T11:25:54.971Z"
   },
   {
    "duration": 139,
    "start_time": "2023-03-28T11:25:55.131Z"
   },
   {
    "duration": 5,
    "start_time": "2023-03-28T11:25:55.271Z"
   },
   {
    "duration": 14,
    "start_time": "2023-03-28T11:25:55.277Z"
   },
   {
    "duration": 7,
    "start_time": "2023-03-28T11:25:55.292Z"
   },
   {
    "duration": 33,
    "start_time": "2023-03-28T11:25:55.300Z"
   },
   {
    "duration": 5,
    "start_time": "2023-03-28T11:25:55.335Z"
   },
   {
    "duration": 12,
    "start_time": "2023-03-28T11:25:55.342Z"
   },
   {
    "duration": 173,
    "start_time": "2023-03-28T11:25:55.355Z"
   },
   {
    "duration": 138,
    "start_time": "2023-03-28T11:25:55.530Z"
   },
   {
    "duration": 7,
    "start_time": "2023-03-28T11:25:55.669Z"
   },
   {
    "duration": 14,
    "start_time": "2023-03-28T11:25:55.677Z"
   },
   {
    "duration": 29,
    "start_time": "2023-03-28T11:25:55.693Z"
   },
   {
    "duration": 22,
    "start_time": "2023-03-28T11:25:55.724Z"
   },
   {
    "duration": 18,
    "start_time": "2023-03-28T11:25:55.748Z"
   },
   {
    "duration": 8,
    "start_time": "2023-03-28T11:25:55.768Z"
   },
   {
    "duration": 13,
    "start_time": "2023-03-28T11:25:55.778Z"
   },
   {
    "duration": 22,
    "start_time": "2023-03-28T11:25:55.793Z"
   },
   {
    "duration": 24,
    "start_time": "2023-03-28T11:25:55.816Z"
   },
   {
    "duration": 7,
    "start_time": "2023-03-28T11:25:55.842Z"
   },
   {
    "duration": 11,
    "start_time": "2023-03-28T11:25:55.851Z"
   },
   {
    "duration": 7,
    "start_time": "2023-03-28T11:25:55.864Z"
   },
   {
    "duration": 236,
    "start_time": "2023-03-28T11:25:55.874Z"
   },
   {
    "duration": 48,
    "start_time": "2023-03-28T11:25:56.112Z"
   },
   {
    "duration": 1485,
    "start_time": "2023-03-28T11:25:56.161Z"
   },
   {
    "duration": 17641,
    "start_time": "2023-03-28T11:25:57.648Z"
   },
   {
    "duration": 135,
    "start_time": "2023-03-28T11:26:15.291Z"
   },
   {
    "duration": 162,
    "start_time": "2023-03-28T11:26:15.435Z"
   },
   {
    "duration": 132,
    "start_time": "2023-03-28T11:26:15.600Z"
   },
   {
    "duration": 91,
    "start_time": "2023-03-28T11:26:15.735Z"
   },
   {
    "duration": 124,
    "start_time": "2023-03-28T11:26:15.829Z"
   },
   {
    "duration": 11,
    "start_time": "2023-03-28T11:26:15.955Z"
   },
   {
    "duration": 19,
    "start_time": "2023-03-28T11:26:15.968Z"
   },
   {
    "duration": 20,
    "start_time": "2023-03-28T11:26:15.989Z"
   },
   {
    "duration": 37,
    "start_time": "2023-03-28T11:26:16.011Z"
   },
   {
    "duration": 5,
    "start_time": "2023-03-28T11:26:16.050Z"
   },
   {
    "duration": 79,
    "start_time": "2023-03-28T11:26:16.057Z"
   },
   {
    "duration": 389,
    "start_time": "2023-03-28T11:26:16.217Z"
   },
   {
    "duration": 42,
    "start_time": "2023-03-28T11:26:16.608Z"
   },
   {
    "duration": 1578,
    "start_time": "2023-03-28T11:26:16.653Z"
   },
   {
    "duration": 221,
    "start_time": "2023-03-28T11:26:18.235Z"
   },
   {
    "duration": 155,
    "start_time": "2023-03-28T11:26:18.458Z"
   },
   {
    "duration": 25,
    "start_time": "2023-03-28T11:26:18.619Z"
   },
   {
    "duration": 57,
    "start_time": "2023-03-28T11:26:18.646Z"
   },
   {
    "duration": 121,
    "start_time": "2023-03-28T11:26:18.705Z"
   },
   {
    "duration": 232,
    "start_time": "2023-03-28T11:26:18.829Z"
   },
   {
    "duration": 22,
    "start_time": "2023-03-28T11:26:19.062Z"
   },
   {
    "duration": 211,
    "start_time": "2023-03-28T11:26:19.086Z"
   },
   {
    "duration": 86,
    "start_time": "2023-03-28T11:26:19.299Z"
   },
   {
    "duration": 158,
    "start_time": "2023-03-28T11:26:19.387Z"
   },
   {
    "duration": 9,
    "start_time": "2023-03-28T11:26:19.547Z"
   },
   {
    "duration": 224,
    "start_time": "2023-03-28T11:26:19.559Z"
   },
   {
    "duration": 165,
    "start_time": "2023-03-28T11:26:19.785Z"
   },
   {
    "duration": 83,
    "start_time": "2023-03-28T11:26:19.952Z"
   },
   {
    "duration": 11,
    "start_time": "2023-03-28T11:26:20.037Z"
   },
   {
    "duration": 9,
    "start_time": "2023-03-28T11:26:20.049Z"
   },
   {
    "duration": 10,
    "start_time": "2023-03-28T11:26:20.059Z"
   },
   {
    "duration": 45,
    "start_time": "2023-03-28T11:27:34.173Z"
   },
   {
    "duration": 95,
    "start_time": "2023-03-28T11:27:48.793Z"
   },
   {
    "duration": 18325,
    "start_time": "2023-03-28T11:28:35.216Z"
   },
   {
    "duration": 297,
    "start_time": "2023-03-28T11:29:36.143Z"
   },
   {
    "duration": 148,
    "start_time": "2023-03-28T11:29:41.338Z"
   },
   {
    "duration": 305,
    "start_time": "2023-03-28T11:30:04.535Z"
   },
   {
    "duration": 3,
    "start_time": "2023-03-28T11:31:48.365Z"
   },
   {
    "duration": 101,
    "start_time": "2023-03-28T11:31:59.345Z"
   },
   {
    "duration": 333,
    "start_time": "2023-03-28T11:32:01.797Z"
   },
   {
    "duration": 42,
    "start_time": "2023-03-28T11:32:03.840Z"
   },
   {
    "duration": 16716,
    "start_time": "2023-03-28T11:32:09.487Z"
   },
   {
    "duration": 11,
    "start_time": "2023-03-28T11:35:41.073Z"
   },
   {
    "duration": 12,
    "start_time": "2023-03-28T11:35:48.676Z"
   },
   {
    "duration": 5,
    "start_time": "2023-03-28T11:36:00.937Z"
   },
   {
    "duration": 3,
    "start_time": "2023-03-28T11:36:13.108Z"
   },
   {
    "duration": 2,
    "start_time": "2023-03-28T11:37:17.843Z"
   },
   {
    "duration": 50,
    "start_time": "2023-03-28T11:37:45.935Z"
   },
   {
    "duration": 90,
    "start_time": "2023-03-28T11:37:49.960Z"
   },
   {
    "duration": 2081,
    "start_time": "2023-03-28T11:38:05.302Z"
   },
   {
    "duration": 8151,
    "start_time": "2023-03-28T11:38:29.781Z"
   },
   {
    "duration": 8050,
    "start_time": "2023-03-28T11:39:30.664Z"
   },
   {
    "duration": 214,
    "start_time": "2023-03-28T11:39:55.521Z"
   },
   {
    "duration": 136,
    "start_time": "2023-03-28T11:40:00.297Z"
   },
   {
    "duration": 8534,
    "start_time": "2023-03-28T11:46:11.673Z"
   },
   {
    "duration": 150,
    "start_time": "2023-03-28T11:49:53.109Z"
   },
   {
    "duration": 8908,
    "start_time": "2023-03-28T11:50:22.953Z"
   },
   {
    "duration": 190,
    "start_time": "2023-03-28T11:51:21.554Z"
   },
   {
    "duration": 38,
    "start_time": "2023-03-28T11:55:36.600Z"
   },
   {
    "duration": 20,
    "start_time": "2023-03-28T11:55:48.370Z"
   },
   {
    "duration": 200,
    "start_time": "2023-03-28T11:57:08.190Z"
   },
   {
    "duration": 176,
    "start_time": "2023-03-28T11:57:30.243Z"
   },
   {
    "duration": 10,
    "start_time": "2023-03-28T11:58:34.770Z"
   },
   {
    "duration": 18,
    "start_time": "2023-03-28T11:58:58.162Z"
   },
   {
    "duration": 11,
    "start_time": "2023-03-28T12:02:26.845Z"
   },
   {
    "duration": 9,
    "start_time": "2023-03-28T12:03:53.940Z"
   },
   {
    "duration": 18,
    "start_time": "2023-03-28T12:04:06.780Z"
   },
   {
    "duration": 23,
    "start_time": "2023-03-28T12:04:29.772Z"
   },
   {
    "duration": 12,
    "start_time": "2023-03-28T12:04:40.244Z"
   },
   {
    "duration": 25,
    "start_time": "2023-03-28T12:04:44.817Z"
   },
   {
    "duration": 30,
    "start_time": "2023-03-28T12:04:57.272Z"
   },
   {
    "duration": 9,
    "start_time": "2023-03-28T12:05:18.405Z"
   },
   {
    "duration": 301,
    "start_time": "2023-03-28T12:05:32.156Z"
   },
   {
    "duration": 320,
    "start_time": "2023-03-28T12:06:06.173Z"
   },
   {
    "duration": 140,
    "start_time": "2023-03-28T12:06:07.540Z"
   },
   {
    "duration": 388,
    "start_time": "2023-03-28T12:06:15.093Z"
   },
   {
    "duration": 294,
    "start_time": "2023-03-28T12:06:40.384Z"
   },
   {
    "duration": 253,
    "start_time": "2023-03-28T12:07:13.916Z"
   },
   {
    "duration": 7,
    "start_time": "2023-03-28T12:27:46.517Z"
   },
   {
    "duration": 18,
    "start_time": "2023-03-28T12:27:47.776Z"
   },
   {
    "duration": 6,
    "start_time": "2023-03-28T12:27:49.735Z"
   },
   {
    "duration": 19,
    "start_time": "2023-03-28T12:31:33.202Z"
   },
   {
    "duration": 327,
    "start_time": "2023-03-28T12:31:52.835Z"
   },
   {
    "duration": 157,
    "start_time": "2023-03-28T12:32:05.137Z"
   },
   {
    "duration": 12,
    "start_time": "2023-03-28T12:36:27.003Z"
   },
   {
    "duration": 204,
    "start_time": "2023-03-28T12:36:44.896Z"
   },
   {
    "duration": 26,
    "start_time": "2023-03-28T12:44:06.196Z"
   },
   {
    "duration": 6,
    "start_time": "2023-03-28T12:44:07.064Z"
   },
   {
    "duration": 10,
    "start_time": "2023-03-28T12:56:41.054Z"
   },
   {
    "duration": 8,
    "start_time": "2023-03-28T12:56:49.583Z"
   },
   {
    "duration": 7,
    "start_time": "2023-03-28T12:57:02.575Z"
   },
   {
    "duration": 7,
    "start_time": "2023-03-28T12:57:06.869Z"
   },
   {
    "duration": 265,
    "start_time": "2023-03-28T13:10:18.911Z"
   },
   {
    "duration": 429,
    "start_time": "2023-03-28T13:10:25.470Z"
   },
   {
    "duration": 249,
    "start_time": "2023-03-28T13:10:33.738Z"
   },
   {
    "duration": 235,
    "start_time": "2023-03-28T13:10:52.851Z"
   },
   {
    "duration": 1296,
    "start_time": "2023-03-28T13:11:41.302Z"
   },
   {
    "duration": 530,
    "start_time": "2023-03-28T13:11:52.447Z"
   },
   {
    "duration": 259,
    "start_time": "2023-03-28T13:13:42.563Z"
   },
   {
    "duration": 425,
    "start_time": "2023-03-28T13:13:49.603Z"
   },
   {
    "duration": 191,
    "start_time": "2023-03-28T13:30:07.813Z"
   },
   {
    "duration": 51,
    "start_time": "2023-03-28T13:31:03.653Z"
   },
   {
    "duration": 241,
    "start_time": "2023-03-28T13:31:38.064Z"
   },
   {
    "duration": 257,
    "start_time": "2023-03-28T13:31:43.391Z"
   },
   {
    "duration": 444,
    "start_time": "2023-03-28T13:31:49.258Z"
   },
   {
    "duration": 12140,
    "start_time": "2023-03-28T13:34:24.256Z"
   },
   {
    "duration": 316,
    "start_time": "2023-03-28T13:34:52.859Z"
   },
   {
    "duration": 4,
    "start_time": "2023-03-28T14:15:21.390Z"
   },
   {
    "duration": 81,
    "start_time": "2023-03-28T14:15:21.396Z"
   },
   {
    "duration": 27,
    "start_time": "2023-03-28T14:15:21.479Z"
   },
   {
    "duration": 15,
    "start_time": "2023-03-28T14:15:21.509Z"
   },
   {
    "duration": 69,
    "start_time": "2023-03-28T14:15:21.525Z"
   },
   {
    "duration": 357,
    "start_time": "2023-03-28T14:15:21.596Z"
   },
   {
    "duration": 24,
    "start_time": "2023-03-28T14:15:21.956Z"
   },
   {
    "duration": 40,
    "start_time": "2023-03-28T14:15:21.982Z"
   },
   {
    "duration": 28,
    "start_time": "2023-03-28T14:15:22.026Z"
   },
   {
    "duration": 286,
    "start_time": "2023-03-28T14:15:22.056Z"
   },
   {
    "duration": 14,
    "start_time": "2023-03-28T14:15:22.345Z"
   },
   {
    "duration": 12,
    "start_time": "2023-03-28T14:15:22.361Z"
   },
   {
    "duration": 11,
    "start_time": "2023-03-28T14:15:22.375Z"
   },
   {
    "duration": 24,
    "start_time": "2023-03-28T14:15:22.389Z"
   },
   {
    "duration": 51,
    "start_time": "2023-03-28T14:15:22.415Z"
   },
   {
    "duration": 14,
    "start_time": "2023-03-28T14:15:22.468Z"
   },
   {
    "duration": 13,
    "start_time": "2023-03-28T14:15:22.484Z"
   },
   {
    "duration": 72,
    "start_time": "2023-03-28T14:15:22.499Z"
   },
   {
    "duration": 69,
    "start_time": "2023-03-28T14:15:22.574Z"
   },
   {
    "duration": 47,
    "start_time": "2023-03-28T14:15:22.644Z"
   },
   {
    "duration": 40,
    "start_time": "2023-03-28T14:15:22.693Z"
   },
   {
    "duration": 43,
    "start_time": "2023-03-28T14:15:22.736Z"
   },
   {
    "duration": 125,
    "start_time": "2023-03-28T14:15:22.781Z"
   },
   {
    "duration": 386,
    "start_time": "2023-03-28T14:15:22.910Z"
   },
   {
    "duration": 8,
    "start_time": "2023-03-28T14:15:23.297Z"
   },
   {
    "duration": 132,
    "start_time": "2023-03-28T14:15:23.307Z"
   },
   {
    "duration": 20,
    "start_time": "2023-03-28T14:15:23.442Z"
   },
   {
    "duration": 5,
    "start_time": "2023-03-28T14:15:23.463Z"
   },
   {
    "duration": 131,
    "start_time": "2023-03-28T14:15:23.469Z"
   },
   {
    "duration": 26,
    "start_time": "2023-03-28T14:15:23.602Z"
   },
   {
    "duration": 280,
    "start_time": "2023-03-28T14:15:23.630Z"
   },
   {
    "duration": 122,
    "start_time": "2023-03-28T14:15:23.912Z"
   },
   {
    "duration": 16,
    "start_time": "2023-03-28T14:15:24.036Z"
   },
   {
    "duration": 159,
    "start_time": "2023-03-28T14:15:24.054Z"
   },
   {
    "duration": 8,
    "start_time": "2023-03-28T14:15:24.216Z"
   },
   {
    "duration": 24,
    "start_time": "2023-03-28T14:15:24.226Z"
   },
   {
    "duration": 18,
    "start_time": "2023-03-28T14:15:24.252Z"
   },
   {
    "duration": 160,
    "start_time": "2023-03-28T14:15:24.272Z"
   },
   {
    "duration": 122,
    "start_time": "2023-03-28T14:15:24.435Z"
   },
   {
    "duration": 6,
    "start_time": "2023-03-28T14:15:24.559Z"
   },
   {
    "duration": 171,
    "start_time": "2023-03-28T14:15:24.567Z"
   },
   {
    "duration": 124,
    "start_time": "2023-03-28T14:15:24.740Z"
   },
   {
    "duration": 4,
    "start_time": "2023-03-28T14:15:24.866Z"
   },
   {
    "duration": 10,
    "start_time": "2023-03-28T14:15:24.872Z"
   },
   {
    "duration": 15,
    "start_time": "2023-03-28T14:15:24.884Z"
   },
   {
    "duration": 28,
    "start_time": "2023-03-28T14:15:24.900Z"
   },
   {
    "duration": 24,
    "start_time": "2023-03-28T14:15:24.931Z"
   },
   {
    "duration": 16,
    "start_time": "2023-03-28T14:15:24.957Z"
   },
   {
    "duration": 179,
    "start_time": "2023-03-28T14:15:24.975Z"
   },
   {
    "duration": 130,
    "start_time": "2023-03-28T14:15:25.164Z"
   },
   {
    "duration": 5,
    "start_time": "2023-03-28T14:15:25.296Z"
   },
   {
    "duration": 26,
    "start_time": "2023-03-28T14:15:25.303Z"
   },
   {
    "duration": 19,
    "start_time": "2023-03-28T14:15:25.337Z"
   },
   {
    "duration": 17,
    "start_time": "2023-03-28T14:15:25.359Z"
   },
   {
    "duration": 14,
    "start_time": "2023-03-28T14:15:25.378Z"
   },
   {
    "duration": 56,
    "start_time": "2023-03-28T14:15:25.394Z"
   },
   {
    "duration": 12,
    "start_time": "2023-03-28T14:15:25.452Z"
   },
   {
    "duration": 12,
    "start_time": "2023-03-28T14:15:25.466Z"
   },
   {
    "duration": 29,
    "start_time": "2023-03-28T14:15:25.480Z"
   },
   {
    "duration": 36,
    "start_time": "2023-03-28T14:15:25.510Z"
   },
   {
    "duration": 17,
    "start_time": "2023-03-28T14:15:25.548Z"
   },
   {
    "duration": 9,
    "start_time": "2023-03-28T14:15:25.566Z"
   },
   {
    "duration": 249,
    "start_time": "2023-03-28T14:15:25.577Z"
   },
   {
    "duration": 40,
    "start_time": "2023-03-28T14:15:25.837Z"
   },
   {
    "duration": 12399,
    "start_time": "2023-03-28T14:15:25.878Z"
   },
   {
    "duration": 341,
    "start_time": "2023-03-28T14:15:38.278Z"
   },
   {
    "duration": 162,
    "start_time": "2023-03-28T14:15:38.622Z"
   },
   {
    "duration": 132,
    "start_time": "2023-03-28T14:15:38.786Z"
   },
   {
    "duration": 16,
    "start_time": "2023-03-28T14:15:38.930Z"
   },
   {
    "duration": 35,
    "start_time": "2023-03-28T14:15:39.018Z"
   },
   {
    "duration": 24,
    "start_time": "2023-03-28T14:15:39.054Z"
   },
   {
    "duration": 8,
    "start_time": "2023-03-28T14:15:39.079Z"
   },
   {
    "duration": 18,
    "start_time": "2023-03-28T14:15:39.089Z"
   },
   {
    "duration": 44,
    "start_time": "2023-03-28T14:15:39.109Z"
   },
   {
    "duration": 3,
    "start_time": "2023-03-28T14:15:39.155Z"
   },
   {
    "duration": 72,
    "start_time": "2023-03-28T14:15:39.160Z"
   },
   {
    "duration": 473,
    "start_time": "2023-03-28T14:15:39.233Z"
   },
   {
    "duration": 51,
    "start_time": "2023-03-28T14:15:39.708Z"
   },
   {
    "duration": 17240,
    "start_time": "2023-03-28T14:15:39.761Z"
   },
   {
    "duration": 338,
    "start_time": "2023-03-28T14:15:57.003Z"
   },
   {
    "duration": 335,
    "start_time": "2023-03-28T14:15:57.343Z"
   },
   {
    "duration": 3,
    "start_time": "2023-03-28T14:15:57.680Z"
   },
   {
    "duration": 39,
    "start_time": "2023-03-28T14:15:57.684Z"
   },
   {
    "duration": 31,
    "start_time": "2023-03-28T14:15:57.727Z"
   },
   {
    "duration": 4,
    "start_time": "2023-03-28T14:15:57.760Z"
   },
   {
    "duration": 74,
    "start_time": "2023-03-28T14:15:57.766Z"
   },
   {
    "duration": 315,
    "start_time": "2023-03-28T14:15:57.843Z"
   },
   {
    "duration": 23,
    "start_time": "2023-03-28T14:15:58.159Z"
   },
   {
    "duration": 8355,
    "start_time": "2023-03-28T14:15:58.184Z"
   },
   {
    "duration": 236,
    "start_time": "2023-03-28T14:16:06.541Z"
   },
   {
    "duration": 176,
    "start_time": "2023-03-28T14:16:06.779Z"
   },
   {
    "duration": 7,
    "start_time": "2023-03-28T14:16:06.956Z"
   },
   {
    "duration": 313,
    "start_time": "2023-03-28T14:16:06.965Z"
   },
   {
    "duration": 171,
    "start_time": "2023-03-28T14:16:07.280Z"
   },
   {
    "duration": 12,
    "start_time": "2023-03-28T14:16:07.453Z"
   },
   {
    "duration": 359,
    "start_time": "2023-03-28T14:16:07.467Z"
   },
   {
    "duration": 172,
    "start_time": "2023-03-28T14:16:07.828Z"
   },
   {
    "duration": 200,
    "start_time": "2023-03-28T14:16:08.001Z"
   },
   {
    "duration": 15,
    "start_time": "2023-03-28T14:16:08.202Z"
   },
   {
    "duration": 239,
    "start_time": "2023-03-28T14:16:08.220Z"
   },
   {
    "duration": 9,
    "start_time": "2023-03-28T14:16:08.461Z"
   },
   {
    "duration": 11,
    "start_time": "2023-03-28T14:16:08.472Z"
   },
   {
    "duration": 41,
    "start_time": "2023-03-28T14:16:08.485Z"
   },
   {
    "duration": 5,
    "start_time": "2023-03-28T15:39:47.876Z"
   },
   {
    "duration": 3,
    "start_time": "2023-03-28T15:40:13.477Z"
   },
   {
    "duration": 1864,
    "start_time": "2023-03-29T03:13:16.397Z"
   },
   {
    "duration": 176,
    "start_time": "2023-03-29T03:13:18.263Z"
   },
   {
    "duration": 28,
    "start_time": "2023-03-29T03:13:18.440Z"
   },
   {
    "duration": 77,
    "start_time": "2023-03-29T03:13:18.470Z"
   },
   {
    "duration": 97,
    "start_time": "2023-03-29T03:13:18.548Z"
   },
   {
    "duration": 264,
    "start_time": "2023-03-29T03:13:18.646Z"
   },
   {
    "duration": 29,
    "start_time": "2023-03-29T03:13:18.912Z"
   },
   {
    "duration": 19,
    "start_time": "2023-03-29T03:13:18.943Z"
   },
   {
    "duration": 4,
    "start_time": "2023-03-29T03:13:18.964Z"
   },
   {
    "duration": 257,
    "start_time": "2023-03-29T03:13:18.971Z"
   },
   {
    "duration": 20,
    "start_time": "2023-03-29T03:13:19.229Z"
   },
   {
    "duration": 20,
    "start_time": "2023-03-29T03:13:19.251Z"
   },
   {
    "duration": 21,
    "start_time": "2023-03-29T03:13:19.272Z"
   },
   {
    "duration": 8,
    "start_time": "2023-03-29T03:13:19.295Z"
   },
   {
    "duration": 23,
    "start_time": "2023-03-29T03:13:19.304Z"
   },
   {
    "duration": 16,
    "start_time": "2023-03-29T03:13:19.328Z"
   },
   {
    "duration": 22,
    "start_time": "2023-03-29T03:13:19.346Z"
   },
   {
    "duration": 22,
    "start_time": "2023-03-29T03:13:19.370Z"
   },
   {
    "duration": 5,
    "start_time": "2023-03-29T03:13:19.393Z"
   },
   {
    "duration": 58,
    "start_time": "2023-03-29T03:13:19.399Z"
   },
   {
    "duration": 20,
    "start_time": "2023-03-29T03:13:19.459Z"
   },
   {
    "duration": 46,
    "start_time": "2023-03-29T03:13:19.481Z"
   },
   {
    "duration": 132,
    "start_time": "2023-03-29T03:13:19.528Z"
   },
   {
    "duration": 408,
    "start_time": "2023-03-29T03:13:19.662Z"
   },
   {
    "duration": 6,
    "start_time": "2023-03-29T03:13:20.072Z"
   },
   {
    "duration": 182,
    "start_time": "2023-03-29T03:13:20.079Z"
   },
   {
    "duration": 14,
    "start_time": "2023-03-29T03:13:20.263Z"
   },
   {
    "duration": 10,
    "start_time": "2023-03-29T03:13:20.281Z"
   },
   {
    "duration": 96,
    "start_time": "2023-03-29T03:13:20.293Z"
   },
   {
    "duration": 16,
    "start_time": "2023-03-29T03:13:20.390Z"
   },
   {
    "duration": 245,
    "start_time": "2023-03-29T03:13:20.407Z"
   },
   {
    "duration": 103,
    "start_time": "2023-03-29T03:13:20.654Z"
   },
   {
    "duration": 3,
    "start_time": "2023-03-29T03:13:20.759Z"
   },
   {
    "duration": 137,
    "start_time": "2023-03-29T03:13:20.764Z"
   },
   {
    "duration": 7,
    "start_time": "2023-03-29T03:13:20.903Z"
   },
   {
    "duration": 13,
    "start_time": "2023-03-29T03:13:20.912Z"
   },
   {
    "duration": 17,
    "start_time": "2023-03-29T03:13:20.927Z"
   },
   {
    "duration": 151,
    "start_time": "2023-03-29T03:13:20.945Z"
   },
   {
    "duration": 103,
    "start_time": "2023-03-29T03:13:21.098Z"
   },
   {
    "duration": 6,
    "start_time": "2023-03-29T03:13:21.202Z"
   },
   {
    "duration": 152,
    "start_time": "2023-03-29T03:13:21.210Z"
   },
   {
    "duration": 208,
    "start_time": "2023-03-29T03:13:21.363Z"
   },
   {
    "duration": 4,
    "start_time": "2023-03-29T03:13:21.573Z"
   },
   {
    "duration": 10,
    "start_time": "2023-03-29T03:13:21.578Z"
   },
   {
    "duration": 6,
    "start_time": "2023-03-29T03:13:21.590Z"
   },
   {
    "duration": 8,
    "start_time": "2023-03-29T03:13:21.597Z"
   },
   {
    "duration": 29,
    "start_time": "2023-03-29T03:13:21.607Z"
   },
   {
    "duration": 9,
    "start_time": "2023-03-29T03:13:21.638Z"
   },
   {
    "duration": 143,
    "start_time": "2023-03-29T03:13:21.649Z"
   },
   {
    "duration": 112,
    "start_time": "2023-03-29T03:13:21.794Z"
   },
   {
    "duration": 6,
    "start_time": "2023-03-29T03:13:21.908Z"
   },
   {
    "duration": 12,
    "start_time": "2023-03-29T03:13:21.916Z"
   },
   {
    "duration": 3,
    "start_time": "2023-03-29T03:13:21.941Z"
   },
   {
    "duration": 6,
    "start_time": "2023-03-29T03:13:21.945Z"
   },
   {
    "duration": 9,
    "start_time": "2023-03-29T03:13:21.953Z"
   },
   {
    "duration": 10,
    "start_time": "2023-03-29T03:13:21.963Z"
   },
   {
    "duration": 6,
    "start_time": "2023-03-29T03:13:21.975Z"
   },
   {
    "duration": 14,
    "start_time": "2023-03-29T03:13:21.983Z"
   },
   {
    "duration": 14,
    "start_time": "2023-03-29T03:13:21.999Z"
   },
   {
    "duration": 11,
    "start_time": "2023-03-29T03:13:22.015Z"
   },
   {
    "duration": 36,
    "start_time": "2023-03-29T03:13:22.028Z"
   },
   {
    "duration": 6,
    "start_time": "2023-03-29T03:13:22.066Z"
   },
   {
    "duration": 211,
    "start_time": "2023-03-29T03:13:22.073Z"
   },
   {
    "duration": 36,
    "start_time": "2023-03-29T03:13:22.285Z"
   },
   {
    "duration": 10195,
    "start_time": "2023-03-29T03:13:22.322Z"
   },
   {
    "duration": 303,
    "start_time": "2023-03-29T03:13:32.519Z"
   },
   {
    "duration": 129,
    "start_time": "2023-03-29T03:13:32.823Z"
   },
   {
    "duration": 189,
    "start_time": "2023-03-29T03:13:32.954Z"
   },
   {
    "duration": 97,
    "start_time": "2023-03-29T03:13:33.144Z"
   },
   {
    "duration": 7,
    "start_time": "2023-03-29T03:13:33.243Z"
   },
   {
    "duration": 9,
    "start_time": "2023-03-29T03:13:33.252Z"
   },
   {
    "duration": 6,
    "start_time": "2023-03-29T03:13:33.263Z"
   },
   {
    "duration": 14,
    "start_time": "2023-03-29T03:13:33.270Z"
   },
   {
    "duration": 3,
    "start_time": "2023-03-29T03:13:33.285Z"
   },
   {
    "duration": 152,
    "start_time": "2023-03-29T03:13:33.289Z"
   },
   {
    "duration": 340,
    "start_time": "2023-03-29T03:13:33.443Z"
   },
   {
    "duration": 29,
    "start_time": "2023-03-29T03:13:33.785Z"
   },
   {
    "duration": 13380,
    "start_time": "2023-03-29T03:13:33.816Z"
   },
   {
    "duration": 249,
    "start_time": "2023-03-29T03:13:47.198Z"
   },
   {
    "duration": 127,
    "start_time": "2023-03-29T03:13:47.448Z"
   },
   {
    "duration": 5,
    "start_time": "2023-03-29T03:13:47.576Z"
   },
   {
    "duration": 14,
    "start_time": "2023-03-29T03:13:47.588Z"
   },
   {
    "duration": 20,
    "start_time": "2023-03-29T03:13:47.604Z"
   },
   {
    "duration": 120,
    "start_time": "2023-03-29T03:13:47.626Z"
   },
   {
    "duration": 201,
    "start_time": "2023-03-29T03:13:47.748Z"
   },
   {
    "duration": 18,
    "start_time": "2023-03-29T03:13:47.951Z"
   },
   {
    "duration": 6626,
    "start_time": "2023-03-29T03:13:47.971Z"
   },
   {
    "duration": 175,
    "start_time": "2023-03-29T03:13:54.599Z"
   },
   {
    "duration": 132,
    "start_time": "2023-03-29T03:13:54.776Z"
   },
   {
    "duration": 6,
    "start_time": "2023-03-29T03:13:54.911Z"
   },
   {
    "duration": 252,
    "start_time": "2023-03-29T03:13:54.919Z"
   },
   {
    "duration": 139,
    "start_time": "2023-03-29T03:13:55.173Z"
   },
   {
    "duration": 14,
    "start_time": "2023-03-29T03:13:55.314Z"
   },
   {
    "duration": 13,
    "start_time": "2023-03-29T03:13:55.330Z"
   },
   {
    "duration": 345,
    "start_time": "2023-03-29T03:13:55.345Z"
   },
   {
    "duration": 159,
    "start_time": "2023-03-29T03:13:55.691Z"
   },
   {
    "duration": 199,
    "start_time": "2023-03-29T03:13:55.852Z"
   },
   {
    "duration": 11,
    "start_time": "2023-03-29T03:13:56.053Z"
   },
   {
    "duration": 9,
    "start_time": "2023-03-29T03:13:56.065Z"
   },
   {
    "duration": 188,
    "start_time": "2023-03-29T03:13:56.076Z"
   },
   {
    "duration": 8,
    "start_time": "2023-03-29T03:13:56.265Z"
   },
   {
    "duration": 13,
    "start_time": "2023-03-29T03:13:56.275Z"
   },
   {
    "duration": 34,
    "start_time": "2023-03-29T03:13:56.290Z"
   },
   {
    "duration": 1818,
    "start_time": "2023-04-15T12:45:14.512Z"
   },
   {
    "duration": 215,
    "start_time": "2023-04-15T12:45:16.332Z"
   },
   {
    "duration": 45,
    "start_time": "2023-04-15T12:45:16.549Z"
   },
   {
    "duration": 22,
    "start_time": "2023-04-15T12:45:16.598Z"
   },
   {
    "duration": 47,
    "start_time": "2023-04-15T12:45:16.622Z"
   },
   {
    "duration": 370,
    "start_time": "2023-04-15T12:45:16.672Z"
   },
   {
    "duration": 25,
    "start_time": "2023-04-15T12:45:17.044Z"
   },
   {
    "duration": 48,
    "start_time": "2023-04-15T12:45:17.071Z"
   },
   {
    "duration": 7,
    "start_time": "2023-04-15T12:45:17.121Z"
   },
   {
    "duration": 340,
    "start_time": "2023-04-15T12:45:17.132Z"
   },
   {
    "duration": 25,
    "start_time": "2023-04-15T12:45:17.474Z"
   },
   {
    "duration": 29,
    "start_time": "2023-04-15T12:45:17.501Z"
   },
   {
    "duration": 14,
    "start_time": "2023-04-15T12:45:17.532Z"
   },
   {
    "duration": 21,
    "start_time": "2023-04-15T12:45:17.548Z"
   },
   {
    "duration": 34,
    "start_time": "2023-04-15T12:45:17.571Z"
   },
   {
    "duration": 15,
    "start_time": "2023-04-15T12:45:17.610Z"
   },
   {
    "duration": 5,
    "start_time": "2023-04-15T12:45:17.627Z"
   },
   {
    "duration": 21,
    "start_time": "2023-04-15T12:45:17.634Z"
   },
   {
    "duration": 5,
    "start_time": "2023-04-15T12:45:17.658Z"
   },
   {
    "duration": 24,
    "start_time": "2023-04-15T12:45:17.665Z"
   },
   {
    "duration": 23,
    "start_time": "2023-04-15T12:45:17.693Z"
   },
   {
    "duration": 18,
    "start_time": "2023-04-15T12:45:17.718Z"
   },
   {
    "duration": 112,
    "start_time": "2023-04-15T12:45:17.738Z"
   },
   {
    "duration": 468,
    "start_time": "2023-04-15T12:45:17.852Z"
   },
   {
    "duration": 9,
    "start_time": "2023-04-15T12:45:18.322Z"
   },
   {
    "duration": 133,
    "start_time": "2023-04-15T12:45:18.332Z"
   },
   {
    "duration": 33,
    "start_time": "2023-04-15T12:45:18.467Z"
   },
   {
    "duration": 8,
    "start_time": "2023-04-15T12:45:18.508Z"
   },
   {
    "duration": 143,
    "start_time": "2023-04-15T12:45:18.518Z"
   },
   {
    "duration": 43,
    "start_time": "2023-04-15T12:45:18.663Z"
   },
   {
    "duration": 376,
    "start_time": "2023-04-15T12:45:18.708Z"
   },
   {
    "duration": 141,
    "start_time": "2023-04-15T12:45:19.099Z"
   },
   {
    "duration": 4,
    "start_time": "2023-04-15T12:45:19.242Z"
   },
   {
    "duration": 189,
    "start_time": "2023-04-15T12:45:19.248Z"
   },
   {
    "duration": 8,
    "start_time": "2023-04-15T12:45:19.442Z"
   },
   {
    "duration": 9,
    "start_time": "2023-04-15T12:45:19.452Z"
   },
   {
    "duration": 8,
    "start_time": "2023-04-15T12:45:19.463Z"
   },
   {
    "duration": 190,
    "start_time": "2023-04-15T12:45:19.473Z"
   },
   {
    "duration": 166,
    "start_time": "2023-04-15T12:45:19.665Z"
   },
   {
    "duration": 7,
    "start_time": "2023-04-15T12:45:19.832Z"
   },
   {
    "duration": 169,
    "start_time": "2023-04-15T12:45:19.841Z"
   },
   {
    "duration": 214,
    "start_time": "2023-04-15T12:45:20.012Z"
   },
   {
    "duration": 4,
    "start_time": "2023-04-15T12:45:20.227Z"
   },
   {
    "duration": 11,
    "start_time": "2023-04-15T12:45:20.233Z"
   },
   {
    "duration": 31,
    "start_time": "2023-04-15T12:45:20.249Z"
   },
   {
    "duration": 93,
    "start_time": "2023-04-15T12:45:20.282Z"
   },
   {
    "duration": 67,
    "start_time": "2023-04-15T12:45:20.376Z"
   },
   {
    "duration": 31,
    "start_time": "2023-04-15T12:45:20.445Z"
   },
   {
    "duration": 218,
    "start_time": "2023-04-15T12:45:20.478Z"
   },
   {
    "duration": 162,
    "start_time": "2023-04-15T12:45:20.698Z"
   },
   {
    "duration": 7,
    "start_time": "2023-04-15T12:45:20.863Z"
   },
   {
    "duration": 86,
    "start_time": "2023-04-15T12:45:20.872Z"
   },
   {
    "duration": 77,
    "start_time": "2023-04-15T12:45:20.960Z"
   },
   {
    "duration": 27,
    "start_time": "2023-04-15T12:45:21.040Z"
   },
   {
    "duration": 22,
    "start_time": "2023-04-15T12:45:21.069Z"
   },
   {
    "duration": 130,
    "start_time": "2023-04-15T12:45:21.098Z"
   },
   {
    "duration": 32,
    "start_time": "2023-04-15T12:45:21.231Z"
   },
   {
    "duration": 86,
    "start_time": "2023-04-15T12:45:21.266Z"
   },
   {
    "duration": 47,
    "start_time": "2023-04-15T12:45:21.354Z"
   },
   {
    "duration": 56,
    "start_time": "2023-04-15T12:45:21.403Z"
   },
   {
    "duration": 13,
    "start_time": "2023-04-15T12:45:21.461Z"
   },
   {
    "duration": 48,
    "start_time": "2023-04-15T12:45:21.476Z"
   },
   {
    "duration": 249,
    "start_time": "2023-04-15T12:45:21.529Z"
   },
   {
    "duration": 55,
    "start_time": "2023-04-15T12:45:21.780Z"
   },
   {
    "duration": 13371,
    "start_time": "2023-04-15T12:45:21.838Z"
   },
   {
    "duration": 356,
    "start_time": "2023-04-15T12:45:35.219Z"
   },
   {
    "duration": 162,
    "start_time": "2023-04-15T12:45:35.578Z"
   },
   {
    "duration": 77,
    "start_time": "2023-04-15T12:45:35.742Z"
   },
   {
    "duration": 76,
    "start_time": "2023-04-15T12:45:35.822Z"
   },
   {
    "duration": 46,
    "start_time": "2023-04-15T12:45:35.904Z"
   },
   {
    "duration": 78,
    "start_time": "2023-04-15T12:45:35.952Z"
   },
   {
    "duration": 19,
    "start_time": "2023-04-15T12:45:36.032Z"
   },
   {
    "duration": 18,
    "start_time": "2023-04-15T12:45:36.054Z"
   },
   {
    "duration": 49,
    "start_time": "2023-04-15T12:45:36.074Z"
   },
   {
    "duration": 288,
    "start_time": "2023-04-15T12:45:36.129Z"
   },
   {
    "duration": 383,
    "start_time": "2023-04-15T12:45:36.444Z"
   },
   {
    "duration": 44,
    "start_time": "2023-04-15T12:45:36.829Z"
   },
   {
    "duration": 22092,
    "start_time": "2023-04-15T12:45:36.875Z"
   },
   {
    "duration": 455,
    "start_time": "2023-04-15T12:45:58.974Z"
   },
   {
    "duration": 167,
    "start_time": "2023-04-15T12:45:59.440Z"
   },
   {
    "duration": 12,
    "start_time": "2023-04-15T12:45:59.609Z"
   },
   {
    "duration": 37,
    "start_time": "2023-04-15T12:45:59.631Z"
   },
   {
    "duration": 4,
    "start_time": "2023-04-15T12:45:59.669Z"
   },
   {
    "duration": 263,
    "start_time": "2023-04-15T12:45:59.675Z"
   },
   {
    "duration": 303,
    "start_time": "2023-04-15T12:45:59.940Z"
   },
   {
    "duration": 22,
    "start_time": "2023-04-15T12:46:00.245Z"
   },
   {
    "duration": 8912,
    "start_time": "2023-04-15T12:46:00.269Z"
   },
   {
    "duration": 277,
    "start_time": "2023-04-15T12:46:09.183Z"
   },
   {
    "duration": 187,
    "start_time": "2023-04-15T12:46:09.463Z"
   },
   {
    "duration": 8,
    "start_time": "2023-04-15T12:46:09.652Z"
   },
   {
    "duration": 408,
    "start_time": "2023-04-15T12:46:09.662Z"
   },
   {
    "duration": 200,
    "start_time": "2023-04-15T12:46:10.071Z"
   },
   {
    "duration": 30,
    "start_time": "2023-04-15T12:46:10.273Z"
   },
   {
    "duration": 11,
    "start_time": "2023-04-15T12:46:10.314Z"
   },
   {
    "duration": 460,
    "start_time": "2023-04-15T12:46:10.326Z"
   },
   {
    "duration": 207,
    "start_time": "2023-04-15T12:46:10.788Z"
   },
   {
    "duration": 233,
    "start_time": "2023-04-15T12:46:10.997Z"
   },
   {
    "duration": 13,
    "start_time": "2023-04-15T12:46:11.232Z"
   },
   {
    "duration": 38,
    "start_time": "2023-04-15T12:46:11.247Z"
   },
   {
    "duration": 274,
    "start_time": "2023-04-15T12:46:11.287Z"
   },
   {
    "duration": 9,
    "start_time": "2023-04-15T12:46:11.563Z"
   },
   {
    "duration": 27,
    "start_time": "2023-04-15T12:46:11.574Z"
   },
   {
    "duration": 43,
    "start_time": "2023-04-15T12:46:11.602Z"
   },
   {
    "duration": 129,
    "start_time": "2023-04-15T12:47:53.068Z"
   },
   {
    "duration": 167,
    "start_time": "2023-04-15T12:48:46.274Z"
   },
   {
    "duration": 1683,
    "start_time": "2023-04-27T14:44:13.428Z"
   }
  ],
  "kernelspec": {
   "display_name": "Python 3 (ipykernel)",
   "language": "python",
   "name": "python3"
  },
  "language_info": {
   "codemirror_mode": {
    "name": "ipython",
    "version": 3
   },
   "file_extension": ".py",
   "mimetype": "text/x-python",
   "name": "python",
   "nbconvert_exporter": "python",
   "pygments_lexer": "ipython3",
   "version": "3.10.6"
  },
  "toc": {
   "base_numbering": 1,
   "nav_menu": {},
   "number_sections": true,
   "sideBar": true,
   "skip_h1_title": true,
   "title_cell": "Содержание",
   "title_sidebar": "Contents",
   "toc_cell": true,
   "toc_position": {
    "height": "calc(100% - 180px)",
    "left": "10px",
    "top": "150px",
    "width": "387.969px"
   },
   "toc_section_display": true,
   "toc_window_display": true
  }
 },
 "nbformat": 4,
 "nbformat_minor": 2
}
